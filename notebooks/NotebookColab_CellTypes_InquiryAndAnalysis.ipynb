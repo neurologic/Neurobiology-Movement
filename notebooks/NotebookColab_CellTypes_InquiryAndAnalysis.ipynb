{
  "cells": [
    {
      "cell_type": "markdown",
      "metadata": {
        "id": "view-in-github",
        "colab_type": "text"
      },
      "source": [
        "<a href=\"https://colab.research.google.com/github/neurologic/MotorSystems_BIOL358_SP22/blob/main/NotebookColab_CellTypes_InquiryAndAnalysis.ipynb\" target=\"_parent\"><img src=\"https://colab.research.google.com/assets/colab-badge.svg\" alt=\"Open In Colab\"/></a>"
      ]
    },
    {
      "cell_type": "markdown",
      "metadata": {
        "id": "xuep5VlcbM62"
      },
      "source": [
        "## The brain has thousands of different types of cells. \n",
        "\n",
        "Critically, different cell types serve different functions because they can perform different computations and have unique effects on circuit dynamics - why?. What makes them different? How do we even begin to tease them apart?\n",
        "\n",
        "![](https://canvas.brown.edu/courses/851434/files/38768331/preview?verifier=D6ZNKahSL6e9e6xh4GMAfbbSJK6ynSYYQwmcKBo8)\n",
        "\n",
        "We can define neurons by their <b>gene expression patterns</b>, <b>electrophysiology features</b>, and <b>structure</b>. Here, we'll use those three features to compare and contrast cell types in the brain.\n",
        "\n",
        "This notebook will help us investigate specific features in the electrophysiology dataset from the Allen Brain Atlas. \n",
        "\n",
        "### **Before diving into this notebook:**\n",
        "- Complete \"Nov 29: Cell Types Neurophysiology - Part 1\", which asks you to look at this data on the Allen Institute website. Turn in the associated Part 1 Data Notebook to Google Classroom. \n",
        "\n",
        "<hr>"
      ]
    },
    {
      "cell_type": "markdown",
      "metadata": {
        "id": "35GktxvWbM64"
      },
      "source": [
        "<a id=\"toc\"></a>\n",
        "\n",
        "## Laboratory Investigation Steps\n",
        "1. [Set up](#scrollTo=AY9Rw4e0CKwA)\n",
        " - Mount Google Drive\n",
        " - Import packages\n",
        "\n",
        "[**Data from many cells**](#scrollTo=3rd-mJQ4bM69). *Steps 3-4 will help you look at pre-computed features for all of the cells in the database.*\n",
        "\n",
        "2. [Compare Features](#scrollTo=20W6b6G-MGRH)\n",
        "3. [Compare Cortical Layers](#scrollTo=bdhFnV0fnamB)\n",
        "4. [Exploring Neuron diversity within layers](#scrollTo=zxCFwyfhmLYS)\n",
        "5. [Plot Sweeps](#scrollTo=OlUQ4C6myi2H)\n",
        "\n",
        "<hr>"
      ]
    },
    {
      "cell_type": "markdown",
      "source": [
        "<a id=\"setup\"></a>\n",
        "## 1. Set up our coding environment\n",
        "[(return to table of contents)](#scrollTo=35GktxvWbM64)"
      ],
      "metadata": {
        "id": "AY9Rw4e0CKwA"
      }
    },
    {
      "cell_type": "code",
      "source": [
        "#@markdown <b>TASK: </b> RUN this cell to mount your Google Drive, where you will access the raw data from.\n",
        "#@markdown > Follow all instructions as prompted by pop-ups.\n",
        "from google.colab import drive\n",
        "drive.mount('/content/drive')\n"
      ],
      "metadata": {
        "cellView": "form",
        "id": "9Z9Sg0P6CHIG"
      },
      "execution_count": null,
      "outputs": []
    },
    {
      "cell_type": "markdown",
      "metadata": {
        "id": "iL9ErM0WbM64"
      },
      "source": [
        "\n",
        "\n",
        "The cells below will install packages into your coding environment -- we are *not* installing anything on your computer.\n",
        "\n",
        "The Allen Institute has compiled a set of code and tools called a **Software Development Kit** (SDK). These tools will help us import and analyze the cell types data at the Allen Institute database. \n",
        "\n",
        "After you run the cell below, click the **Restart Runtime** button that pops up, and then you're ready to proceed. "
      ]
    },
    {
      "cell_type": "code",
      "execution_count": null,
      "metadata": {
        "id": "l2abyXCNbM65",
        "cellView": "form"
      },
      "outputs": [],
      "source": [
        "#@markdown **TASK:** Run this cell to setup the notebook coding environment\n",
        "#@markdown . If you are prompted to **Restart Runtime** \n",
        "#@markdown when it is finished, do so before proceeding. \n",
        "# This will ensure that the AllenSDK is installed.\n",
        "try:\n",
        "    import allensdk\n",
        "    print('allensdk imported')\n",
        "except ImportError as e:\n",
        "    !pip install allensdk\n",
        "\n",
        "\n",
        "import matplotlib.pyplot as plt\n",
        "import pandas as pd\n",
        "import numpy as np\n",
        "import seaborn as sns\n",
        "import scipy\n",
        "from scipy import signal\n",
        "import ipywidgets as widgets\n",
        "\n",
        "import plotly.express as px\n",
        "import plotly.graph_objects as go\n",
        "from plotly.subplots import make_subplots\n",
        "\n",
        "manifest_file = '/content/drive/Shareddrives/BIOL358/Data/cell_types/manifest.json'\n",
        "\n",
        "#Import the \"Cell Types Cache\" from the AllenSDK core package\n",
        "from allensdk.core.cell_types_cache import CellTypesCache\n",
        "\n",
        "#Initialize the cache as 'ctc' (cell types cache)\n",
        "ctc = CellTypesCache(manifest_file)\n",
        "\n",
        "print('CellTypesCache imported.')"
      ]
    },
    {
      "cell_type": "markdown",
      "source": [
        "<i>Note</i>: At some points throughout this notebook, you may get an `H5pyDeprecationWarning`, but don't worry about it. This is out of our control. :)"
      ],
      "metadata": {
        "id": "iw4f1pJKD35f"
      }
    },
    {
      "cell_type": "markdown",
      "metadata": {
        "id": "3rd-mJQ4bM69"
      },
      "source": [
        "<a id=\"metrics\"></a>\n",
        "\n",
        "<hr>\n",
        "\n",
        "## Analyze pre-computed features across Many Cells.\n",
        "[(return to table of contents)](#scrollTo=35GktxvWbM64)\n",
        "\n",
        "The Cell Types Database contains a set of electrophysiology features that have already been computed for each cell. This serves as good starting points for analysis. We can query the database to get these features.\n",
        "\n",
        "[Here's a glossary](https://drive.google.com/file/d/1ImWFZ5CvBErp7abHAqJlw9VvNJqyVgjd/view?usp=sharing).\n",
        "\n",
        "![](https://github.com/ajuavinett/CellTypesLesson/blob/master/docs/ap_features.png?raw=true)\n",
        "<br>Image from the <a href=\"http://help.brain-map.org/download/attachments/8323525/CellTypes_Ephys_Overview.pdf\">Allen Institute Cell Types Database Technical Whitepaper.</a>\n",
        "<br><br>"
      ]
    },
    {
      "cell_type": "markdown",
      "source": [
        "## 2. Compare Features.\n",
        "[(return to table of contents)](#scrollTo=35GktxvWbM64)"
      ],
      "metadata": {
        "id": "20W6b6G-MGRH"
      }
    },
    {
      "cell_type": "code",
      "execution_count": null,
      "metadata": {
        "id": "kumOhmyUbM69",
        "cellView": "form"
      },
      "outputs": [],
      "source": [
        "#@markdown **Step 2.1 <br> TASK:** Run this cell to create a queriable dataframe of \n",
        "#@markdown all the measured and calculated intrinsic features.\n",
        "#@markdown > NOTE: It may take a minute or two to run.\n",
        "\n",
        "#@markdown A dropdown menu will be created from which you can select parameters.\n",
        "#@markdown Once you create the dropdown menu, you will not need to re-run this cell to change your selections.\n",
        "# No need to edit below this line\n",
        "################################\n",
        "\n",
        "# Download all electrophysiology features for all cells\n",
        "ephys_features = ctc.get_ephys_features()\n",
        "dataframe = pd.DataFrame(ephys_features).set_index('specimen_id')\n",
        "\n",
        "# Get information about our cells' dendrites\n",
        "cells = ctc.get_cells()\n",
        "full_dataframe = dataframe.join(pd.DataFrame(cells).set_index('id'))\n",
        "\n",
        "print('Ephys features available for %d cells:' % len(full_dataframe))\n",
        "# full_dataframe.head() # Just show the first 5 rows (the head) of our dataframe \n",
        "\n",
        "print('you can investigate the following electrophysiolgoy features:')\n",
        "\n",
        "w_vars = widgets.SelectMultiple(\n",
        "    options=list(dataframe.columns),\n",
        "    rows=10,disabled=False\n",
        ")\n",
        "display(w_vars)\n",
        "# print('Dropdowns generated at ' + str(datetime.now(timezone(-timedelta(hours=5)))))"
      ]
    },
    {
      "cell_type": "markdown",
      "metadata": {
        "id": "iHoGytXfbM6-"
      },
      "source": [
        "Let's first look at the speed of the trough, and the ratio between the upstroke and downstroke of the action potential:\n",
        "- **Action potential fast trough** (<code>fast_trough_v_long_square</code>): Minimum value of the membrane potential in the interval lasting 5 ms after the peak.\n",
        "- **Upstroke/downstroke ratio** (<code>upstroke_downstroke_ratio_long_square</code>)</b>: The ratio between the absolute values of the action potential peak upstroke and the action potential peak downstroke.</div>\n",
        "\n",
        "Select these two variables from the dropdown above."
      ]
    },
    {
      "cell_type": "code",
      "execution_count": null,
      "metadata": {
        "id": "ZnASgoGgbM6-",
        "cellView": "form"
      },
      "outputs": [],
      "source": [
        "#@markdown **Step 2.2 <br> TASK:** Run this cell to create a scatterplot of the two selected parameters\n",
        "first_selection = dataframe[w_vars.value[0]]\n",
        "second_selection = dataframe[w_vars.value[1]]\n",
        "\n",
        "\n",
        "fig = go.Figure()\n",
        "# make_subplots(rows=2,cols=1,shared_xaxes=True,\n",
        "#                     vertical_spacing=0.2)\n",
        "fig.add_trace(go.Scatter(x = first_selection, y = second_selection,\n",
        "                         opacity=0.5,\n",
        "                         line_color='black',mode='markers'))\n",
        "\n",
        "fig.update_layout(xaxis_title=w_vars.value[0], \n",
        "                  yaxis_title=w_vars.value[1],\n",
        "                  width=450, height=450)\n",
        "fig.show()"
      ]
    },
    {
      "cell_type": "markdown",
      "metadata": {
        "id": "43CFE-LdbM6-"
      },
      "source": [
        "It looks like there may be roughly two clusters in the data when comparing the upstroke-downstroke ratio and the fast trough voltage. Maybe the clusters relate to whether the cells are spiny or aspiny. Cells with spiny dendrites are typically excitatory cells. Cells with aspiny dendrites  are typically inhibitory cells. We can query the database for dendrite type and use that information to split up the two sets to see.\n",
        "\n",
        ">The cell below will dig up the dendrite type of these cells and add that to our dataframe. Then, it'll create our same scatterplot, where each dot is colored by dendrite type. All you need to do is run the cell!"
      ]
    },
    {
      "cell_type": "code",
      "execution_count": null,
      "metadata": {
        "id": "mPg8CWGqbM6-",
        "cellView": "form"
      },
      "outputs": [],
      "source": [
        "#@markdown **Step 2.3 <br> TASK:** Run this cell to dig up the dendrite types\n",
        "#@markdown and create the same scatterplot, but where each dot is colored by dendrite type. \n",
        "#@markdown \n",
        "################################\n",
        "\n",
        "# Create a dataframe for spiny cells, and a dataframe for aspiny cells\n",
        "spiny_df = full_dataframe[full_dataframe['dendrite_type'] == 'spiny']\n",
        "aspiny_df = full_dataframe[full_dataframe['dendrite_type'] == 'aspiny']\n",
        "\n",
        "first_selection = spiny_df[w_vars.value[0]]\n",
        "second_selection = spiny_df[w_vars.value[1]]\n",
        "\n",
        "fig = go.Figure()\n",
        "# make_subplots(rows=2,cols=1,shared_xaxes=True,\n",
        "#                     vertical_spacing=0.2)\n",
        "first_selection = spiny_df[w_vars.value[0]]\n",
        "second_selection = spiny_df[w_vars.value[1]]\n",
        "fig.add_trace(go.Scatter(x = first_selection, y = second_selection,\n",
        "                         opacity=0.5,name='spiny',\n",
        "                         line_color='purple',mode='markers'))\n",
        "first_selection = aspiny_df[w_vars.value[0]]\n",
        "second_selection = aspiny_df[w_vars.value[1]]\n",
        "fig.add_trace(go.Scatter(x = first_selection, y = second_selection,\n",
        "                         opacity=0.5,name='aspiny',\n",
        "                         line_color='orange',mode='markers'))\n",
        "\n",
        "fig.update_layout(xaxis_title=w_vars.value[0], \n",
        "                  yaxis_title=w_vars.value[1],\n",
        "                  width=450, height=450)\n",
        "fig.show()\n",
        "\n",
        "print('you plotted the following electrophysiolgoy features:')\n",
        "\n",
        "w_selected = widgets.Select(\n",
        "    options=w_vars.value,\n",
        "    disabled=False\n",
        ")\n",
        "display(w_selected)\n",
        "# print('Dropdowns generated at ' + str(datetime.now(timezone(-timedelta(hours=5)))))"
      ]
    },
    {
      "cell_type": "markdown",
      "metadata": {
        "id": "AvdaSWv5bM6-"
      },
      "source": [
        "What do you think? Did dendrite type correlate with the clusters based on these two parameters?\n",
        "\n",
        "### Compare Action Potential Waveforms\n",
        "Let's take a closer look at individual cells of each type to see what these features actually mean for the action potential waveform. Choose one of the two features you just plotted from the dropdown below the figure in step 2.3. Get the value for that feature for each of two cells in the scatterplot. "
      ]
    },
    {
      "cell_type": "code",
      "source": [
        "#@markdown **Step 2.4 <br> TASK:** Specify the \n",
        "#@markdown parameter value for two cells. Then run this cell.\n",
        "\n",
        "value_1 =  None#@param {type:\"number\"} \n",
        "value_2 = None #@param {type:\"number\"} \n",
        "cell1_id = dataframe[w_selected.value].sub(value_1).abs().idxmin()\n",
        "cell2_id = dataframe[w_selected.value].sub(value_2).abs().idxmin()\n",
        "\n",
        "\n",
        "\n",
        "win = 0.01\n",
        "cell_data = ctc.get_ephys_data(cell1_id)\n",
        "# spkt = cell_data.get_spike_times(rheobase_sweep_cell1)\n",
        "print('Cell #1 ID with %s = %.4f is: %i' %(w_selected.value,value_1,cell1_id))\n",
        "Ival = cell_data.get_sweep_metadata(dataframe.loc[cell1_id].rheobase_sweep_number)['aibs_stimulus_amplitude_pa']\n",
        "print('rheobase current = %i pA' %Ival)\n",
        "print('')\n",
        "\n",
        "sweep = cell_data.get_sweep(dataframe.loc[cell1_id].rheobase_sweep_number)\n",
        "spkt = cell_data.get_spike_times(dataframe.loc[cell1_id].rheobase_sweep_number)[0]\n",
        "spk_1 = sweep['response'][int((spkt-win)*sweep['sampling_rate']): int((spkt+win)*sweep['sampling_rate'])]*1e3\n",
        "time_1 = np.linspace(-win, win, len(spk_1))*1e3\n",
        "\n",
        "\n",
        "cell_data = ctc.get_ephys_data(cell2_id)\n",
        "print('Cell #2 ID with %s = %.4f is: %i' %(w_selected.value,value_2,cell2_id))\n",
        "Ival = cell_data.get_sweep_metadata(dataframe.loc[cell2_id].rheobase_sweep_number)['aibs_stimulus_amplitude_pa']\n",
        "print('rheobase current = %i pA' %Ival)\n",
        "\n",
        "# spkt = cell_data.get_spike_times(rheobase_sweep_cell1)\n",
        "sweep = cell_data.get_sweep(dataframe.loc[cell2_id].rheobase_sweep_number)\n",
        "spkt = cell_data.get_spike_times(dataframe.loc[cell2_id].rheobase_sweep_number)[0]\n",
        "spk_2 = sweep['response'][int((spkt-win)*sweep['sampling_rate']): int((spkt+win)*sweep['sampling_rate'])]*1e3\n",
        "time_2 = np.linspace(-win, win, len(spk_2))*1e3\n",
        "\n",
        "fig = make_subplots(rows=2,cols=1,shared_xaxes=True) #go.Figure()\n",
        "fig.add_trace(go.Scatter(x = time_1, y = spk_1,\n",
        "                         name='cell 1',\n",
        "                         line_color='black',mode='lines'),row=1,col=1)\n",
        "fig.add_trace(go.Scatter(x = time_2, y = spk_2,\n",
        "                         name='cell 2',\n",
        "                         line_color='black',mode='lines'),row=2,col=1)\n",
        "fig.update_layout(yaxis_title='mV cell 1', \n",
        "                  yaxis2_title='mV cell 2',\n",
        "                  xaxis2_title='time (ms)',\n",
        "                  showlegend=False,\n",
        "                  width=400, height=500)\n",
        "fig.show()\n",
        "\n",
        "\n",
        "# Create a dataframe for spiny cells, and a dataframe for aspiny cells\n",
        "spiny_df = full_dataframe[full_dataframe['dendrite_type'] == 'spiny']\n",
        "aspiny_df = full_dataframe[full_dataframe['dendrite_type'] == 'aspiny']\n",
        "\n",
        "first_selection = spiny_df[w_vars.value[0]]\n",
        "second_selection = spiny_df[w_vars.value[1]]\n",
        "\n",
        "fig = go.Figure()\n",
        "# make_subplots(rows=2,cols=1,shared_xaxes=True,\n",
        "#                     vertical_spacing=0.2)\n",
        "first_selection = spiny_df[w_vars.value[0]]\n",
        "second_selection = spiny_df[w_vars.value[1]]\n",
        "fig.add_trace(go.Scatter(x = first_selection, y = second_selection,\n",
        "                         opacity=0.5,name='spiny',\n",
        "                         line_color='purple',mode='markers'))\n",
        "first_selection = aspiny_df[w_vars.value[0]]\n",
        "second_selection = aspiny_df[w_vars.value[1]]\n",
        "fig.add_trace(go.Scatter(x = first_selection, y = second_selection,\n",
        "                         opacity=0.5,name='aspiny',\n",
        "                         line_color='orange',mode='markers'))\n",
        "fig.add_trace(go.Scatter(\n",
        "    x = [dataframe.loc[cell1_id][w_vars.value[0]]],\n",
        "    y = [dataframe.loc[cell1_id][w_vars.value[1]]],\n",
        "    mode='markers',marker_symbol='x',name='cell 1',\n",
        "    marker_size=10,marker_color='black'\n",
        "))\n",
        "\n",
        "fig.add_trace(go.Scatter(\n",
        "    x = [dataframe.loc[cell2_id][w_vars.value[0]]],\n",
        "    y = [dataframe.loc[cell2_id][w_vars.value[1]]],\n",
        "    mode='markers',marker_symbol='star',name='cell 2',\n",
        "    marker_size=10,marker_color='black'\n",
        "))\n",
        "\n",
        "fig.update_layout(xaxis_title=w_vars.value[0], \n",
        "                  yaxis_title=w_vars.value[1],\n",
        "                  width=450, height=450)\n",
        "fig.show()\n"
      ],
      "metadata": {
        "cellView": "form",
        "id": "2IKhBSOoIUJb"
      },
      "execution_count": null,
      "outputs": []
    },
    {
      "cell_type": "markdown",
      "metadata": {
        "id": "Fwh0CXv3bM6_"
      },
      "source": [
        "A difference in even just one intrinsic neural property can mean that the action potential shape differs dramatically. \n",
        "\n",
        "**TASK:** Explore the relationship among different parameters. Change your selections in the dropdown menu in step 2.1 then re-run steps 2.2-2.4 to examine different features. You can now ignore dendrite type when making your selections for step 2.4 - instead, select cells at each extreme of one of your parameter ranges to compare. \n"
      ]
    },
    {
      "cell_type": "markdown",
      "source": [
        "## 3. Compare cortical layers.\n",
        "[(return to table of contents)](#scrollTo=35GktxvWbM64)"
      ],
      "metadata": {
        "id": "bdhFnV0fnamB"
      }
    },
    {
      "cell_type": "code",
      "source": [
        "#@markdown **Step 3.1 <br> TASK:** Activate the dropdown menus of \n",
        "#@markdown cortical layers and intrinsic ephys features\n",
        "\n",
        "w_layer = widgets.SelectMultiple(\n",
        "    options=full_dataframe['structure_layer_name'].unique(),\n",
        "    rows=10,disabled=False\n",
        ")\n",
        "\n",
        "print('You can investigate comparisons')\n",
        "print('among the following layers:')\n",
        "display(w_layer)\n",
        "print('')\n",
        "w_vars_2 = widgets.Select(\n",
        "    options=list(dataframe.columns),\n",
        "    rows=10,disabled=False\n",
        ")\n",
        "print('For the following ephys features:')\n",
        "\n",
        "display(w_vars_2)\n",
        "# print('Dropdowns generated at ' + str(datetime.now(timezone(-timedelta(hours=5)))))"
      ],
      "metadata": {
        "cellView": "form",
        "id": "zUTJvrrmfNm6"
      },
      "execution_count": null,
      "outputs": []
    },
    {
      "cell_type": "code",
      "source": [
        "#@markdown **Step 3.2 <br> TASK:** Run this cell to \n",
        "#@markdown to plot a histogram of the selected feature \n",
        "#@markdown for each selected layer.\n",
        "fig = go.Figure()\n",
        "# make_subplots(rows=2,cols=1,shared_xaxes=True,\n",
        "#                     vertical_spacing=0.2)\n",
        "\n",
        "# fig.add_trace(go.Histogram(x=x0))\n",
        "# fig.add_trace(go.Histogram(x=x1))\n",
        "for col in w_layer.value:\n",
        "  mask = full_dataframe['structure_layer_name']==col\n",
        "  ephys = dataframe.loc[mask,w_vars_2.value]\n",
        "  medval = np.nanmedian(ephys)\n",
        "  fig.add_trace(go.Scatter(\n",
        "      x=[medval],y=[0],marker_size=10,\n",
        "      name='layer ' +col + ' median', marker_symbol='triangle-up'\n",
        "  ))\n",
        "  fig.add_trace(go.Histogram(x = ephys, \n",
        "                         opacity=1,name='layer' + col,\n",
        "                         histnorm='probability'))\n",
        "\n",
        "fig.update_layout(xaxis_title=w_vars_2.value, \n",
        "                  yaxis_title='probability',\n",
        "                  width=600, height=450)\n",
        "fig.show()\n",
        "\n",
        "print('you plotted the following layers:')\n",
        "\n",
        "w_selected_2 = widgets.SelectMultiple(\n",
        "    options=w_layer.value,\n",
        "    disabled=False\n",
        ")\n",
        "display(w_selected_2)"
      ],
      "metadata": {
        "cellView": "form",
        "id": "VpEZxHr6f0Ab"
      },
      "execution_count": null,
      "outputs": []
    },
    {
      "cell_type": "markdown",
      "source": [
        "You might be asking yourself some questions as you examine your comparisons, such as: \n",
        "\n",
        "- Do differences among cortical layers in this feature correspond to differences in action potential physiology? \n",
        "\n",
        "- Do cells from different cortical layers differ in their action potential physiology even though they are similar in the above parameter?\n",
        "\n",
        "- What makes more of a difference in determining a neuron's action potential physiology - the layer in which it is found or the value of a particular physiological feature?\n",
        "\n",
        "- etc...\n",
        "\n",
        "To answer these questions, select, from the cortical layers in the dropdown above, whichever you want to compare spike waveforms for. Then run the cell below."
      ],
      "metadata": {
        "id": "-4rsb_PfypkU"
      }
    },
    {
      "cell_type": "code",
      "source": [
        "#@markdown **Step 3.3 <br> TASK:** \n",
        "#@markdown Run this cell to plot the action potential \n",
        "#@markdown for a 'canonical' (median value) cell from each specified layer\n",
        "#@markdown for the selected parameter.\n",
        "# parameter_value =  0.08#@param {type:\"number\"} \n",
        "# value_2 =  1.93#@param {type:\"number\"} \n",
        "\n",
        "fig = go.Figure()\n",
        "for col in w_selected_2.value:\n",
        "  mask = full_dataframe['structure_layer_name']==col\n",
        "  parameter_value = np.nanmedian(dataframe.loc[mask,w_vars_2.value])\n",
        "  cell_id = dataframe.loc[mask,w_vars_2.value].sub(parameter_value).abs().idxmin()\n",
        "\n",
        "  win = 0.01\n",
        "  cell_data = ctc.get_ephys_data(cell_id);\n",
        "  # spkt = cell_data.get_spike_times(rheobase_sweep_cell1)\n",
        "  print('')\n",
        "  print('Layer %s cell with %s = %.4f is: %i' %(col,w_vars_2.value,parameter_value,cell_id))\n",
        "  Ival = cell_data.get_sweep_metadata(dataframe.loc[cell_id].rheobase_sweep_number)['aibs_stimulus_amplitude_pa']\n",
        "  print('rheobase current = %i pA' %Ival)\n",
        "  print('')\n",
        "\n",
        "  sweep = cell_data.get_sweep(dataframe.loc[cell_id].rheobase_sweep_number)\n",
        "  spkt = cell_data.get_spike_times(dataframe.loc[cell_id].rheobase_sweep_number)[0]\n",
        "  spk = sweep['response'][int((spkt-win)*sweep['sampling_rate']): int((spkt+win)*sweep['sampling_rate'])]*1e3\n",
        "  time = np.linspace(-win, win, len(spk))*1e3\n",
        "\n",
        "  fig.add_trace(go.Scatter(x = time, y = spk,\n",
        "                         name='layer ' + col,mode='lines'))\n",
        "\n",
        "fig.update_layout(yaxis_title='mV', \n",
        "                  xaxis_title='time (ms)',\n",
        "                  width=600, height=450)\n",
        "fig.show()\n",
        "\n"
      ],
      "metadata": {
        "cellView": "form",
        "id": "lO4IhFvrfo83"
      },
      "execution_count": null,
      "outputs": []
    },
    {
      "cell_type": "markdown",
      "metadata": {
        "id": "hyh_uSGxbM6_"
      },
      "source": [
        "### <b>Task</b>: Choose a different feature to compare among the same cortical layers, and rerun steps 3.2 & 3.3. \n",
        "\n",
        "Can you find cortical layers that are distinct in a particular electrophysiological feature and/or features that are distinct among particular layers?\n",
        "\n",
        "Here are some pre-computed features you might consider comparing (you can find a complete glossary [here](https://docs.google.com/document/d/1YGLwkMTebwrXd_1E817LFbztMjSTCWh83Mlp3_3ZMEo/edit?usp=sharing)):\n",
        "\n",
        "- <b>Tau (<code>tau</code>)</b>: time constant of the membrane in milliseconds\n",
        "- <b>Adapation ratio (<code>adaptation</code>)</b>: The rate at which firing speeds up or slows down during a stimulus<br>\n",
        "- <b>Average ISI (<code>avg_isi</code>)</b>: The mean value of all interspike intervals in a sweep<br>\n",
        "- **Slope of f/I curve** (<code>f_i_curve_slope</code>)</b>: slope of the curve between firing rate (f) and current injected<br>\n",
        "- **Input Resistance** (<code>input_resistance_mohm</code>)</b>: The input resistance of the cell, in megaohms.<br>\n",
        "- **Voltage of after-hyperpolarization** (<code>trough_v_short_square</code>)</b>: minimum value of the membrane potential during the after-hyperpolarization\n",
        "\n"
      ]
    },
    {
      "cell_type": "markdown",
      "source": [
        "## 4. Neuron diversity among layers\n",
        "\n",
        "[(return to table of contents)](#scrollTo=35GktxvWbM64)\n",
        "\n",
        "Here, we are visualizing action potential physiology of the canonical (median) neuron for each layer based on a electrophysiological parameter. However, there is cell-type diversity within layers as well. You can explore this diversity extensively in an orderly and efficient manner by writing custom code to query the Allen Database. However, even without any coding experience, you can begin explore this diversity by:\n",
        "1. going to the [\"Cell Feature Search\"](https://celltypes.brain-map.org/data) page at the Allen Institute\n",
        "2. selecting specific layers and/or brain regions\n",
        "3. sorting the neurons in that layer in ascending/descending order based on a specific parameter \n",
        "4. browsing the thumbnail images\n",
        "5. clicking on individual thumbnails to see more detail  "
      ],
      "metadata": {
        "id": "zxCFwyfhmLYS"
      }
    },
    {
      "cell_type": "markdown",
      "source": [
        "## 5. Plot sweeps from neurons\n",
        "\n",
        "[(return to table of contents)](#scrollTo=35GktxvWbM64)\n",
        "\n",
        "Using this cell, you can plot specific sweeps from any cell in the database. This can be a useful tool for generating your own figures in the future. "
      ],
      "metadata": {
        "id": "OlUQ4C6myi2H"
      }
    },
    {
      "cell_type": "code",
      "source": [
        "#@markdown **TASK:** Enter the information needed in this form \n",
        "#@markdown and then run the code cell to plot the sweep from that neuron.\n",
        "#@markdown >Note: You can change the figure size (re-run the code cell after changing)\n",
        "cell_id =  None #@param {type:\"number\"} \n",
        "sweep_number = None #@param {type:\"number\"} \n",
        "figure_width = 500 #@param {type:\"number\"} \n",
        "figure_height = 450 #@param {type:\"number\"} \n",
        "\n",
        "cell_data = ctc.get_ephys_data(cell1_id)\n",
        "sweep = cell_data.get_sweep(sweep_number)\n",
        "\n",
        "fig = make_subplots(rows=2, cols=1, \n",
        "                    row_heights=[0.7, 0.3]\n",
        "                    ,shared_xaxes=True) # go.Figure()\n",
        "\n",
        "voltage = sweep['response']*1e3\n",
        "new_fs = 5000\n",
        "step = int(sweep['sampling_rate']/new_fs)\n",
        "voltage_rs = voltage[0::step]\n",
        "time = np.linspace(0,len(voltage)/sweep['sampling_rate'],len(voltage_rs))\n",
        "\n",
        "fig.add_trace(go.Scatter(x = time, y = voltage_rs,\n",
        "                         line_color='black',mode='lines'),\n",
        "              row=1,col=1)\n",
        "\n",
        "current = sweep['stimulus']*1e12\n",
        "new_fs = 500\n",
        "step = int(sweep['sampling_rate']/new_fs)\n",
        "current_rs = current[0::step]\n",
        "time = np.linspace(0,len(current)/sweep['sampling_rate'],len(current_rs))\n",
        "\n",
        "fig.add_trace(go.Scatter(x = time, y = current_rs,\n",
        "                         line_color='black',mode='lines'),\n",
        "              row=2,col=1)\n",
        "\n",
        "fig.update_layout(yaxis_title='mV', \n",
        "                  yaxis2_title='pA',\n",
        "                  xaxis2_title='time (s)',\n",
        "                  showlegend=False,\n",
        "                  width=figure_width, height=figure_height)\n",
        "fig.show()"
      ],
      "metadata": {
        "cellView": "form",
        "id": "IEEHIjmkxqNq"
      },
      "execution_count": null,
      "outputs": []
    },
    {
      "cell_type": "markdown",
      "metadata": {
        "id": "fS_K1BqSbM6_"
      },
      "source": [
        "<hr>\n",
        "\n",
        "# That's it for today -- great work!"
      ]
    },
    {
      "cell_type": "code",
      "execution_count": null,
      "metadata": {
        "id": "_PVDqWFFbM6_",
        "cellView": "form"
      },
      "outputs": [],
      "source": [
        "#@markdown RUN this cell to celebrate\n",
        "from IPython.display import HTML\n",
        "print('Nice work!')\n",
        "HTML('<img src=\"https://media.giphy.com/media/xUOwGhOrYP0jP6iAy4/giphy.gif\">')"
      ]
    },
    {
      "cell_type": "markdown",
      "metadata": {
        "id": "hSSVyrKAbM6_"
      },
      "source": [
        "-----------\n",
        "\n",
        "## Technical notes & credits\n",
        "\n",
        "See [Technical Notes](#technical) for more information about working with the AllenSDK.\n",
        "\n",
        "This notebook demonstrates most of the features of the AllenSDK that help manipulate data in the Cell Types Database.  The main entry point will be through the `CellTypesCache` class. `CellTypesCache` is responsible for downloading Cell Types Database data to a standard directory structure on your hard drive.  If you use this class, you will not have to keep track of where your data lives, other than a root directory.\n",
        "\n",
        "Much more information can be found in the <a href=\"http://help.brain-map.org/download/attachments/8323525/CellTypes_Ephys_Overview.pdf\">Allen Brain Atlas whitepaper</a> as well as in their <a href=\"http://alleninstitute.github.io/AllenSDK/cell_types.html\">GitHub documentation</a>.\n",
        "\n",
        "This file modified from <a href='https://alleninstitute.github.io/AllenSDK/_static/examples/nb/cell_types.html'>this</a> notebook.\n",
        "\n",
        "You can always Google questions you have!)"
      ]
    }
  ],
  "metadata": {
    "colab": {
      "collapsed_sections": [],
      "name": "NotebookColab_CellTypes_InquiryAndAnalysis.ipynb",
      "provenance": [],
      "include_colab_link": true
    },
    "kernelspec": {
      "display_name": "Python 3 (ipykernel)",
      "language": "python",
      "name": "python3"
    },
    "language_info": {
      "codemirror_mode": {
        "name": "ipython",
        "version": 3
      },
      "file_extension": ".py",
      "mimetype": "text/x-python",
      "name": "python",
      "nbconvert_exporter": "python",
      "pygments_lexer": "ipython3",
      "version": "3.8.12"
    }
  },
  "nbformat": 4,
  "nbformat_minor": 0
}