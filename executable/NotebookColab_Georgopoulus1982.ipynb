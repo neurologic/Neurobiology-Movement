{
  "nbformat": 4,
  "nbformat_minor": 0,
  "metadata": {
    "colab": {
      "name": "NotebookColab_Georgopoulus1982.ipynb",
      "provenance": [],
      "collapsed_sections": [],
      "authorship_tag": "ABX9TyPyHkRvfLoln7YTJkWFswQg",
      "include_colab_link": true
    },
    "kernelspec": {
      "name": "python3",
      "display_name": "Python 3"
    },
    "language_info": {
      "name": "python"
    }
  },
  "cells": [
    {
      "cell_type": "markdown",
      "metadata": {
        "id": "view-in-github",
        "colab_type": "text"
      },
      "source": [
        "<a href=\"https://colab.research.google.com/github/neurologic/MotorSystems_BIOL358_SP22/blob/main/NotebookColab_Georgopoulus1982.ipynb\" target=\"_parent\"><img src=\"https://colab.research.google.com/assets/colab-badge.svg\" alt=\"Open In Colab\"/></a>"
      ]
    },
    {
      "cell_type": "markdown",
      "source": [
        "This notebook contains a series of interactive plots to explore the tuning and population coding principles presented by [Georgopoulos et al (1982)](https://www.jneurosci.org/content/2/11/1527). "
      ],
      "metadata": {
        "id": "ozr3W25l4RMG"
      }
    },
    {
      "cell_type": "code",
      "execution_count": null,
      "metadata": {
        "id": "lsLegXKnaptb",
        "cellView": "form"
      },
      "outputs": [],
      "source": [
        "#@markdown **TASK:** Run this cell to set up notebook coding environment.\n",
        "import numpy as np\n",
        "import math\n",
        "import plotly.express as px\n",
        "import plotly.graph_objects as go\n",
        "import ipywidgets as widgets \n",
        "my_layout = widgets.Layout()\n",
        "# def tuningcurve(theta, b0, b1, b2):\n",
        "#   return [b0 + b1*math.sin(math.radians(t)) - b2*math.cos(math.radians(t)) for t in theta]\n",
        "\n",
        "theta=[0,45,90,135,180,225,270,315,360]"
      ]
    },
    {
      "cell_type": "markdown",
      "source": [
        "There are two different equations that can be used to describe the directional tuning of neurons in M1. \n",
        "\n",
        "1. y = b0 + b1*sin(theta) + b2*cos(theta)\n",
        "\n",
        "2. y = b0 + c1*cos(theta - theta0)"
      ],
      "metadata": {
        "id": "7DWhQraJOr_y"
      }
    },
    {
      "cell_type": "code",
      "source": [
        "#@markdown **TASK:** Run this cell to enable an interactive plot\n",
        "#@markdown exploring the parameters b0, b1, and b2 in equation 1.\n",
        "my_layout.width = '600px'\n",
        "style = {'description_width': 'initial'}\n",
        "@widgets.interact(\n",
        "    b0=widgets.FloatSlider(0., min=0., max=100., step=2,\n",
        "                               layout=my_layout),\n",
        "    b1=widgets.FloatSlider(0., min=0., max=100., step=2,\n",
        "                               layout=my_layout),\n",
        "    b2=widgets.FloatSlider(0., min=0., max=100., step=2,\n",
        "                               layout=my_layout)\n",
        ")\n",
        "\n",
        "def tuning(b0, b1, b2):\n",
        "  response = [b0 + b1*math.sin(math.radians(t)) - b2*math.cos(math.radians(t)) for t in [0,45,90,135,180,225,270,315,360]]\n",
        "  fig = go.Figure()\n",
        "  fig.add_trace(go.Scatter(x=[0,45,90,135,180,225,270,315,360],y=response,line_color='black',name='tuning curve'))\n",
        "  fig.update_layout(xaxis_title=\"degree\", yaxis_title='spike rate',width=600, height=400)\n",
        "  fig.show()"
      ],
      "metadata": {
        "cellView": "form",
        "id": "5detrJopp38Q"
      },
      "execution_count": null,
      "outputs": []
    },
    {
      "cell_type": "markdown",
      "source": [
        "- Why is b0 super important for spiking tuning curve functions? \n",
        "- What does the ratio betweeen b1 and b2 change?\n",
        "- What does the absolute value of b1 and b2 change?"
      ],
      "metadata": {
        "id": "JdQVtSOBmY_k"
      }
    },
    {
      "cell_type": "code",
      "source": [
        "#@markdown **TASK:** Run this cell to enable an interactive plot\n",
        "#@markdown exploring the parameters theta, b0, and c1 in equation 2.\n",
        "my_layout.width = '600px'\n",
        "style = {'description_width': 'initial'}\n",
        "@widgets.interact(\n",
        "    theta=widgets.FloatSlider(0., min=0., max=360., step=2,\n",
        "                               layout=my_layout),\n",
        "    b0=widgets.FloatSlider(0., min=0., max=100., step=2,\n",
        "                               layout=my_layout),\n",
        "    c1=widgets.FloatSlider(0., min=0., max=100., step=2,\n",
        "                               layout=my_layout)\n",
        ")\n",
        "\n",
        "def preferred_direction(theta, b0, c1):\n",
        "  response = [b0 + c1*math.cos(math.radians(t-theta)) for t in [0,45,90,135,180,225,270,315,360]]\n",
        "  fig = go.Figure()\n",
        "  fig.add_trace(go.Scatter(x=[0,45,90,135,180,225,270,315,360],y=response,line_color='black',name='tuning curve'))\n",
        "  fig.update_layout(xaxis_title=\"degree\", yaxis_title='spike rate',width=600, height=400)\n",
        "  fig.show()"
      ],
      "metadata": {
        "id": "GMeQRb7ZeZNN",
        "cellView": "form"
      },
      "execution_count": null,
      "outputs": []
    },
    {
      "cell_type": "markdown",
      "source": [
        "Challenge: Re-create Figure 4 from the paper using each of the two formulations of the tuning curve. (Hint: the regression coefficient values for the example cell are reported in the paper) \n",
        "\n",
        "So far, we have been plotting the neuron's response only at the tested directions. However, with the regression coefficients, we can plot a smooth tuning function with the estimated response at all locations. In the interactive plot, you can see the result of doing this. "
      ],
      "metadata": {
        "id": "SYQYSfeIyho3"
      }
    },
    {
      "cell_type": "code",
      "source": [
        "#@markdown **TASK:** Run this cell to create an interactive \n",
        "#@markdown plot to investigate the directional tuning index.\n",
        "\n",
        "my_layout.width = '600px'\n",
        "style = {'description_width': 'initial'}\n",
        "@widgets.interact(\n",
        "    theta=widgets.FloatSlider(0., min=0., max=360., step=2,\n",
        "                               layout=my_layout),\n",
        "    b0=widgets.FloatSlider(0., min=0., max=100., step=2,\n",
        "                               layout=my_layout),\n",
        "    c1=widgets.FloatSlider(0., min=0., max=100., step=2,\n",
        "                               layout=my_layout)\n",
        ")\n",
        "\n",
        "def preferred_direction_DI(theta, b0, c1):\n",
        "  x = np.arange(0,361,2)\n",
        "  response = [b0 + c1*math.cos(math.radians(t-theta)) for t in x]\n",
        "  DI=0\n",
        "  if ((np.mean(response)>0) | (np.mean(response)<0)) & (b0!=0):\n",
        "    DI = (np.max(response) - np.mean(response)) / np.mean(response)\n",
        "\n",
        "  fig = go.Figure()\n",
        "  fig.add_trace(go.Scatter(x=x,y=response,line_color='black',\n",
        "                           mode='lines',name='tuning curve'))\n",
        "  fig.update_layout(xaxis_title=\"degree\", \n",
        "                    yaxis_title='spike rate',\n",
        "                    width=600, height=400)\n",
        "  print('')\n",
        "  print('directional tuning index = %f' %DI)\n",
        "  print('')\n",
        "  fig.show()\n",
        "  \n",
        "  # print(DI)\n",
        "\n"
      ],
      "metadata": {
        "cellView": "form",
        "id": "qcpErbvu0A24"
      },
      "execution_count": null,
      "outputs": []
    },
    {
      "cell_type": "code",
      "source": [
        "#@markdown **TASK:** Run this cell to enable an interactive polar\n",
        "#@markdown plot visualization of preferred direction tuning.\n",
        "my_layout.width = '450px'\n",
        "style = {'description_width': 'initial'}\n",
        "@widgets.interact(\n",
        "    theta=widgets.FloatSlider(0., min=0., max=360., step=2,\n",
        "                               layout=my_layout),\n",
        "    b0=widgets.FloatSlider(0., min=0., max=100., step=2,\n",
        "                               layout=my_layout),\n",
        "    c1=widgets.FloatSlider(0., min=0., max=100., step=2,\n",
        "                               layout=my_layout)\n",
        ")\n",
        "\n",
        "def polar_tuning(theta, b0, c1):\n",
        "  x = np.arange(0,360,2)\n",
        "  response = [b0 + c1*math.cos(math.radians(t-theta)) for t in x]\n",
        "\n",
        "  fig = go.Figure(data=\n",
        "    go.Scatterpolar(\n",
        "        r = response,\n",
        "        theta = x,\n",
        "        mode='lines'\n",
        "    ))\n",
        "\n",
        "  fig.update_layout(showlegend=False,height = 400, width=400)\n",
        "  fig.show()\n",
        "\n",
        "\n",
        "# #peak should be halfway between the two, and minimum spike rate above zero\n",
        "\n",
        "# response = tuningcurve(theta,b0,b1,b2)  \n",
        "\n",
        "# fig = go.Figure(data=\n",
        "#     go.Scatterpolar(\n",
        "#         r = response,\n",
        "#         theta = theta,\n",
        "#     ))\n",
        "\n",
        "# fig.update_layout(showlegend=False,height = 400, width=400)\n",
        "# fig.show()"
      ],
      "metadata": {
        "cellView": "form",
        "id": "yox10Zm-wF9k"
      },
      "execution_count": null,
      "outputs": []
    },
    {
      "cell_type": "markdown",
      "source": [
        "Create two neurons with different preferred directions"
      ],
      "metadata": {
        "id": "9UTmKT7LlDXH"
      }
    },
    {
      "cell_type": "code",
      "source": [
        "#@markdown **TASK:** Run this cell to enable an interactive plot\n",
        "#@markdown exploring population tuning of these types of neurons.\n",
        "my_layout.width = '600px'\n",
        "style = {'description_width': 'initial'}\n",
        "@widgets.interact(\n",
        "    theta_1=widgets.FloatSlider(0., min=0., max=360., step=2,\n",
        "                               layout=my_layout),\n",
        "    theta_2=widgets.FloatSlider(0., min=0., max=360., step=2,\n",
        "                               layout=my_layout),\n",
        "    theta_3=widgets.FloatSlider(0., min=0., max=360., step=2,\n",
        "                               layout=my_layout),\n",
        "    b0=widgets.FloatSlider(0., min=0., max=100., step=2,\n",
        "                               layout=my_layout),\n",
        "    c1=widgets.FloatSlider(0., min=0., max=100., step=2,\n",
        "                               layout=my_layout)\n",
        ")\n",
        "\n",
        "def multineuron_tuning(theta_1, theta_2, theta_3, b0, c1):\n",
        "  x = np.arange(0,360,1)\n",
        "  N_1 = [b0 + c1*math.cos(math.radians(t-theta_1)) for t in x]\n",
        "  N_2 = [b0 + c1*math.cos(math.radians(t-theta_2)) for t in x]\n",
        "  N_3 = [b0 + c1*math.cos(math.radians(t-theta_3)) for t in x]\n",
        "  fig = go.Figure()\n",
        "  fig.add_trace(go.Scatter(x=x,y=N_1,name='neuron 1'))\n",
        "  fig.add_trace(go.Scatter(x=x,y=N_2,name='neuron 2'))\n",
        "  fig.add_trace(go.Scatter(x=x,y=N_3,name='neuron 3'))\n",
        "  fig.update_layout(xaxis_title=\"degree\", yaxis_title='spike rate',width=600, height=400)\n",
        "  fig.show()"
      ],
      "metadata": {
        "cellView": "form",
        "id": "TLsIOudOxLgB"
      },
      "execution_count": null,
      "outputs": []
    },
    {
      "cell_type": "code",
      "source": [
        "#@markdown **TASK:** Run this cell to enable an interactive plot\n",
        "#@markdown exploring the manifold of population tuning of these types of neurons\n",
        "#@markdown in 3-dimensional space.\n",
        "my_layout.width = '600px'\n",
        "style = {'description_width': 'initial'}\n",
        "@widgets.interact(\n",
        "    theta_1=widgets.FloatSlider(0., min=0., max=360., step=2,\n",
        "                               layout=my_layout),\n",
        "    theta_2=widgets.FloatSlider(0., min=0., max=360., step=2,\n",
        "                               layout=my_layout),\n",
        "    theta_3=widgets.FloatSlider(0., min=0., max=360., step=2,\n",
        "                               layout=my_layout),\n",
        "    b0=widgets.FloatSlider(0., min=0., max=100., step=2,\n",
        "                               layout=my_layout),\n",
        "    c1=widgets.FloatSlider(0., min=0., max=100., step=2,\n",
        "                               layout=my_layout)\n",
        ")\n",
        "\n",
        "def multineuron_tuning_3D(theta_1, theta_2, theta_3, b0, c1):\n",
        "  x = np.arange(0,360,1)\n",
        "  N_1 = [b0 + c1*math.cos(math.radians(t-theta_1)) for t in x]\n",
        "  N_2 = [b0 + c1*math.cos(math.radians(t-theta_2)) for t in x]\n",
        "  N_3 = [b0 + c1*math.cos(math.radians(t-theta_3)) for t in x]\n",
        "  fig = go.Figure()\n",
        "  fig.add_trace(go.Scatter3d(x=N_1,y=N_2,z = N_3, line_color='black'))\n",
        "  fig.update_layout(width=600, height=600)\n",
        "  fig.show()"
      ],
      "metadata": {
        "id": "D0YbppQSlCn6",
        "cellView": "form"
      },
      "execution_count": null,
      "outputs": []
    }
  ]
}