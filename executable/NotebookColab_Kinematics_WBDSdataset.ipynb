{
 "cells": [
  {
   "cell_type": "markdown",
   "id": "3d333b09",
   "metadata": {
    "colab_type": "text",
    "id": "view-in-github",
    "tags": []
   },
   "source": [
    "<a href=\"https://colab.research.google.com/github/neurologic/Neurobiology-Movement/blob/main/executable/NotebookColab_Kinematics_WBDSdataset.ipynb\" target=\"_parent\"><img src=\"https://colab.research.google.com/assets/colab-badge.svg\" alt=\"Open In Colab\"/></a>"
   ]
  },
  {
   "cell_type": "markdown",
   "id": "5be65f0d-d29b-4756-ab52-b080ba4a24d5",
   "metadata": {
    "id": "5be65f0d-d29b-4756-ab52-b080ba4a24d5",
    "tags": []
   },
   "source": [
    "# Kinematics and Kinetics of Walking\n",
    "\n",
    "We can’t understand anything about how the nervous system organizes and controls a movement until we can understand the movement itself and the biomechanics of the body controlled by the nervous system. \n",
    "\n",
    "Kinematics is the study and quantification of how objects move. In working through the contents of this notebook, you will learn more about movement and how it is measured and analyzed. You will also practice using data processing and visualization techniques common to neuroscience, physics, biology, and many data science professions. \n",
    "\n",
    "Specifically, you will learn about how (some) human bodies walk in the context of current standard practices in the fields of biomechanics. The [dataset you will explore](https://doi.org/10.6084/m9.figshare.5722711) was published by [Fukuchi et al (2018)](https://peerj.com/articles/4640/). They placed markers placed at specific locations along the body were tracked during walking (either overland or on a treadmill). Note that the nomenclature for the marker points in this dataset vary slightly from [the marker placement resource](https://www.sciencedirect.com/science/article/pii/S0966636207000124?via%3Dihub) referenced in Fukuchi et al (2018). See marker key in slides from class. Force plates were used to quantify ground contact forces during walking (\"kinetics\").\n",
    "\n",
    "<img src='https://github.com/neurologic/Neurobiology-Movement/blob/main/images/kinematics_markers_Fukuchi.png?raw=true' width=\"600\" >\n",
    "\n",
    "\n",
    "Your work on this notebook will scaffold discussions throughout the course about kinematics of a variety of movements, the challenges faced by the nervous system in controlling movement, and emerging technologies that are revolutionizing ways of quantifying movement. \n",
    "\n"
   ]
  },
  {
   "cell_type": "markdown",
   "id": "770856d7-2f01-469c-b77e-e0026b48763b",
   "metadata": {
    "id": "770856d7-2f01-469c-b77e-e0026b48763b"
   },
   "source": [
    "# Setup\n",
    "\n",
    "Complete the following preparatory steps to set up the Colab notebook environment for your work.\n"
   ]
  },
  {
   "cell_type": "code",
   "execution_count": null,
   "id": "52fd61e0-d203-4664-b783-a6e2c7392fde",
   "metadata": {
    "cellView": "form",
    "id": "52fd61e0-d203-4664-b783-a6e2c7392fde",
    "tags": [
     "hide-input"
    ]
   },
   "outputs": [],
   "source": [
    "#@title {display-mode: \"form\"}\n",
    "\n",
    "#@markdown RUN this cell to set up the notebook (import packages, define functions, etc)\n",
    "# In Python, anything with a \"#\" in front of it is code annotation,\n",
    "# and is not read by the computer.\n",
    "# You can run a cell (this box) by pressing ctrl-enter or shift-enter.\n",
    "# You can also run a cell by clicking the play button in the menu bar \n",
    "# at the top of the page (single right arrow, not double).\n",
    "# Click in this cell and then press shift and enter simultaneously.\n",
    "# This print function below allows us to generate a message.\n",
    "print('Nice work!')\n",
    "\n",
    "# No need to edit anything in this code cell\n",
    "#################################\n",
    "\n",
    "import numpy as np\n",
    "import pandas as pd\n",
    "from scipy import ndimage\n",
    "from scipy.signal import find_peaks\n",
    "from copy import deepcopy\n",
    "import math\n",
    "from sklearn.decomposition import PCA\n",
    "from sklearn.cluster import KMeans\n",
    "from pathlib import Path\n",
    "import matplotlib.pyplot as plt\n",
    "import plotly.express as px\n",
    "import plotly.graph_objects as go\n",
    "from plotly.subplots import make_subplots\n",
    "import ipywidgets as widgets\n",
    "from IPython.display import display\n",
    "import csv\n",
    "from scipy.signal import hilbert,medfilt,resample\n",
    "from scipy.io import wavfile\n",
    "from sklearn.decomposition import PCA\n",
    "import scipy\n",
    "import seaborn as sns\n",
    "from datetime import datetime,timezone,timedelta\n",
    "pal = sns.color_palette(n_colors=15)\n",
    "pal = pal.as_hex()\n",
    "\n",
    "\n",
    "# datafolder = \"/content/drive/Shareddrives/BIOL358/Data/WBDSascii\"\n",
    "# datafolder = \"/content/drive/MyDrive/Classroom/BIOL358: Motor Systems/Data/WBDSascii\"\n",
    "# datafolder = '/Users/kperks/OneDrive - wesleyan.edu/Teaching/MotorSystems_SP22/Data/WBDSascii/'\n",
    "\n",
    "fs_grf = 300\n",
    "fs_mkr = 150\n",
    "\n",
    "def cart2pol(x, y):\n",
    "    rho = np.sqrt(x**2 + y**2)\n",
    "    phi = np.arctan2(y, x)\n",
    "    return(rho, phi)\n",
    "    \n",
    "print('Task completed at ' + str(datetime.now(timezone(-timedelta(hours=5)))))"
   ]
  },
  {
   "cell_type": "code",
   "execution_count": null,
   "id": "fbed1e34-7bc2-4ef0-bc7c-ef79b7ec11be",
   "metadata": {
    "tags": [
     "hide-input"
    ]
   },
   "outputs": [],
   "source": [
    "#@title {display-mode: \"form\"}\n",
    "\n",
    "#@markdown RUN this cell to download and unzip the raw data from \"figshare\".\n",
    "#@markdown Note that this step may take a few minutes. If the \"run cell\" button is still spinning, then it is still working.\n",
    "\n",
    "!wget https://figshare.com/ndownloader/files/10058986\n",
    "\n",
    "# use --no-check-certificate to ignore SSL certificate errors that might occur on websites with an expired SSL certificate\n",
    "\n",
    "!unzip -q /content/10058986 -d /content/WBDSascii \n",
    "\n",
    "datafolder = \"/content/WBDSascii\"\n",
    "\n",
    "print('Task completed at ' + str(datetime.now(timezone(-timedelta(hours=5)))))"
   ]
  },
  {
   "cell_type": "markdown",
   "id": "f060ffb0-2696-42e1-b3d7-b1973c928fcc",
   "metadata": {},
   "source": [
    "The dataset should now be located in your Colab file directory in a folder called \"WBDSascii\". Check that it is there before proceeding."
   ]
  },
  {
   "cell_type": "markdown",
   "id": "edbebb54-81d1-4cc7-a4ab-70ecf17c11e5",
   "metadata": {
    "id": "edbebb54-81d1-4cc7-a4ab-70ecf17c11e5"
   },
   "source": [
    "# Raw Data\n",
    "\n",
    "## Activate menus and select data\n",
    "\n",
    "Run the code cell below to activate the dropdown menus for selection of raw data from a particular person, environment, and speed (note different selection options based on the environment chosen).\n",
    "  > NOTE: you should only need to run the code cell below once per active colab session to activate the dropdown menus. If you can change your selections, it is activated. You can change your selections at any time and load your selection using the \"Load DATASET\" code cell."
   ]
  },
  {
   "cell_type": "code",
   "execution_count": null,
   "id": "c7e34cf9-b37a-4630-8059-c7bd38672707",
   "metadata": {
    "cellView": "form",
    "id": "c7e34cf9-b37a-4630-8059-c7bd38672707",
    "tags": [
     "hide-input"
    ]
   },
   "outputs": [],
   "source": [
    "#@title {display-mode: \"form\"}\n",
    "\n",
    "#@markdown Activate Dropdown Menus if needed.\n",
    " \n",
    "w_subj = widgets.Select(\n",
    "    options=['select person (01-42)'] + [format(x,'02d') for x in range(1,43,1)],\n",
    "    value='select person (01-42)',\n",
    "    # rows=10,\n",
    "    disabled=False\n",
    ")\n",
    "w_env = widgets.Select(\n",
    "    options=['select environment','Overland','Treadmill'],\n",
    "    value='select environment',\n",
    "    rows=3,disabled=False\n",
    ")\n",
    "w_Ospeed = widgets.Select(\n",
    "    options=['select speed for overland','Comfortable','Fast','Slow'],\n",
    "    value='select speed for overland',\n",
    "    rows=4,disabled=False\n",
    ")\n",
    "w_Tspeed = widgets.Select(\n",
    "    options=['select speed for treadmill (01-08)'] + [format(x,'02d') for x in range(1,9,1)],\n",
    "    value='select speed for treadmill (01-08)',\n",
    "    rows=5,disabled=False\n",
    ")\n",
    "display(w_subj,w_env,w_Ospeed,w_Tspeed)\n",
    "print('Dropdowns generated at ' + str(datetime.now(timezone(-timedelta(hours=5)))))"
   ]
  },
  {
   "cell_type": "markdown",
   "id": "BPpUAFtHP3ME",
   "metadata": {
    "id": "BPpUAFtHP3ME"
   },
   "source": [
    "## Load DATASET\n",
    "\n",
    "Once you have made your selection, then load the dataset.\n"
   ]
  },
  {
   "cell_type": "code",
   "execution_count": null,
   "id": "Hw0TwgunODC-",
   "metadata": {
    "cellView": "form",
    "id": "Hw0TwgunODC-",
    "tags": [
     "hide-input"
    ]
   },
   "outputs": [],
   "source": [
    "#@title {display-mode: \"form\"}\n",
    "\n",
    "#@markdown Run this code cell to load the data you have selected\n",
    "#@markdown >Note: If you change your selections (different person, environment, or speed)\n",
    "#@markdown , re-run this cell.\n",
    "\n",
    "\n",
    "if w_env.value=='Overland':\n",
    "    speed = w_Ospeed.value[0]\n",
    "    trial = '01'\n",
    "if w_env.value=='Treadmill':\n",
    "    speed = w_Tspeed.value\n",
    "    trial = ''\n",
    "\n",
    "filename = 'WBDS' + str(w_subj.value) + 'walk' + w_env.value[0] + trial + speed \n",
    "\n",
    "filepath = Path(datafolder) / (filename + 'mkr.txt')\n",
    "if filepath.exists():\n",
    "    dataframe = pd.read_csv(filepath, sep='\\t')\n",
    "    print('Kinematic Data loaded at ' + str(datetime.now(timezone(-timedelta(hours=5)))))\n",
    "\n",
    "if filepath.exists()==False:\n",
    "    print('Data selection does not exist. Check selections and correct errors.')\n",
    "    print('Task not yet completed, but cell ran at ' + str(datetime.now(timezone(-timedelta(hours=5)))))    \n",
    "\n",
    "filepath_grf = Path(datafolder) / (filename + 'grf.txt')\n",
    "if filepath_grf.exists():\n",
    "    grf_trial = pd.read_csv(filepath_grf,sep='\\t')\n",
    "    grf_trial['Time']/=fs_grf\n",
    "    print('Kinetic Data loaded at ' + str(datetime.now(timezone(-timedelta(hours=5)))))\n",
    "\n",
    "if filepath_grf.exists()==False:\n",
    "    print('Data selection does not exist. Check selections and correct errors.')\n",
    "    print('Task not yet completed, but cell ran at ' + str(datetime.now(timezone(-timedelta(hours=5)))))\n",
    "\n",
    "w_markers = widgets.SelectMultiple(\n",
    "    options=list(dataframe.columns)[1:],\n",
    "    rows=15)\n",
    "\n",
    "w_fp = widgets.SelectMultiple(\n",
    "    options=list(grf_trial.columns)[1:],\n",
    "    rows=10)\n",
    "print('')\n",
    "print('')\n",
    "print('Select which kinematics variables you want to plot from the following list:')\n",
    "display(w_markers)\n",
    "print('')\n",
    "print('')\n",
    "print('Select which kinetic variables you want to plot from the following list:')\n",
    "display(w_fp)\n",
    "print('Dropdown menus created at ' + str(datetime.now(timezone(-timedelta(hours=5)))))\n",
    "\n",
    "\n",
    "\n",
    "\n"
   ]
  },
  {
   "cell_type": "markdown",
   "id": "31d41f94-24df-4420-ac7d-639a2b48b37e",
   "metadata": {
    "id": "31d41f94-24df-4420-ac7d-639a2b48b37e"
   },
   "source": [
    "## Kinematics \n",
    "\n",
    "You can select different kinematics variables and re-make the following plot as many times as you want without re-loading the dataset. \n",
    "\n",
    "Follow your curiosities about what kinematics are related to each other and in what ways. There are many to choose from. Explore both ‘ipsilateral’ and ‘contralateral’ comparisons. "
   ]
  },
  {
   "cell_type": "code",
   "execution_count": null,
   "id": "8ff3a3e7-6072-4957-affc-00ae78ee5888",
   "metadata": {
    "cellView": "form",
    "id": "8ff3a3e7-6072-4957-affc-00ae78ee5888",
    "tags": [
     "hide-input"
    ]
   },
   "outputs": [],
   "source": [
    "#@title {display-mode: \"form\"}\n",
    "\n",
    "#@markdown Run this code cell to plot the selected kinematics variables\n",
    "\n",
    "fig = go.Figure()\n",
    "if len(w_markers.value)>0:\n",
    "    for marker in list(w_markers.value):\n",
    "        fig.add_trace(go.Scatter(x = dataframe['Time'], y = dataframe[marker],name=marker))\n",
    "    print('Task completed at ' + str(datetime.now(timezone(-timedelta(hours=5)))))\n",
    "\n",
    "if len(w_markers.value)==0:\n",
    "    print('Need to select markers to plot')\n",
    "    print('Task not completed yet, but cell run at ' + str(datetime.now(timezone(-timedelta(hours=5)))))\n",
    "    \n",
    "fig.update_layout(xaxis_title=\"time(seconds)\", yaxis_title='position (centimeters)',width=800, height=500)"
   ]
  },
  {
   "cell_type": "markdown",
   "id": "80923d9b-7946-40ec-b795-838718d7a116",
   "metadata": {
    "id": "80923d9b-7946-40ec-b795-838718d7a116"
   },
   "source": [
    "## Kinetics\n",
    "\n",
    "Select a subset of ground force measurements to examine. Note that the treadmill environment has more ground force measurement data than overland. "
   ]
  },
  {
   "cell_type": "code",
   "execution_count": null,
   "id": "497d8d55-d565-4e1a-a54e-c7da8ba2d772",
   "metadata": {
    "cellView": "form",
    "id": "497d8d55-d565-4e1a-a54e-c7da8ba2d772",
    "tags": [
     "hide-input"
    ]
   },
   "outputs": [],
   "source": [
    "#@title {display-mode: \"form\"}\n",
    "\n",
    "#@markdown Run this code cell to plot the ground reaction force measurements you selected.\n",
    "\n",
    "fig = go.Figure()\n",
    "if len(w_fp.value)>0:\n",
    "    for fp in list(w_fp.value):\n",
    "        fig.add_trace(go.Scatter(x = grf_trial['Time'], y = grf_trial[fp],name=fp))\n",
    "    print('Plot created at ' + str(datetime.now(timezone(-timedelta(hours=5)))))\n",
    "\n",
    "if len(w_fp.value)==0:\n",
    "    print('Need to select markers to plot')\n",
    "    print('Task not completed, but cell run at ' + str(datetime.now(timezone(-timedelta(hours=5)))))\n",
    "\n",
    "fig.update_layout(xaxis_title=\"time(seconds)\", yaxis_title='force',width=800, height=500)\n",
    "\n"
   ]
  },
  {
   "cell_type": "markdown",
   "id": "iR6gql9Ba4NT",
   "metadata": {
    "id": "iR6gql9Ba4NT"
   },
   "source": [
    "## Identify individual gait cycle trials\n",
    "\n",
    "**Select data from the treadmill condition.**\n",
    "\n",
    "In this section, you will transform the continuous measurements into trials and look at trial-to-trial variability. Each trial will be defined by the onset of a gait cycle. The onset of a gait cycle is determined based on kinetic data (ground reaction forces measured by the force plates).\n",
    "\n",
    "Based on the ground force measurements you just plotted, use your mouse hover to determine the start times of 3 trials. \n",
    "\n",
    "In the code cell below, there is a form with spots to create a list of trial start times and assign a variable for the approximate gait cycle period. Single click just above the line (or highlight the text) to edit the form entries. After filling in the necessary information, run the code cell to store the information into temporary memory. "
   ]
  },
  {
   "cell_type": "code",
   "execution_count": null,
   "id": "1814abac-ca52-4ddb-8490-b131456a3eba",
   "metadata": {
    "cellView": "form",
    "id": "1814abac-ca52-4ddb-8490-b131456a3eba",
    "tags": [
     "hide-input"
    ]
   },
   "outputs": [],
   "source": [
    "#@markdown Type a list of trial times below. \n",
    "#@markdown >The formatting of the list must be trial start times (in seconds)\n",
    "#@markdown separated by commas. The whole list must be surrounded by hard brackets. \n",
    "#@markdown For example: ```[1.24,5.67,8.98]```\n",
    "trials = [None] #@param \n",
    "\n",
    "#@markdown Type the gait cycle period below (in seconds). \n",
    "period =  None #@param \n",
    "\n",
    "#@markdown After you have created a list of trial start times and specified a period,\n",
    "#@markdown run this cell to store the values in memory for the next task. \n",
    "\n",
    "offset = 0.5\n",
    "persamps = int(period*fs_grf)+int(offset*fs_grf)\n",
    "trial_inds = [int((t-offset)*fs_grf) for t in trials]\n",
    "xtime = np.linspace(-offset,period,persamps)\n",
    "\n",
    "print('Tasks completed at ' + str(datetime.now(timezone(-timedelta(hours=5)))))\n",
    "\n"
   ]
  },
  {
   "cell_type": "markdown",
   "id": "4N8i5DBwchGM",
   "metadata": {
    "id": "4N8i5DBwchGM"
   },
   "source": [
    "### Plot trial data\n",
    "\n",
    "Run the cells below to plot data on each trial that you specified. \n",
    "\n",
    "When plotting kinematics data, make sure you have selected specific marker locations from the dropdown menu in the \"Load DATASET\" section.\n"
   ]
  },
  {
   "cell_type": "code",
   "execution_count": null,
   "id": "3EApNSSgr3vu",
   "metadata": {
    "cellView": "form",
    "id": "3EApNSSgr3vu",
    "tags": [
     "hide-input"
    ]
   },
   "outputs": [],
   "source": [
    "#@title {display-mode: \"form\"}\n",
    "\n",
    "#@markdown Run this code cell to plot the kinetic measurements on each trial overlaid.\n",
    "\n",
    "offset = 0.5\n",
    "persamps = int(period*fs_grf)+int(offset*fs_grf)\n",
    "trial_inds = [int((t-offset)*fs_grf) for t in trials]\n",
    "xtime = np.linspace(-offset,period,persamps)\n",
    "\n",
    "fig = go.Figure()\n",
    "\n",
    "if len(w_fp.value)>0:\n",
    "    for fp in list(w_fp.value):\n",
    "      for t in trial_inds:\n",
    "        fig.add_trace(go.Scatter(x = xtime, y = grf_trial[fp][t:t+persamps],name=fp+' at trial ' +str(round(t/fs_grf,2)+offset)))\n",
    "    print('Task completed at ' + str(datetime.now(timezone(-timedelta(hours=5)))))\n",
    "\n",
    "if len(w_fp.value)==0:\n",
    "    print('Need to select markers to plot')\n",
    "    print('Task not completed, but cell run at ' + str(datetime.now(timezone(-timedelta(hours=5)))))\n",
    "\n",
    "fig.update_layout(xaxis_title=\"time(seconds)\", yaxis_title='force',width=800, height=500)\n",
    "\n"
   ]
  },
  {
   "cell_type": "code",
   "execution_count": null,
   "id": "FHFS8FMxd1jv",
   "metadata": {
    "cellView": "form",
    "id": "FHFS8FMxd1jv",
    "tags": [
     "hide-input"
    ]
   },
   "outputs": [],
   "source": [
    "#@title {display-mode: \"form\"}\n",
    "\n",
    "#@markdown Run this code cell to plot the kinematics measurements on each trial overlaid.\n",
    "\n",
    "offset = 0.5\n",
    "persamps = int(period*fs_mkr)+int(offset*fs_mkr)\n",
    "trial_inds = [int((t-offset)*fs_mkr) for t in trials]\n",
    "xtime = np.linspace(-offset,period,persamps)\n",
    "\n",
    "fig = go.Figure()\n",
    "\n",
    "if len(w_markers.value)>0:\n",
    "    for marker in list(w_markers.value):\n",
    "      for t in trial_inds:\n",
    "        fig.add_trace(go.Scatter(x = xtime, y = dataframe[marker][t:t+persamps],name=str(marker)+' at trial ' +str(round(t/fs_mkr,2))))\n",
    "    print('Task completed at ' + str(datetime.now(timezone(-timedelta(hours=5)))))\n",
    "\n",
    "if len(w_markers.value)==0:\n",
    "    print('Need to select markers to plot')\n",
    "    print('Task not completed, but cell run at ' + str(datetime.now(timezone(-timedelta(hours=5)))))\n",
    "\n",
    "fig.update_layout(xaxis_title=\"time(seconds)\", yaxis_title='position',width=800, height=500)\n"
   ]
  },
  {
   "cell_type": "markdown",
   "id": "nKB32vvhlVMw",
   "metadata": {
    "id": "nKB32vvhlVMw"
   },
   "source": [
    "You can go back and select different kinematics variables to plot on each of these trials (remember, no need to reload the dataset unless you choose a different person, environment, or speed)."
   ]
  },
  {
   "cell_type": "markdown",
   "id": "51cdb5b3-5657-43c3-8ccf-c8147e5f7efb",
   "metadata": {
    "id": "51cdb5b3-5657-43c3-8ccf-c8147e5f7efb"
   },
   "source": [
    "# Time-normalized (processed) data\n",
    "\n",
    "Ok. Now that you have a sense of the data, let's look at average and time-normalized data. \n",
    "In this step, the data that you will explore is trial-averaged measurements (the average across trials for each. The data is \"time-normalized\" so that the kinematics and kinetics are a function of the gait cycle (from start to stop - 0 to 100% of the gait cycle) instead of time. \n",
    "\n",
    "> Based on the overlaid trial data you just examined, why is time normalization important for an analysis of gait cycle kinematics and kinetics?\n"
   ]
  },
  {
   "cell_type": "markdown",
   "id": "WFZLoPamhej1",
   "metadata": {
    "id": "WFZLoPamhej1"
   },
   "source": [
    "\n",
    "## Activate menus and select data\n",
    "\n",
    "Run the code cell below to activate the dropdown menus for selection of time-normalized data from a particular person, environment, and speed (note different selection options based on the environment chosen).\n",
    "  > NOTE: you should only need to run the code cell below once per active colab session to activate the dropdown menus. If you can change your selections, it is activated. You can change your selections at any time and load your selection using the \"Load DATASET\" code cell."
   ]
  },
  {
   "cell_type": "code",
   "execution_count": null,
   "id": "sBXsSYzc0vuq",
   "metadata": {
    "cellView": "form",
    "id": "sBXsSYzc0vuq",
    "tags": [
     "hide-input"
    ]
   },
   "outputs": [],
   "source": [
    "#@title {display-mode: \"form\"}\n",
    "\n",
    "#@markdown Activate Dropdown Menus if needed.\n",
    " \n",
    " \n",
    "w_subj_norm = widgets.Select(\n",
    "    options=['select person (01-42)'] + [format(x,'02d') for x in range(1,43,1)],\n",
    "    value='select person (01-42)',\n",
    "    # rows=10,\n",
    "    disabled=False\n",
    ")\n",
    "w_env_norm = widgets.Select(\n",
    "    options=['select environment','Overland','Treadmill'],\n",
    "    value='select environment',\n",
    "    rows=3,disabled=False\n",
    ")\n",
    "w_Ospeed_norm = widgets.Select(\n",
    "    options=['select speed for overland','Comfortable','Fast','Slow'],\n",
    "    value='select speed for overland',\n",
    "    rows=4,disabled=False\n",
    ")\n",
    "w_Tspeed_norm = widgets.Select(\n",
    "    options=['select speed for treadmill (01-08)'] + [format(x,'02d') for x in range(1,9,1)],\n",
    "    value='select speed for treadmill (01-08)',\n",
    "    rows=5,disabled=False\n",
    ")\n",
    "display(w_subj_norm,w_env_norm,w_Ospeed_norm,w_Tspeed_norm)\n",
    "\n",
    "print('Dropdowns generated at ' + str(datetime.now(timezone(-timedelta(hours=5)))))\n",
    "\n"
   ]
  },
  {
   "cell_type": "markdown",
   "id": "6498b820-ddc1-4f6e-8b1c-e891d82909d3",
   "metadata": {
    "id": "BPpUAFtHP3ME"
   },
   "source": [
    "## Load DATASET\n",
    "\n",
    "Once you have made your selection, then load the dataset.\n"
   ]
  },
  {
   "cell_type": "code",
   "execution_count": null,
   "id": "a85042a9-32e5-4fac-b149-bba220625566",
   "metadata": {
    "cellView": "form",
    "id": "a85042a9-32e5-4fac-b149-bba220625566",
    "tags": [
     "hide-input"
    ]
   },
   "outputs": [],
   "source": [
    "#@title {display-mode: \"form\"}\n",
    "\n",
    "#@markdown Run this code cell to load the dataset you have selected\n",
    "#@markdown >Note: If you change your dataset selections (different person, environment, or speed)\n",
    "#@markdown , re-run this cell.\n",
    "\n",
    "\n",
    "if w_env_norm.value=='Overland':\n",
    "    speed = w_Ospeed_norm.value[0]\n",
    "\n",
    "if w_env_norm.value=='Treadmill':\n",
    "    speed = w_Tspeed_norm.value\n",
    "\n",
    "filename_norm = 'WBDS' + str(w_subj_norm.value) + 'walk' + w_env_norm.value[0] + speed \n",
    "\n",
    "filepath_norm = Path(datafolder) / (filename_norm + 'ang.txt')\n",
    "ang_norm = pd.read_csv(filepath_norm,sep = '\\t')\n",
    "print('Processed kinematics data loaded.')\n",
    "w_norm_ang = widgets.SelectMultiple(\n",
    "    options=list(ang_norm.columns)[1:],\n",
    "    rows=10)\n",
    "\n",
    "filepath_norm = Path(datafolder) / (filename_norm + 'knt.txt')\n",
    "grf_norm = pd.read_csv(filepath_norm,sep = '\\t')\n",
    "print('Processed ground fource data loaded.')\n",
    "w_norm_grf = widgets.SelectMultiple(\n",
    "    options=list(grf_norm.columns)[1:],\n",
    "    rows=10)\n",
    "print('')\n",
    "print('')\n",
    "print('Select which processed kinematics variables to plot from the following list (ctrl + click to select multiple).')\n",
    "display(w_norm_ang)\n",
    "print('')\n",
    "print('Select which processed ground force variables to plot from the following list (ctrl + click to select multiple).')\n",
    "display(w_norm_grf)\n",
    "\n"
   ]
  },
  {
   "cell_type": "markdown",
   "id": "ba4eb545-1a0a-4e1a-926c-1e444aa2d63f",
   "metadata": {
    "id": "31d41f94-24df-4420-ac7d-639a2b48b37e"
   },
   "source": [
    "## Kinematics \n",
    "\n",
    "You can select different kinematics variables and re-make the following plot as many times as you want without re-loading the dataset. "
   ]
  },
  {
   "cell_type": "code",
   "execution_count": null,
   "id": "63fe7251-ced4-476e-82c2-c6fbb9add56b",
   "metadata": {
    "cellView": "form",
    "id": "8ff3a3e7-6072-4957-affc-00ae78ee5888",
    "tags": [
     "hide-input"
    ]
   },
   "outputs": [],
   "source": [
    "#@title {display-mode: \"form\"}\n",
    "\n",
    "#@markdown Run this code cell to plot the selected kinematics variables\n",
    "\n",
    "fig = go.Figure()\n",
    "\n",
    "if len(w_norm_ang.value)>0:\n",
    "    for v in list(w_norm_ang.value):\n",
    "        fig.add_trace(go.Scatter(x = ang_norm['Time'], y = ang_norm[v],name=v))\n",
    "    print('Plot created at ' + str(datetime.now(timezone(-timedelta(hours=5)))))\n",
    "if len(w_norm_ang.value)==0:\n",
    "    print('Need to select measurements to plot')\n",
    "    print('Task not completed, but cell run at ' + str(datetime.now(timezone(-timedelta(hours=5)))))\n",
    "    \n",
    "fig.update_layout(xaxis_title=\"percent of gait cycle\", yaxis_title='angle (degrees)',width=800, height=500)"
   ]
  },
  {
   "cell_type": "markdown",
   "id": "718b2a6d-65c2-4c42-9e49-3838187b861f",
   "metadata": {
    "id": "80923d9b-7946-40ec-b795-838718d7a116"
   },
   "source": [
    "## Kinetics\n",
    "\n",
    "Select a subset of ground force measurements to examine. Note that the treadmill environment has more ground force measurement data than overland. "
   ]
  },
  {
   "cell_type": "code",
   "execution_count": null,
   "id": "d13ec64b-fd5b-416f-8863-a5388b89cd8e",
   "metadata": {
    "cellView": "form",
    "id": "497d8d55-d565-4e1a-a54e-c7da8ba2d772",
    "tags": [
     "hide-input"
    ]
   },
   "outputs": [],
   "source": [
    "#@title {display-mode: \"form\"}\n",
    "\n",
    "#@markdown Run this code cell to plot the ground reaction force measurements you selected.\n",
    "\n",
    "fig = go.Figure()\n",
    "\n",
    "if len(w_norm_grf.value)>0:\n",
    "    for v in list(w_norm_grf.value):\n",
    "        fig.add_trace(go.Scatter(x = grf_norm['Time'], y = grf_norm[v],name=v))\n",
    "    print('Plot created at ' + str(datetime.now(timezone(-timedelta(hours=5)))))\n",
    "if len(w_norm_grf.value)==0:\n",
    "    print('Need to select calculations to plot')\n",
    "    print('Task not completed, but cell run at ' + str(datetime.now(timezone(-timedelta(hours=5)))))\n",
    "    \n",
    "fig.update_layout(xaxis_title=\"percent of gait cycle\", yaxis_title='force',width=800, height=500)\n",
    "\n",
    "\n",
    "\n",
    "### TO PLOT BOTH KINEMATICS AND KINETICS ON SAME PLOT...\n",
    "# #@markdown Run this cell to plot your kinematic and kinetic selections.\n",
    "# fig = make_subplots(rows=2, cols=1,\n",
    "#                     shared_xaxes=True,\n",
    "#                     vertical_spacing=0.02)\n",
    "\n",
    "# if len(w_norm_ang.value)>0:\n",
    "#     for v in list(w_norm_ang.value):\n",
    "#         fig.add_trace(go.Scatter(x = ang_norm['Time'], y = ang_norm[v],name=v),row=1,col=1)\n",
    "# if len(w_norm_ang.value)==0:\n",
    "#     print('Need to select markers to plot')\n",
    "\n",
    "# if len(w_norm_grf.value)>0:\n",
    "#     for v in list(w_norm_grf.value):\n",
    "#         fig.add_trace(go.Scatter(x = grf_norm['Time'], y = grf_norm[v],name=v),row=2,col=1)\n",
    "# if len(w_norm_grf.value)==0:\n",
    "#     print('Need to select markers to plot')\n",
    "\n",
    "# print('Data upload completed at ' + str(datetime.now(timezone(-timedelta(hours=5)))))\n",
    "\n",
    "# fig.update_layout(xaxis2_title=\"percent gait cycle\", yaxis_title='degrees',yaxis2_title='N/kg',\n",
    "#                   width=800, height=500)"
   ]
  },
  {
   "cell_type": "markdown",
   "id": "7ff15fe5-81a4-434d-af5f-77c244fc02c6",
   "metadata": {
    "cellView": "form",
    "id": "313cc807-5420-43f4-9a64-1a85a0f46f82",
    "tags": [
     "hide-input"
    ]
   },
   "source": [
    "### Ground reaction force vector direction (2D)"
   ]
  },
  {
   "cell_type": "code",
   "execution_count": null,
   "id": "COTaAuNIASQn",
   "metadata": {
    "cellView": "form",
    "id": "COTaAuNIASQn",
    "tags": [
     "hide-input"
    ]
   },
   "outputs": [],
   "source": [
    "#@markdown Run this cell to plot the ground reaction force vector direction \n",
    "#@markdown >Note: vector direction calculated in 2D (x,y) plane only.\n",
    "\n",
    "fig = go.Figure()\n",
    "rho,phi = cart2pol(grf_norm['RGRFX'],grf_norm['RGRFY'])\n",
    "fig.add_trace(go.Scatter(x = grf_norm['Time'], y = np.degrees(phi),\n",
    "                         name='right',mode='markers'))\n",
    "rho,phi = cart2pol(grf_norm['LGRFX'],grf_norm['LGRFY'])\n",
    "fig.add_trace(go.Scatter(x = grf_norm['Time'], y = np.degrees(phi),\n",
    "                         name='left',mode='markers'))\n",
    "fig.update_layout(xaxis_title=\"percent gait cycle\", yaxis_title='degrees',\n",
    "                  width=800, height=400)\n"
   ]
  },
  {
   "cell_type": "markdown",
   "id": "16afa4cf-d035-459a-be9c-00b901ac85aa",
   "metadata": {},
   "source": [
    "### Ground reaction force vector direction and magnitude"
   ]
  },
  {
   "cell_type": "code",
   "execution_count": null,
   "id": "qfYCI_DZATd-",
   "metadata": {
    "cellView": "form",
    "id": "qfYCI_DZATd-",
    "tags": [
     "hide-input"
    ]
   },
   "outputs": [],
   "source": [
    "#@markdown <b>Task:</b> Run this cell to make a polar plot \n",
    "#@markdown of the ground reaction force vector direction and magnitude (in 2D x,y plane).\n",
    "fig = go.Figure()\n",
    "fig.add_trace(go.Scatterpolar(\n",
    "        r = rho,\n",
    "        theta = np.degrees(phi),\n",
    "        mode = 'markers',\n",
    "        marker_color='black'))\n",
    "fig.update_layout(width=500, height=500)"
   ]
  },
  {
   "cell_type": "markdown",
   "id": "xRO4R-zOt8lw",
   "metadata": {
    "id": "xRO4R-zOt8lw"
   },
   "source": [
    "<hr>\n",
    "<br>\n",
    "\n",
    "## NICE WORK!\n",
    "\n",
    "<br>\n"
   ]
  },
  {
   "cell_type": "markdown",
   "id": "yUhHTXnys68I",
   "metadata": {
    "id": "yUhHTXnys68I"
   },
   "source": [
    "<hr>\n",
    "\n",
    "For users not in this course:\n",
    "This notebook assumes that you have access to the BIOL358 shared class drive in which the dataset from [Fukuchi et al (2018)](https://peerj.com/articles/4640/) has been stored. To change the filepath, or aquire the dataset via direct download (if that is possible), edit the first code cell in Step #2 (\"TASK: RUN this cell to set up the notebook (import packages, etc)\" and change the datafolder path variable. And/or edit the code cells in which the data is imported. "
   ]
  }
 ],
 "metadata": {
  "colab": {
   "collapsed_sections": [],
   "include_colab_link": true,
   "name": "NotebookColab_Kinematics_WBDSdataset.ipynb",
   "provenance": []
  },
  "kernelspec": {
   "display_name": "Python 3 (ipykernel)",
   "language": "python",
   "name": "python3"
  },
  "language_info": {
   "codemirror_mode": {
    "name": "ipython",
    "version": 3
   },
   "file_extension": ".py",
   "mimetype": "text/x-python",
   "name": "python",
   "nbconvert_exporter": "python",
   "pygments_lexer": "ipython3",
   "version": "3.8.13"
  },
  "widgets": {
   "application/vnd.jupyter.widget-state+json": {
    "state": {},
    "version_major": 2,
    "version_minor": 0
   }
  }
 },
 "nbformat": 4,
 "nbformat_minor": 5
}
