{
 "cells": [
  {
   "cell_type": "markdown",
   "metadata": {
    "colab_type": "text",
    "id": "view-in-github"
   },
   "source": [
    "<a href=\"https://colab.research.google.com/github/neurologic/Neurobiology-Movement/blob/main/executable/NotebookColab_CellTypes_InquiryAndAnalysis.ipynb\" target=\"_parent\"><img src=\"https://colab.research.google.com/assets/colab-badge.svg\" alt=\"Open In Colab\"/></a>"
   ]
  },
  {
   "cell_type": "markdown",
   "metadata": {
    "id": "xuep5VlcbM62"
   },
   "source": [
    "# Cell Types\n",
    "\n",
    "## The brain has thousands of different types of cells. \n",
    "\n",
    "Critically, different cell types serve different functions because they can perform different computations and have unique effects on circuit dynamics - why?. What makes them different? How do we even begin to tease them apart?\n",
    "\n",
    "![](https://canvas.brown.edu/courses/851434/files/38768331/preview?verifier=D6ZNKahSL6e9e6xh4GMAfbbSJK6ynSYYQwmcKBo8)\n",
    "\n",
    "We can define neurons by their <b>gene expression patterns</b>, <b>electrophysiology features</b>, and <b>structure</b>. Here, we'll use those three features to compare and contrast cell types in the brain.\n",
    "\n",
    "This notebook will help us investigate specific features in the electrophysiology dataset from the Allen Brain Atlas. \n",
    "\n",
    "## The Allen Institute DataBase\n",
    "\n",
    "### Targeting different cell types\n",
    "\n",
    "How did the Allen Institute actually distinguish between different cell types? To do so, they capitalized on the fact that different cells in the brain often express different genes. With genetic engineering, we can express glowing proteins (such as green fluorescent protein) in cells that express a specific gene. This approach takes advantage of an enzyme called [Cre recombinase](https://en.wikipedia.org/wiki/Cre_recombinase), which is found in bacteriophages, but not mammals. When we artificially express Cre recombinase in a specific cell type and include LoxP sites around our glowing protein, the Cre recombinase comes and flips those LoxP sites around, leading to protein expression and a gorgeous glowing neuron. This system is called the Cre-LoxP system and is one of the main tools that neuroscientists use to identify and target specific cells in the brain. You can learn more about the Cre-LoxP system [here](https://www.jax.org/news-and-insights/2006/may/the-cre-lox-and-flp-frt-systems).\n",
    "\n",
    "### Whole-cell patch clamp\n",
    "In order to listen to neurons, the Allen researchers guided glass electrodes towards their glowing neurons under a microscope. Instead of poking into the cell to listen to it, they lowered the electrode very close the cell, and created a tiny bit of suction to break the cell membrane. As a result, the internal cell space becomes continuous with the electrode and enables really clean recordings of the cell's activity. This technique is called whole-cell patch clamp. It's a tough technique, but one that has proven irreplaceable in our understanding of how cells communicate. You can watch a virtual tour of the Allen Institute's patch clamping [here](https://www.youtube.com/watch?v=TUoCQTwewVo&feature=youtu.be).\n",
    "\n",
    "### Characterizing the electrophysiology of cells\n",
    "You'll find many different metrics which describe what happened when the Allen researchers stimulated and recorded from different cells. Let's breakdown what a few of these properties are actually measuring:\n",
    "- vrest: resting membrane potential\n",
    "- upstroke-downstroke: ratio of action potential upstroke to downstroke\n",
    "- adaptation: the rate at which firing speeds up or slows down during a stimulus\n",
    "- avg_isi (average ISI): the mean value of all interspike intervals in a sweep\n",
    "- trough_v_short_square: minimum value of the membrane potential during the after-hyperpolarization in response to a short square input\n",
    "\n",
    "If you're curious about the other metrics you see, there is a [full glossary here](https://docs.google.com/document/d/1YGLwkMTebwrXd_1E817LFbztMjSTCWh83Mlp3_3ZMEo/edit?usp=sharing). You can also check the [detailed Allen Institute for Brain Science Documentation](http://help.brain-map.org/download/attachments/8323525/CellTypes_Ephys_Overview.pdf)."
   ]
  },
  {
   "cell_type": "markdown",
   "metadata": {
    "id": "xuep5VlcbM62"
   },
   "source": [
    "# Manual Database exploration\n",
    "\n",
    "Before we access the dataset programatically to perform meta-analyses in python, we’ll look at a few cells on the Allen Institute's online interface to get a feel for what the data looks like.\n",
    "\n",
    "Make a table like the following to keep track of the information as you go:\n",
    "\n",
    "| Property | Mouse | Human |\n",
    "|:---|:---:|:---:|\n",
    "| **Cre line** |  | N/A |\n",
    "| **Protein coded for by Cre line gene** |  | N/A |\n",
    "| **Area** |  | N/A |\n",
    "| **Layer** |  |  |\n",
    "| **Dendrite Type** |  |  |\n",
    "| **Resting Potential** |  |  |\n",
    "| **Minimum current to elicit an AP with the long square wave** |  |  |\n",
    "| **Minimum current to elicit an AP with the short square wave** |  |  |\n",
    "| **Adaptation Index** |  |  |\n",
    "\n",
    "1. Go to http://celltypes.brain-map.org/. Scroll down to “Download Single Cell Data and Models” and the section “Morphology and Electrophysiology” and click on [Electrophysiology Page](http://celltypes.brain-map.org/experiment/electrophysiology/474626527). This page shows us all of the electrophysiology data for one sample cell.\n",
    "2. On the top, you’ll see a Mouse Line, Brain Area, and Layer where this cell comes from. Note them in the first column of your Table.\n",
    "3. Go to https://www.ncbi.nlm.nih.gov/gene/ and search for the name of the gene that was used for this cell's Cre-driver line (in other words, the cells that they targeted to get this data had that gene, and therefore they also expressed Cre-recombinase). The Mouse Line tells us the Cre-driver line that was used (without -Cre). In the first column of your table, note what the Cre-driver gene codes for.\n",
    "4. This page also gives us some key details about the cell. In the first column of your table, note the cell's resting membrane potential.\n",
    "5. Click through the stimulus sweeps (the colored boxes) to find the first one that elicited an action potential (make sure \"*Long square*\" is selected from the stimulus dropdown menu. In the first column of your table, record the minimum stimulus amplitude required to elicit an action potential in this cell. \n",
    "  > Note: You should notice that this value is either very close or identical to the rheobase of the cell, as reported on the table on the top. As a reminder, the rheobase is defined as the minimum current needed to elicit an action potential. When the current is below the rheobase, an action potential will never occur regardless of how long the stimulation is.\n",
    "6. Click through to a stimulus sweep with a higher current injection. Does the cell adapt to the stimulus? In other words, does the space between spikes increase? Is there a metric here that would help quantify this? In the first column of your table, record that metric.\n",
    "7. Use the stimulus dropdown menu on the left to change the stimulus type to “*Short square*” (Square simply describes the shape of the stimulus, and it's a common way to inject current into cells. There are more details on the stimuli the Allen used [here](https://github.com/ajuavinett/CellTypesLesson/blob/master/docs/stimuli.png?raw=truehttps://github.com/ajuavinett/CellTypesLesson/blob/master/docs/stimuli.png?raw=true)). Look at how the current injection trace changes -- now, it's a shorter pulse. In the first column of your table, record the minimum current needed to elicit an action potential at this stimulus.\n",
    "  > \"Why would a longer stimulus require less current to elicit an action potential?\"\n",
    "8. Use the stimulus dropdown menu on the left to change the stimulus type to “Noise.” Take a look at the current injection trace to get an idea of what this stimulus looks like. Note the differences between the cell’s response to this stimulus versus the square wave pulses. \n",
    "  > Why would you want to inject a noisy current into the cell?\n",
    "9. Click on View Morphology on the right, to check out the morphology of this cell. Take note of the distribution of the axon and the dendrites. Close this window. In the first column of your table, note the dendrite type.\n",
    "10. Click on Cell Feature Search on the top right corner. Here, you can look through other cells in this dataset. Find a cell from *human* tissue that is in the same Layer and has the same Dendrite Type as the first cell you looked at. Use the data on that page to fill out the second column of your table.\n",
    "\n",
    "As you can probably appreciate at this point, pulling all of this data off of the website manually is rather tedious. If we work directly with the dataset, we can get all of these metrics and more."
   ]
  },
  {
   "cell_type": "markdown",
   "metadata": {
    "id": "AY9Rw4e0CKwA"
   },
   "source": [
    "# Setup\n",
    "\n",
    "The code cell below will install packages into your coding environment -- we are *not* installing anything on your computer.\n",
    "\n",
    "The Allen Institute has compiled a set of code and tools called a **Software Development Kit** (SDK). These tools will help us import and analyze the cell types data at the Allen Institute database. \n",
    "\n",
    "After you run the cell below, click the **Restart Runtime** button if it pops up, and then you're ready to proceed. "
   ]
  },
  {
   "cell_type": "code",
   "execution_count": null,
   "metadata": {
    "cellView": "form",
    "id": "l2abyXCNbM65",
    "tags": [
     "hide-input"
    ]
   },
   "outputs": [],
   "source": [
    "#@title {display-mode: \"form\"}\n",
    "\n",
    "#@markdown Run this cell to setup the notebook coding environment\n",
    "\n",
    "# This will ensure that the AllenSDK is installed.\n",
    "try:\n",
    "    import allensdk\n",
    "    print('allensdk imported')\n",
    "except ImportError as e:\n",
    "    !pip install allensdk\n",
    "\n",
    "\n",
    "import matplotlib.pyplot as plt\n",
    "import pandas as pd\n",
    "import numpy as np\n",
    "import seaborn as sns\n",
    "import scipy\n",
    "from scipy import signal\n",
    "from ipywidgets import widgets, interact, interactive,interactive_output\n",
    "from numpy import NaN\n",
    "\n",
    "import plotly.express as px\n",
    "import plotly.graph_objects as go\n",
    "from plotly.subplots import make_subplots\n",
    "\n",
    "# !gdown 11AcCK_nCvsJay02ty3Q39oot-huCKogm\n",
    "!wget -O ./manifest.json 'https://drive.google.com/uc?export=download&id=11AcCK_nCvsJay02ty3Q39oot-huCKogm'\n",
    "\n",
    "manifest_file = './manifest.json'\n",
    "\n",
    "#Import the \"Cell Types Cache\" from the AllenSDK core package\n",
    "from allensdk.core.cell_types_cache import CellTypesCache\n",
    "\n",
    "#Initialize the cache as 'ctc' (cell types cache)\n",
    "ctc = CellTypesCache(manifest_file)\n",
    "\n",
    "print('CellTypesCache imported.')"
   ]
  },
  {
   "cell_type": "markdown",
   "metadata": {
    "id": "iw4f1pJKD35f"
   },
   "source": [
    "<i>Note</i>: At some points throughout this notebook, you may get an `H5pyDeprecationWarning`, but don't worry about it. This is out of our control. :)"
   ]
  },
  {
   "cell_type": "markdown",
   "metadata": {},
   "source": [
    "# Examine pre-computed features Across Many Cells\n",
    "\n",
    "The Cell Types Database contains a set of electrophysiology features that have already been computed for each cell. This serves as good starting points for analysis. We can query the database to get these features.\n",
    "\n",
    "[Here's a glossary](https://drive.google.com/file/d/1ImWFZ5CvBErp7abHAqJlw9VvNJqyVgjd/view?usp=sharing).\n",
    "\n",
    "![](https://github.com/ajuavinett/CellTypesLesson/blob/master/docs/ap_features.png?raw=true)\n",
    "<br>Image from the <a href=\"http://help.brain-map.org/download/attachments/8323525/CellTypes_Ephys_Overview.pdf\">Allen Institute Cell Types Database Technical Whitepaper.</a>\n",
    "<br><br>"
   ]
  },
  {
   "cell_type": "markdown",
   "metadata": {
    "id": "20W6b6G-MGRH"
   },
   "source": [
    "## Compare Intrinsic Features\n",
    "\n",
    "Different neuron types can be distinguished by specific combinations of intrinsic physiology and morphology. This section enables you to examine the relationship between pairs of intrinsic features and visualize how those features correlate with dendritic morphology. \n",
    "\n",
    "Cells with spiny dendrites are typically excitatory cells. Cells with aspiny dendrites are typically inhibitory cells. We can query the database for dendrite type and use that information to color a scatterplot of intrinsic physiology features.\n",
    "\n",
    "First, examine the relationship between the speed of the action potential trough, and the ratio between the upstroke and downstroke of the action potential:\n",
    "- **Action potential fast trough** (<code>fast_trough_v_long_square</code>): Minimum value of the membrane potential in the interval lasting 5 ms after the peak.\n",
    "- **Upstroke/downstroke ratio** (<code>upstroke_downstroke_ratio_long_square</code>)</b>: The ratio between the absolute values of the action potential peak upstroke and the action potential peak downstroke.</div>\n",
    "\n",
    "Select these two variables from the dropdown below after running the code cell."
   ]
  },
  {
   "cell_type": "code",
   "execution_count": null,
   "metadata": {
    "cellView": "form",
    "id": "kumOhmyUbM69",
    "tags": [
     "hide-input"
    ]
   },
   "outputs": [],
   "source": [
    "#@title {display-mode: \"form\"}\n",
    "\n",
    "#@markdown Run this cell to create a queriable dataframe of \n",
    "#@markdown all the measured and calculated intrinsic features.\n",
    "#@markdown > NOTE: It may take a minute or two to run. Once you create the dropdown menu, \n",
    "#@markdown you will not need to re-run the code cell to change your selections.\n",
    "\n",
    "# No need to edit below this line\n",
    "################################\n",
    "\n",
    "# Download all electrophysiology features for all cells\n",
    "ephys_features = ctc.get_ephys_features()\n",
    "dataframe = pd.DataFrame(ephys_features).set_index('specimen_id')\n",
    "\n",
    "# Get information about our cells' dendrites\n",
    "cells = ctc.get_cells()\n",
    "full_dataframe = dataframe.join(pd.DataFrame(cells).set_index('id'))\n",
    "\n",
    "print('Ephys features available for %d cells:' % len(full_dataframe))\n",
    "# full_dataframe.head() # Just show the first 5 rows (the head) of our dataframe \n",
    "\n",
    "print('you can investigate the following electrophysiolgoy features:')\n",
    "\n",
    "w_vars = widgets.SelectMultiple(\n",
    "    options=list(dataframe.columns),\n",
    "    rows=10,disabled=False\n",
    ")\n",
    "display(w_vars)\n",
    "# print('Dropdowns generated at ' + str(datetime.now(timezone(-timedelta(hours=5)))))"
   ]
  },
  {
   "cell_type": "code",
   "execution_count": null,
   "metadata": {
    "cellView": "form",
    "id": "ZnASgoGgbM6-",
    "tags": [
     "hide-input"
    ]
   },
   "outputs": [],
   "source": [
    "#@title {display-mode: \"form\"}\n",
    "\n",
    "#@markdown Run this cell to create a scatterplot of the two selected parameters\n",
    "\n",
    "'''without dendrite type\n",
    "# first_selection = dataframe[w_vars.value[0]]\n",
    "# second_selection = dataframe[w_vars.value[1]]\n",
    "\n",
    "# fig = go.Figure()\n",
    "# # make_subplots(rows=2,cols=1,shared_xaxes=True,\n",
    "# #                     vertical_spacing=0.2)\n",
    "# fig.add_trace(go.Scatter(x = first_selection, y = second_selection,\n",
    "#                          opacity=0.5,\n",
    "#                          line_color='black',mode='markers'))\n",
    "\n",
    "# fig.update_layout(xaxis_title=w_vars.value[0], \n",
    "#                   yaxis_title=w_vars.value[1],\n",
    "#                   width=450, height=450)\n",
    "# fig.show()\n",
    "'''\n",
    "\n",
    "\n",
    "# Create a dataframe for spiny cells, and a dataframe for aspiny cells\n",
    "spiny_df = full_dataframe[full_dataframe['dendrite_type'] == 'spiny']\n",
    "aspiny_df = full_dataframe[full_dataframe['dendrite_type'] == 'aspiny']\n",
    "\n",
    "if len(w_vars.value)==2:\n",
    "    first_selection = spiny_df[w_vars.value[0]]\n",
    "    second_selection = spiny_df[w_vars.value[1]]\n",
    "\n",
    "    fig = go.Figure()\n",
    "    # make_subplots(rows=2,cols=1,shared_xaxes=True,\n",
    "    #                     vertical_spacing=0.2)\n",
    "    first_selection = spiny_df[w_vars.value[0]]\n",
    "    second_selection = spiny_df[w_vars.value[1]]\n",
    "    fig.add_trace(go.Scatter(x = first_selection, y = second_selection,\n",
    "                             opacity=0.5,name='spiny',\n",
    "                             line_color='purple',mode='markers'))\n",
    "    first_selection = aspiny_df[w_vars.value[0]]\n",
    "    second_selection = aspiny_df[w_vars.value[1]]\n",
    "    fig.add_trace(go.Scatter(x = first_selection, y = second_selection,\n",
    "                             opacity=0.5,name='aspiny',\n",
    "                             line_color='orange',mode='markers'))\n",
    "\n",
    "    fig.update_layout(xaxis_title=w_vars.value[0], \n",
    "                      yaxis_title=w_vars.value[1],\n",
    "                      width=450, height=450)\n",
    "    fig.show()\n",
    "\n",
    "    print('you plotted the following two features:')\n",
    "\n",
    "    w_selected = widgets.Select(\n",
    "        options=w_vars.value,\n",
    "        disabled=False\n",
    "    )\n",
    "    display(w_selected)\n",
    "\n",
    "if len(w_vars.value)!=2:\n",
    "    print('Uh Oh... you must select two features from the dropdown menu before you can generate the plot.')\n",
    "    \n",
    "# print('Dropdowns generated at ' + str(datetime.now(timezone(-timedelta(hours=5)))))"
   ]
  },
  {
   "cell_type": "markdown",
   "metadata": {
    "id": "43CFE-LdbM6-"
   },
   "source": [
    "It looks like there may be roughly two clusters in the data when comparing the upstroke-downstroke ratio and the fast trough voltage. Do the clusters based on these two parameters relate to whether the cells are spiny or aspiny?"
   ]
  },
  {
   "cell_type": "markdown",
   "metadata": {
    "id": "AvdaSWv5bM6-"
   },
   "source": [
    "## Compare Action Potential Waveforms\n",
    "\n",
    "Now take a closer look to see what these features actually mean for the action potential waveform. Choose one of the two features you just plotted from the dropdown below the figure. Hover your mouse over the plot to get the feature value for two cells (each dot in the scatter corresponds to one cell). Pick cells with values near each end of the spectrum."
   ]
  },
  {
   "cell_type": "code",
   "execution_count": null,
   "metadata": {
    "cellView": "form",
    "id": "2IKhBSOoIUJb",
    "tags": [
     "hide-input"
    ]
   },
   "outputs": [],
   "source": [
    "#@title {display-mode: \"form\"}\n",
    "\n",
    "#@markdown Specify the feature value for each of two cells. Then run this code cell to plot their action potential waveforms.\n",
    "\n",
    "value_1 =  None#@param {type:\"number\"} \n",
    "value_2 = None #@param {type:\"number\"} \n",
    "cell1_id = dataframe[w_selected.value].sub(value_1).abs().idxmin()\n",
    "cell2_id = dataframe[w_selected.value].sub(value_2).abs().idxmin()\n",
    "\n",
    "win = 0.01\n",
    "cell_data = ctc.get_ephys_data(cell1_id)\n",
    "# spkt = cell_data.get_spike_times(rheobase_sweep_cell1)\n",
    "print('Cell #1 ID with %s = %.4f is: %i' %(w_selected.value,value_1,cell1_id))\n",
    "Ival = cell_data.get_sweep_metadata(dataframe.loc[cell1_id].rheobase_sweep_number)['aibs_stimulus_amplitude_pa']\n",
    "print('rheobase current = %i pA' %Ival)\n",
    "print('')\n",
    "\n",
    "sweep = cell_data.get_sweep(dataframe.loc[cell1_id].rheobase_sweep_number)\n",
    "spkt = cell_data.get_spike_times(dataframe.loc[cell1_id].rheobase_sweep_number)[0]\n",
    "spk_1 = sweep['response'][int((spkt-win)*sweep['sampling_rate']): int((spkt+win)*sweep['sampling_rate'])]*1e3\n",
    "time_1 = np.linspace(-win, win, len(spk_1))*1e3\n",
    "\n",
    "\n",
    "cell_data = ctc.get_ephys_data(cell2_id)\n",
    "print('Cell #2 ID with %s = %.4f is: %i' %(w_selected.value,value_2,cell2_id))\n",
    "Ival = cell_data.get_sweep_metadata(dataframe.loc[cell2_id].rheobase_sweep_number)['aibs_stimulus_amplitude_pa']\n",
    "print('rheobase current = %i pA' %Ival)\n",
    "\n",
    "# spkt = cell_data.get_spike_times(rheobase_sweep_cell1)\n",
    "sweep = cell_data.get_sweep(dataframe.loc[cell2_id].rheobase_sweep_number)\n",
    "spkt = cell_data.get_spike_times(dataframe.loc[cell2_id].rheobase_sweep_number)[0]\n",
    "spk_2 = sweep['response'][int((spkt-win)*sweep['sampling_rate']): int((spkt+win)*sweep['sampling_rate'])]*1e3\n",
    "time_2 = np.linspace(-win, win, len(spk_2))*1e3\n",
    "\n",
    "fig = make_subplots(rows=2,cols=1,shared_xaxes=True) #go.Figure()\n",
    "fig.add_trace(go.Scatter(x = time_1, y = spk_1,\n",
    "                         name='cell 1',\n",
    "                         line_color='black',mode='lines'),row=1,col=1)\n",
    "fig.add_trace(go.Scatter(x = time_2, y = spk_2,\n",
    "                         name='cell 2',\n",
    "                         line_color='black',mode='lines'),row=2,col=1)\n",
    "fig.update_layout(yaxis_title='mV cell 1', \n",
    "                  yaxis2_title='mV cell 2',\n",
    "                  xaxis2_title='time (ms)',\n",
    "                  showlegend=False,\n",
    "                  width=400, height=500)\n",
    "fig.show()\n",
    "\n",
    "\n",
    "# Create a dataframe for spiny cells, and a dataframe for aspiny cells\n",
    "spiny_df = full_dataframe[full_dataframe['dendrite_type'] == 'spiny']\n",
    "aspiny_df = full_dataframe[full_dataframe['dendrite_type'] == 'aspiny']\n",
    "\n",
    "first_selection = spiny_df[w_vars.value[0]]\n",
    "second_selection = spiny_df[w_vars.value[1]]\n",
    "\n",
    "fig = go.Figure()\n",
    "# make_subplots(rows=2,cols=1,shared_xaxes=True,\n",
    "#                     vertical_spacing=0.2)\n",
    "first_selection = spiny_df[w_vars.value[0]]\n",
    "second_selection = spiny_df[w_vars.value[1]]\n",
    "fig.add_trace(go.Scatter(x = first_selection, y = second_selection,\n",
    "                         opacity=0.5,name='spiny',\n",
    "                         line_color='purple',mode='markers'))\n",
    "first_selection = aspiny_df[w_vars.value[0]]\n",
    "second_selection = aspiny_df[w_vars.value[1]]\n",
    "fig.add_trace(go.Scatter(x = first_selection, y = second_selection,\n",
    "                         opacity=0.5,name='aspiny',\n",
    "                         line_color='orange',mode='markers'))\n",
    "fig.add_trace(go.Scatter(\n",
    "    x = [dataframe.loc[cell1_id][w_vars.value[0]]],\n",
    "    y = [dataframe.loc[cell1_id][w_vars.value[1]]],\n",
    "    mode='markers',marker_symbol='x',name='cell 1',\n",
    "    marker_size=10,marker_color='black'\n",
    "))\n",
    "\n",
    "fig.add_trace(go.Scatter(\n",
    "    x = [dataframe.loc[cell2_id][w_vars.value[0]]],\n",
    "    y = [dataframe.loc[cell2_id][w_vars.value[1]]],\n",
    "    mode='markers',marker_symbol='star',name='cell 2',\n",
    "    marker_size=10,marker_color='black'\n",
    "))\n",
    "\n",
    "fig.update_layout(xaxis_title=w_vars.value[0], \n",
    "                  yaxis_title=w_vars.value[1],\n",
    "                  width=450, height=450)\n",
    "fig.show()\n"
   ]
  },
  {
   "cell_type": "markdown",
   "metadata": {
    "id": "Fwh0CXv3bM6_"
   },
   "source": [
    "You can explore the relationship among different parameters by changing your selections in the dropdown menu then re-running the subsequent code cells to examine the scatter and action potential plots. \n"
   ]
  },
  {
   "cell_type": "markdown",
   "metadata": {
    "id": "bdhFnV0fnamB"
   },
   "source": [
    "## Compare cortical layers\n",
    "\n",
    "Different cortical layers tend to be comprised of different cell types. This may be because different layers perform different computations or functions. Can you find cortical layers that are distinct in a particular electrophysiological feature?\n",
    "\n",
    "<!-- You might be asking yourself some questions as you examine your comparisons, such as: \n",
    "\n",
    "- Do differences among cortical layers in this feature correspond to differences in action potential physiology? \n",
    "- Do cells from different cortical layers differ in their action potential physiology even though they are similar in the above parameter?\n",
    "- What makes more of a difference in determining a neuron's action potential physiology - the layer in which it is found or the value of a particular physiological feature?\n",
    "- etc...\n",
    "\n",
    "To answer these questions, select, from the cortical layers in the dropdown above, whichever you want to compare spike waveforms for. Then run the cell below. -->\n",
    "\n",
    "\n",
    "Once you run the code cell below, choose a set of cortical layers and an intrinsic physiology feature to see the distribution of that feature within each layer. \n",
    "  > Remember that the glossary of pre-computed features can be found [here](https://docs.google.com/document/d/1YGLwkMTebwrXd_1E817LFbztMjSTCWh83Mlp3_3ZMEo/edit?usp=sharing)).\n",
    "\n",
    "You can select specific features to compare, or you can keep changing your selection until a unique layer(s) or feature pops out at you.\n",
    "  > Note that with a single layer and feature selected, you can see the cell ID that has the median feature value for that layer. "
   ]
  },
  {
   "cell_type": "code",
   "execution_count": null,
   "metadata": {
    "tags": [
     "hide-input"
    ]
   },
   "outputs": [],
   "source": [
    "#@title {display-mode: \"form\"}\n",
    "\n",
    "#@markdown Run this cell to explore the variance in physiology between cortical layers. \n",
    "\n",
    "select_layer = widgets.SelectMultiple(\n",
    "    options=full_dataframe['structure_layer_name'].unique(), # start with a single trial on a single bout... it will update when runs ; old: np.arange(len(trial_times)),\n",
    "    value=[full_dataframe['structure_layer_name'].unique()[0]],\n",
    "    #rows=10,\n",
    "    description='Cortical Layer(s)',\n",
    "    style = {'description_width': '200px'},\n",
    "    disabled=False\n",
    ")\n",
    "\n",
    "select_feature = widgets.Select(\n",
    "    options=list(dataframe.columns), # start with a single trial on a single bout... it will update when runs ; old: np.arange(len(trial_times)),\n",
    "    value=list(dataframe.columns)[0],\n",
    "    #rows=10,\n",
    "    description='Feature',\n",
    "    style = {'description_width': '200px'},\n",
    "    disabled=False\n",
    ")\n",
    "\n",
    "median_readout = widgets.Label(\n",
    "    value=f'Layer {NaN} cell ID {NaN} has a median value {NaN}'\n",
    ")\n",
    "median_readout.layout.width = '800px'\n",
    "\n",
    "# iei_text = widgets.Text(\n",
    "#     value='0.005',\n",
    "#     placeholder='0.005',\n",
    "#     description='cell data',\n",
    "#     style = {'description_width': '200px'},\n",
    "#     disabled=False\n",
    "# )\n",
    "\n",
    "def update_plot(layer_,feature_):\n",
    "    fig, ax = plt.subplots(figsize=(10,5),num=1); #specify figure number so that it does not keep creating new ones\n",
    "    \n",
    "    sns.kdeplot(feature_, \n",
    "                 data = full_dataframe[full_dataframe['structure_layer_name'].isin(layer_)],\n",
    "                 hue='structure_layer_name',\n",
    "               warn_singular=False)\n",
    "    \n",
    "    \n",
    "    for col in layer_:\n",
    "        mask = full_dataframe['structure_layer_name']==col\n",
    "        parameter_value = np.nanmedian(dataframe.loc[mask,feature_])\n",
    "        cell_id = dataframe.loc[mask,feature_].sub(parameter_value).abs().idxmin()\n",
    "    # cell_data = ctc.get_ephys_data(cell_id);\n",
    "        median_readout.value=f'Layer {col} cell ID {cell_id} has a median value {parameter_value}'\n",
    "        # print('Layer %s cell with %s = %.4f is: %i' %(col,w_vars_2.value,parameter_value,cell_id))\n",
    "    # Ival = cell_data.get_sweep_metadata(dataframe.loc[cell_id].rheobase_sweep_number)['aibs_stimulus_amplitude_pa']\n",
    "    # print('rheobase current = %i pA' %Ival)\n",
    "    # print('')\n",
    "    \n",
    "#     for col in layer_:\n",
    "#         mask = full_dataframe['structure_layer_name']==col\n",
    "#         ephys = dataframe.loc[mask,feature_]\n",
    "#         medval = np.nanmedian(ephys)\n",
    "\n",
    "#         ax.hist(ephys,label='layer' + col,alpha=0.5)\n",
    "        \n",
    "#     plt.legend()\n",
    "\n",
    "\n",
    "w_cortical_layers_ = interactive(update_plot, layer_=select_layer, \n",
    "                        feature_=select_feature);\n",
    "display(w_cortical_layers_,median_readout)"
   ]
  },
  {
   "cell_type": "markdown",
   "metadata": {
    "id": "fS_K1BqSbM6_"
   },
   "source": [
    "<hr>\n",
    "\n",
    "# That's it for today -- great work!"
   ]
  },
  {
   "cell_type": "code",
   "execution_count": null,
   "metadata": {
    "cellView": "form",
    "id": "_PVDqWFFbM6_",
    "tags": [
     "hide-input"
    ]
   },
   "outputs": [],
   "source": [
    "#@title {display-mode: \"form\"}\n",
    "\n",
    "#@markdown RUN this cell to celebrate\n",
    "from IPython.display import HTML\n",
    "print('Nice work!')\n",
    "HTML('<img src=\"https://media.giphy.com/media/xUOwGhOrYP0jP6iAy4/giphy.gif\">')"
   ]
  },
  {
   "cell_type": "markdown",
   "metadata": {
    "id": "hSSVyrKAbM6_"
   },
   "source": [
    "-----------\n",
    "\n",
    "# Technical notes & credits\n",
    "\n",
    "See [Technical Notes](#technical) for more information about working with the AllenSDK.\n",
    "\n",
    "This notebook demonstrates most of the features of the AllenSDK that help manipulate data in the Cell Types Database.  The main entry point will be through the `CellTypesCache` class. `CellTypesCache` is responsible for downloading Cell Types Database data to a standard directory structure on your hard drive.  If you use this class, you will not have to keep track of where your data lives, other than a root directory.\n",
    "\n",
    "Much more information can be found in the <a href=\"http://help.brain-map.org/download/attachments/8323525/CellTypes_Ephys_Overview.pdf\">Allen Brain Atlas whitepaper</a> as well as in their <a href=\"http://alleninstitute.github.io/AllenSDK/cell_types.html\">GitHub documentation</a>.\n",
    "\n",
    "This file modified from <a href='https://alleninstitute.github.io/AllenSDK/_static/examples/nb/cell_types.html'>this</a> notebook.\n",
    "\n",
    "You can always Google questions you have!)"
   ]
  },
  {
   "cell_type": "markdown",
   "metadata": {},
   "source": [
    "# Unused sections"
   ]
  },
  {
   "cell_type": "markdown",
   "metadata": {},
   "source": [
    "## Action potential of cells from each layer"
   ]
  },
  {
   "cell_type": "code",
   "execution_count": null,
   "metadata": {
    "cellView": "form",
    "id": "lO4IhFvrfo83",
    "tags": [
     "hide-input"
    ]
   },
   "outputs": [],
   "source": [
    "#@title {display-mode: \"form\"}\n",
    "\n",
    "#@markdown Run this cell to plot the action potential \n",
    "#@markdown for a 'canonical' (median value) cell from each specified layer\n",
    "#@markdown for the selected parameter.\n",
    "# parameter_value =  0.08#@param {type:\"number\"} \n",
    "# value_2 =  1.93#@param {type:\"number\"} \n",
    "\n",
    "fig = go.Figure()\n",
    "for col in w_selected_2.value:\n",
    "  mask = full_dataframe['structure_layer_name']==col\n",
    "  parameter_value = np.nanmedian(dataframe.loc[mask,w_vars_2.value])\n",
    "  cell_id = dataframe.loc[mask,w_vars_2.value].sub(parameter_value).abs().idxmin()\n",
    "\n",
    "  win = 0.01\n",
    "  cell_data = ctc.get_ephys_data(cell_id);\n",
    "  # spkt = cell_data.get_spike_times(rheobase_sweep_cell1)\n",
    "  print('')\n",
    "  print('Layer %s cell with %s = %.4f is: %i' %(col,w_vars_2.value,parameter_value,cell_id))\n",
    "  Ival = cell_data.get_sweep_metadata(dataframe.loc[cell_id].rheobase_sweep_number)['aibs_stimulus_amplitude_pa']\n",
    "  print('rheobase current = %i pA' %Ival)\n",
    "  print('')\n",
    "\n",
    "  sweep = cell_data.get_sweep(dataframe.loc[cell_id].rheobase_sweep_number)\n",
    "  spkt = cell_data.get_spike_times(dataframe.loc[cell_id].rheobase_sweep_number)[0]\n",
    "  spk = sweep['response'][int((spkt-win)*sweep['sampling_rate']): int((spkt+win)*sweep['sampling_rate'])]*1e3\n",
    "  time = np.linspace(-win, win, len(spk))*1e3\n",
    "\n",
    "  fig.add_trace(go.Scatter(x = time, y = spk,\n",
    "                         name='layer ' + col,mode='lines'))\n",
    "\n",
    "fig.update_layout(yaxis_title='mV', \n",
    "                  xaxis_title='time (ms)',\n",
    "                  width=600, height=450)\n",
    "fig.show()\n",
    "\n"
   ]
  },
  {
   "cell_type": "markdown",
   "metadata": {
    "id": "zxCFwyfhmLYS"
   },
   "source": [
    "## Neuron diversity among layers\n",
    "\n",
    "Here, we are visualizing action potential physiology of the canonical (median) neuron for each layer based on a electrophysiological parameter. However, there is cell-type diversity within layers as well. You can explore this diversity extensively in an orderly and efficient manner by writing custom code to query the Allen Database. However, even without any coding experience, you can begin explore this diversity by:\n",
    "1. going to the [\"Cell Feature Search\"](https://celltypes.brain-map.org/data) page at the Allen Institute\n",
    "2. selecting specific layers and/or brain regions\n",
    "3. sorting the neurons in that layer in ascending/descending order based on a specific parameter \n",
    "4. browsing the thumbnail images\n",
    "5. clicking on individual thumbnails to see more detail  "
   ]
  },
  {
   "cell_type": "markdown",
   "metadata": {
    "id": "OlUQ4C6myi2H"
   },
   "source": [
    "## Plot individual sweeps from the website\n",
    "\n",
    "Using this cell, you can plot specific sweeps from any cell in the database using the cell's ID (cell_id) and the number of the sweep (sweep_number). "
   ]
  },
  {
   "cell_type": "code",
   "execution_count": null,
   "metadata": {
    "cellView": "form",
    "id": "IEEHIjmkxqNq",
    "tags": [
     "hide-input"
    ]
   },
   "outputs": [],
   "source": [
    "#@title {display-mode: \"form\"}\n",
    "\n",
    "#@markdown Enter the information needed in this form \n",
    "#@markdown and then run the code cell to plot the sweep from that neuron.\n",
    "#@markdown >Note: You can change the figure size (re-run the code cell after changing)\n",
    "cell_id =  None #@param {type:\"number\"} \n",
    "sweep_number = None #@param {type:\"number\"} \n",
    "figure_width = 500 #@param {type:\"number\"} \n",
    "figure_height = 450 #@param {type:\"number\"} \n",
    "\n",
    "cell_data = ctc.get_ephys_data(cell1_id)\n",
    "sweep = cell_data.get_sweep(sweep_number)\n",
    "\n",
    "fig = make_subplots(rows=2, cols=1, \n",
    "                    row_heights=[0.7, 0.3]\n",
    "                    ,shared_xaxes=True) # go.Figure()\n",
    "\n",
    "voltage = sweep['response']*1e3\n",
    "new_fs = 5000\n",
    "step = int(sweep['sampling_rate']/new_fs)\n",
    "voltage_rs = voltage[0::step]\n",
    "time = np.linspace(0,len(voltage)/sweep['sampling_rate'],len(voltage_rs))\n",
    "\n",
    "fig.add_trace(go.Scatter(x = time, y = voltage_rs,\n",
    "                         line_color='black',mode='lines'),\n",
    "              row=1,col=1)\n",
    "\n",
    "current = sweep['stimulus']*1e12\n",
    "new_fs = 500\n",
    "step = int(sweep['sampling_rate']/new_fs)\n",
    "current_rs = current[0::step]\n",
    "time = np.linspace(0,len(current)/sweep['sampling_rate'],len(current_rs))\n",
    "\n",
    "fig.add_trace(go.Scatter(x = time, y = current_rs,\n",
    "                         line_color='black',mode='lines'),\n",
    "              row=2,col=1)\n",
    "\n",
    "fig.update_layout(yaxis_title='mV', \n",
    "                  yaxis2_title='pA',\n",
    "                  xaxis2_title='time (s)',\n",
    "                  showlegend=False,\n",
    "                  width=figure_width, height=figure_height)\n",
    "fig.show()"
   ]
  }
 ],
 "metadata": {
  "colab": {
   "collapsed_sections": [],
   "include_colab_link": true,
   "name": "NotebookColab_CellTypes_InquiryAndAnalysis.ipynb",
   "provenance": []
  },
  "kernelspec": {
   "display_name": "Python 3 (ipykernel)",
   "language": "python",
   "name": "python3"
  },
  "language_info": {
   "codemirror_mode": {
    "name": "ipython",
    "version": 3
   },
   "file_extension": ".py",
   "mimetype": "text/x-python",
   "name": "python",
   "nbconvert_exporter": "python",
   "pygments_lexer": "ipython3",
   "version": "3.8.13"
  },
  "widgets": {
   "application/vnd.jupyter.widget-state+json": {
    "state": {},
    "version_major": 2,
    "version_minor": 0
   }
  }
 },
 "nbformat": 4,
 "nbformat_minor": 4
}
