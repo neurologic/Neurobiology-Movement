{
 "cells": [
  {
   "cell_type": "markdown",
   "metadata": {
    "colab_type": "text",
    "id": "view-in-github"
   },
   "source": [
    "<a href=\"https://colab.research.google.com/github/neurologic/Neurobiology-Movement/blob/main/executable/NotebookColab_CellTypes_InquiryAndAnalysis.ipynb\" target=\"_parent\"><img src=\"https://colab.research.google.com/assets/colab-badge.svg\" alt=\"Open In Colab\"/></a>"
   ]
  },
  {
   "cell_type": "markdown",
   "metadata": {
    "id": "xuep5VlcbM62"
   },
   "source": [
    "# Cell Types\n",
    "\n",
    "## The brain has thousands of different types of cells. \n",
    "\n",
    "Critically, different cell types serve different functions because they can perform different computations and have unique effects on circuit dynamics - why?. What makes them different? How do we even begin to tease them apart?\n",
    "\n",
    "![](https://canvas.brown.edu/courses/851434/files/38768331/preview?verifier=D6ZNKahSL6e9e6xh4GMAfbbSJK6ynSYYQwmcKBo8)\n",
    "\n",
    "We can define neurons by their <b>gene expression patterns</b>, <b>electrophysiology features</b>, and <b>structure</b>. Here, we'll use those three features to compare and contrast cell types in the brain.\n",
    "\n",
    "This notebook will help us investigate specific features in the electrophysiology dataset from the Allen Brain Atlas. \n",
    "\n",
    "## The Allen Institute DataBase\n",
    "\n",
    "### Targeting different cell types\n",
    "\n",
    "How did the Allen Institute actually distinguish between different cell types? To do so, they capitalized on the fact that different cells in the brain often express different genes. With genetic engineering, we can express glowing proteins (such as green fluorescent protein) in cells that express a specific gene. This approach takes advantage of an enzyme called [Cre recombinase](https://en.wikipedia.org/wiki/Cre_recombinase), which is found in bacteriophages, but not mammals. When we artificially express Cre recombinase in a specific cell type and include LoxP sites around our glowing protein, the Cre recombinase comes and flips those LoxP sites around, leading to protein expression and a gorgeous glowing neuron. This system is called the Cre-LoxP system and is one of the main tools that neuroscientists use to identify and target specific cells in the brain. You can learn more about the Cre-LoxP system [here](https://www.jax.org/news-and-insights/2006/may/the-cre-lox-and-flp-frt-systems).\n",
    "\n",
    "### Whole-cell patch clamp\n",
    "In order to listen to neurons, the Allen researchers guided glass electrodes towards their glowing neurons under a microscope. Instead of poking into the cell to listen to it, they lowered the electrode very close the cell, and created a tiny bit of suction to break the cell membrane. As a result, the internal cell space becomes continuous with the electrode and enables really clean recordings of the cell's activity. This technique is called whole-cell patch clamp. It's a tough technique, but one that has proven irreplaceable in our understanding of how cells communicate. You can watch a virtual tour of the Allen Institute's patch clamping [here](https://www.youtube.com/watch?v=TUoCQTwewVo&feature=youtu.be).\n",
    "\n",
    "### Characterizing the electrophysiology of cells\n",
    "You'll find many different metrics which describe what happened when the Allen researchers stimulated and recorded from different cells. Let's breakdown what a few of these properties are actually measuring:\n",
    "- vrest: resting membrane potential\n",
    "- upstroke-downstroke: ratio of action potential upstroke to downstroke\n",
    "- adaptation: the rate at which firing speeds up or slows down during a stimulus\n",
    "- avg_isi (average ISI): the mean value of all interspike intervals in a sweep\n",
    "- trough_v_short_square: minimum value of the membrane potential during the after-hyperpolarization in response to a short square input\n",
    "\n",
    "If you're curious about the other metrics you see, there is a [full glossary here](https://docs.google.com/document/d/1YGLwkMTebwrXd_1E817LFbztMjSTCWh83Mlp3_3ZMEo/edit?usp=sharing). You can also check the [detailed Allen Institute for Brain Science Documentation](http://help.brain-map.org/download/attachments/8323525/CellTypes_Ephys_Overview.pdf)."
   ]
  },
  {
   "cell_type": "markdown",
   "metadata": {
    "id": "xuep5VlcbM62"
   },
   "source": [
    "# Manual Database exploration\n",
    "\n",
    "Before we access the dataset programatically to perform meta-analyses in python, we’ll look at a few cells on the Allen Institute's online interface to get a feel for what the data looks like.\n",
    "\n",
    "Make a table like the following to keep track of the information as you go:\n",
    "\n",
    "| Property | Mouse | Human |\n",
    "|:---|:---:|:---:|\n",
    "| **Cre line** |  | N/A |\n",
    "| **Protein coded for by Cre line gene** |  | N/A |\n",
    "| **Area** |  | N/A |\n",
    "| **Layer** |  |  |\n",
    "| **Dendrite Type** |  |  |\n",
    "| **Resting Potential** |  |  |\n",
    "| **Minimum current to elicit an AP with the long square wave** |  |  |\n",
    "| **Minimum current to elicit an AP with the short square wave** |  |  |\n",
    "| **Adaptation Index** |  |  |\n",
    "\n",
    "1. Go to http://celltypes.brain-map.org/. Scroll down to “Download Single Cell Data and Models” and the section “Morphology and Electrophysiology” and click on [Electrophysiology Page](http://celltypes.brain-map.org/experiment/electrophysiology/474626527). This page shows us all of the electrophysiology data for one sample cell.\n",
    "2. On the top, you’ll see a Mouse Line, Brain Area, and Layer where this cell comes from. Note them in the first column of your Table.\n",
    "3. Go to https://www.ncbi.nlm.nih.gov/gene/ and search for the name of the gene that was used for this cell's Cre-driver line (in other words, the cells that they targeted to get this data had that gene, and therefore they also expressed Cre-recombinase). The Mouse Line tells us the Cre-driver line that was used (without -Cre). In the first column of your table, note what the Cre-driver gene codes for.\n",
    "4. This page also gives us some key details about the cell. In the first column of your table, note the cell's resting membrane potential.\n",
    "5. Click through the stimulus sweeps (the colored boxes) to find the first one that elicited an action potential (make sure \"*Long square*\" is selected from the stimulus dropdown menu. In the first column of your table, record the minimum stimulus amplitude required to elicit an action potential in this cell. \n",
    "  > Note: You should notice that this value is either very close or identical to the rheobase of the cell, as reported on the table on the top. As a reminder, the rheobase is defined as the minimum current needed to elicit an action potential. When the current is below the rheobase, an action potential will never occur regardless of how long the stimulation is.\n",
    "6. Click through to a stimulus sweep with a higher current injection. Does the cell adapt to the stimulus? In other words, does the space between spikes increase? Is there a metric here that would help quantify this? In the first column of your table, record that metric.\n",
    "7. Use the stimulus dropdown menu on the left to change the stimulus type to “*Short square*” (Square simply describes the shape of the stimulus, and it's a common way to inject current into cells. There are more details on the stimuli the Allen used [here](https://github.com/ajuavinett/CellTypesLesson/blob/master/docs/stimuli.png?raw=truehttps://github.com/ajuavinett/CellTypesLesson/blob/master/docs/stimuli.png?raw=true)). Look at how the current injection trace changes -- now, it's a shorter pulse. In the first column of your table, record the minimum current needed to elicit an action potential at this stimulus.\n",
    "  > \"Why would a longer stimulus require less current to elicit an action potential?\"\n",
    "8. Use the stimulus dropdown menu on the left to change the stimulus type to “Noise.” Take a look at the current injection trace to get an idea of what this stimulus looks like. Note the differences between the cell’s response to this stimulus versus the square wave pulses. \n",
    "  > Why would you want to inject a noisy current into the cell?\n",
    "9. Click on View Morphology on the right, to check out the morphology of this cell. Take note of the distribution of the axon and the dendrites. Close this window. In the first column of your table, note the dendrite type.\n",
    "10. Click on Cell Feature Search on the top right corner. Here, you can look through other cells in this dataset. Find a cell from *human* tissue that is in the same Layer and has the same Dendrite Type as the first cell you looked at. Use the data on that page to fill out the second column of your table.\n",
    "\n",
    "As you can probably appreciate at this point, pulling all of this data off of the website manually is rather tedious. If we work directly with the dataset, we can get all of these metrics and more."
   ]
  },
  {
   "cell_type": "markdown",
   "metadata": {
    "id": "AY9Rw4e0CKwA"
   },
   "source": [
    "# Setup\n",
    "\n",
    "The code cell below will install packages into your coding environment -- we are *not* installing anything on your computer.\n",
    "\n",
    "The Allen Institute has compiled a set of code and tools called a **Software Development Kit** (SDK). These tools will help us import and analyze the cell types data at the Allen Institute database. \n",
    "\n",
    "After you run the cell below, click the **Restart Runtime** button if it pops up, and then you're ready to proceed. "
   ]
  },
  {
   "cell_type": "code",
   "execution_count": 1,
   "metadata": {
    "cellView": "form",
    "id": "l2abyXCNbM65",
    "tags": [
     "hide-input"
    ]
   },
   "outputs": [
    {
     "name": "stdout",
     "output_type": "stream",
     "text": [
      "allensdk imported\n",
      "--2023-01-21 16:01:47--  https://drive.google.com/uc?export=download&id=11AcCK_nCvsJay02ty3Q39oot-huCKogm\n",
      "Resolving drive.google.com (drive.google.com)... 142.251.40.142, 2607:f8b0:4006:816::200e\n",
      "Connecting to drive.google.com (drive.google.com)|142.251.40.142|:443... connected.\n",
      "HTTP request sent, awaiting response... 303 See Other\n",
      "Location: https://doc-0c-88-docs.googleusercontent.com/docs/securesc/ha0ro937gcuc7l7deffksulhg5h7mbp1/u4c53lr35mp44tf196pj0rjk9hi550hi/1674334875000/11118389411424303278/*/11AcCK_nCvsJay02ty3Q39oot-huCKogm?e=download&uuid=d79add7c-c4d1-4328-9ab3-3779a55ea1d2 [following]\n",
      "Warning: wildcards not supported in HTTP.\n",
      "--2023-01-21 16:01:48--  https://doc-0c-88-docs.googleusercontent.com/docs/securesc/ha0ro937gcuc7l7deffksulhg5h7mbp1/u4c53lr35mp44tf196pj0rjk9hi550hi/1674334875000/11118389411424303278/*/11AcCK_nCvsJay02ty3Q39oot-huCKogm?e=download&uuid=d79add7c-c4d1-4328-9ab3-3779a55ea1d2\n",
      "Resolving doc-0c-88-docs.googleusercontent.com (doc-0c-88-docs.googleusercontent.com)... 2607:f8b0:4006:80c::2001, 142.251.40.193\n",
      "Connecting to doc-0c-88-docs.googleusercontent.com (doc-0c-88-docs.googleusercontent.com)|2607:f8b0:4006:80c::2001|:443... connected.\n",
      "HTTP request sent, awaiting response... 200 OK\n",
      "Length: 1110 (1.1K) [application/json]\n",
      "Saving to: ‘./manifest.json’\n",
      "\n",
      "./manifest.json     100%[===================>]   1.08K  --.-KB/s    in 0s      \n",
      "\n",
      "2023-01-21 16:01:49 (14.9 MB/s) - ‘./manifest.json’ saved [1110/1110]\n",
      "\n",
      "CellTypesCache imported.\n"
     ]
    }
   ],
   "source": [
    "#@title {display-mode: \"form\"}\n",
    "\n",
    "#@markdown Run this cell to setup the notebook coding environment\n",
    "\n",
    "# This will ensure that the AllenSDK is installed.\n",
    "try:\n",
    "    import allensdk\n",
    "    print('allensdk imported')\n",
    "except ImportError as e:\n",
    "    !pip install allensdk\n",
    "\n",
    "\n",
    "import matplotlib.pyplot as plt\n",
    "import pandas as pd\n",
    "import numpy as np\n",
    "import seaborn as sns\n",
    "import scipy\n",
    "from scipy import signal\n",
    "from ipywidgets import widgets, interact, interactive,interactive_output\n",
    "from numpy import NaN\n",
    "\n",
    "import plotly.express as px\n",
    "import plotly.graph_objects as go\n",
    "from plotly.subplots import make_subplots\n",
    "\n",
    "# !gdown 11AcCK_nCvsJay02ty3Q39oot-huCKogm\n",
    "!wget -O ./manifest.json 'https://drive.google.com/uc?export=download&id=11AcCK_nCvsJay02ty3Q39oot-huCKogm'\n",
    "\n",
    "manifest_file = './manifest.json'\n",
    "\n",
    "#Import the \"Cell Types Cache\" from the AllenSDK core package\n",
    "from allensdk.core.cell_types_cache import CellTypesCache\n",
    "\n",
    "#Initialize the cache as 'ctc' (cell types cache)\n",
    "ctc = CellTypesCache(manifest_file)\n",
    "\n",
    "print('CellTypesCache imported.')"
   ]
  },
  {
   "cell_type": "markdown",
   "metadata": {
    "id": "iw4f1pJKD35f"
   },
   "source": [
    "<i>Note</i>: At some points throughout this notebook, you may get an `H5pyDeprecationWarning`, but don't worry about it. This is out of our control. :)"
   ]
  },
  {
   "cell_type": "markdown",
   "metadata": {},
   "source": [
    "# Examine pre-computed features Across Many Cells\n",
    "\n",
    "The Cell Types Database contains a set of electrophysiology features that have already been computed for each cell. This serves as good starting points for analysis. We can query the database to get these features.\n",
    "\n",
    "[Here's a glossary](https://drive.google.com/file/d/1ImWFZ5CvBErp7abHAqJlw9VvNJqyVgjd/view?usp=sharing).\n",
    "\n",
    "![](https://github.com/ajuavinett/CellTypesLesson/blob/master/docs/ap_features.png?raw=true)\n",
    "<br>Image from the <a href=\"http://help.brain-map.org/download/attachments/8323525/CellTypes_Ephys_Overview.pdf\">Allen Institute Cell Types Database Technical Whitepaper.</a>\n",
    "<br><br>"
   ]
  },
  {
   "cell_type": "markdown",
   "metadata": {
    "id": "20W6b6G-MGRH"
   },
   "source": [
    "## Compare Intrinsic Features\n",
    "\n",
    "Different neuron types can be distinguished by specific combinations of intrinsic physiology and morphology. This section enables you to examine the relationship between pairs of intrinsic features and visualize how those features correlate with dendritic morphology. \n",
    "\n",
    "Cells with spiny dendrites are typically excitatory cells. Cells with aspiny dendrites are typically inhibitory cells. We can query the database for dendrite type and use that information to color a scatterplot of intrinsic physiology features.\n",
    "\n",
    "First, examine the relationship between the speed of the action potential trough, and the ratio between the upstroke and downstroke of the action potential:\n",
    "- **Action potential fast trough** (<code>fast_trough_v_long_square</code>): Minimum value of the membrane potential in the interval lasting 5 ms after the peak.\n",
    "- **Upstroke/downstroke ratio** (<code>upstroke_downstroke_ratio_long_square</code>)</b>: The ratio between the absolute values of the action potential peak upstroke and the action potential peak downstroke.</div>\n",
    "\n",
    "Select these two variables from the dropdown below after running the code cell.\n",
    "  > Once you create the dropdown menu, you will not need to re-run the code cell to change your selections."
   ]
  },
  {
   "cell_type": "code",
   "execution_count": 2,
   "metadata": {
    "cellView": "form",
    "id": "kumOhmyUbM69",
    "tags": [
     "hide-input"
    ]
   },
   "outputs": [
    {
     "name": "stdout",
     "output_type": "stream",
     "text": [
      "Ephys features available for 2333 cells:\n",
      "you can investigate the following electrophysiolgoy features:\n"
     ]
    },
    {
     "data": {
      "application/vnd.jupyter.widget-view+json": {
       "model_id": "4e1c3caa25b14bffa419aa914c6b8f40",
       "version_major": 2,
       "version_minor": 0
      },
      "text/plain": [
       "SelectMultiple(options=('adaptation', 'avg_isi', 'electrode_0_pa', 'f_i_curve_slope', 'fast_trough_t_long_squa…"
      ]
     },
     "metadata": {},
     "output_type": "display_data"
    }
   ],
   "source": [
    "#@markdown Run this cell to create a queriable dataframe of \n",
    "#@markdown all the measured and calculated intrinsic features.\n",
    "#@markdown > NOTE: It may take a minute or two to run.\n",
    "\n",
    "# No need to edit below this line\n",
    "################################\n",
    "\n",
    "# Download all electrophysiology features for all cells\n",
    "ephys_features = ctc.get_ephys_features()\n",
    "dataframe = pd.DataFrame(ephys_features).set_index('specimen_id')\n",
    "\n",
    "# Get information about our cells' dendrites\n",
    "cells = ctc.get_cells()\n",
    "full_dataframe = dataframe.join(pd.DataFrame(cells).set_index('id'))\n",
    "\n",
    "print('Ephys features available for %d cells:' % len(full_dataframe))\n",
    "# full_dataframe.head() # Just show the first 5 rows (the head) of our dataframe \n",
    "\n",
    "print('you can investigate the following electrophysiolgoy features:')\n",
    "\n",
    "w_vars = widgets.SelectMultiple(\n",
    "    options=list(dataframe.columns),\n",
    "    rows=10,disabled=False\n",
    ")\n",
    "display(w_vars)\n",
    "# print('Dropdowns generated at ' + str(datetime.now(timezone(-timedelta(hours=5)))))"
   ]
  },
  {
   "cell_type": "code",
   "execution_count": 9,
   "metadata": {
    "cellView": "form",
    "id": "ZnASgoGgbM6-",
    "tags": [
     "hide-input"
    ]
   },
   "outputs": [
    {
     "name": "stdout",
     "output_type": "stream",
     "text": [
      "you must select two features to plot\n"
     ]
    }
   ],
   "source": [
    "#@markdown Run this cell to create a scatterplot of the two selected parameters\n",
    "\n",
    "'''without dendrite type\n",
    "# first_selection = dataframe[w_vars.value[0]]\n",
    "# second_selection = dataframe[w_vars.value[1]]\n",
    "\n",
    "# fig = go.Figure()\n",
    "# # make_subplots(rows=2,cols=1,shared_xaxes=True,\n",
    "# #                     vertical_spacing=0.2)\n",
    "# fig.add_trace(go.Scatter(x = first_selection, y = second_selection,\n",
    "#                          opacity=0.5,\n",
    "#                          line_color='black',mode='markers'))\n",
    "\n",
    "# fig.update_layout(xaxis_title=w_vars.value[0], \n",
    "#                   yaxis_title=w_vars.value[1],\n",
    "#                   width=450, height=450)\n",
    "# fig.show()\n",
    "'''\n",
    "\n",
    "\n",
    "# Create a dataframe for spiny cells, and a dataframe for aspiny cells\n",
    "spiny_df = full_dataframe[full_dataframe['dendrite_type'] == 'spiny']\n",
    "aspiny_df = full_dataframe[full_dataframe['dendrite_type'] == 'aspiny']\n",
    "\n",
    "if len(w_vars.value)==2:\n",
    "    first_selection = spiny_df[w_vars.value[0]]\n",
    "    second_selection = spiny_df[w_vars.value[1]]\n",
    "\n",
    "    fig = go.Figure()\n",
    "    # make_subplots(rows=2,cols=1,shared_xaxes=True,\n",
    "    #                     vertical_spacing=0.2)\n",
    "    first_selection = spiny_df[w_vars.value[0]]\n",
    "    second_selection = spiny_df[w_vars.value[1]]\n",
    "    fig.add_trace(go.Scatter(x = first_selection, y = second_selection,\n",
    "                             opacity=0.5,name='spiny',\n",
    "                             line_color='purple',mode='markers'))\n",
    "    first_selection = aspiny_df[w_vars.value[0]]\n",
    "    second_selection = aspiny_df[w_vars.value[1]]\n",
    "    fig.add_trace(go.Scatter(x = first_selection, y = second_selection,\n",
    "                             opacity=0.5,name='aspiny',\n",
    "                             line_color='orange',mode='markers'))\n",
    "\n",
    "    fig.update_layout(xaxis_title=w_vars.value[0], \n",
    "                      yaxis_title=w_vars.value[1],\n",
    "                      width=450, height=450)\n",
    "    fig.show()\n",
    "\n",
    "    print('you plotted the following two features:')\n",
    "\n",
    "    w_selected = widgets.Select(\n",
    "        options=w_vars.value,\n",
    "        disabled=False\n",
    "    )\n",
    "    display(w_selected)\n",
    "\n",
    "if len(w_vars.value)!=2:\n",
    "    print('Uh Oh... you must select two features from the dropdown menu before you can generate the plot.')\n",
    "    \n",
    "# print('Dropdowns generated at ' + str(datetime.now(timezone(-timedelta(hours=5)))))"
   ]
  },
  {
   "cell_type": "markdown",
   "metadata": {
    "id": "43CFE-LdbM6-"
   },
   "source": [
    "It looks like there may be roughly two clusters in the data when comparing the upstroke-downstroke ratio and the fast trough voltage. Do the clusters based on these two parameters relate to whether the cells are spiny or aspiny?"
   ]
  },
  {
   "cell_type": "markdown",
   "metadata": {
    "id": "AvdaSWv5bM6-"
   },
   "source": [
    "## Compare Action Potential Waveforms\n",
    "\n",
    "Now take a closer look to see what these features actually mean for the action potential waveform. Choose one of the two features you just plotted from the dropdown below the figure. Hover your mouse over the plot to get the feature value for two cells (each dot in the scatter corresponds to one cell). Pick cells with values near each end of the spectrum."
   ]
  },
  {
   "cell_type": "code",
   "execution_count": null,
   "metadata": {
    "cellView": "form",
    "id": "2IKhBSOoIUJb",
    "tags": [
     "hide-input"
    ]
   },
   "outputs": [],
   "source": [
    "#@markdown Specify the parameter value for each of two cells. Then run this code cell to plot their action potential waveforms.\n",
    "\n",
    "value_1 =  None#@param {type:\"number\"} \n",
    "value_2 = None #@param {type:\"number\"} \n",
    "cell1_id = dataframe[w_selected.value].sub(value_1).abs().idxmin()\n",
    "cell2_id = dataframe[w_selected.value].sub(value_2).abs().idxmin()\n",
    "\n",
    "win = 0.01\n",
    "cell_data = ctc.get_ephys_data(cell1_id)\n",
    "# spkt = cell_data.get_spike_times(rheobase_sweep_cell1)\n",
    "print('Cell #1 ID with %s = %.4f is: %i' %(w_selected.value,value_1,cell1_id))\n",
    "Ival = cell_data.get_sweep_metadata(dataframe.loc[cell1_id].rheobase_sweep_number)['aibs_stimulus_amplitude_pa']\n",
    "print('rheobase current = %i pA' %Ival)\n",
    "print('')\n",
    "\n",
    "sweep = cell_data.get_sweep(dataframe.loc[cell1_id].rheobase_sweep_number)\n",
    "spkt = cell_data.get_spike_times(dataframe.loc[cell1_id].rheobase_sweep_number)[0]\n",
    "spk_1 = sweep['response'][int((spkt-win)*sweep['sampling_rate']): int((spkt+win)*sweep['sampling_rate'])]*1e3\n",
    "time_1 = np.linspace(-win, win, len(spk_1))*1e3\n",
    "\n",
    "\n",
    "cell_data = ctc.get_ephys_data(cell2_id)\n",
    "print('Cell #2 ID with %s = %.4f is: %i' %(w_selected.value,value_2,cell2_id))\n",
    "Ival = cell_data.get_sweep_metadata(dataframe.loc[cell2_id].rheobase_sweep_number)['aibs_stimulus_amplitude_pa']\n",
    "print('rheobase current = %i pA' %Ival)\n",
    "\n",
    "# spkt = cell_data.get_spike_times(rheobase_sweep_cell1)\n",
    "sweep = cell_data.get_sweep(dataframe.loc[cell2_id].rheobase_sweep_number)\n",
    "spkt = cell_data.get_spike_times(dataframe.loc[cell2_id].rheobase_sweep_number)[0]\n",
    "spk_2 = sweep['response'][int((spkt-win)*sweep['sampling_rate']): int((spkt+win)*sweep['sampling_rate'])]*1e3\n",
    "time_2 = np.linspace(-win, win, len(spk_2))*1e3\n",
    "\n",
    "fig = make_subplots(rows=2,cols=1,shared_xaxes=True) #go.Figure()\n",
    "fig.add_trace(go.Scatter(x = time_1, y = spk_1,\n",
    "                         name='cell 1',\n",
    "                         line_color='black',mode='lines'),row=1,col=1)\n",
    "fig.add_trace(go.Scatter(x = time_2, y = spk_2,\n",
    "                         name='cell 2',\n",
    "                         line_color='black',mode='lines'),row=2,col=1)\n",
    "fig.update_layout(yaxis_title='mV cell 1', \n",
    "                  yaxis2_title='mV cell 2',\n",
    "                  xaxis2_title='time (ms)',\n",
    "                  showlegend=False,\n",
    "                  width=400, height=500)\n",
    "fig.show()\n",
    "\n",
    "\n",
    "# Create a dataframe for spiny cells, and a dataframe for aspiny cells\n",
    "spiny_df = full_dataframe[full_dataframe['dendrite_type'] == 'spiny']\n",
    "aspiny_df = full_dataframe[full_dataframe['dendrite_type'] == 'aspiny']\n",
    "\n",
    "first_selection = spiny_df[w_vars.value[0]]\n",
    "second_selection = spiny_df[w_vars.value[1]]\n",
    "\n",
    "fig = go.Figure()\n",
    "# make_subplots(rows=2,cols=1,shared_xaxes=True,\n",
    "#                     vertical_spacing=0.2)\n",
    "first_selection = spiny_df[w_vars.value[0]]\n",
    "second_selection = spiny_df[w_vars.value[1]]\n",
    "fig.add_trace(go.Scatter(x = first_selection, y = second_selection,\n",
    "                         opacity=0.5,name='spiny',\n",
    "                         line_color='purple',mode='markers'))\n",
    "first_selection = aspiny_df[w_vars.value[0]]\n",
    "second_selection = aspiny_df[w_vars.value[1]]\n",
    "fig.add_trace(go.Scatter(x = first_selection, y = second_selection,\n",
    "                         opacity=0.5,name='aspiny',\n",
    "                         line_color='orange',mode='markers'))\n",
    "fig.add_trace(go.Scatter(\n",
    "    x = [dataframe.loc[cell1_id][w_vars.value[0]]],\n",
    "    y = [dataframe.loc[cell1_id][w_vars.value[1]]],\n",
    "    mode='markers',marker_symbol='x',name='cell 1',\n",
    "    marker_size=10,marker_color='black'\n",
    "))\n",
    "\n",
    "fig.add_trace(go.Scatter(\n",
    "    x = [dataframe.loc[cell2_id][w_vars.value[0]]],\n",
    "    y = [dataframe.loc[cell2_id][w_vars.value[1]]],\n",
    "    mode='markers',marker_symbol='star',name='cell 2',\n",
    "    marker_size=10,marker_color='black'\n",
    "))\n",
    "\n",
    "fig.update_layout(xaxis_title=w_vars.value[0], \n",
    "                  yaxis_title=w_vars.value[1],\n",
    "                  width=450, height=450)\n",
    "fig.show()\n"
   ]
  },
  {
   "cell_type": "markdown",
   "metadata": {
    "id": "Fwh0CXv3bM6_"
   },
   "source": [
    "A difference in even just one intrinsic neural property can mean that the action potential shape differs dramatically. \n",
    "\n",
    "You can explore the relationship among different parameters by changing your selections in the dropdown menu then re-running the subsequent code cells to examine the scatter and action potential plots. \n"
   ]
  },
  {
   "cell_type": "markdown",
   "metadata": {
    "id": "bdhFnV0fnamB"
   },
   "source": [
    "## Compare cortical layers\n",
    "\n",
    "Different cortical layers tend to be comprised of different cell types. This may be because different layers perform different computations or functions. Can you find cortical layers that are distinct in a particular electrophysiological feature?\n",
    "\n",
    "<!-- You might be asking yourself some questions as you examine your comparisons, such as: \n",
    "\n",
    "- Do differences among cortical layers in this feature correspond to differences in action potential physiology? \n",
    "- Do cells from different cortical layers differ in their action potential physiology even though they are similar in the above parameter?\n",
    "- What makes more of a difference in determining a neuron's action potential physiology - the layer in which it is found or the value of a particular physiological feature?\n",
    "- etc...\n",
    "\n",
    "To answer these questions, select, from the cortical layers in the dropdown above, whichever you want to compare spike waveforms for. Then run the cell below. -->\n",
    "\n",
    "\n",
    "Once you run the code cell below, choose a set of cortical layers and an intrinsic physiology feature to see the distribution of that feature within each layer. \n",
    "  > Remember that the glossary of pre-computed features can be found [here](https://docs.google.com/document/d/1YGLwkMTebwrXd_1E817LFbztMjSTCWh83Mlp3_3ZMEo/edit?usp=sharing)).\n",
    "\n",
    "You can select specific features to compare, or you can keep changing your selection until a unique layer(s) or feature pops out at you.\n",
    "  > Note that with a single layer and feature selected, you can see the cell ID that has the median feature value for that layer. "
   ]
  },
  {
   "cell_type": "code",
   "execution_count": 59,
   "metadata": {},
   "outputs": [
    {
     "data": {
      "application/vnd.jupyter.widget-view+json": {
       "model_id": "821726979f274d6f8b23d885f3a43198",
       "version_major": 2,
       "version_minor": 0
      },
      "text/plain": [
       "interactive(children=(SelectMultiple(description='Cortical Layer(s)', index=(0,), options=('3', '5', '2/3', '4…"
      ]
     },
     "metadata": {},
     "output_type": "display_data"
    },
    {
     "data": {
      "application/vnd.jupyter.widget-view+json": {
       "model_id": "5088cf34c26e44c09e5b71acfa8b1690",
       "version_major": 2,
       "version_minor": 0
      },
      "text/plain": [
       "Label(value='Layer 3 cell ID 539547437 has a median value 0.0741839770307473', layout=Layout(width='800px'))"
      ]
     },
     "metadata": {},
     "output_type": "display_data"
    }
   ],
   "source": [
    "#@title {display-mode: \"form\"}\n",
    "\n",
    "#@markdown Run this cell to explore the variance in physiology between cortical layers. \n",
    "\n",
    "select_layer = widgets.SelectMultiple(\n",
    "    options=full_dataframe['structure_layer_name'].unique(), # start with a single trial on a single bout... it will update when runs ; old: np.arange(len(trial_times)),\n",
    "    value=[full_dataframe['structure_layer_name'].unique()[0]],\n",
    "    #rows=10,\n",
    "    description='Cortical Layer(s)',\n",
    "    style = {'description_width': '200px'},\n",
    "    disabled=False\n",
    ")\n",
    "\n",
    "select_feature = widgets.Select(\n",
    "    options=list(dataframe.columns), # start with a single trial on a single bout... it will update when runs ; old: np.arange(len(trial_times)),\n",
    "    value=list(dataframe.columns)[0],\n",
    "    #rows=10,\n",
    "    description='Feature',\n",
    "    style = {'description_width': '200px'},\n",
    "    disabled=False\n",
    ")\n",
    "\n",
    "median_readout = widgets.Label(\n",
    "    value=f'Layer {NaN} cell ID {NaN} has a median value {NaN}'\n",
    ")\n",
    "median_readout.layout.width = '800px'\n",
    "\n",
    "# iei_text = widgets.Text(\n",
    "#     value='0.005',\n",
    "#     placeholder='0.005',\n",
    "#     description='cell data',\n",
    "#     style = {'description_width': '200px'},\n",
    "#     disabled=False\n",
    "# )\n",
    "\n",
    "def update_plot(layer_,feature_):\n",
    "    fig, ax = plt.subplots(figsize=(10,5),num=1); #specify figure number so that it does not keep creating new ones\n",
    "    \n",
    "    sns.kdeplot(feature_, \n",
    "                 data = full_dataframe[full_dataframe['structure_layer_name'].isin(layer_)],\n",
    "                 hue='structure_layer_name',\n",
    "               warn_singular=False)\n",
    "    \n",
    "    \n",
    "    for col in layer_:\n",
    "        mask = full_dataframe['structure_layer_name']==col\n",
    "        parameter_value = np.nanmedian(dataframe.loc[mask,feature_])\n",
    "        cell_id = dataframe.loc[mask,w_vars_2.value].sub(parameter_value).abs().idxmin()\n",
    "    # cell_data = ctc.get_ephys_data(cell_id);\n",
    "        median_readout.value=f'Layer {col} cell ID {cell_id} has a median value {parameter_value}'\n",
    "        # print('Layer %s cell with %s = %.4f is: %i' %(col,w_vars_2.value,parameter_value,cell_id))\n",
    "    # Ival = cell_data.get_sweep_metadata(dataframe.loc[cell_id].rheobase_sweep_number)['aibs_stimulus_amplitude_pa']\n",
    "    # print('rheobase current = %i pA' %Ival)\n",
    "    # print('')\n",
    "    \n",
    "#     for col in layer_:\n",
    "#         mask = full_dataframe['structure_layer_name']==col\n",
    "#         ephys = dataframe.loc[mask,feature_]\n",
    "#         medval = np.nanmedian(ephys)\n",
    "\n",
    "#         ax.hist(ephys,label='layer' + col,alpha=0.5)\n",
    "        \n",
    "#     plt.legend()\n",
    "\n",
    "\n",
    "w_cortical_layers_ = interactive(update_plot, layer_=select_layer, \n",
    "                        feature_=select_feature);\n",
    "display(w_cortical_layers_,median_readout)"
   ]
  },
  {
   "cell_type": "markdown",
   "metadata": {
    "id": "fS_K1BqSbM6_"
   },
   "source": [
    "<hr>\n",
    "\n",
    "# That's it for today -- great work!"
   ]
  },
  {
   "cell_type": "code",
   "execution_count": null,
   "metadata": {
    "cellView": "form",
    "id": "_PVDqWFFbM6_",
    "tags": [
     "hide-input"
    ]
   },
   "outputs": [],
   "source": [
    "#@markdown RUN this cell to celebrate\n",
    "from IPython.display import HTML\n",
    "print('Nice work!')\n",
    "HTML('<img src=\"https://media.giphy.com/media/xUOwGhOrYP0jP6iAy4/giphy.gif\">')"
   ]
  },
  {
   "cell_type": "markdown",
   "metadata": {
    "id": "hSSVyrKAbM6_"
   },
   "source": [
    "-----------\n",
    "\n",
    "# Technical notes & credits\n",
    "\n",
    "See [Technical Notes](#technical) for more information about working with the AllenSDK.\n",
    "\n",
    "This notebook demonstrates most of the features of the AllenSDK that help manipulate data in the Cell Types Database.  The main entry point will be through the `CellTypesCache` class. `CellTypesCache` is responsible for downloading Cell Types Database data to a standard directory structure on your hard drive.  If you use this class, you will not have to keep track of where your data lives, other than a root directory.\n",
    "\n",
    "Much more information can be found in the <a href=\"http://help.brain-map.org/download/attachments/8323525/CellTypes_Ephys_Overview.pdf\">Allen Brain Atlas whitepaper</a> as well as in their <a href=\"http://alleninstitute.github.io/AllenSDK/cell_types.html\">GitHub documentation</a>.\n",
    "\n",
    "This file modified from <a href='https://alleninstitute.github.io/AllenSDK/_static/examples/nb/cell_types.html'>this</a> notebook.\n",
    "\n",
    "You can always Google questions you have!)"
   ]
  },
  {
   "cell_type": "markdown",
   "metadata": {},
   "source": [
    "# Unused sections"
   ]
  },
  {
   "cell_type": "markdown",
   "metadata": {},
   "source": [
    "## Action potential of cells from each layer"
   ]
  },
  {
   "cell_type": "code",
   "execution_count": 15,
   "metadata": {
    "cellView": "form",
    "id": "lO4IhFvrfo83",
    "tags": [
     "hide-input"
    ]
   },
   "outputs": [
    {
     "name": "stderr",
     "output_type": "stream",
     "text": [
      "2023-01-21 16:40:05,308 allensdk.api.api.retrieve_file_over_http INFO     Downloading URL: http://api.brain-map.org/api/v2/well_known_file_download/616987833\n"
     ]
    },
    {
     "name": "stdout",
     "output_type": "stream",
     "text": [
      "\n",
      "Layer 6 cell with input_resistance_mohm = 124.7019 is: 567738879\n",
      "rheobase current = 69 pA\n",
      "\n"
     ]
    },
    {
     "data": {
      "application/vnd.plotly.v1+json": {
       "config": {
        "plotlyServerURL": "https://plot.ly"
       },
       "data": [
        {
         "mode": "lines",
         "name": "layer 6",
         "type": "scatter",
         "x": [
          -10,
          -9.97997997997998,
          -9.95995995995996,
          -9.93993993993994,
          -9.91991991991992,
          -9.8998998998999,
          -9.87987987987988,
          -9.85985985985986,
          -9.83983983983984,
          -9.81981981981982,
          -9.7997997997998,
          -9.77977977977978,
          -9.75975975975976,
          -9.73973973973974,
          -9.71971971971972,
          -9.6996996996997,
          -9.67967967967968,
          -9.65965965965966,
          -9.63963963963964,
          -9.61961961961962,
          -9.5995995995996,
          -9.57957957957958,
          -9.55955955955956,
          -9.53953953953954,
          -9.51951951951952,
          -9.4994994994995,
          -9.47947947947948,
          -9.45945945945946,
          -9.439439439439441,
          -9.41941941941942,
          -9.3993993993994,
          -9.37937937937938,
          -9.35935935935936,
          -9.33933933933934,
          -9.31931931931932,
          -9.2992992992993,
          -9.27927927927928,
          -9.25925925925926,
          -9.23923923923924,
          -9.21921921921922,
          -9.1991991991992,
          -9.17917917917918,
          -9.15915915915916,
          -9.13913913913914,
          -9.11911911911912,
          -9.0990990990991,
          -9.07907907907908,
          -9.05905905905906,
          -9.03903903903904,
          -9.01901901901902,
          -8.998998998999,
          -8.97897897897898,
          -8.95895895895896,
          -8.93893893893894,
          -8.91891891891892,
          -8.8988988988989,
          -8.87887887887888,
          -8.85885885885886,
          -8.83883883883884,
          -8.81881881881882,
          -8.7987987987988,
          -8.77877877877878,
          -8.75875875875876,
          -8.73873873873874,
          -8.71871871871872,
          -8.6986986986987,
          -8.67867867867868,
          -8.65865865865866,
          -8.63863863863864,
          -8.618618618618619,
          -8.598598598598599,
          -8.578578578578579,
          -8.558558558558557,
          -8.538538538538539,
          -8.518518518518519,
          -8.498498498498499,
          -8.478478478478479,
          -8.458458458458459,
          -8.438438438438437,
          -8.418418418418419,
          -8.398398398398399,
          -8.378378378378379,
          -8.358358358358359,
          -8.338338338338339,
          -8.318318318318317,
          -8.298298298298299,
          -8.278278278278279,
          -8.258258258258257,
          -8.238238238238239,
          -8.218218218218219,
          -8.198198198198197,
          -8.178178178178179,
          -8.158158158158159,
          -8.138138138138137,
          -8.118118118118119,
          -8.098098098098099,
          -8.078078078078077,
          -8.058058058058059,
          -8.038038038038039,
          -8.018018018018017,
          -7.997997997997998,
          -7.977977977977979,
          -7.957957957957958,
          -7.937937937937938,
          -7.917917917917919,
          -7.897897897897898,
          -7.877877877877878,
          -7.857857857857859,
          -7.837837837837838,
          -7.817817817817819,
          -7.797797797797798,
          -7.777777777777778,
          -7.7577577577577586,
          -7.737737737737738,
          -7.717717717717718,
          -7.6976976976976985,
          -7.677677677677678,
          -7.657657657657658,
          -7.6376376376376385,
          -7.617617617617618,
          -7.597597597597598,
          -7.577577577577578,
          -7.5575575575575575,
          -7.5375375375375375,
          -7.517517517517518,
          -7.4974974974974975,
          -7.4774774774774775,
          -7.457457457457458,
          -7.4374374374374375,
          -7.4174174174174174,
          -7.397397397397398,
          -7.377377377377377,
          -7.357357357357357,
          -7.337337337337338,
          -7.317317317317317,
          -7.297297297297297,
          -7.277277277277278,
          -7.257257257257257,
          -7.237237237237237,
          -7.217217217217218,
          -7.197197197197197,
          -7.177177177177177,
          -7.157157157157158,
          -7.137137137137137,
          -7.117117117117117,
          -7.097097097097098,
          -7.077077077077077,
          -7.057057057057057,
          -7.037037037037038,
          -7.017017017017016,
          -6.996996996996997,
          -6.976976976976978,
          -6.956956956956956,
          -6.936936936936937,
          -6.916916916916918,
          -6.896896896896896,
          -6.876876876876877,
          -6.856856856856858,
          -6.836836836836836,
          -6.816816816816817,
          -6.796796796796797,
          -6.776776776776776,
          -6.756756756756757,
          -6.736736736736737,
          -6.716716716716716,
          -6.696696696696697,
          -6.676676676676677,
          -6.656656656656656,
          -6.636636636636637,
          -6.616616616616617,
          -6.596596596596597,
          -6.576576576576577,
          -6.556556556556557,
          -6.536536536536537,
          -6.516516516516517,
          -6.496496496496497,
          -6.476476476476477,
          -6.456456456456457,
          -6.436436436436437,
          -6.416416416416417,
          -6.396396396396397,
          -6.376376376376377,
          -6.356356356356357,
          -6.336336336336337,
          -6.316316316316317,
          -6.296296296296297,
          -6.276276276276277,
          -6.256256256256257,
          -6.236236236236237,
          -6.216216216216217,
          -6.196196196196197,
          -6.176176176176177,
          -6.156156156156157,
          -6.136136136136137,
          -6.116116116116117,
          -6.096096096096097,
          -6.076076076076077,
          -6.056056056056057,
          -6.036036036036036,
          -6.0160160160160165,
          -5.9959959959959965,
          -5.975975975975976,
          -5.9559559559559565,
          -5.9359359359359365,
          -5.915915915915916,
          -5.8958958958958965,
          -5.8758758758758765,
          -5.8558558558558556,
          -5.835835835835836,
          -5.815815815815816,
          -5.7957957957957955,
          -5.775775775775776,
          -5.755755755755756,
          -5.7357357357357355,
          -5.715715715715716,
          -5.695695695695696,
          -5.675675675675675,
          -5.655655655655656,
          -5.635635635635636,
          -5.615615615615615,
          -5.595595595595595,
          -5.575575575575576,
          -5.555555555555555,
          -5.535535535535535,
          -5.515515515515516,
          -5.495495495495495,
          -5.475475475475475,
          -5.455455455455456,
          -5.435435435435435,
          -5.415415415415415,
          -5.395395395395396,
          -5.375375375375376,
          -5.355355355355355,
          -5.335335335335336,
          -5.315315315315316,
          -5.295295295295295,
          -5.275275275275276,
          -5.255255255255256,
          -5.235235235235235,
          -5.215215215215216,
          -5.195195195195196,
          -5.175175175175175,
          -5.155155155155156,
          -5.135135135135136,
          -5.115115115115115,
          -5.095095095095095,
          -5.075075075075076,
          -5.055055055055055,
          -5.035035035035035,
          -5.015015015015016,
          -4.994994994994995,
          -4.974974974974975,
          -4.954954954954956,
          -4.934934934934935,
          -4.914914914914915,
          -4.894894894894896,
          -4.874874874874875,
          -4.854854854854855,
          -4.834834834834836,
          -4.814814814814815,
          -4.794794794794795,
          -4.774774774774776,
          -4.754754754754755,
          -4.734734734734735,
          -4.714714714714716,
          -4.694694694694695,
          -4.674674674674675,
          -4.654654654654656,
          -4.634634634634635,
          -4.614614614614615,
          -4.594594594594595,
          -4.574574574574575,
          -4.554554554554555,
          -4.534534534534535,
          -4.514514514514515,
          -4.494494494494495,
          -4.474474474474475,
          -4.454454454454455,
          -4.434434434434435,
          -4.414414414414415,
          -4.394394394394395,
          -4.374374374374375,
          -4.354354354354355,
          -4.334334334334335,
          -4.314314314314315,
          -4.2942942942942945,
          -4.2742742742742745,
          -4.2542542542542545,
          -4.2342342342342345,
          -4.2142142142142145,
          -4.1941941941941945,
          -4.1741741741741745,
          -4.1541541541541545,
          -4.134134134134134,
          -4.114114114114114,
          -4.094094094094094,
          -4.074074074074074,
          -4.054054054054054,
          -4.034034034034034,
          -4.014014014014014,
          -3.9939939939939944,
          -3.973973973973974,
          -3.9539539539539543,
          -3.9339339339339343,
          -3.913913913913914,
          -3.8938938938938943,
          -3.8738738738738743,
          -3.853853853853854,
          -3.8338338338338347,
          -3.8138138138138142,
          -3.793793793793794,
          -3.7737737737737747,
          -3.753753753753754,
          -3.7337337337337337,
          -3.7137137137137146,
          -3.693693693693694,
          -3.6736736736736737,
          -3.6536536536536546,
          -3.633633633633634,
          -3.6136136136136137,
          -3.5935935935935936,
          -3.573573573573574,
          -3.5535535535535536,
          -3.5335335335335336,
          -3.513513513513514,
          -3.4934934934934936,
          -3.4734734734734736,
          -3.453453453453454,
          -3.4334334334334335,
          -3.4134134134134135,
          -3.393393393393394,
          -3.3733733733733735,
          -3.3533533533533535,
          -3.333333333333334,
          -3.3133133133133135,
          -3.2932932932932935,
          -3.273273273273274,
          -3.253253253253254,
          -3.2332332332332334,
          -3.213213213213214,
          -3.193193193193194,
          -3.1731731731731734,
          -3.153153153153154,
          -3.133133133133134,
          -3.1131131131131133,
          -3.0930930930930938,
          -3.0730730730730738,
          -3.0530530530530533,
          -3.033033033033033,
          -3.0130130130130137,
          -2.9929929929929933,
          -2.972972972972973,
          -2.9529529529529537,
          -2.9329329329329332,
          -2.9129129129129128,
          -2.8928928928928936,
          -2.872872872872873,
          -2.8528528528528527,
          -2.8328328328328336,
          -2.812812812812813,
          -2.7927927927927927,
          -2.7727727727727736,
          -2.752752752752753,
          -2.7327327327327327,
          -2.7127127127127135,
          -2.692692692692693,
          -2.672672672672673,
          -2.6526526526526535,
          -2.632632632632633,
          -2.612612612612613,
          -2.5925925925925934,
          -2.572572572572573,
          -2.552552552552553,
          -2.5325325325325325,
          -2.512512512512513,
          -2.492492492492493,
          -2.4724724724724725,
          -2.452452452452453,
          -2.432432432432433,
          -2.4124124124124124,
          -2.392392392392393,
          -2.372372372372373,
          -2.3523523523523524,
          -2.332332332332333,
          -2.312312312312313,
          -2.2922922922922924,
          -2.272272272272273,
          -2.252252252252253,
          -2.2322322322322323,
          -2.2122122122122128,
          -2.1921921921921927,
          -2.1721721721721723,
          -2.1521521521521527,
          -2.132132132132132,
          -2.1121121121121122,
          -2.0920920920920927,
          -2.072072072072072,
          -2.052052052052052,
          -2.032032032032033,
          -2.0120120120120117,
          -1.9919919919919922,
          -1.9719719719719728,
          -1.9519519519519517,
          -1.9319319319319321,
          -1.9119119119119128,
          -1.8918918918918917,
          -1.8718718718718723,
          -1.8518518518518527,
          -1.8318318318318316,
          -1.8118118118118123,
          -1.7917917917917927,
          -1.7717717717717716,
          -1.7517517517517522,
          -1.7317317317317327,
          -1.7117117117117115,
          -1.6916916916916922,
          -1.6716716716716726,
          -1.6516516516516515,
          -1.6316316316316322,
          -1.6116116116116126,
          -1.5915915915915915,
          -1.5715715715715721,
          -1.5515515515515528,
          -1.5315315315315314,
          -1.511511511511512,
          -1.4914914914914927,
          -1.4714714714714714,
          -1.451451451451452,
          -1.4314314314314327,
          -1.4114114114114114,
          -1.391391391391392,
          -1.3713713713713727,
          -1.3513513513513513,
          -1.331331331331332,
          -1.3113113113113126,
          -1.2912912912912915,
          -1.271271271271272,
          -1.2512512512512508,
          -1.2312312312312315,
          -1.211211211211212,
          -1.1911911911911908,
          -1.1711711711711714,
          -1.1511511511511519,
          -1.1311311311311307,
          -1.1111111111111114,
          -1.0910910910910918,
          -1.0710710710710707,
          -1.0510510510510513,
          -1.0310310310310318,
          -1.0110110110110107,
          -0.9909909909909913,
          -0.9709709709709718,
          -0.9509509509509507,
          -0.9309309309309313,
          -0.9109109109109118,
          -0.8908908908908907,
          -0.8708708708708712,
          -0.8508508508508518,
          -0.8308308308308306,
          -0.8108108108108112,
          -0.7907907907907917,
          -0.7707707707707706,
          -0.7507507507507512,
          -0.7307307307307318,
          -0.7107107107107106,
          -0.6906906906906911,
          -0.6706706706706718,
          -0.6506506506506505,
          -0.6306306306306311,
          -0.6106106106106117,
          -0.5905905905905905,
          -0.5705705705705711,
          -0.5505505505505517,
          -0.5305305305305306,
          -0.5105105105105111,
          -0.49049049049049165,
          -0.47047047047047047,
          -0.45045045045045107,
          -0.4304304304304316,
          -0.4104104104104105,
          -0.39039039039039103,
          -0.37037037037037157,
          -0.35035035035035045,
          -0.330330330330331,
          -0.3103103103103116,
          -0.2902902902902904,
          -0.27027027027027095,
          -0.25025025025024983,
          -0.23023023023023037,
          -0.21021021021021097,
          -0.1901901901901898,
          -0.17017017017017036,
          -0.15015015015015093,
          -0.13013013013012975,
          -0.11011011011011033,
          -0.0900900900900909,
          -0.07007007007006974,
          -0.05005005005005031,
          -0.03003003003003088,
          -0.010010010010009715,
          0.010010010010009715,
          0.030030030030029145,
          0.05005005005005031,
          0.07007007007006974,
          0.09009009009008917,
          0.11011011011011033,
          0.13013013013012975,
          0.1501501501501492,
          0.17017017017017036,
          0.1901901901901898,
          0.21021021021020922,
          0.23023023023023037,
          0.25025025025024983,
          0.27027027027026923,
          0.2902902902902904,
          0.31031031031030987,
          0.33033033033032927,
          0.35035035035035045,
          0.37037037037036985,
          0.3903903903903893,
          0.4104104104104105,
          0.4304304304304299,
          0.4504504504504493,
          0.47047047047047047,
          0.4904904904904899,
          0.5105105105105093,
          0.5305305305305306,
          0.5505505505505499,
          0.5705705705705694,
          0.5905905905905905,
          0.61061061061061,
          0.6306306306306294,
          0.6506506506506505,
          0.67067067067067,
          0.6906906906906894,
          0.7107107107107106,
          0.73073073073073,
          0.7507507507507495,
          0.7707707707707706,
          0.7907907907907901,
          0.8108108108108112,
          0.8308308308308306,
          0.8508508508508501,
          0.8708708708708712,
          0.8908908908908907,
          0.9109109109109101,
          0.9309309309309313,
          0.9509509509509507,
          0.9709709709709701,
          0.9909909909909913,
          1.0110110110110107,
          1.0310310310310302,
          1.0510510510510513,
          1.0710710710710707,
          1.0910910910910903,
          1.1111111111111114,
          1.1311311311311307,
          1.1511511511511503,
          1.1711711711711714,
          1.1911911911911908,
          1.2112112112112101,
          1.2312312312312315,
          1.2512512512512508,
          1.2712712712712702,
          1.2912912912912915,
          1.3113113113113108,
          1.3313313313313302,
          1.3513513513513513,
          1.3713713713713709,
          1.3913913913913902,
          1.4114114114114114,
          1.431431431431431,
          1.4514514514514503,
          1.4714714714714714,
          1.491491491491491,
          1.5115115115115103,
          1.5315315315315314,
          1.551551551551551,
          1.5715715715715703,
          1.5915915915915915,
          1.611611611611611,
          1.6316316316316304,
          1.6516516516516515,
          1.671671671671671,
          1.6916916916916904,
          1.7117117117117115,
          1.7317317317317311,
          1.7517517517517505,
          1.7717717717717716,
          1.791791791791791,
          1.8118118118118123,
          1.8318318318318316,
          1.851851851851851,
          1.8718718718718723,
          1.8918918918918917,
          1.911911911911911,
          1.9319319319319321,
          1.9519519519519517,
          1.971971971971971,
          1.9919919919919922,
          2.0120120120120117,
          2.0320320320320313,
          2.052052052052052,
          2.072072072072072,
          2.0920920920920913,
          2.1121121121121122,
          2.132132132132132,
          2.1521521521521514,
          2.1721721721721723,
          2.192192192192192,
          2.2122122122122114,
          2.2322322322322323,
          2.252252252252252,
          2.272272272272271,
          2.2922922922922924,
          2.312312312312312,
          2.332332332332331,
          2.3523523523523524,
          2.372372372372372,
          2.392392392392391,
          2.4124124124124124,
          2.432432432432432,
          2.452452452452451,
          2.4724724724724725,
          2.492492492492492,
          2.512512512512511,
          2.5325325325325325,
          2.552552552552552,
          2.572572572572571,
          2.5925925925925926,
          2.612612612612612,
          2.6326326326326313,
          2.6526526526526526,
          2.672672672672672,
          2.6926926926926913,
          2.7127127127127126,
          2.732732732732732,
          2.7527527527527513,
          2.7727727727727727,
          2.792792792792792,
          2.812812812812813,
          2.8328328328328327,
          2.852852852852852,
          2.872872872872873,
          2.8928928928928928,
          2.912912912912912,
          2.9329329329329332,
          2.952952952952953,
          2.972972972972972,
          2.9929929929929933,
          3.013013013013013,
          3.033033033033032,
          3.0530530530530533,
          3.073073073073073,
          3.093093093093092,
          3.1131131131131133,
          3.133133133133133,
          3.153153153153152,
          3.1731731731731734,
          3.193193193193193,
          3.213213213213212,
          3.2332332332332334,
          3.253253253253253,
          3.273273273273272,
          3.2932932932932935,
          3.313313313313313,
          3.333333333333332,
          3.3533533533533535,
          3.373373373373373,
          3.393393393393392,
          3.4134134134134135,
          3.4334334334334327,
          3.4534534534534522,
          3.4734734734734736,
          3.4934934934934927,
          3.5135135135135123,
          3.5335335335335336,
          3.5535535535535527,
          3.5735735735735723,
          3.5935935935935936,
          3.6136136136136128,
          3.6336336336336323,
          3.6536536536536537,
          3.673673673673673,
          3.6936936936936924,
          3.7137137137137137,
          3.733733733733733,
          3.7537537537537524,
          3.7737737737737738,
          3.793793793793793,
          3.8138138138138125,
          3.833833833833834,
          3.853853853853853,
          3.8738738738738743,
          3.893893893893894,
          3.913913913913913,
          3.9339339339339343,
          3.9539539539539534,
          3.973973973973973,
          3.9939939939939944,
          4.0140140140140135,
          4.0340340340340335,
          4.054054054054054,
          4.0740740740740735,
          4.0940940940940935,
          4.114114114114114,
          4.1341341341341336,
          4.154154154154154,
          4.1741741741741745,
          4.194194194194194,
          4.214214214214214,
          4.2342342342342345,
          4.254254254254254,
          4.274274274274274,
          4.2942942942942945,
          4.314314314314314,
          4.334334334334333,
          4.354354354354355,
          4.374374374374374,
          4.394394394394393,
          4.414414414414415,
          4.434434434434434,
          4.454454454454453,
          4.474474474474475,
          4.494494494494494,
          4.514514514514513,
          4.534534534534535,
          4.554554554554554,
          4.574574574574573,
          4.594594594594595,
          4.614614614614614,
          4.634634634634633,
          4.654654654654655,
          4.674674674674674,
          4.694694694694693,
          4.714714714714715,
          4.734734734734734,
          4.754754754754753,
          4.774774774774775,
          4.794794794794794,
          4.814814814814813,
          4.834834834834835,
          4.854854854854854,
          4.874874874874875,
          4.894894894894895,
          4.914914914914914,
          4.934934934934935,
          4.954954954954955,
          4.974974974974974,
          4.994994994994995,
          5.015015015015015,
          5.035035035035034,
          5.055055055055055,
          5.075075075075075,
          5.095095095095094,
          5.115115115115115,
          5.135135135135135,
          5.155155155155154,
          5.175175175175175,
          5.195195195195195,
          5.215215215215214,
          5.235235235235235,
          5.255255255255255,
          5.275275275275274,
          5.295295295295295,
          5.315315315315315,
          5.335335335335334,
          5.355355355355355,
          5.375375375375375,
          5.395395395395394,
          5.415415415415415,
          5.435435435435435,
          5.455455455455454,
          5.475475475475475,
          5.495495495495495,
          5.5155155155155144,
          5.535535535535535,
          5.5555555555555545,
          5.5755755755755745,
          5.595595595595595,
          5.6156156156156145,
          5.635635635635636,
          5.655655655655655,
          5.6756756756756745,
          5.695695695695695,
          5.715715715715714,
          5.735735735735736,
          5.755755755755756,
          5.7757757757757755,
          5.795795795795795,
          5.815815815815815,
          5.835835835835834,
          5.855855855855856,
          5.8758758758758765,
          5.895895895895896,
          5.915915915915915,
          5.935935935935935,
          5.955955955955954,
          5.9759759759759765,
          5.9959959959959965,
          6.016016016016016,
          6.036036036036035,
          6.056056056056055,
          6.076076076076074,
          6.096096096096097,
          6.116116116116117,
          6.136136136136136,
          6.156156156156155,
          6.176176176176175,
          6.196196196196194,
          6.216216216216217,
          6.236236236236237,
          6.256256256256256,
          6.276276276276275,
          6.296296296296295,
          6.316316316316314,
          6.336336336336337,
          6.356356356356357,
          6.376376376376376,
          6.396396396396395,
          6.416416416416415,
          6.436436436436438,
          6.456456456456457,
          6.476476476476477,
          6.496496496496496,
          6.516516516516515,
          6.536536536536535,
          6.556556556556558,
          6.576576576576577,
          6.596596596596597,
          6.616616616616616,
          6.636636636636635,
          6.656656656656655,
          6.676676676676678,
          6.696696696696697,
          6.716716716716716,
          6.736736736736736,
          6.756756756756755,
          6.776776776776775,
          6.796796796796798,
          6.816816816816817,
          6.836836836836836,
          6.856856856856856,
          6.876876876876875,
          6.8968968968968944,
          6.916916916916918,
          6.936936936936937,
          6.956956956956956,
          6.976976976976976,
          6.996996996996995,
          7.0170170170170145,
          7.037037037037038,
          7.057057057057057,
          7.077077077077076,
          7.097097097097096,
          7.1171171171171155,
          7.137137137137135,
          7.157157157157158,
          7.177177177177177,
          7.197197197197196,
          7.217217217217216,
          7.2372372372372356,
          7.257257257257255,
          7.277277277277278,
          7.297297297297297,
          7.3173173173173165,
          7.3373373373373365,
          7.357357357357356,
          7.377377377377375,
          7.397397397397398,
          7.4174174174174174,
          7.437437437437437,
          7.457457457457457,
          7.477477477477476,
          7.497497497497498,
          7.517517517517518,
          7.5375375375375375,
          7.557557557557557,
          7.577577577577577,
          7.597597597597596,
          7.6176176176176185,
          7.6376376376376385,
          7.657657657657658,
          7.677677677677677,
          7.697697697697697,
          7.717717717717716,
          7.7377377377377385,
          7.7577577577577586,
          7.777777777777778,
          7.797797797797797,
          7.817817817817817,
          7.837837837837836,
          7.857857857857859,
          7.877877877877878,
          7.897897897897898,
          7.917917917917917,
          7.937937937937937,
          7.957957957957956,
          7.977977977977979,
          7.997997997997998,
          8.018018018018017,
          8.038038038038037,
          8.058058058058057,
          8.078078078078075,
          8.098098098098099,
          8.118118118118119,
          8.138138138138137,
          8.158158158158157,
          8.178178178178177,
          8.198198198198195,
          8.218218218218219,
          8.238238238238239,
          8.258258258258257,
          8.278278278278277,
          8.298298298298297,
          8.318318318318315,
          8.338338338338339,
          8.358358358358359,
          8.378378378378377,
          8.398398398398397,
          8.418418418418417,
          8.438438438438435,
          8.458458458458459,
          8.478478478478479,
          8.498498498498497,
          8.518518518518517,
          8.538538538538537,
          8.558558558558559,
          8.578578578578579,
          8.598598598598599,
          8.618618618618617,
          8.638638638638637,
          8.658658658658657,
          8.67867867867868,
          8.6986986986987,
          8.71871871871872,
          8.738738738738737,
          8.758758758758757,
          8.778778778778777,
          8.7987987987988,
          8.81881881881882,
          8.83883883883884,
          8.858858858858857,
          8.878878878878878,
          8.898898898898898,
          8.91891891891892,
          8.93893893893894,
          8.95895895895896,
          8.978978978978978,
          8.998998998998998,
          9.019019019019018,
          9.03903903903904,
          9.05905905905906,
          9.07907907907908,
          9.099099099099098,
          9.119119119119118,
          9.139139139139138,
          9.15915915915916,
          9.17917917917918,
          9.1991991991992,
          9.219219219219218,
          9.239239239239238,
          9.259259259259258,
          9.27927927927928,
          9.2992992992993,
          9.31931931931932,
          9.339339339339338,
          9.359359359359358,
          9.379379379379378,
          9.3993993993994,
          9.41941941941942,
          9.43943943943944,
          9.459459459459458,
          9.479479479479478,
          9.499499499499501,
          9.51951951951952,
          9.53953953953954,
          9.55955955955956,
          9.579579579579578,
          9.599599599599598,
          9.61961961961962,
          9.63963963963964,
          9.65965965965966,
          9.67967967967968,
          9.699699699699698,
          9.719719719719718,
          9.73973973973974,
          9.75975975975976,
          9.77977977977978,
          9.799799799799798,
          9.819819819819818,
          9.839839839839838,
          9.85985985985986,
          9.87987987987988,
          9.8998998998999,
          9.919919919919918,
          9.939939939939938,
          9.959959959959958,
          9.97997997997998,
          10
         ],
         "y": [
          -45.46875,
          -45.375,
          -45.406253814697266,
          -45.375,
          -45.437503814697266,
          -45.343753814697266,
          -45.343753814697266,
          -45.343753814697266,
          -45.46875,
          -45.375,
          -45.375,
          -45.375,
          -45.406253814697266,
          -45.406253814697266,
          -45.406253814697266,
          -45.3125,
          -45.343753814697266,
          -45.375,
          -45.375,
          -45.3125,
          -45.343753814697266,
          -45.343753814697266,
          -45.375,
          -45.281253814697266,
          -45.281253814697266,
          -45.281253814697266,
          -45.343753814697266,
          -45.375,
          -45.375,
          -45.281253814697266,
          -45.3125,
          -45.343753814697266,
          -45.281253814697266,
          -45.343753814697266,
          -45.3125,
          -45.250003814697266,
          -45.281253814697266,
          -45.250003814697266,
          -45.21875,
          -45.3125,
          -45.3125,
          -45.281253814697266,
          -45.250003814697266,
          -45.3125,
          -45.281253814697266,
          -45.21875,
          -45.3125,
          -45.187503814697266,
          -45.21875,
          -45.250003814697266,
          -45.250003814697266,
          -45.187503814697266,
          -45.21875,
          -45.21875,
          -45.21875,
          -45.187503814697266,
          -45.250003814697266,
          -45.187503814697266,
          -45.15625,
          -45.125003814697266,
          -45.125003814697266,
          -45.125003814697266,
          -45.125003814697266,
          -45.15625,
          -45.15625,
          -45.0625,
          -45,
          -45.093753814697266,
          -45.0625,
          -45.031253814697266,
          -45.0625,
          -45.031253814697266,
          -45.031253814697266,
          -45.0625,
          -45.093753814697266,
          -45,
          -45,
          -45.031253814697266,
          -45,
          -45.031253814697266,
          -45.031253814697266,
          -45,
          -45,
          -45.031253814697266,
          -45.031253814697266,
          -45,
          -45,
          -45,
          -44.937503814697266,
          -44.937503814697266,
          -44.96875,
          -45,
          -44.875003814697266,
          -44.90625,
          -44.90625,
          -44.90625,
          -44.875003814697266,
          -44.90625,
          -44.96875,
          -44.937503814697266,
          -44.90625,
          -44.937503814697266,
          -44.96875,
          -44.937503814697266,
          -44.875003814697266,
          -44.90625,
          -44.875003814697266,
          -44.90625,
          -44.843753814697266,
          -44.8125,
          -44.875003814697266,
          -44.8125,
          -44.843753814697266,
          -44.75,
          -44.781253814697266,
          -44.781253814697266,
          -44.75,
          -44.8125,
          -44.718753814697266,
          -44.75,
          -44.687503814697266,
          -44.75,
          -44.718753814697266,
          -44.75,
          -44.718753814697266,
          -44.718753814697266,
          -44.75,
          -44.687503814697266,
          -44.718753814697266,
          -44.687503814697266,
          -44.781253814697266,
          -44.8125,
          -44.8125,
          -44.781253814697266,
          -44.8125,
          -44.8125,
          -44.8125,
          -44.687503814697266,
          -44.781253814697266,
          -44.75,
          -44.65625,
          -44.718753814697266,
          -44.781253814697266,
          -44.75,
          -44.781253814697266,
          -44.687503814697266,
          -44.65625,
          -44.718753814697266,
          -44.625003814697266,
          -44.718753814697266,
          -44.718753814697266,
          -44.65625,
          -44.687503814697266,
          -44.65625,
          -44.687503814697266,
          -44.59375,
          -44.65625,
          -44.531253814697266,
          -44.65625,
          -44.531253814697266,
          -44.562503814697266,
          -44.59375,
          -44.65625,
          -44.562503814697266,
          -44.625003814697266,
          -44.531253814697266,
          -44.531253814697266,
          -44.531253814697266,
          -44.5,
          -44.5,
          -44.562503814697266,
          -44.562503814697266,
          -44.562503814697266,
          -44.562503814697266,
          -44.531253814697266,
          -44.5,
          -44.5,
          -44.5,
          -44.5,
          -44.5,
          -44.5,
          -44.5,
          -44.4375,
          -44.5,
          -44.4375,
          -44.4375,
          -44.468753814697266,
          -44.406253814697266,
          -44.468753814697266,
          -44.468753814697266,
          -44.406253814697266,
          -44.375003814697266,
          -44.406253814697266,
          -44.5,
          -44.406253814697266,
          -44.468753814697266,
          -44.4375,
          -44.406253814697266,
          -44.4375,
          -44.375003814697266,
          -44.375003814697266,
          -44.34375,
          -44.406253814697266,
          -44.406253814697266,
          -44.406253814697266,
          -44.406253814697266,
          -44.375003814697266,
          -44.375003814697266,
          -44.312503814697266,
          -44.4375,
          -44.406253814697266,
          -44.34375,
          -44.34375,
          -44.34375,
          -44.28125,
          -44.312503814697266,
          -44.312503814697266,
          -44.28125,
          -44.312503814697266,
          -44.25,
          -44.312503814697266,
          -44.28125,
          -44.34375,
          -44.25,
          -44.28125,
          -44.28125,
          -44.34375,
          -44.34375,
          -44.312503814697266,
          -44.312503814697266,
          -44.28125,
          -44.28125,
          -44.28125,
          -44.34375,
          -44.28125,
          -44.28125,
          -44.25,
          -44.25,
          -44.25,
          -44.1875,
          -44.156253814697266,
          -44.25,
          -44.218753814697266,
          -44.28125,
          -44.28125,
          -44.28125,
          -44.1875,
          -44.1875,
          -44.218753814697266,
          -44.1875,
          -44.218753814697266,
          -44.28125,
          -44.218753814697266,
          -44.156253814697266,
          -44.28125,
          -44.1875,
          -44.218753814697266,
          -44.125,
          -44.156253814697266,
          -44.1875,
          -44.1875,
          -44.125,
          -44.156253814697266,
          -44.156253814697266,
          -44.156253814697266,
          -44.09375,
          -44.156253814697266,
          -44.09375,
          -44.156253814697266,
          -44.125,
          -44.125,
          -44.062503814697266,
          -44.125,
          -44.09375,
          -44.09375,
          -44.09375,
          -44.125,
          -44.09375,
          -44.09375,
          -44.09375,
          -44.09375,
          -44.09375,
          -44.03125,
          -44.062503814697266,
          -44.062503814697266,
          -44.062503814697266,
          -43.968753814697266,
          -44.000003814697266,
          -44.03125,
          -43.968753814697266,
          -44.03125,
          -44.03125,
          -43.968753814697266,
          -43.9375,
          -43.968753814697266,
          -43.9375,
          -43.968753814697266,
          -43.9375,
          -43.906253814697266,
          -43.875,
          -43.843753814697266,
          -43.875,
          -43.875,
          -43.750003814697266,
          -43.78125,
          -43.71875,
          -43.78125,
          -43.78125,
          -43.71875,
          -43.78125,
          -43.843753814697266,
          -43.843753814697266,
          -43.78125,
          -43.78125,
          -43.78125,
          -43.78125,
          -43.687503814697266,
          -43.750003814697266,
          -43.750003814697266,
          -43.656253814697266,
          -43.78125,
          -43.750003814697266,
          -43.687503814697266,
          -43.78125,
          -43.71875,
          -43.71875,
          -43.656253814697266,
          -43.656253814697266,
          -43.593753814697266,
          -43.656253814697266,
          -43.687503814697266,
          -43.687503814697266,
          -43.687503814697266,
          -43.656253814697266,
          -43.656253814697266,
          -43.625,
          -43.656253814697266,
          -43.687503814697266,
          -43.656253814697266,
          -43.656253814697266,
          -43.656253814697266,
          -43.656253814697266,
          -43.656253814697266,
          -43.5625,
          -43.593753814697266,
          -43.656253814697266,
          -43.625,
          -43.656253814697266,
          -43.625,
          -43.593753814697266,
          -43.625,
          -43.625,
          -43.5625,
          -43.53125,
          -43.593753814697266,
          -43.5625,
          -43.53125,
          -43.5625,
          -43.500003814697266,
          -43.53125,
          -43.5625,
          -43.53125,
          -43.500003814697266,
          -43.46875,
          -43.46875,
          -43.40625,
          -43.46875,
          -43.46875,
          -43.46875,
          -43.40625,
          -43.343753814697266,
          -43.46875,
          -43.3125,
          -43.40625,
          -43.375,
          -43.343753814697266,
          -43.250003814697266,
          -43.3125,
          -43.250003814697266,
          -43.250003814697266,
          -43.343753814697266,
          -43.250003814697266,
          -43.250003814697266,
          -43.281253814697266,
          -43.187503814697266,
          -43.21875,
          -43.281253814697266,
          -43.21875,
          -43.15625,
          -43.187503814697266,
          -43.15625,
          -43.187503814697266,
          -43.187503814697266,
          -43.15625,
          -43.15625,
          -43.125003814697266,
          -43.031253814697266,
          -43.093753814697266,
          -43.093753814697266,
          -43.0625,
          -43.093753814697266,
          -43.0625,
          -43.0625,
          -43.0625,
          -43.031253814697266,
          -43,
          -43,
          -42.937503814697266,
          -43,
          -43.031253814697266,
          -42.968753814697266,
          -42.937503814697266,
          -42.937503814697266,
          -42.968753814697266,
          -42.875003814697266,
          -42.937503814697266,
          -42.875003814697266,
          -42.875003814697266,
          -42.812503814697266,
          -42.84375,
          -42.812503814697266,
          -42.812503814697266,
          -42.75,
          -42.718753814697266,
          -42.718753814697266,
          -42.65625,
          -42.6875,
          -42.65625,
          -42.59375,
          -42.6875,
          -42.59375,
          -42.53125,
          -42.53125,
          -42.53125,
          -42.562503814697266,
          -42.53125,
          -42.5,
          -42.5,
          -42.562503814697266,
          -42.53125,
          -42.5,
          -42.468753814697266,
          -42.406253814697266,
          -42.4375,
          -42.406253814697266,
          -42.34375,
          -42.312503814697266,
          -42.312503814697266,
          -42.250003814697266,
          -42.312503814697266,
          -42.28125,
          -42.250003814697266,
          -42.34375,
          -42.34375,
          -42.28125,
          -42.156253814697266,
          -42.218753814697266,
          -42.156253814697266,
          -42.156253814697266,
          -42.125,
          -42.125,
          -42.156253814697266,
          -42.125,
          -42.156253814697266,
          -42.093753814697266,
          -42.1875,
          -42.156253814697266,
          -42.062503814697266,
          -42.062503814697266,
          -42.125,
          -42.156253814697266,
          -42.156253814697266,
          -42.062503814697266,
          -42.125,
          -42.03125,
          -42.062503814697266,
          -42.03125,
          -42.000003814697266,
          -42.03125,
          -42.000003814697266,
          -42.03125,
          -42.03125,
          -41.96875,
          -42.000003814697266,
          -41.875,
          -41.875,
          -41.875,
          -41.875,
          -41.78125,
          -41.78125,
          -41.78125,
          -41.750003814697266,
          -41.687503814697266,
          -41.687503814697266,
          -41.687503814697266,
          -41.656253814697266,
          -41.593753814697266,
          -41.5625,
          -41.46875,
          -41.500003814697266,
          -41.3125,
          -41.343753814697266,
          -41.0625,
          -40.562503814697266,
          -39.5,
          -37.46875,
          -34.906253814697266,
          -32.031253814697266,
          -28.781251907348633,
          -25.343751907348633,
          -21.718751907348633,
          -17.59375,
          -12.937500953674316,
          -7.500000476837158,
          -1.5,
          4.812500476837158,
          10.6875,
          16.125001907348633,
          20.9375,
          25.093751907348633,
          28.562501907348633,
          31.40625,
          33.71875,
          35.468753814697266,
          36.84375,
          37.8125,
          38.28125,
          38.500003814697266,
          38.375,
          38.000003814697266,
          37.40625,
          36.656253814697266,
          35.687503814697266,
          34.59375,
          33.468753814697266,
          32.125,
          30.718751907348633,
          29.250001907348633,
          27.59375,
          26,
          24.28125,
          22.5,
          20.687501907348633,
          18.9375,
          17.093751907348633,
          15.15625,
          13.312500953674316,
          11.437500953674316,
          9.53125,
          7.531250476837158,
          5.59375,
          3.687500238418579,
          1.625,
          -0.375,
          -2.3125,
          -4.312500476837158,
          -6.3125,
          -8.281250953674316,
          -10.281250953674316,
          -12.187500953674316,
          -14.125000953674316,
          -16.0625,
          -17.843751907348633,
          -19.593751907348633,
          -21.406251907348633,
          -23.09375,
          -24.656251907348633,
          -26.187501907348633,
          -27.625001907348633,
          -29.125001907348633,
          -30.343751907348633,
          -31.5625,
          -32.78125,
          -33.843753814697266,
          -34.84375,
          -35.96875,
          -36.84375,
          -37.625003814697266,
          -38.468753814697266,
          -39.15625,
          -39.875,
          -40.53125,
          -41.125003814697266,
          -41.71875,
          -42.250003814697266,
          -42.781253814697266,
          -43.187503814697266,
          -43.593753814697266,
          -43.968753814697266,
          -44.468753814697266,
          -44.8125,
          -45.031253814697266,
          -45.343753814697266,
          -45.71875,
          -45.9375,
          -46.218753814697266,
          -46.5,
          -46.65625,
          -46.90625,
          -47.156253814697266,
          -47.3125,
          -47.562503814697266,
          -47.656253814697266,
          -47.84375,
          -48,
          -48.281253814697266,
          -48.25,
          -48.437503814697266,
          -48.5,
          -48.65625,
          -48.71875,
          -48.875003814697266,
          -49.000003814697266,
          -49.000003814697266,
          -49.0625,
          -49.125,
          -49.093753814697266,
          -49.250003814697266,
          -49.4375,
          -49.500003814697266,
          -49.562503814697266,
          -49.53125,
          -49.656253814697266,
          -49.656253814697266,
          -49.6875,
          -49.812503814697266,
          -49.906253814697266,
          -49.9375,
          -49.9375,
          -50.062503814697266,
          -50.09375,
          -50.09375,
          -50.09375,
          -50.125003814697266,
          -50.062503814697266,
          -50.125003814697266,
          -50.187503814697266,
          -50.15625,
          -50.187503814697266,
          -50.15625,
          -50.15625,
          -50.25,
          -50.281253814697266,
          -50.281253814697266,
          -50.281253814697266,
          -50.25,
          -50.34375,
          -50.34375,
          -50.281253814697266,
          -50.34375,
          -50.34375,
          -50.34375,
          -50.375003814697266,
          -50.375003814697266,
          -50.312503814697266,
          -50.34375,
          -50.40625,
          -50.34375,
          -50.375003814697266,
          -50.40625,
          -50.437503814697266,
          -50.40625,
          -50.40625,
          -50.40625,
          -50.437503814697266,
          -50.468753814697266,
          -50.375003814697266,
          -50.34375,
          -50.34375,
          -50.375003814697266,
          -50.375003814697266,
          -50.34375,
          -50.312503814697266,
          -50.34375,
          -50.312503814697266,
          -50.312503814697266,
          -50.34375,
          -50.281253814697266,
          -50.375003814697266,
          -50.375003814697266,
          -50.34375,
          -50.25,
          -50.312503814697266,
          -50.375003814697266,
          -50.34375,
          -50.281253814697266,
          -50.281253814697266,
          -50.281253814697266,
          -50.281253814697266,
          -50.187503814697266,
          -50.218753814697266,
          -50.281253814697266,
          -50.281253814697266,
          -50.281253814697266,
          -50.25,
          -50.218753814697266,
          -50.218753814697266,
          -50.25,
          -50.281253814697266,
          -50.281253814697266,
          -50.187503814697266,
          -50.218753814697266,
          -50.25,
          -50.218753814697266,
          -50.25,
          -50.187503814697266,
          -50.25,
          -50.218753814697266,
          -50.15625,
          -50.187503814697266,
          -50.218753814697266,
          -50.25,
          -50.15625,
          -50.15625,
          -50.281253814697266,
          -50.125003814697266,
          -50.15625,
          -50.25,
          -50.218753814697266,
          -50.187503814697266,
          -50.25,
          -50.218753814697266,
          -50.15625,
          -50.15625,
          -50.15625,
          -50.187503814697266,
          -50.15625,
          -50.218753814697266,
          -50.125003814697266,
          -50.125003814697266,
          -50.187503814697266,
          -50.218753814697266,
          -50.187503814697266,
          -50.187503814697266,
          -50.187503814697266,
          -50.15625,
          -50.125003814697266,
          -50.125003814697266,
          -50.15625,
          -50.09375,
          -50.09375,
          -50.09375,
          -50.09375,
          -50.062503814697266,
          -50.15625,
          -50.062503814697266,
          -50.125003814697266,
          -50.187503814697266,
          -50.062503814697266,
          -50.125003814697266,
          -50.09375,
          -50.15625,
          -50.187503814697266,
          -50.15625,
          -50.15625,
          -50.15625,
          -50.125003814697266,
          -50.09375,
          -50.125003814697266,
          -50.09375,
          -50.062503814697266,
          -50.125003814697266,
          -50.15625,
          -50.125003814697266,
          -50.218753814697266,
          -50.15625,
          -50.125003814697266,
          -50.15625,
          -50.218753814697266,
          -50.15625,
          -50.125003814697266,
          -50.187503814697266,
          -50.15625,
          -50.09375,
          -50.062503814697266,
          -50.187503814697266,
          -50.187503814697266,
          -50.187503814697266,
          -50.187503814697266,
          -50.187503814697266,
          -50.187503814697266,
          -50.125003814697266,
          -50.218753814697266,
          -50.187503814697266,
          -50.218753814697266,
          -50.281253814697266,
          -50.25,
          -50.15625,
          -50.218753814697266,
          -50.218753814697266,
          -50.218753814697266,
          -50.218753814697266,
          -50.187503814697266,
          -50.25,
          -50.25,
          -50.312503814697266,
          -50.218753814697266,
          -50.281253814697266,
          -50.281253814697266,
          -50.25,
          -50.34375,
          -50.281253814697266,
          -50.34375,
          -50.281253814697266,
          -50.281253814697266,
          -50.25,
          -50.312503814697266,
          -50.281253814697266,
          -50.281253814697266,
          -50.34375,
          -50.34375,
          -50.25,
          -50.34375,
          -50.375003814697266,
          -50.281253814697266,
          -50.375003814697266,
          -50.375003814697266,
          -50.375003814697266,
          -50.40625,
          -50.40625,
          -50.40625,
          -50.375003814697266,
          -50.468753814697266,
          -50.437503814697266,
          -50.437503814697266,
          -50.437503814697266,
          -50.40625,
          -50.34375,
          -50.375003814697266,
          -50.437503814697266,
          -50.40625,
          -50.40625,
          -50.437503814697266,
          -50.437503814697266,
          -50.40625,
          -50.40625,
          -50.5,
          -50.5,
          -50.5,
          -50.531253814697266,
          -50.468753814697266,
          -50.531253814697266,
          -50.5,
          -50.5,
          -50.468753814697266,
          -50.531253814697266,
          -50.5,
          -50.5,
          -50.5,
          -50.5625,
          -50.531253814697266,
          -50.5,
          -50.5625,
          -50.531253814697266,
          -50.5625,
          -50.5625,
          -50.593753814697266,
          -50.687503814697266,
          -50.5625,
          -50.593753814697266,
          -50.65625,
          -50.687503814697266,
          -50.625003814697266,
          -50.65625,
          -50.687503814697266,
          -50.625003814697266,
          -50.65625,
          -50.687503814697266,
          -50.593753814697266,
          -50.687503814697266,
          -50.71875,
          -50.65625,
          -50.687503814697266,
          -50.593753814697266,
          -50.625003814697266,
          -50.65625,
          -50.625003814697266,
          -50.687503814697266,
          -50.65625,
          -50.687503814697266,
          -50.687503814697266,
          -50.65625,
          -50.750003814697266,
          -50.71875,
          -50.71875,
          -50.687503814697266,
          -50.687503814697266,
          -50.687503814697266,
          -50.71875,
          -50.65625,
          -50.71875,
          -50.71875,
          -50.71875,
          -50.71875,
          -50.71875,
          -50.781253814697266,
          -50.750003814697266,
          -50.750003814697266,
          -50.71875,
          -50.781253814697266,
          -50.843753814697266,
          -50.843753814697266,
          -50.781253814697266,
          -50.843753814697266,
          -50.8125,
          -50.781253814697266,
          -50.781253814697266,
          -50.843753814697266,
          -50.8125,
          -50.843753814697266,
          -50.8125,
          -50.875,
          -50.906253814697266,
          -50.843753814697266,
          -50.906253814697266,
          -50.843753814697266,
          -50.843753814697266,
          -50.875,
          -50.843753814697266,
          -50.906253814697266,
          -50.843753814697266,
          -50.906253814697266,
          -50.843753814697266,
          -50.843753814697266,
          -50.8125,
          -50.906253814697266,
          -50.906253814697266,
          -50.937503814697266,
          -50.875,
          -50.96875,
          -50.906253814697266,
          -51.000003814697266,
          -50.937503814697266,
          -50.937503814697266,
          -50.906253814697266,
          -50.937503814697266,
          -50.937503814697266,
          -50.906253814697266,
          -50.937503814697266,
          -50.96875,
          -51.000003814697266,
          -50.96875,
          -50.96875,
          -51.000003814697266,
          -50.96875,
          -51.000003814697266,
          -51.031253814697266,
          -51.000003814697266,
          -51.031253814697266,
          -51.000003814697266,
          -51.000003814697266,
          -51.000003814697266,
          -51.031253814697266,
          -51.093753814697266,
          -51.000003814697266,
          -51.062503814697266,
          -51.062503814697266,
          -51.031253814697266,
          -51.062503814697266,
          -51.093753814697266,
          -51.031253814697266,
          -51.031253814697266,
          -51.187503814697266,
          -51.093753814697266,
          -51.062503814697266,
          -51.156253814697266,
          -51.156253814697266,
          -51.156253814697266,
          -51.156253814697266,
          -51.125,
          -51.187503814697266,
          -51.187503814697266,
          -51.093753814697266,
          -51.125,
          -51.187503814697266,
          -51.187503814697266,
          -51.156253814697266,
          -51.156253814697266,
          -51.125,
          -51.156253814697266,
          -51.187503814697266,
          -51.187503814697266,
          -51.21875,
          -51.187503814697266,
          -51.21875,
          -51.21875,
          -51.21875,
          -51.21875,
          -51.187503814697266,
          -51.125,
          -51.28125,
          -51.250003814697266,
          -51.250003814697266,
          -51.28125,
          -51.28125,
          -51.312503814697266,
          -51.312503814697266,
          -51.312503814697266,
          -51.312503814697266,
          -51.28125
         ]
        }
       ],
       "layout": {
        "height": 450,
        "template": {
         "data": {
          "bar": [
           {
            "error_x": {
             "color": "#2a3f5f"
            },
            "error_y": {
             "color": "#2a3f5f"
            },
            "marker": {
             "line": {
              "color": "#E5ECF6",
              "width": 0.5
             },
             "pattern": {
              "fillmode": "overlay",
              "size": 10,
              "solidity": 0.2
             }
            },
            "type": "bar"
           }
          ],
          "barpolar": [
           {
            "marker": {
             "line": {
              "color": "#E5ECF6",
              "width": 0.5
             },
             "pattern": {
              "fillmode": "overlay",
              "size": 10,
              "solidity": 0.2
             }
            },
            "type": "barpolar"
           }
          ],
          "carpet": [
           {
            "aaxis": {
             "endlinecolor": "#2a3f5f",
             "gridcolor": "white",
             "linecolor": "white",
             "minorgridcolor": "white",
             "startlinecolor": "#2a3f5f"
            },
            "baxis": {
             "endlinecolor": "#2a3f5f",
             "gridcolor": "white",
             "linecolor": "white",
             "minorgridcolor": "white",
             "startlinecolor": "#2a3f5f"
            },
            "type": "carpet"
           }
          ],
          "choropleth": [
           {
            "colorbar": {
             "outlinewidth": 0,
             "ticks": ""
            },
            "type": "choropleth"
           }
          ],
          "contour": [
           {
            "colorbar": {
             "outlinewidth": 0,
             "ticks": ""
            },
            "colorscale": [
             [
              0,
              "#0d0887"
             ],
             [
              0.1111111111111111,
              "#46039f"
             ],
             [
              0.2222222222222222,
              "#7201a8"
             ],
             [
              0.3333333333333333,
              "#9c179e"
             ],
             [
              0.4444444444444444,
              "#bd3786"
             ],
             [
              0.5555555555555556,
              "#d8576b"
             ],
             [
              0.6666666666666666,
              "#ed7953"
             ],
             [
              0.7777777777777778,
              "#fb9f3a"
             ],
             [
              0.8888888888888888,
              "#fdca26"
             ],
             [
              1,
              "#f0f921"
             ]
            ],
            "type": "contour"
           }
          ],
          "contourcarpet": [
           {
            "colorbar": {
             "outlinewidth": 0,
             "ticks": ""
            },
            "type": "contourcarpet"
           }
          ],
          "heatmap": [
           {
            "colorbar": {
             "outlinewidth": 0,
             "ticks": ""
            },
            "colorscale": [
             [
              0,
              "#0d0887"
             ],
             [
              0.1111111111111111,
              "#46039f"
             ],
             [
              0.2222222222222222,
              "#7201a8"
             ],
             [
              0.3333333333333333,
              "#9c179e"
             ],
             [
              0.4444444444444444,
              "#bd3786"
             ],
             [
              0.5555555555555556,
              "#d8576b"
             ],
             [
              0.6666666666666666,
              "#ed7953"
             ],
             [
              0.7777777777777778,
              "#fb9f3a"
             ],
             [
              0.8888888888888888,
              "#fdca26"
             ],
             [
              1,
              "#f0f921"
             ]
            ],
            "type": "heatmap"
           }
          ],
          "heatmapgl": [
           {
            "colorbar": {
             "outlinewidth": 0,
             "ticks": ""
            },
            "colorscale": [
             [
              0,
              "#0d0887"
             ],
             [
              0.1111111111111111,
              "#46039f"
             ],
             [
              0.2222222222222222,
              "#7201a8"
             ],
             [
              0.3333333333333333,
              "#9c179e"
             ],
             [
              0.4444444444444444,
              "#bd3786"
             ],
             [
              0.5555555555555556,
              "#d8576b"
             ],
             [
              0.6666666666666666,
              "#ed7953"
             ],
             [
              0.7777777777777778,
              "#fb9f3a"
             ],
             [
              0.8888888888888888,
              "#fdca26"
             ],
             [
              1,
              "#f0f921"
             ]
            ],
            "type": "heatmapgl"
           }
          ],
          "histogram": [
           {
            "marker": {
             "pattern": {
              "fillmode": "overlay",
              "size": 10,
              "solidity": 0.2
             }
            },
            "type": "histogram"
           }
          ],
          "histogram2d": [
           {
            "colorbar": {
             "outlinewidth": 0,
             "ticks": ""
            },
            "colorscale": [
             [
              0,
              "#0d0887"
             ],
             [
              0.1111111111111111,
              "#46039f"
             ],
             [
              0.2222222222222222,
              "#7201a8"
             ],
             [
              0.3333333333333333,
              "#9c179e"
             ],
             [
              0.4444444444444444,
              "#bd3786"
             ],
             [
              0.5555555555555556,
              "#d8576b"
             ],
             [
              0.6666666666666666,
              "#ed7953"
             ],
             [
              0.7777777777777778,
              "#fb9f3a"
             ],
             [
              0.8888888888888888,
              "#fdca26"
             ],
             [
              1,
              "#f0f921"
             ]
            ],
            "type": "histogram2d"
           }
          ],
          "histogram2dcontour": [
           {
            "colorbar": {
             "outlinewidth": 0,
             "ticks": ""
            },
            "colorscale": [
             [
              0,
              "#0d0887"
             ],
             [
              0.1111111111111111,
              "#46039f"
             ],
             [
              0.2222222222222222,
              "#7201a8"
             ],
             [
              0.3333333333333333,
              "#9c179e"
             ],
             [
              0.4444444444444444,
              "#bd3786"
             ],
             [
              0.5555555555555556,
              "#d8576b"
             ],
             [
              0.6666666666666666,
              "#ed7953"
             ],
             [
              0.7777777777777778,
              "#fb9f3a"
             ],
             [
              0.8888888888888888,
              "#fdca26"
             ],
             [
              1,
              "#f0f921"
             ]
            ],
            "type": "histogram2dcontour"
           }
          ],
          "mesh3d": [
           {
            "colorbar": {
             "outlinewidth": 0,
             "ticks": ""
            },
            "type": "mesh3d"
           }
          ],
          "parcoords": [
           {
            "line": {
             "colorbar": {
              "outlinewidth": 0,
              "ticks": ""
             }
            },
            "type": "parcoords"
           }
          ],
          "pie": [
           {
            "automargin": true,
            "type": "pie"
           }
          ],
          "scatter": [
           {
            "marker": {
             "colorbar": {
              "outlinewidth": 0,
              "ticks": ""
             }
            },
            "type": "scatter"
           }
          ],
          "scatter3d": [
           {
            "line": {
             "colorbar": {
              "outlinewidth": 0,
              "ticks": ""
             }
            },
            "marker": {
             "colorbar": {
              "outlinewidth": 0,
              "ticks": ""
             }
            },
            "type": "scatter3d"
           }
          ],
          "scattercarpet": [
           {
            "marker": {
             "colorbar": {
              "outlinewidth": 0,
              "ticks": ""
             }
            },
            "type": "scattercarpet"
           }
          ],
          "scattergeo": [
           {
            "marker": {
             "colorbar": {
              "outlinewidth": 0,
              "ticks": ""
             }
            },
            "type": "scattergeo"
           }
          ],
          "scattergl": [
           {
            "marker": {
             "colorbar": {
              "outlinewidth": 0,
              "ticks": ""
             }
            },
            "type": "scattergl"
           }
          ],
          "scattermapbox": [
           {
            "marker": {
             "colorbar": {
              "outlinewidth": 0,
              "ticks": ""
             }
            },
            "type": "scattermapbox"
           }
          ],
          "scatterpolar": [
           {
            "marker": {
             "colorbar": {
              "outlinewidth": 0,
              "ticks": ""
             }
            },
            "type": "scatterpolar"
           }
          ],
          "scatterpolargl": [
           {
            "marker": {
             "colorbar": {
              "outlinewidth": 0,
              "ticks": ""
             }
            },
            "type": "scatterpolargl"
           }
          ],
          "scatterternary": [
           {
            "marker": {
             "colorbar": {
              "outlinewidth": 0,
              "ticks": ""
             }
            },
            "type": "scatterternary"
           }
          ],
          "surface": [
           {
            "colorbar": {
             "outlinewidth": 0,
             "ticks": ""
            },
            "colorscale": [
             [
              0,
              "#0d0887"
             ],
             [
              0.1111111111111111,
              "#46039f"
             ],
             [
              0.2222222222222222,
              "#7201a8"
             ],
             [
              0.3333333333333333,
              "#9c179e"
             ],
             [
              0.4444444444444444,
              "#bd3786"
             ],
             [
              0.5555555555555556,
              "#d8576b"
             ],
             [
              0.6666666666666666,
              "#ed7953"
             ],
             [
              0.7777777777777778,
              "#fb9f3a"
             ],
             [
              0.8888888888888888,
              "#fdca26"
             ],
             [
              1,
              "#f0f921"
             ]
            ],
            "type": "surface"
           }
          ],
          "table": [
           {
            "cells": {
             "fill": {
              "color": "#EBF0F8"
             },
             "line": {
              "color": "white"
             }
            },
            "header": {
             "fill": {
              "color": "#C8D4E3"
             },
             "line": {
              "color": "white"
             }
            },
            "type": "table"
           }
          ]
         },
         "layout": {
          "annotationdefaults": {
           "arrowcolor": "#2a3f5f",
           "arrowhead": 0,
           "arrowwidth": 1
          },
          "autotypenumbers": "strict",
          "coloraxis": {
           "colorbar": {
            "outlinewidth": 0,
            "ticks": ""
           }
          },
          "colorscale": {
           "diverging": [
            [
             0,
             "#8e0152"
            ],
            [
             0.1,
             "#c51b7d"
            ],
            [
             0.2,
             "#de77ae"
            ],
            [
             0.3,
             "#f1b6da"
            ],
            [
             0.4,
             "#fde0ef"
            ],
            [
             0.5,
             "#f7f7f7"
            ],
            [
             0.6,
             "#e6f5d0"
            ],
            [
             0.7,
             "#b8e186"
            ],
            [
             0.8,
             "#7fbc41"
            ],
            [
             0.9,
             "#4d9221"
            ],
            [
             1,
             "#276419"
            ]
           ],
           "sequential": [
            [
             0,
             "#0d0887"
            ],
            [
             0.1111111111111111,
             "#46039f"
            ],
            [
             0.2222222222222222,
             "#7201a8"
            ],
            [
             0.3333333333333333,
             "#9c179e"
            ],
            [
             0.4444444444444444,
             "#bd3786"
            ],
            [
             0.5555555555555556,
             "#d8576b"
            ],
            [
             0.6666666666666666,
             "#ed7953"
            ],
            [
             0.7777777777777778,
             "#fb9f3a"
            ],
            [
             0.8888888888888888,
             "#fdca26"
            ],
            [
             1,
             "#f0f921"
            ]
           ],
           "sequentialminus": [
            [
             0,
             "#0d0887"
            ],
            [
             0.1111111111111111,
             "#46039f"
            ],
            [
             0.2222222222222222,
             "#7201a8"
            ],
            [
             0.3333333333333333,
             "#9c179e"
            ],
            [
             0.4444444444444444,
             "#bd3786"
            ],
            [
             0.5555555555555556,
             "#d8576b"
            ],
            [
             0.6666666666666666,
             "#ed7953"
            ],
            [
             0.7777777777777778,
             "#fb9f3a"
            ],
            [
             0.8888888888888888,
             "#fdca26"
            ],
            [
             1,
             "#f0f921"
            ]
           ]
          },
          "colorway": [
           "#636efa",
           "#EF553B",
           "#00cc96",
           "#ab63fa",
           "#FFA15A",
           "#19d3f3",
           "#FF6692",
           "#B6E880",
           "#FF97FF",
           "#FECB52"
          ],
          "font": {
           "color": "#2a3f5f"
          },
          "geo": {
           "bgcolor": "white",
           "lakecolor": "white",
           "landcolor": "#E5ECF6",
           "showlakes": true,
           "showland": true,
           "subunitcolor": "white"
          },
          "hoverlabel": {
           "align": "left"
          },
          "hovermode": "closest",
          "mapbox": {
           "style": "light"
          },
          "paper_bgcolor": "white",
          "plot_bgcolor": "#E5ECF6",
          "polar": {
           "angularaxis": {
            "gridcolor": "white",
            "linecolor": "white",
            "ticks": ""
           },
           "bgcolor": "#E5ECF6",
           "radialaxis": {
            "gridcolor": "white",
            "linecolor": "white",
            "ticks": ""
           }
          },
          "scene": {
           "xaxis": {
            "backgroundcolor": "#E5ECF6",
            "gridcolor": "white",
            "gridwidth": 2,
            "linecolor": "white",
            "showbackground": true,
            "ticks": "",
            "zerolinecolor": "white"
           },
           "yaxis": {
            "backgroundcolor": "#E5ECF6",
            "gridcolor": "white",
            "gridwidth": 2,
            "linecolor": "white",
            "showbackground": true,
            "ticks": "",
            "zerolinecolor": "white"
           },
           "zaxis": {
            "backgroundcolor": "#E5ECF6",
            "gridcolor": "white",
            "gridwidth": 2,
            "linecolor": "white",
            "showbackground": true,
            "ticks": "",
            "zerolinecolor": "white"
           }
          },
          "shapedefaults": {
           "line": {
            "color": "#2a3f5f"
           }
          },
          "ternary": {
           "aaxis": {
            "gridcolor": "white",
            "linecolor": "white",
            "ticks": ""
           },
           "baxis": {
            "gridcolor": "white",
            "linecolor": "white",
            "ticks": ""
           },
           "bgcolor": "#E5ECF6",
           "caxis": {
            "gridcolor": "white",
            "linecolor": "white",
            "ticks": ""
           }
          },
          "title": {
           "x": 0.05
          },
          "xaxis": {
           "automargin": true,
           "gridcolor": "white",
           "linecolor": "white",
           "ticks": "",
           "title": {
            "standoff": 15
           },
           "zerolinecolor": "white",
           "zerolinewidth": 2
          },
          "yaxis": {
           "automargin": true,
           "gridcolor": "white",
           "linecolor": "white",
           "ticks": "",
           "title": {
            "standoff": 15
           },
           "zerolinecolor": "white",
           "zerolinewidth": 2
          }
         }
        },
        "width": 600,
        "xaxis": {
         "autorange": true,
         "range": [
          -10,
          10
         ],
         "title": {
          "text": "time (ms)"
         },
         "type": "linear"
        },
        "yaxis": {
         "autorange": true,
         "range": [
          -56.30208757188585,
          43.48958757188585
         ],
         "title": {
          "text": "mV"
         },
         "type": "linear"
        }
       }
      },
      "image/png": "[encoded data removed]",
      "text/html": [
       "<div>                            <div id=\"880dce81-a2ee-4d63-9846-7a9ff0fd4bab\" class=\"plotly-graph-div\" style=\"height:450px; width:600px;\"></div>            <script type=\"text/javascript\">                require([\"plotly\"], function(Plotly) {                    window.PLOTLYENV=window.PLOTLYENV || {};                                    if (document.getElementById(\"880dce81-a2ee-4d63-9846-7a9ff0fd4bab\")) {                    Plotly.newPlot(                        \"880dce81-a2ee-4d63-9846-7a9ff0fd4bab\",                        [{\"mode\":\"lines\",\"name\":\"layer 6\",\"x\":[-10.0,-9.97997997997998,-9.95995995995996,-9.93993993993994,-9.91991991991992,-9.8998998998999,-9.87987987987988,-9.85985985985986,-9.83983983983984,-9.81981981981982,-9.7997997997998,-9.77977977977978,-9.75975975975976,-9.73973973973974,-9.71971971971972,-9.6996996996997,-9.67967967967968,-9.65965965965966,-9.63963963963964,-9.61961961961962,-9.5995995995996,-9.57957957957958,-9.55955955955956,-9.53953953953954,-9.51951951951952,-9.4994994994995,-9.47947947947948,-9.45945945945946,-9.439439439439441,-9.41941941941942,-9.3993993993994,-9.37937937937938,-9.35935935935936,-9.33933933933934,-9.31931931931932,-9.2992992992993,-9.27927927927928,-9.25925925925926,-9.23923923923924,-9.21921921921922,-9.1991991991992,-9.17917917917918,-9.15915915915916,-9.13913913913914,-9.11911911911912,-9.0990990990991,-9.07907907907908,-9.05905905905906,-9.03903903903904,-9.01901901901902,-8.998998998999,-8.97897897897898,-8.95895895895896,-8.93893893893894,-8.91891891891892,-8.8988988988989,-8.87887887887888,-8.85885885885886,-8.83883883883884,-8.81881881881882,-8.7987987987988,-8.77877877877878,-8.75875875875876,-8.73873873873874,-8.71871871871872,-8.6986986986987,-8.67867867867868,-8.65865865865866,-8.63863863863864,-8.618618618618619,-8.598598598598599,-8.578578578578579,-8.558558558558557,-8.538538538538539,-8.518518518518519,-8.498498498498499,-8.478478478478479,-8.458458458458459,-8.438438438438437,-8.418418418418419,-8.398398398398399,-8.378378378378379,-8.358358358358359,-8.338338338338339,-8.318318318318317,-8.298298298298299,-8.278278278278279,-8.258258258258257,-8.238238238238239,-8.218218218218219,-8.198198198198197,-8.178178178178179,-8.158158158158159,-8.138138138138137,-8.118118118118119,-8.098098098098099,-8.078078078078077,-8.058058058058059,-8.038038038038039,-8.018018018018017,-7.997997997997998,-7.977977977977979,-7.957957957957958,-7.937937937937938,-7.917917917917919,-7.897897897897898,-7.877877877877878,-7.857857857857859,-7.837837837837838,-7.817817817817819,-7.797797797797798,-7.777777777777778,-7.7577577577577586,-7.737737737737738,-7.717717717717718,-7.6976976976976985,-7.677677677677678,-7.657657657657658,-7.6376376376376385,-7.617617617617618,-7.597597597597598,-7.577577577577578,-7.5575575575575575,-7.5375375375375375,-7.517517517517518,-7.4974974974974975,-7.4774774774774775,-7.457457457457458,-7.4374374374374375,-7.4174174174174174,-7.397397397397398,-7.377377377377377,-7.357357357357357,-7.337337337337338,-7.317317317317317,-7.297297297297297,-7.277277277277278,-7.257257257257257,-7.237237237237237,-7.217217217217218,-7.197197197197197,-7.177177177177177,-7.157157157157158,-7.137137137137137,-7.117117117117117,-7.097097097097098,-7.077077077077077,-7.057057057057057,-7.037037037037038,-7.017017017017016,-6.996996996996997,-6.976976976976978,-6.956956956956956,-6.936936936936937,-6.916916916916918,-6.896896896896896,-6.876876876876877,-6.856856856856858,-6.836836836836836,-6.816816816816817,-6.796796796796797,-6.776776776776776,-6.756756756756757,-6.736736736736737,-6.716716716716716,-6.696696696696697,-6.676676676676677,-6.656656656656656,-6.636636636636637,-6.616616616616617,-6.596596596596597,-6.576576576576577,-6.556556556556557,-6.536536536536537,-6.516516516516517,-6.496496496496497,-6.476476476476477,-6.456456456456457,-6.436436436436437,-6.416416416416417,-6.396396396396397,-6.376376376376377,-6.356356356356357,-6.336336336336337,-6.316316316316317,-6.296296296296297,-6.276276276276277,-6.256256256256257,-6.236236236236237,-6.216216216216217,-6.196196196196197,-6.176176176176177,-6.156156156156157,-6.136136136136137,-6.116116116116117,-6.096096096096097,-6.076076076076077,-6.056056056056057,-6.036036036036036,-6.0160160160160165,-5.9959959959959965,-5.975975975975976,-5.9559559559559565,-5.9359359359359365,-5.915915915915916,-5.8958958958958965,-5.8758758758758765,-5.8558558558558556,-5.835835835835836,-5.815815815815816,-5.7957957957957955,-5.775775775775776,-5.755755755755756,-5.7357357357357355,-5.715715715715716,-5.695695695695696,-5.675675675675675,-5.655655655655656,-5.635635635635636,-5.615615615615615,-5.595595595595595,-5.575575575575576,-5.555555555555555,-5.535535535535535,-5.515515515515516,-5.495495495495495,-5.475475475475475,-5.455455455455456,-5.435435435435435,-5.415415415415415,-5.395395395395396,-5.375375375375376,-5.355355355355355,-5.335335335335336,-5.315315315315316,-5.295295295295295,-5.275275275275276,-5.255255255255256,-5.235235235235235,-5.215215215215216,-5.195195195195196,-5.175175175175175,-5.155155155155156,-5.135135135135136,-5.115115115115115,-5.095095095095095,-5.075075075075076,-5.055055055055055,-5.035035035035035,-5.015015015015016,-4.994994994994995,-4.974974974974975,-4.954954954954956,-4.934934934934935,-4.914914914914915,-4.894894894894896,-4.874874874874875,-4.854854854854855,-4.834834834834836,-4.814814814814815,-4.794794794794795,-4.774774774774776,-4.754754754754755,-4.734734734734735,-4.714714714714716,-4.694694694694695,-4.674674674674675,-4.654654654654656,-4.634634634634635,-4.614614614614615,-4.594594594594595,-4.574574574574575,-4.554554554554555,-4.534534534534535,-4.514514514514515,-4.494494494494495,-4.474474474474475,-4.454454454454455,-4.434434434434435,-4.414414414414415,-4.394394394394395,-4.374374374374375,-4.354354354354355,-4.334334334334335,-4.314314314314315,-4.2942942942942945,-4.2742742742742745,-4.2542542542542545,-4.2342342342342345,-4.2142142142142145,-4.1941941941941945,-4.1741741741741745,-4.1541541541541545,-4.134134134134134,-4.114114114114114,-4.094094094094094,-4.074074074074074,-4.054054054054054,-4.034034034034034,-4.014014014014014,-3.9939939939939944,-3.973973973973974,-3.9539539539539543,-3.9339339339339343,-3.913913913913914,-3.8938938938938943,-3.8738738738738743,-3.853853853853854,-3.8338338338338347,-3.8138138138138142,-3.793793793793794,-3.7737737737737747,-3.753753753753754,-3.7337337337337337,-3.7137137137137146,-3.693693693693694,-3.6736736736736737,-3.6536536536536546,-3.633633633633634,-3.6136136136136137,-3.5935935935935936,-3.573573573573574,-3.5535535535535536,-3.5335335335335336,-3.513513513513514,-3.4934934934934936,-3.4734734734734736,-3.453453453453454,-3.4334334334334335,-3.4134134134134135,-3.393393393393394,-3.3733733733733735,-3.3533533533533535,-3.333333333333334,-3.3133133133133135,-3.2932932932932935,-3.273273273273274,-3.253253253253254,-3.2332332332332334,-3.213213213213214,-3.193193193193194,-3.1731731731731734,-3.153153153153154,-3.133133133133134,-3.1131131131131133,-3.0930930930930938,-3.0730730730730738,-3.0530530530530533,-3.033033033033033,-3.0130130130130137,-2.9929929929929933,-2.972972972972973,-2.9529529529529537,-2.9329329329329332,-2.9129129129129128,-2.8928928928928936,-2.872872872872873,-2.8528528528528527,-2.8328328328328336,-2.812812812812813,-2.7927927927927927,-2.7727727727727736,-2.752752752752753,-2.7327327327327327,-2.7127127127127135,-2.692692692692693,-2.672672672672673,-2.6526526526526535,-2.632632632632633,-2.612612612612613,-2.5925925925925934,-2.572572572572573,-2.552552552552553,-2.5325325325325325,-2.512512512512513,-2.492492492492493,-2.4724724724724725,-2.452452452452453,-2.432432432432433,-2.4124124124124124,-2.392392392392393,-2.372372372372373,-2.3523523523523524,-2.332332332332333,-2.312312312312313,-2.2922922922922924,-2.272272272272273,-2.252252252252253,-2.2322322322322323,-2.2122122122122128,-2.1921921921921927,-2.1721721721721723,-2.1521521521521527,-2.132132132132132,-2.1121121121121122,-2.0920920920920927,-2.072072072072072,-2.052052052052052,-2.032032032032033,-2.0120120120120117,-1.9919919919919922,-1.9719719719719728,-1.9519519519519517,-1.9319319319319321,-1.9119119119119128,-1.8918918918918917,-1.8718718718718723,-1.8518518518518527,-1.8318318318318316,-1.8118118118118123,-1.7917917917917927,-1.7717717717717716,-1.7517517517517522,-1.7317317317317327,-1.7117117117117115,-1.6916916916916922,-1.6716716716716726,-1.6516516516516515,-1.6316316316316322,-1.6116116116116126,-1.5915915915915915,-1.5715715715715721,-1.5515515515515528,-1.5315315315315314,-1.511511511511512,-1.4914914914914927,-1.4714714714714714,-1.451451451451452,-1.4314314314314327,-1.4114114114114114,-1.391391391391392,-1.3713713713713727,-1.3513513513513513,-1.331331331331332,-1.3113113113113126,-1.2912912912912915,-1.271271271271272,-1.2512512512512508,-1.2312312312312315,-1.211211211211212,-1.1911911911911908,-1.1711711711711714,-1.1511511511511519,-1.1311311311311307,-1.1111111111111114,-1.0910910910910918,-1.0710710710710707,-1.0510510510510513,-1.0310310310310318,-1.0110110110110107,-0.9909909909909913,-0.9709709709709718,-0.9509509509509507,-0.9309309309309313,-0.9109109109109118,-0.8908908908908907,-0.8708708708708712,-0.8508508508508518,-0.8308308308308306,-0.8108108108108112,-0.7907907907907917,-0.7707707707707706,-0.7507507507507512,-0.7307307307307318,-0.7107107107107106,-0.6906906906906911,-0.6706706706706718,-0.6506506506506505,-0.6306306306306311,-0.6106106106106117,-0.5905905905905905,-0.5705705705705711,-0.5505505505505517,-0.5305305305305306,-0.5105105105105111,-0.49049049049049165,-0.47047047047047047,-0.45045045045045107,-0.4304304304304316,-0.4104104104104105,-0.39039039039039103,-0.37037037037037157,-0.35035035035035045,-0.330330330330331,-0.3103103103103116,-0.2902902902902904,-0.27027027027027095,-0.25025025025024983,-0.23023023023023037,-0.21021021021021097,-0.1901901901901898,-0.17017017017017036,-0.15015015015015093,-0.13013013013012975,-0.11011011011011033,-0.0900900900900909,-0.07007007007006974,-0.05005005005005031,-0.03003003003003088,-0.010010010010009715,0.010010010010009715,0.030030030030029145,0.05005005005005031,0.07007007007006974,0.09009009009008917,0.11011011011011033,0.13013013013012975,0.1501501501501492,0.17017017017017036,0.1901901901901898,0.21021021021020922,0.23023023023023037,0.25025025025024983,0.27027027027026923,0.2902902902902904,0.31031031031030987,0.33033033033032927,0.35035035035035045,0.37037037037036985,0.3903903903903893,0.4104104104104105,0.4304304304304299,0.4504504504504493,0.47047047047047047,0.4904904904904899,0.5105105105105093,0.5305305305305306,0.5505505505505499,0.5705705705705694,0.5905905905905905,0.61061061061061,0.6306306306306294,0.6506506506506505,0.67067067067067,0.6906906906906894,0.7107107107107106,0.73073073073073,0.7507507507507495,0.7707707707707706,0.7907907907907901,0.8108108108108112,0.8308308308308306,0.8508508508508501,0.8708708708708712,0.8908908908908907,0.9109109109109101,0.9309309309309313,0.9509509509509507,0.9709709709709701,0.9909909909909913,1.0110110110110107,1.0310310310310302,1.0510510510510513,1.0710710710710707,1.0910910910910903,1.1111111111111114,1.1311311311311307,1.1511511511511503,1.1711711711711714,1.1911911911911908,1.2112112112112101,1.2312312312312315,1.2512512512512508,1.2712712712712702,1.2912912912912915,1.3113113113113108,1.3313313313313302,1.3513513513513513,1.3713713713713709,1.3913913913913902,1.4114114114114114,1.431431431431431,1.4514514514514503,1.4714714714714714,1.491491491491491,1.5115115115115103,1.5315315315315314,1.551551551551551,1.5715715715715703,1.5915915915915915,1.611611611611611,1.6316316316316304,1.6516516516516515,1.671671671671671,1.6916916916916904,1.7117117117117115,1.7317317317317311,1.7517517517517505,1.7717717717717716,1.791791791791791,1.8118118118118123,1.8318318318318316,1.851851851851851,1.8718718718718723,1.8918918918918917,1.911911911911911,1.9319319319319321,1.9519519519519517,1.971971971971971,1.9919919919919922,2.0120120120120117,2.0320320320320313,2.052052052052052,2.072072072072072,2.0920920920920913,2.1121121121121122,2.132132132132132,2.1521521521521514,2.1721721721721723,2.192192192192192,2.2122122122122114,2.2322322322322323,2.252252252252252,2.272272272272271,2.2922922922922924,2.312312312312312,2.332332332332331,2.3523523523523524,2.372372372372372,2.392392392392391,2.4124124124124124,2.432432432432432,2.452452452452451,2.4724724724724725,2.492492492492492,2.512512512512511,2.5325325325325325,2.552552552552552,2.572572572572571,2.5925925925925926,2.612612612612612,2.6326326326326313,2.6526526526526526,2.672672672672672,2.6926926926926913,2.7127127127127126,2.732732732732732,2.7527527527527513,2.7727727727727727,2.792792792792792,2.812812812812813,2.8328328328328327,2.852852852852852,2.872872872872873,2.8928928928928928,2.912912912912912,2.9329329329329332,2.952952952952953,2.972972972972972,2.9929929929929933,3.013013013013013,3.033033033033032,3.0530530530530533,3.073073073073073,3.093093093093092,3.1131131131131133,3.133133133133133,3.153153153153152,3.1731731731731734,3.193193193193193,3.213213213213212,3.2332332332332334,3.253253253253253,3.273273273273272,3.2932932932932935,3.313313313313313,3.333333333333332,3.3533533533533535,3.373373373373373,3.393393393393392,3.4134134134134135,3.4334334334334327,3.4534534534534522,3.4734734734734736,3.4934934934934927,3.5135135135135123,3.5335335335335336,3.5535535535535527,3.5735735735735723,3.5935935935935936,3.6136136136136128,3.6336336336336323,3.6536536536536537,3.673673673673673,3.6936936936936924,3.7137137137137137,3.733733733733733,3.7537537537537524,3.7737737737737738,3.793793793793793,3.8138138138138125,3.833833833833834,3.853853853853853,3.8738738738738743,3.893893893893894,3.913913913913913,3.9339339339339343,3.9539539539539534,3.973973973973973,3.9939939939939944,4.0140140140140135,4.0340340340340335,4.054054054054054,4.0740740740740735,4.0940940940940935,4.114114114114114,4.1341341341341336,4.154154154154154,4.1741741741741745,4.194194194194194,4.214214214214214,4.2342342342342345,4.254254254254254,4.274274274274274,4.2942942942942945,4.314314314314314,4.334334334334333,4.354354354354355,4.374374374374374,4.394394394394393,4.414414414414415,4.434434434434434,4.454454454454453,4.474474474474475,4.494494494494494,4.514514514514513,4.534534534534535,4.554554554554554,4.574574574574573,4.594594594594595,4.614614614614614,4.634634634634633,4.654654654654655,4.674674674674674,4.694694694694693,4.714714714714715,4.734734734734734,4.754754754754753,4.774774774774775,4.794794794794794,4.814814814814813,4.834834834834835,4.854854854854854,4.874874874874875,4.894894894894895,4.914914914914914,4.934934934934935,4.954954954954955,4.974974974974974,4.994994994994995,5.015015015015015,5.035035035035034,5.055055055055055,5.075075075075075,5.095095095095094,5.115115115115115,5.135135135135135,5.155155155155154,5.175175175175175,5.195195195195195,5.215215215215214,5.235235235235235,5.255255255255255,5.275275275275274,5.295295295295295,5.315315315315315,5.335335335335334,5.355355355355355,5.375375375375375,5.395395395395394,5.415415415415415,5.435435435435435,5.455455455455454,5.475475475475475,5.495495495495495,5.5155155155155144,5.535535535535535,5.5555555555555545,5.5755755755755745,5.595595595595595,5.6156156156156145,5.635635635635636,5.655655655655655,5.6756756756756745,5.695695695695695,5.715715715715714,5.735735735735736,5.755755755755756,5.7757757757757755,5.795795795795795,5.815815815815815,5.835835835835834,5.855855855855856,5.8758758758758765,5.895895895895896,5.915915915915915,5.935935935935935,5.955955955955954,5.9759759759759765,5.9959959959959965,6.016016016016016,6.036036036036035,6.056056056056055,6.076076076076074,6.096096096096097,6.116116116116117,6.136136136136136,6.156156156156155,6.176176176176175,6.196196196196194,6.216216216216217,6.236236236236237,6.256256256256256,6.276276276276275,6.296296296296295,6.316316316316314,6.336336336336337,6.356356356356357,6.376376376376376,6.396396396396395,6.416416416416415,6.436436436436438,6.456456456456457,6.476476476476477,6.496496496496496,6.516516516516515,6.536536536536535,6.556556556556558,6.576576576576577,6.596596596596597,6.616616616616616,6.636636636636635,6.656656656656655,6.676676676676678,6.696696696696697,6.716716716716716,6.736736736736736,6.756756756756755,6.776776776776775,6.796796796796798,6.816816816816817,6.836836836836836,6.856856856856856,6.876876876876875,6.8968968968968944,6.916916916916918,6.936936936936937,6.956956956956956,6.976976976976976,6.996996996996995,7.0170170170170145,7.037037037037038,7.057057057057057,7.077077077077076,7.097097097097096,7.1171171171171155,7.137137137137135,7.157157157157158,7.177177177177177,7.197197197197196,7.217217217217216,7.2372372372372356,7.257257257257255,7.277277277277278,7.297297297297297,7.3173173173173165,7.3373373373373365,7.357357357357356,7.377377377377375,7.397397397397398,7.4174174174174174,7.437437437437437,7.457457457457457,7.477477477477476,7.497497497497498,7.517517517517518,7.5375375375375375,7.557557557557557,7.577577577577577,7.597597597597596,7.6176176176176185,7.6376376376376385,7.657657657657658,7.677677677677677,7.697697697697697,7.717717717717716,7.7377377377377385,7.7577577577577586,7.777777777777778,7.797797797797797,7.817817817817817,7.837837837837836,7.857857857857859,7.877877877877878,7.897897897897898,7.917917917917917,7.937937937937937,7.957957957957956,7.977977977977979,7.997997997997998,8.018018018018017,8.038038038038037,8.058058058058057,8.078078078078075,8.098098098098099,8.118118118118119,8.138138138138137,8.158158158158157,8.178178178178177,8.198198198198195,8.218218218218219,8.238238238238239,8.258258258258257,8.278278278278277,8.298298298298297,8.318318318318315,8.338338338338339,8.358358358358359,8.378378378378377,8.398398398398397,8.418418418418417,8.438438438438435,8.458458458458459,8.478478478478479,8.498498498498497,8.518518518518517,8.538538538538537,8.558558558558559,8.578578578578579,8.598598598598599,8.618618618618617,8.638638638638637,8.658658658658657,8.67867867867868,8.6986986986987,8.71871871871872,8.738738738738737,8.758758758758757,8.778778778778777,8.7987987987988,8.81881881881882,8.83883883883884,8.858858858858857,8.878878878878878,8.898898898898898,8.91891891891892,8.93893893893894,8.95895895895896,8.978978978978978,8.998998998998998,9.019019019019018,9.03903903903904,9.05905905905906,9.07907907907908,9.099099099099098,9.119119119119118,9.139139139139138,9.15915915915916,9.17917917917918,9.1991991991992,9.219219219219218,9.239239239239238,9.259259259259258,9.27927927927928,9.2992992992993,9.31931931931932,9.339339339339338,9.359359359359358,9.379379379379378,9.3993993993994,9.41941941941942,9.43943943943944,9.459459459459458,9.479479479479478,9.499499499499501,9.51951951951952,9.53953953953954,9.55955955955956,9.579579579579578,9.599599599599598,9.61961961961962,9.63963963963964,9.65965965965966,9.67967967967968,9.699699699699698,9.719719719719718,9.73973973973974,9.75975975975976,9.77977977977978,9.799799799799798,9.819819819819818,9.839839839839838,9.85985985985986,9.87987987987988,9.8998998998999,9.919919919919918,9.939939939939938,9.959959959959958,9.97997997997998,10.0],\"y\":[-45.46875,-45.375,-45.406253814697266,-45.375,-45.437503814697266,-45.343753814697266,-45.343753814697266,-45.343753814697266,-45.46875,-45.375,-45.375,-45.375,-45.406253814697266,-45.406253814697266,-45.406253814697266,-45.3125,-45.343753814697266,-45.375,-45.375,-45.3125,-45.343753814697266,-45.343753814697266,-45.375,-45.281253814697266,-45.281253814697266,-45.281253814697266,-45.343753814697266,-45.375,-45.375,-45.281253814697266,-45.3125,-45.343753814697266,-45.281253814697266,-45.343753814697266,-45.3125,-45.250003814697266,-45.281253814697266,-45.250003814697266,-45.21875,-45.3125,-45.3125,-45.281253814697266,-45.250003814697266,-45.3125,-45.281253814697266,-45.21875,-45.3125,-45.187503814697266,-45.21875,-45.250003814697266,-45.250003814697266,-45.187503814697266,-45.21875,-45.21875,-45.21875,-45.187503814697266,-45.250003814697266,-45.187503814697266,-45.15625,-45.125003814697266,-45.125003814697266,-45.125003814697266,-45.125003814697266,-45.15625,-45.15625,-45.0625,-45.0,-45.093753814697266,-45.0625,-45.031253814697266,-45.0625,-45.031253814697266,-45.031253814697266,-45.0625,-45.093753814697266,-45.0,-45.0,-45.031253814697266,-45.0,-45.031253814697266,-45.031253814697266,-45.0,-45.0,-45.031253814697266,-45.031253814697266,-45.0,-45.0,-45.0,-44.937503814697266,-44.937503814697266,-44.96875,-45.0,-44.875003814697266,-44.90625,-44.90625,-44.90625,-44.875003814697266,-44.90625,-44.96875,-44.937503814697266,-44.90625,-44.937503814697266,-44.96875,-44.937503814697266,-44.875003814697266,-44.90625,-44.875003814697266,-44.90625,-44.843753814697266,-44.8125,-44.875003814697266,-44.8125,-44.843753814697266,-44.75,-44.781253814697266,-44.781253814697266,-44.75,-44.8125,-44.718753814697266,-44.75,-44.687503814697266,-44.75,-44.718753814697266,-44.75,-44.718753814697266,-44.718753814697266,-44.75,-44.687503814697266,-44.718753814697266,-44.687503814697266,-44.781253814697266,-44.8125,-44.8125,-44.781253814697266,-44.8125,-44.8125,-44.8125,-44.687503814697266,-44.781253814697266,-44.75,-44.65625,-44.718753814697266,-44.781253814697266,-44.75,-44.781253814697266,-44.687503814697266,-44.65625,-44.718753814697266,-44.625003814697266,-44.718753814697266,-44.718753814697266,-44.65625,-44.687503814697266,-44.65625,-44.687503814697266,-44.59375,-44.65625,-44.531253814697266,-44.65625,-44.531253814697266,-44.562503814697266,-44.59375,-44.65625,-44.562503814697266,-44.625003814697266,-44.531253814697266,-44.531253814697266,-44.531253814697266,-44.5,-44.5,-44.562503814697266,-44.562503814697266,-44.562503814697266,-44.562503814697266,-44.531253814697266,-44.5,-44.5,-44.5,-44.5,-44.5,-44.5,-44.5,-44.4375,-44.5,-44.4375,-44.4375,-44.468753814697266,-44.406253814697266,-44.468753814697266,-44.468753814697266,-44.406253814697266,-44.375003814697266,-44.406253814697266,-44.5,-44.406253814697266,-44.468753814697266,-44.4375,-44.406253814697266,-44.4375,-44.375003814697266,-44.375003814697266,-44.34375,-44.406253814697266,-44.406253814697266,-44.406253814697266,-44.406253814697266,-44.375003814697266,-44.375003814697266,-44.312503814697266,-44.4375,-44.406253814697266,-44.34375,-44.34375,-44.34375,-44.28125,-44.312503814697266,-44.312503814697266,-44.28125,-44.312503814697266,-44.25,-44.312503814697266,-44.28125,-44.34375,-44.25,-44.28125,-44.28125,-44.34375,-44.34375,-44.312503814697266,-44.312503814697266,-44.28125,-44.28125,-44.28125,-44.34375,-44.28125,-44.28125,-44.25,-44.25,-44.25,-44.1875,-44.156253814697266,-44.25,-44.218753814697266,-44.28125,-44.28125,-44.28125,-44.1875,-44.1875,-44.218753814697266,-44.1875,-44.218753814697266,-44.28125,-44.218753814697266,-44.156253814697266,-44.28125,-44.1875,-44.218753814697266,-44.125,-44.156253814697266,-44.1875,-44.1875,-44.125,-44.156253814697266,-44.156253814697266,-44.156253814697266,-44.09375,-44.156253814697266,-44.09375,-44.156253814697266,-44.125,-44.125,-44.062503814697266,-44.125,-44.09375,-44.09375,-44.09375,-44.125,-44.09375,-44.09375,-44.09375,-44.09375,-44.09375,-44.03125,-44.062503814697266,-44.062503814697266,-44.062503814697266,-43.968753814697266,-44.000003814697266,-44.03125,-43.968753814697266,-44.03125,-44.03125,-43.968753814697266,-43.9375,-43.968753814697266,-43.9375,-43.968753814697266,-43.9375,-43.906253814697266,-43.875,-43.843753814697266,-43.875,-43.875,-43.750003814697266,-43.78125,-43.71875,-43.78125,-43.78125,-43.71875,-43.78125,-43.843753814697266,-43.843753814697266,-43.78125,-43.78125,-43.78125,-43.78125,-43.687503814697266,-43.750003814697266,-43.750003814697266,-43.656253814697266,-43.78125,-43.750003814697266,-43.687503814697266,-43.78125,-43.71875,-43.71875,-43.656253814697266,-43.656253814697266,-43.593753814697266,-43.656253814697266,-43.687503814697266,-43.687503814697266,-43.687503814697266,-43.656253814697266,-43.656253814697266,-43.625,-43.656253814697266,-43.687503814697266,-43.656253814697266,-43.656253814697266,-43.656253814697266,-43.656253814697266,-43.656253814697266,-43.5625,-43.593753814697266,-43.656253814697266,-43.625,-43.656253814697266,-43.625,-43.593753814697266,-43.625,-43.625,-43.5625,-43.53125,-43.593753814697266,-43.5625,-43.53125,-43.5625,-43.500003814697266,-43.53125,-43.5625,-43.53125,-43.500003814697266,-43.46875,-43.46875,-43.40625,-43.46875,-43.46875,-43.46875,-43.40625,-43.343753814697266,-43.46875,-43.3125,-43.40625,-43.375,-43.343753814697266,-43.250003814697266,-43.3125,-43.250003814697266,-43.250003814697266,-43.343753814697266,-43.250003814697266,-43.250003814697266,-43.281253814697266,-43.187503814697266,-43.21875,-43.281253814697266,-43.21875,-43.15625,-43.187503814697266,-43.15625,-43.187503814697266,-43.187503814697266,-43.15625,-43.15625,-43.125003814697266,-43.031253814697266,-43.093753814697266,-43.093753814697266,-43.0625,-43.093753814697266,-43.0625,-43.0625,-43.0625,-43.031253814697266,-43.0,-43.0,-42.937503814697266,-43.0,-43.031253814697266,-42.968753814697266,-42.937503814697266,-42.937503814697266,-42.968753814697266,-42.875003814697266,-42.937503814697266,-42.875003814697266,-42.875003814697266,-42.812503814697266,-42.84375,-42.812503814697266,-42.812503814697266,-42.75,-42.718753814697266,-42.718753814697266,-42.65625,-42.6875,-42.65625,-42.59375,-42.6875,-42.59375,-42.53125,-42.53125,-42.53125,-42.562503814697266,-42.53125,-42.5,-42.5,-42.562503814697266,-42.53125,-42.5,-42.468753814697266,-42.406253814697266,-42.4375,-42.406253814697266,-42.34375,-42.312503814697266,-42.312503814697266,-42.250003814697266,-42.312503814697266,-42.28125,-42.250003814697266,-42.34375,-42.34375,-42.28125,-42.156253814697266,-42.218753814697266,-42.156253814697266,-42.156253814697266,-42.125,-42.125,-42.156253814697266,-42.125,-42.156253814697266,-42.093753814697266,-42.1875,-42.156253814697266,-42.062503814697266,-42.062503814697266,-42.125,-42.156253814697266,-42.156253814697266,-42.062503814697266,-42.125,-42.03125,-42.062503814697266,-42.03125,-42.000003814697266,-42.03125,-42.000003814697266,-42.03125,-42.03125,-41.96875,-42.000003814697266,-41.875,-41.875,-41.875,-41.875,-41.78125,-41.78125,-41.78125,-41.750003814697266,-41.687503814697266,-41.687503814697266,-41.687503814697266,-41.656253814697266,-41.593753814697266,-41.5625,-41.46875,-41.500003814697266,-41.3125,-41.343753814697266,-41.0625,-40.562503814697266,-39.5,-37.46875,-34.906253814697266,-32.031253814697266,-28.781251907348633,-25.343751907348633,-21.718751907348633,-17.59375,-12.937500953674316,-7.500000476837158,-1.5,4.812500476837158,10.6875,16.125001907348633,20.9375,25.093751907348633,28.562501907348633,31.40625,33.71875,35.468753814697266,36.84375,37.8125,38.28125,38.500003814697266,38.375,38.000003814697266,37.40625,36.656253814697266,35.687503814697266,34.59375,33.468753814697266,32.125,30.718751907348633,29.250001907348633,27.59375,26.0,24.28125,22.5,20.687501907348633,18.9375,17.093751907348633,15.15625,13.312500953674316,11.437500953674316,9.53125,7.531250476837158,5.59375,3.687500238418579,1.625,-0.375,-2.3125,-4.312500476837158,-6.3125,-8.281250953674316,-10.281250953674316,-12.187500953674316,-14.125000953674316,-16.0625,-17.843751907348633,-19.593751907348633,-21.406251907348633,-23.09375,-24.656251907348633,-26.187501907348633,-27.625001907348633,-29.125001907348633,-30.343751907348633,-31.5625,-32.78125,-33.843753814697266,-34.84375,-35.96875,-36.84375,-37.625003814697266,-38.468753814697266,-39.15625,-39.875,-40.53125,-41.125003814697266,-41.71875,-42.250003814697266,-42.781253814697266,-43.187503814697266,-43.593753814697266,-43.968753814697266,-44.468753814697266,-44.8125,-45.031253814697266,-45.343753814697266,-45.71875,-45.9375,-46.218753814697266,-46.5,-46.65625,-46.90625,-47.156253814697266,-47.3125,-47.562503814697266,-47.656253814697266,-47.84375,-48.0,-48.281253814697266,-48.25,-48.437503814697266,-48.5,-48.65625,-48.71875,-48.875003814697266,-49.000003814697266,-49.000003814697266,-49.0625,-49.125,-49.093753814697266,-49.250003814697266,-49.4375,-49.500003814697266,-49.562503814697266,-49.53125,-49.656253814697266,-49.656253814697266,-49.6875,-49.812503814697266,-49.906253814697266,-49.9375,-49.9375,-50.062503814697266,-50.09375,-50.09375,-50.09375,-50.125003814697266,-50.062503814697266,-50.125003814697266,-50.187503814697266,-50.15625,-50.187503814697266,-50.15625,-50.15625,-50.25,-50.281253814697266,-50.281253814697266,-50.281253814697266,-50.25,-50.34375,-50.34375,-50.281253814697266,-50.34375,-50.34375,-50.34375,-50.375003814697266,-50.375003814697266,-50.312503814697266,-50.34375,-50.40625,-50.34375,-50.375003814697266,-50.40625,-50.437503814697266,-50.40625,-50.40625,-50.40625,-50.437503814697266,-50.468753814697266,-50.375003814697266,-50.34375,-50.34375,-50.375003814697266,-50.375003814697266,-50.34375,-50.312503814697266,-50.34375,-50.312503814697266,-50.312503814697266,-50.34375,-50.281253814697266,-50.375003814697266,-50.375003814697266,-50.34375,-50.25,-50.312503814697266,-50.375003814697266,-50.34375,-50.281253814697266,-50.281253814697266,-50.281253814697266,-50.281253814697266,-50.187503814697266,-50.218753814697266,-50.281253814697266,-50.281253814697266,-50.281253814697266,-50.25,-50.218753814697266,-50.218753814697266,-50.25,-50.281253814697266,-50.281253814697266,-50.187503814697266,-50.218753814697266,-50.25,-50.218753814697266,-50.25,-50.187503814697266,-50.25,-50.218753814697266,-50.15625,-50.187503814697266,-50.218753814697266,-50.25,-50.15625,-50.15625,-50.281253814697266,-50.125003814697266,-50.15625,-50.25,-50.218753814697266,-50.187503814697266,-50.25,-50.218753814697266,-50.15625,-50.15625,-50.15625,-50.187503814697266,-50.15625,-50.218753814697266,-50.125003814697266,-50.125003814697266,-50.187503814697266,-50.218753814697266,-50.187503814697266,-50.187503814697266,-50.187503814697266,-50.15625,-50.125003814697266,-50.125003814697266,-50.15625,-50.09375,-50.09375,-50.09375,-50.09375,-50.062503814697266,-50.15625,-50.062503814697266,-50.125003814697266,-50.187503814697266,-50.062503814697266,-50.125003814697266,-50.09375,-50.15625,-50.187503814697266,-50.15625,-50.15625,-50.15625,-50.125003814697266,-50.09375,-50.125003814697266,-50.09375,-50.062503814697266,-50.125003814697266,-50.15625,-50.125003814697266,-50.218753814697266,-50.15625,-50.125003814697266,-50.15625,-50.218753814697266,-50.15625,-50.125003814697266,-50.187503814697266,-50.15625,-50.09375,-50.062503814697266,-50.187503814697266,-50.187503814697266,-50.187503814697266,-50.187503814697266,-50.187503814697266,-50.187503814697266,-50.125003814697266,-50.218753814697266,-50.187503814697266,-50.218753814697266,-50.281253814697266,-50.25,-50.15625,-50.218753814697266,-50.218753814697266,-50.218753814697266,-50.218753814697266,-50.187503814697266,-50.25,-50.25,-50.312503814697266,-50.218753814697266,-50.281253814697266,-50.281253814697266,-50.25,-50.34375,-50.281253814697266,-50.34375,-50.281253814697266,-50.281253814697266,-50.25,-50.312503814697266,-50.281253814697266,-50.281253814697266,-50.34375,-50.34375,-50.25,-50.34375,-50.375003814697266,-50.281253814697266,-50.375003814697266,-50.375003814697266,-50.375003814697266,-50.40625,-50.40625,-50.40625,-50.375003814697266,-50.468753814697266,-50.437503814697266,-50.437503814697266,-50.437503814697266,-50.40625,-50.34375,-50.375003814697266,-50.437503814697266,-50.40625,-50.40625,-50.437503814697266,-50.437503814697266,-50.40625,-50.40625,-50.5,-50.5,-50.5,-50.531253814697266,-50.468753814697266,-50.531253814697266,-50.5,-50.5,-50.468753814697266,-50.531253814697266,-50.5,-50.5,-50.5,-50.5625,-50.531253814697266,-50.5,-50.5625,-50.531253814697266,-50.5625,-50.5625,-50.593753814697266,-50.687503814697266,-50.5625,-50.593753814697266,-50.65625,-50.687503814697266,-50.625003814697266,-50.65625,-50.687503814697266,-50.625003814697266,-50.65625,-50.687503814697266,-50.593753814697266,-50.687503814697266,-50.71875,-50.65625,-50.687503814697266,-50.593753814697266,-50.625003814697266,-50.65625,-50.625003814697266,-50.687503814697266,-50.65625,-50.687503814697266,-50.687503814697266,-50.65625,-50.750003814697266,-50.71875,-50.71875,-50.687503814697266,-50.687503814697266,-50.687503814697266,-50.71875,-50.65625,-50.71875,-50.71875,-50.71875,-50.71875,-50.71875,-50.781253814697266,-50.750003814697266,-50.750003814697266,-50.71875,-50.781253814697266,-50.843753814697266,-50.843753814697266,-50.781253814697266,-50.843753814697266,-50.8125,-50.781253814697266,-50.781253814697266,-50.843753814697266,-50.8125,-50.843753814697266,-50.8125,-50.875,-50.906253814697266,-50.843753814697266,-50.906253814697266,-50.843753814697266,-50.843753814697266,-50.875,-50.843753814697266,-50.906253814697266,-50.843753814697266,-50.906253814697266,-50.843753814697266,-50.843753814697266,-50.8125,-50.906253814697266,-50.906253814697266,-50.937503814697266,-50.875,-50.96875,-50.906253814697266,-51.000003814697266,-50.937503814697266,-50.937503814697266,-50.906253814697266,-50.937503814697266,-50.937503814697266,-50.906253814697266,-50.937503814697266,-50.96875,-51.000003814697266,-50.96875,-50.96875,-51.000003814697266,-50.96875,-51.000003814697266,-51.031253814697266,-51.000003814697266,-51.031253814697266,-51.000003814697266,-51.000003814697266,-51.000003814697266,-51.031253814697266,-51.093753814697266,-51.000003814697266,-51.062503814697266,-51.062503814697266,-51.031253814697266,-51.062503814697266,-51.093753814697266,-51.031253814697266,-51.031253814697266,-51.187503814697266,-51.093753814697266,-51.062503814697266,-51.156253814697266,-51.156253814697266,-51.156253814697266,-51.156253814697266,-51.125,-51.187503814697266,-51.187503814697266,-51.093753814697266,-51.125,-51.187503814697266,-51.187503814697266,-51.156253814697266,-51.156253814697266,-51.125,-51.156253814697266,-51.187503814697266,-51.187503814697266,-51.21875,-51.187503814697266,-51.21875,-51.21875,-51.21875,-51.21875,-51.187503814697266,-51.125,-51.28125,-51.250003814697266,-51.250003814697266,-51.28125,-51.28125,-51.312503814697266,-51.312503814697266,-51.312503814697266,-51.312503814697266,-51.28125],\"type\":\"scatter\"}],                        {\"template\":{\"data\":{\"bar\":[{\"error_x\":{\"color\":\"#2a3f5f\"},\"error_y\":{\"color\":\"#2a3f5f\"},\"marker\":{\"line\":{\"color\":\"#E5ECF6\",\"width\":0.5},\"pattern\":{\"fillmode\":\"overlay\",\"size\":10,\"solidity\":0.2}},\"type\":\"bar\"}],\"barpolar\":[{\"marker\":{\"line\":{\"color\":\"#E5ECF6\",\"width\":0.5},\"pattern\":{\"fillmode\":\"overlay\",\"size\":10,\"solidity\":0.2}},\"type\":\"barpolar\"}],\"carpet\":[{\"aaxis\":{\"endlinecolor\":\"#2a3f5f\",\"gridcolor\":\"white\",\"linecolor\":\"white\",\"minorgridcolor\":\"white\",\"startlinecolor\":\"#2a3f5f\"},\"baxis\":{\"endlinecolor\":\"#2a3f5f\",\"gridcolor\":\"white\",\"linecolor\":\"white\",\"minorgridcolor\":\"white\",\"startlinecolor\":\"#2a3f5f\"},\"type\":\"carpet\"}],\"choropleth\":[{\"colorbar\":{\"outlinewidth\":0,\"ticks\":\"\"},\"type\":\"choropleth\"}],\"contour\":[{\"colorbar\":{\"outlinewidth\":0,\"ticks\":\"\"},\"colorscale\":[[0.0,\"#0d0887\"],[0.1111111111111111,\"#46039f\"],[0.2222222222222222,\"#7201a8\"],[0.3333333333333333,\"#9c179e\"],[0.4444444444444444,\"#bd3786\"],[0.5555555555555556,\"#d8576b\"],[0.6666666666666666,\"#ed7953\"],[0.7777777777777778,\"#fb9f3a\"],[0.8888888888888888,\"#fdca26\"],[1.0,\"#f0f921\"]],\"type\":\"contour\"}],\"contourcarpet\":[{\"colorbar\":{\"outlinewidth\":0,\"ticks\":\"\"},\"type\":\"contourcarpet\"}],\"heatmap\":[{\"colorbar\":{\"outlinewidth\":0,\"ticks\":\"\"},\"colorscale\":[[0.0,\"#0d0887\"],[0.1111111111111111,\"#46039f\"],[0.2222222222222222,\"#7201a8\"],[0.3333333333333333,\"#9c179e\"],[0.4444444444444444,\"#bd3786\"],[0.5555555555555556,\"#d8576b\"],[0.6666666666666666,\"#ed7953\"],[0.7777777777777778,\"#fb9f3a\"],[0.8888888888888888,\"#fdca26\"],[1.0,\"#f0f921\"]],\"type\":\"heatmap\"}],\"heatmapgl\":[{\"colorbar\":{\"outlinewidth\":0,\"ticks\":\"\"},\"colorscale\":[[0.0,\"#0d0887\"],[0.1111111111111111,\"#46039f\"],[0.2222222222222222,\"#7201a8\"],[0.3333333333333333,\"#9c179e\"],[0.4444444444444444,\"#bd3786\"],[0.5555555555555556,\"#d8576b\"],[0.6666666666666666,\"#ed7953\"],[0.7777777777777778,\"#fb9f3a\"],[0.8888888888888888,\"#fdca26\"],[1.0,\"#f0f921\"]],\"type\":\"heatmapgl\"}],\"histogram\":[{\"marker\":{\"pattern\":{\"fillmode\":\"overlay\",\"size\":10,\"solidity\":0.2}},\"type\":\"histogram\"}],\"histogram2d\":[{\"colorbar\":{\"outlinewidth\":0,\"ticks\":\"\"},\"colorscale\":[[0.0,\"#0d0887\"],[0.1111111111111111,\"#46039f\"],[0.2222222222222222,\"#7201a8\"],[0.3333333333333333,\"#9c179e\"],[0.4444444444444444,\"#bd3786\"],[0.5555555555555556,\"#d8576b\"],[0.6666666666666666,\"#ed7953\"],[0.7777777777777778,\"#fb9f3a\"],[0.8888888888888888,\"#fdca26\"],[1.0,\"#f0f921\"]],\"type\":\"histogram2d\"}],\"histogram2dcontour\":[{\"colorbar\":{\"outlinewidth\":0,\"ticks\":\"\"},\"colorscale\":[[0.0,\"#0d0887\"],[0.1111111111111111,\"#46039f\"],[0.2222222222222222,\"#7201a8\"],[0.3333333333333333,\"#9c179e\"],[0.4444444444444444,\"#bd3786\"],[0.5555555555555556,\"#d8576b\"],[0.6666666666666666,\"#ed7953\"],[0.7777777777777778,\"#fb9f3a\"],[0.8888888888888888,\"#fdca26\"],[1.0,\"#f0f921\"]],\"type\":\"histogram2dcontour\"}],\"mesh3d\":[{\"colorbar\":{\"outlinewidth\":0,\"ticks\":\"\"},\"type\":\"mesh3d\"}],\"parcoords\":[{\"line\":{\"colorbar\":{\"outlinewidth\":0,\"ticks\":\"\"}},\"type\":\"parcoords\"}],\"pie\":[{\"automargin\":true,\"type\":\"pie\"}],\"scatter\":[{\"marker\":{\"colorbar\":{\"outlinewidth\":0,\"ticks\":\"\"}},\"type\":\"scatter\"}],\"scatter3d\":[{\"line\":{\"colorbar\":{\"outlinewidth\":0,\"ticks\":\"\"}},\"marker\":{\"colorbar\":{\"outlinewidth\":0,\"ticks\":\"\"}},\"type\":\"scatter3d\"}],\"scattercarpet\":[{\"marker\":{\"colorbar\":{\"outlinewidth\":0,\"ticks\":\"\"}},\"type\":\"scattercarpet\"}],\"scattergeo\":[{\"marker\":{\"colorbar\":{\"outlinewidth\":0,\"ticks\":\"\"}},\"type\":\"scattergeo\"}],\"scattergl\":[{\"marker\":{\"colorbar\":{\"outlinewidth\":0,\"ticks\":\"\"}},\"type\":\"scattergl\"}],\"scattermapbox\":[{\"marker\":{\"colorbar\":{\"outlinewidth\":0,\"ticks\":\"\"}},\"type\":\"scattermapbox\"}],\"scatterpolar\":[{\"marker\":{\"colorbar\":{\"outlinewidth\":0,\"ticks\":\"\"}},\"type\":\"scatterpolar\"}],\"scatterpolargl\":[{\"marker\":{\"colorbar\":{\"outlinewidth\":0,\"ticks\":\"\"}},\"type\":\"scatterpolargl\"}],\"scatterternary\":[{\"marker\":{\"colorbar\":{\"outlinewidth\":0,\"ticks\":\"\"}},\"type\":\"scatterternary\"}],\"surface\":[{\"colorbar\":{\"outlinewidth\":0,\"ticks\":\"\"},\"colorscale\":[[0.0,\"#0d0887\"],[0.1111111111111111,\"#46039f\"],[0.2222222222222222,\"#7201a8\"],[0.3333333333333333,\"#9c179e\"],[0.4444444444444444,\"#bd3786\"],[0.5555555555555556,\"#d8576b\"],[0.6666666666666666,\"#ed7953\"],[0.7777777777777778,\"#fb9f3a\"],[0.8888888888888888,\"#fdca26\"],[1.0,\"#f0f921\"]],\"type\":\"surface\"}],\"table\":[{\"cells\":{\"fill\":{\"color\":\"#EBF0F8\"},\"line\":{\"color\":\"white\"}},\"header\":{\"fill\":{\"color\":\"#C8D4E3\"},\"line\":{\"color\":\"white\"}},\"type\":\"table\"}]},\"layout\":{\"annotationdefaults\":{\"arrowcolor\":\"#2a3f5f\",\"arrowhead\":0,\"arrowwidth\":1},\"autotypenumbers\":\"strict\",\"coloraxis\":{\"colorbar\":{\"outlinewidth\":0,\"ticks\":\"\"}},\"colorscale\":{\"diverging\":[[0,\"#8e0152\"],[0.1,\"#c51b7d\"],[0.2,\"#de77ae\"],[0.3,\"#f1b6da\"],[0.4,\"#fde0ef\"],[0.5,\"#f7f7f7\"],[0.6,\"#e6f5d0\"],[0.7,\"#b8e186\"],[0.8,\"#7fbc41\"],[0.9,\"#4d9221\"],[1,\"#276419\"]],\"sequential\":[[0.0,\"#0d0887\"],[0.1111111111111111,\"#46039f\"],[0.2222222222222222,\"#7201a8\"],[0.3333333333333333,\"#9c179e\"],[0.4444444444444444,\"#bd3786\"],[0.5555555555555556,\"#d8576b\"],[0.6666666666666666,\"#ed7953\"],[0.7777777777777778,\"#fb9f3a\"],[0.8888888888888888,\"#fdca26\"],[1.0,\"#f0f921\"]],\"sequentialminus\":[[0.0,\"#0d0887\"],[0.1111111111111111,\"#46039f\"],[0.2222222222222222,\"#7201a8\"],[0.3333333333333333,\"#9c179e\"],[0.4444444444444444,\"#bd3786\"],[0.5555555555555556,\"#d8576b\"],[0.6666666666666666,\"#ed7953\"],[0.7777777777777778,\"#fb9f3a\"],[0.8888888888888888,\"#fdca26\"],[1.0,\"#f0f921\"]]},\"colorway\":[\"#636efa\",\"#EF553B\",\"#00cc96\",\"#ab63fa\",\"#FFA15A\",\"#19d3f3\",\"#FF6692\",\"#B6E880\",\"#FF97FF\",\"#FECB52\"],\"font\":{\"color\":\"#2a3f5f\"},\"geo\":{\"bgcolor\":\"white\",\"lakecolor\":\"white\",\"landcolor\":\"#E5ECF6\",\"showlakes\":true,\"showland\":true,\"subunitcolor\":\"white\"},\"hoverlabel\":{\"align\":\"left\"},\"hovermode\":\"closest\",\"mapbox\":{\"style\":\"light\"},\"paper_bgcolor\":\"white\",\"plot_bgcolor\":\"#E5ECF6\",\"polar\":{\"angularaxis\":{\"gridcolor\":\"white\",\"linecolor\":\"white\",\"ticks\":\"\"},\"bgcolor\":\"#E5ECF6\",\"radialaxis\":{\"gridcolor\":\"white\",\"linecolor\":\"white\",\"ticks\":\"\"}},\"scene\":{\"xaxis\":{\"backgroundcolor\":\"#E5ECF6\",\"gridcolor\":\"white\",\"gridwidth\":2,\"linecolor\":\"white\",\"showbackground\":true,\"ticks\":\"\",\"zerolinecolor\":\"white\"},\"yaxis\":{\"backgroundcolor\":\"#E5ECF6\",\"gridcolor\":\"white\",\"gridwidth\":2,\"linecolor\":\"white\",\"showbackground\":true,\"ticks\":\"\",\"zerolinecolor\":\"white\"},\"zaxis\":{\"backgroundcolor\":\"#E5ECF6\",\"gridcolor\":\"white\",\"gridwidth\":2,\"linecolor\":\"white\",\"showbackground\":true,\"ticks\":\"\",\"zerolinecolor\":\"white\"}},\"shapedefaults\":{\"line\":{\"color\":\"#2a3f5f\"}},\"ternary\":{\"aaxis\":{\"gridcolor\":\"white\",\"linecolor\":\"white\",\"ticks\":\"\"},\"baxis\":{\"gridcolor\":\"white\",\"linecolor\":\"white\",\"ticks\":\"\"},\"bgcolor\":\"#E5ECF6\",\"caxis\":{\"gridcolor\":\"white\",\"linecolor\":\"white\",\"ticks\":\"\"}},\"title\":{\"x\":0.05},\"xaxis\":{\"automargin\":true,\"gridcolor\":\"white\",\"linecolor\":\"white\",\"ticks\":\"\",\"title\":{\"standoff\":15},\"zerolinecolor\":\"white\",\"zerolinewidth\":2},\"yaxis\":{\"automargin\":true,\"gridcolor\":\"white\",\"linecolor\":\"white\",\"ticks\":\"\",\"title\":{\"standoff\":15},\"zerolinecolor\":\"white\",\"zerolinewidth\":2}}},\"yaxis\":{\"title\":{\"text\":\"mV\"}},\"xaxis\":{\"title\":{\"text\":\"time (ms)\"}},\"width\":600,\"height\":450},                        {\"responsive\": true}                    ).then(function(){\n",
       "                            \n",
       "var gd = document.getElementById('880dce81-a2ee-4d63-9846-7a9ff0fd4bab');\n",
       "var x = new MutationObserver(function (mutations, observer) {{\n",
       "        var display = window.getComputedStyle(gd).display;\n",
       "        if (!display || display === 'none') {{\n",
       "            console.log([gd, 'removed!']);\n",
       "            Plotly.purge(gd);\n",
       "            observer.disconnect();\n",
       "        }}\n",
       "}});\n",
       "\n",
       "// Listen for the removal of the full notebook cells\n",
       "var notebookContainer = gd.closest('#notebook-container');\n",
       "if (notebookContainer) {{\n",
       "    x.observe(notebookContainer, {childList: true});\n",
       "}}\n",
       "\n",
       "// Listen for the clearing of the current output cell\n",
       "var outputEl = gd.closest('.output');\n",
       "if (outputEl) {{\n",
       "    x.observe(outputEl, {childList: true});\n",
       "}}\n",
       "\n",
       "                        })                };                });            </script>        </div>"
      ]
     },
     "metadata": {},
     "output_type": "display_data"
    }
   ],
   "source": [
    "#@markdown Run this cell to plot the action potential \n",
    "#@markdown for a 'canonical' (median value) cell from each specified layer\n",
    "#@markdown for the selected parameter.\n",
    "# parameter_value =  0.08#@param {type:\"number\"} \n",
    "# value_2 =  1.93#@param {type:\"number\"} \n",
    "\n",
    "fig = go.Figure()\n",
    "for col in w_selected_2.value:\n",
    "  mask = full_dataframe['structure_layer_name']==col\n",
    "  parameter_value = np.nanmedian(dataframe.loc[mask,w_vars_2.value])\n",
    "  cell_id = dataframe.loc[mask,w_vars_2.value].sub(parameter_value).abs().idxmin()\n",
    "\n",
    "  win = 0.01\n",
    "  cell_data = ctc.get_ephys_data(cell_id);\n",
    "  # spkt = cell_data.get_spike_times(rheobase_sweep_cell1)\n",
    "  print('')\n",
    "  print('Layer %s cell with %s = %.4f is: %i' %(col,w_vars_2.value,parameter_value,cell_id))\n",
    "  Ival = cell_data.get_sweep_metadata(dataframe.loc[cell_id].rheobase_sweep_number)['aibs_stimulus_amplitude_pa']\n",
    "  print('rheobase current = %i pA' %Ival)\n",
    "  print('')\n",
    "\n",
    "  sweep = cell_data.get_sweep(dataframe.loc[cell_id].rheobase_sweep_number)\n",
    "  spkt = cell_data.get_spike_times(dataframe.loc[cell_id].rheobase_sweep_number)[0]\n",
    "  spk = sweep['response'][int((spkt-win)*sweep['sampling_rate']): int((spkt+win)*sweep['sampling_rate'])]*1e3\n",
    "  time = np.linspace(-win, win, len(spk))*1e3\n",
    "\n",
    "  fig.add_trace(go.Scatter(x = time, y = spk,\n",
    "                         name='layer ' + col,mode='lines'))\n",
    "\n",
    "fig.update_layout(yaxis_title='mV', \n",
    "                  xaxis_title='time (ms)',\n",
    "                  width=600, height=450)\n",
    "fig.show()\n",
    "\n"
   ]
  },
  {
   "cell_type": "markdown",
   "metadata": {
    "id": "zxCFwyfhmLYS"
   },
   "source": [
    "## Neuron diversity among layers\n",
    "\n",
    "Here, we are visualizing action potential physiology of the canonical (median) neuron for each layer based on a electrophysiological parameter. However, there is cell-type diversity within layers as well. You can explore this diversity extensively in an orderly and efficient manner by writing custom code to query the Allen Database. However, even without any coding experience, you can begin explore this diversity by:\n",
    "1. going to the [\"Cell Feature Search\"](https://celltypes.brain-map.org/data) page at the Allen Institute\n",
    "2. selecting specific layers and/or brain regions\n",
    "3. sorting the neurons in that layer in ascending/descending order based on a specific parameter \n",
    "4. browsing the thumbnail images\n",
    "5. clicking on individual thumbnails to see more detail  "
   ]
  },
  {
   "cell_type": "markdown",
   "metadata": {
    "id": "OlUQ4C6myi2H"
   },
   "source": [
    "## Plot individual sweeps from the website\n",
    "\n",
    "Using this cell, you can plot specific sweeps from any cell in the database using the cell's ID (cell_id) and the number of the sweep (sweep_number). "
   ]
  },
  {
   "cell_type": "code",
   "execution_count": null,
   "metadata": {
    "cellView": "form",
    "id": "IEEHIjmkxqNq",
    "tags": [
     "hide-input"
    ]
   },
   "outputs": [],
   "source": [
    "#@markdown Enter the information needed in this form \n",
    "#@markdown and then run the code cell to plot the sweep from that neuron.\n",
    "#@markdown >Note: You can change the figure size (re-run the code cell after changing)\n",
    "cell_id =  None #@param {type:\"number\"} \n",
    "sweep_number = None #@param {type:\"number\"} \n",
    "figure_width = 500 #@param {type:\"number\"} \n",
    "figure_height = 450 #@param {type:\"number\"} \n",
    "\n",
    "cell_data = ctc.get_ephys_data(cell1_id)\n",
    "sweep = cell_data.get_sweep(sweep_number)\n",
    "\n",
    "fig = make_subplots(rows=2, cols=1, \n",
    "                    row_heights=[0.7, 0.3]\n",
    "                    ,shared_xaxes=True) # go.Figure()\n",
    "\n",
    "voltage = sweep['response']*1e3\n",
    "new_fs = 5000\n",
    "step = int(sweep['sampling_rate']/new_fs)\n",
    "voltage_rs = voltage[0::step]\n",
    "time = np.linspace(0,len(voltage)/sweep['sampling_rate'],len(voltage_rs))\n",
    "\n",
    "fig.add_trace(go.Scatter(x = time, y = voltage_rs,\n",
    "                         line_color='black',mode='lines'),\n",
    "              row=1,col=1)\n",
    "\n",
    "current = sweep['stimulus']*1e12\n",
    "new_fs = 500\n",
    "step = int(sweep['sampling_rate']/new_fs)\n",
    "current_rs = current[0::step]\n",
    "time = np.linspace(0,len(current)/sweep['sampling_rate'],len(current_rs))\n",
    "\n",
    "fig.add_trace(go.Scatter(x = time, y = current_rs,\n",
    "                         line_color='black',mode='lines'),\n",
    "              row=2,col=1)\n",
    "\n",
    "fig.update_layout(yaxis_title='mV', \n",
    "                  yaxis2_title='pA',\n",
    "                  xaxis2_title='time (s)',\n",
    "                  showlegend=False,\n",
    "                  width=figure_width, height=figure_height)\n",
    "fig.show()"
   ]
  }
 ],
 "metadata": {
  "colab": {
   "collapsed_sections": [],
   "include_colab_link": true,
   "name": "NotebookColab_CellTypes_InquiryAndAnalysis.ipynb",
   "provenance": []
  },
  "kernelspec": {
   "display_name": "Python 3 (ipykernel)",
   "language": "python",
   "name": "python3"
  },
  "language_info": {
   "codemirror_mode": {
    "name": "ipython",
    "version": 3
   },
   "file_extension": ".py",
   "mimetype": "text/x-python",
   "name": "python",
   "nbconvert_exporter": "python",
   "pygments_lexer": "ipython3",
   "version": "3.8.13"
  },
  "widgets": {
   "application/vnd.jupyter.widget-state+json": {
    "state": {
     "001c2ea238fa4c1c8dc06e2a0025e157": {
      "model_module": "@jupyter-widgets/controls",
      "model_module_version": "1.5.0",
      "model_name": "DescriptionStyleModel",
      "state": {
       "description_width": "200px"
      }
     },
     "018d49d9b13447a69a4d9a4b412d2015": {
      "model_module": "@jupyter-widgets/controls",
      "model_module_version": "1.5.0",
      "model_name": "DescriptionStyleModel",
      "state": {
       "description_width": "200px"
      }
     },
     "0340825b01a04341aee55444f1a2035c": {
      "model_module": "@jupyter-widgets/controls",
      "model_module_version": "1.5.0",
      "model_name": "VBoxModel",
      "state": {
       "_dom_classes": [
        "widget-interact"
       ],
       "children": [
        "IPY_MODEL_f671e717fa50425abb76949d48311b72",
        "IPY_MODEL_1b39af0d86114b1cb63d40cf686a8e6f",
        "IPY_MODEL_b045917e36ae4e47b411c462e1d670f7"
       ],
       "layout": "IPY_MODEL_7ac37cc3d955439db51b8f212a078a74"
      }
     },
     "03c5d5f00a4f4eebbb799a001ab6b76f": {
      "model_module": "@jupyter-widgets/controls",
      "model_module_version": "1.5.0",
      "model_name": "SelectModel",
      "state": {
       "_options_labels": [
        "adaptation",
        "avg_isi",
        "electrode_0_pa",
        "f_i_curve_slope",
        "fast_trough_t_long_square",
        "fast_trough_t_ramp",
        "fast_trough_t_short_square",
        "fast_trough_v_long_square",
        "fast_trough_v_ramp",
        "fast_trough_v_short_square",
        "has_burst",
        "has_delay",
        "has_pause",
        "id",
        "input_resistance_mohm",
        "latency",
        "peak_t_long_square",
        "peak_t_ramp",
        "peak_t_short_square",
        "peak_v_long_square",
        "peak_v_ramp",
        "peak_v_short_square",
        "rheobase_sweep_id",
        "rheobase_sweep_number",
        "ri",
        "sag",
        "seal_gohm",
        "slow_trough_t_long_square",
        "slow_trough_t_ramp",
        "slow_trough_t_short_square",
        "slow_trough_v_long_square",
        "slow_trough_v_ramp",
        "slow_trough_v_short_square",
        "tau",
        "threshold_i_long_square",
        "threshold_i_ramp",
        "threshold_i_short_square",
        "threshold_t_long_square",
        "threshold_t_ramp",
        "threshold_t_short_square",
        "threshold_v_long_square",
        "threshold_v_ramp",
        "threshold_v_short_square",
        "thumbnail_sweep_id",
        "trough_t_long_square",
        "trough_t_ramp",
        "trough_t_short_square",
        "trough_v_long_square",
        "trough_v_ramp",
        "trough_v_short_square",
        "upstroke_downstroke_ratio_long_square",
        "upstroke_downstroke_ratio_ramp",
        "upstroke_downstroke_ratio_short_square",
        "vm_for_sag",
        "vrest"
       ],
       "description": "Feature",
       "index": 0,
       "layout": "IPY_MODEL_b46acaeb9ff745f6aaf7a9d34701b5d4",
       "style": "IPY_MODEL_17c2e022a8174db7ba266ee2a2c198b7"
      }
     },
     "058786a73db547ad96907a0d28f8a113": {
      "model_module": "@jupyter-widgets/controls",
      "model_module_version": "1.5.0",
      "model_name": "SelectModel",
      "state": {
       "_options_labels": [
        "adaptation",
        "avg_isi",
        "electrode_0_pa",
        "f_i_curve_slope",
        "fast_trough_t_long_square",
        "fast_trough_t_ramp",
        "fast_trough_t_short_square",
        "fast_trough_v_long_square",
        "fast_trough_v_ramp",
        "fast_trough_v_short_square",
        "has_burst",
        "has_delay",
        "has_pause",
        "id",
        "input_resistance_mohm",
        "latency",
        "peak_t_long_square",
        "peak_t_ramp",
        "peak_t_short_square",
        "peak_v_long_square",
        "peak_v_ramp",
        "peak_v_short_square",
        "rheobase_sweep_id",
        "rheobase_sweep_number",
        "ri",
        "sag",
        "seal_gohm",
        "slow_trough_t_long_square",
        "slow_trough_t_ramp",
        "slow_trough_t_short_square",
        "slow_trough_v_long_square",
        "slow_trough_v_ramp",
        "slow_trough_v_short_square",
        "tau",
        "threshold_i_long_square",
        "threshold_i_ramp",
        "threshold_i_short_square",
        "threshold_t_long_square",
        "threshold_t_ramp",
        "threshold_t_short_square",
        "threshold_v_long_square",
        "threshold_v_ramp",
        "threshold_v_short_square",
        "thumbnail_sweep_id",
        "trough_t_long_square",
        "trough_t_ramp",
        "trough_t_short_square",
        "trough_v_long_square",
        "trough_v_ramp",
        "trough_v_short_square",
        "upstroke_downstroke_ratio_long_square",
        "upstroke_downstroke_ratio_ramp",
        "upstroke_downstroke_ratio_short_square",
        "vm_for_sag",
        "vrest"
       ],
       "index": 14,
       "layout": "IPY_MODEL_ccc5cdf573674fa0a484ce12efab750b",
       "rows": 10,
       "style": "IPY_MODEL_5ef04f806c47422ab58cf9a1d1fbc605"
      }
     },
     "0a06b6a1aaa64487b8c896ecece8996b": {
      "model_module": "@jupyter-widgets/base",
      "model_module_version": "1.2.0",
      "model_name": "LayoutModel",
      "state": {}
     },
     "0a8790f3ff19425bbf0a594bcaaefdd1": {
      "model_module": "@jupyter-widgets/base",
      "model_module_version": "1.2.0",
      "model_name": "LayoutModel",
      "state": {}
     },
     "0da3420831dd464fba821fb4bfba4e32": {
      "model_module": "@jupyter-widgets/controls",
      "model_module_version": "1.5.0",
      "model_name": "VBoxModel",
      "state": {
       "_dom_classes": [
        "widget-interact"
       ],
       "children": [
        "IPY_MODEL_2456636e66094d2f81b0539dd31e3a70",
        "IPY_MODEL_8b1b584c72fd4e0294d45abaf110c0c7",
        "IPY_MODEL_1be2cdac2f41439c97110d48297afc43"
       ],
       "layout": "IPY_MODEL_e84cc41ca1ba4714838dee8d8bafe60f"
      }
     },
     "101fdb832f834b809ba31bc14eb9f778": {
      "model_module": "@jupyter-widgets/base",
      "model_module_version": "1.2.0",
      "model_name": "LayoutModel",
      "state": {}
     },
     "107c74b554534b1fa2562c2f6f911f16": {
      "model_module": "@jupyter-widgets/controls",
      "model_module_version": "1.5.0",
      "model_name": "DescriptionStyleModel",
      "state": {
       "description_width": ""
      }
     },
     "13fe6d58e8d342d0b3470711cf0f487f": {
      "model_module": "@jupyter-widgets/controls",
      "model_module_version": "1.5.0",
      "model_name": "DescriptionStyleModel",
      "state": {
       "description_width": "200px"
      }
     },
     "1442894df009423c8ca04af4bcef73d2": {
      "model_module": "@jupyter-widgets/output",
      "model_module_version": "1.0.0",
      "model_name": "OutputModel",
      "state": {
       "layout": "IPY_MODEL_e373bf50084142468abec35b566594d3",
       "outputs": [
        {
         "name": "stdout",
         "output_type": "stream",
         "text": "Layer 6a cell with input_resistance_mohm = 209.4547 is: 566304697\nLayer 1 cell with input_resistance_mohm = 269.0844 is: 569492761\nLayer 6b cell with input_resistance_mohm = 191.5929 is: 503823047\n"
        },
        {
         "data": {
          "image/png": "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\n",
          "text/plain": "<Figure size 720x360 with 1 Axes>"
         },
         "metadata": {
          "needs_background": "light"
         },
         "output_type": "display_data"
        }
       ]
      }
     },
     "150fc624354343c79c9cfbc38bc8a609": {
      "model_module": "@jupyter-widgets/controls",
      "model_module_version": "1.5.0",
      "model_name": "SelectMultipleModel",
      "state": {
       "_options_labels": [
        "3",
        "5",
        "2/3",
        "4",
        "6a",
        "2",
        "1",
        "6b",
        "6"
       ],
       "description": "Cortical Layer(s)",
       "index": [],
       "layout": "IPY_MODEL_6f5f3bd4ecba4623b1d6b8b51b2c89d4",
       "rows": 5,
       "style": "IPY_MODEL_fb250cc0a60c44f78647c44fb60e7a36"
      }
     },
     "1581ae399fbc4ba3afaa6b960ca31003": {
      "model_module": "@jupyter-widgets/controls",
      "model_module_version": "1.5.0",
      "model_name": "DescriptionStyleModel",
      "state": {
       "description_width": "200px"
      }
     },
     "16962376f92e4ce38b3abbfcb2e494fb": {
      "model_module": "@jupyter-widgets/base",
      "model_module_version": "1.2.0",
      "model_name": "LayoutModel",
      "state": {}
     },
     "17c2e022a8174db7ba266ee2a2c198b7": {
      "model_module": "@jupyter-widgets/controls",
      "model_module_version": "1.5.0",
      "model_name": "DescriptionStyleModel",
      "state": {
       "description_width": "200px"
      }
     },
     "19cd32f8543b46d3a3cd51d421a4953d": {
      "model_module": "@jupyter-widgets/controls",
      "model_module_version": "1.5.0",
      "model_name": "DescriptionStyleModel",
      "state": {
       "description_width": "200px"
      }
     },
     "19dde7c4082c4e2387c17f5b06cb3d91": {
      "model_module": "@jupyter-widgets/output",
      "model_module_version": "1.0.0",
      "model_name": "OutputModel",
      "state": {
       "layout": "IPY_MODEL_7df9790b122e42c88910549ac0a3d5e7",
       "outputs": [
        {
         "data": {
          "image/png": "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\n",
          "text/plain": "<Figure size 720x360 with 1 Axes>"
         },
         "metadata": {
          "needs_background": "light"
         },
         "output_type": "display_data"
        }
       ]
      }
     },
     "1a79f0dd00c94e4b8628b196cab350a6": {
      "model_module": "@jupyter-widgets/base",
      "model_module_version": "1.2.0",
      "model_name": "LayoutModel",
      "state": {
       "width": "800px"
      }
     },
     "1a8b62e2ecd64302928e4b0dcd6ab7d1": {
      "model_module": "@jupyter-widgets/controls",
      "model_module_version": "1.5.0",
      "model_name": "SelectMultipleModel",
      "state": {
       "_options_labels": [
        "3",
        "5",
        "2/3",
        "4",
        "6a",
        "2",
        "1",
        "6b",
        "6"
       ],
       "description": "Cortical Layer(s)",
       "index": [
        4,
        6,
        7
       ],
       "layout": "IPY_MODEL_6d78131da8744d4faca432859fd637aa",
       "rows": 5,
       "style": "IPY_MODEL_382ce5cd453a49769b3d7d33e9b9daf5"
      }
     },
     "1b1523054ee84c37a3ccf9dcb2a3a5b3": {
      "model_module": "@jupyter-widgets/controls",
      "model_module_version": "1.5.0",
      "model_name": "VBoxModel",
      "state": {
       "_dom_classes": [
        "widget-interact"
       ],
       "children": [
        "IPY_MODEL_f7a7d773720847d7bcc7dc8d07de0eae",
        "IPY_MODEL_3701cb9455b84501a24047ee360c6cbb",
        "IPY_MODEL_a1862d3460044edc9815d96f35606d6f"
       ],
       "layout": "IPY_MODEL_23a203c7c6264609a01b145252f5a753"
      }
     },
     "1b39af0d86114b1cb63d40cf686a8e6f": {
      "model_module": "@jupyter-widgets/controls",
      "model_module_version": "1.5.0",
      "model_name": "SelectModel",
      "state": {
       "_options_labels": [
        "adaptation",
        "avg_isi",
        "electrode_0_pa",
        "f_i_curve_slope",
        "fast_trough_t_long_square",
        "fast_trough_t_ramp",
        "fast_trough_t_short_square",
        "fast_trough_v_long_square",
        "fast_trough_v_ramp",
        "fast_trough_v_short_square",
        "has_burst",
        "has_delay",
        "has_pause",
        "id",
        "input_resistance_mohm",
        "latency",
        "peak_t_long_square",
        "peak_t_ramp",
        "peak_t_short_square",
        "peak_v_long_square",
        "peak_v_ramp",
        "peak_v_short_square",
        "rheobase_sweep_id",
        "rheobase_sweep_number",
        "ri",
        "sag",
        "seal_gohm",
        "slow_trough_t_long_square",
        "slow_trough_t_ramp",
        "slow_trough_t_short_square",
        "slow_trough_v_long_square",
        "slow_trough_v_ramp",
        "slow_trough_v_short_square",
        "tau",
        "threshold_i_long_square",
        "threshold_i_ramp",
        "threshold_i_short_square",
        "threshold_t_long_square",
        "threshold_t_ramp",
        "threshold_t_short_square",
        "threshold_v_long_square",
        "threshold_v_ramp",
        "threshold_v_short_square",
        "thumbnail_sweep_id",
        "trough_t_long_square",
        "trough_t_ramp",
        "trough_t_short_square",
        "trough_v_long_square",
        "trough_v_ramp",
        "trough_v_short_square",
        "upstroke_downstroke_ratio_long_square",
        "upstroke_downstroke_ratio_ramp",
        "upstroke_downstroke_ratio_short_square",
        "vm_for_sag",
        "vrest"
       ],
       "description": "Feature",
       "index": 0,
       "layout": "IPY_MODEL_283e82420bf449a599883a60eedfa816",
       "style": "IPY_MODEL_b385ac5ec75342ed9e22085567e9defe"
      }
     },
     "1be2cdac2f41439c97110d48297afc43": {
      "model_module": "@jupyter-widgets/output",
      "model_module_version": "1.0.0",
      "model_name": "OutputModel",
      "state": {
       "layout": "IPY_MODEL_a1b2be7043c544bca3f5017c81d1ec80",
       "outputs": [
        {
         "data": {
          "image/png": "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\n",
          "text/plain": "<Figure size 720x360 with 1 Axes>"
         },
         "metadata": {
          "needs_background": "light"
         },
         "output_type": "display_data"
        }
       ]
      }
     },
     "1d05f9bcc594428b9df71ddf33639076": {
      "model_module": "@jupyter-widgets/controls",
      "model_module_version": "1.5.0",
      "model_name": "DescriptionStyleModel",
      "state": {
       "description_width": "200px"
      }
     },
     "1d3e1b18689c45b0a2547d8432807d43": {
      "model_module": "@jupyter-widgets/base",
      "model_module_version": "1.2.0",
      "model_name": "LayoutModel",
      "state": {}
     },
     "1f8b2c4c40fc485b8dd9478640535579": {
      "model_module": "@jupyter-widgets/base",
      "model_module_version": "1.2.0",
      "model_name": "LayoutModel",
      "state": {}
     },
     "23a203c7c6264609a01b145252f5a753": {
      "model_module": "@jupyter-widgets/base",
      "model_module_version": "1.2.0",
      "model_name": "LayoutModel",
      "state": {}
     },
     "23e79a3d387649e0ae851fecbeb762c3": {
      "model_module": "@jupyter-widgets/controls",
      "model_module_version": "1.5.0",
      "model_name": "VBoxModel",
      "state": {
       "_dom_classes": [
        "widget-interact"
       ],
       "children": [
        "IPY_MODEL_1a8b62e2ecd64302928e4b0dcd6ab7d1",
        "IPY_MODEL_ea3e70504c374f08976e35e2770082ff",
        "IPY_MODEL_1442894df009423c8ca04af4bcef73d2"
       ],
       "layout": "IPY_MODEL_db5951921a0f4bc6b6b6ca90ac6ac89b"
      }
     },
     "2456636e66094d2f81b0539dd31e3a70": {
      "model_module": "@jupyter-widgets/controls",
      "model_module_version": "1.5.0",
      "model_name": "SelectMultipleModel",
      "state": {
       "_options_labels": [
        "3",
        "5",
        "2/3",
        "4",
        "6a",
        "2",
        "1",
        "6b",
        "6"
       ],
       "description": "Cortical Layer(s)",
       "index": [
        0,
        2
       ],
       "layout": "IPY_MODEL_ff91f6771c384b3080bed4a619dbd6ff",
       "rows": 5,
       "style": "IPY_MODEL_13fe6d58e8d342d0b3470711cf0f487f"
      }
     },
     "283e82420bf449a599883a60eedfa816": {
      "model_module": "@jupyter-widgets/base",
      "model_module_version": "1.2.0",
      "model_name": "LayoutModel",
      "state": {}
     },
     "2a4eac05df104823ae63affa98d30d1f": {
      "model_module": "@jupyter-widgets/controls",
      "model_module_version": "1.5.0",
      "model_name": "SelectMultipleModel",
      "state": {
       "_options_labels": [
        "3",
        "5",
        "2/3",
        "4",
        "6a",
        "2",
        "1",
        "6b",
        "6"
       ],
       "description": "Cortical Layer(s)",
       "index": [
        0
       ],
       "layout": "IPY_MODEL_ec4042a3cae3442bbb9d9b7ff6096336",
       "rows": 5,
       "style": "IPY_MODEL_6d4cc03f35b14c03b459542ac8da387a"
      }
     },
     "2c6b114cce2d4cc3a8dc8382307649e0": {
      "model_module": "@jupyter-widgets/controls",
      "model_module_version": "1.5.0",
      "model_name": "DescriptionStyleModel",
      "state": {
       "description_width": ""
      }
     },
     "2db5a60268ec4a0ca653d8588d98d502": {
      "model_module": "@jupyter-widgets/controls",
      "model_module_version": "1.5.0",
      "model_name": "LabelModel",
      "state": {
       "layout": "IPY_MODEL_94b6673067b7491fab0e217ae3d0a5e6",
       "style": "IPY_MODEL_2c6b114cce2d4cc3a8dc8382307649e0",
       "value": "Layer nan cell ID nan has a median value nan"
      }
     },
     "33424edcc40b42a18fd29cf6b589021a": {
      "model_module": "@jupyter-widgets/base",
      "model_module_version": "1.2.0",
      "model_name": "LayoutModel",
      "state": {}
     },
     "343a883440c04148b3292be744981290": {
      "model_module": "@jupyter-widgets/output",
      "model_module_version": "1.0.0",
      "model_name": "OutputModel",
      "state": {
       "layout": "IPY_MODEL_a398d9789b5c4e1bb52b254c2a48ada2",
       "outputs": [
        {
         "name": "stderr",
         "output_type": "stream",
         "text": "No handles with labels found to put in legend.\n"
        },
        {
         "data": {
          "image/png": "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\n",
          "text/plain": "<Figure size 720x360 with 1 Axes>"
         },
         "metadata": {
          "needs_background": "light"
         },
         "output_type": "display_data"
        }
       ]
      }
     },
     "34c247ceea934c64844edcce81651713": {
      "model_module": "@jupyter-widgets/base",
      "model_module_version": "1.2.0",
      "model_name": "LayoutModel",
      "state": {}
     },
     "35bf4393f0f742c4bb2dbe3d8f143688": {
      "model_module": "@jupyter-widgets/base",
      "model_module_version": "1.2.0",
      "model_name": "LayoutModel",
      "state": {
       "width": "800px"
      }
     },
     "36eefc038a2e43a18c498c166cd18fc6": {
      "model_module": "@jupyter-widgets/controls",
      "model_module_version": "1.5.0",
      "model_name": "SelectModel",
      "state": {
       "_options_labels": [
        "adaptation",
        "avg_isi",
        "electrode_0_pa",
        "f_i_curve_slope",
        "fast_trough_t_long_square",
        "fast_trough_t_ramp",
        "fast_trough_t_short_square",
        "fast_trough_v_long_square",
        "fast_trough_v_ramp",
        "fast_trough_v_short_square",
        "has_burst",
        "has_delay",
        "has_pause",
        "id",
        "input_resistance_mohm",
        "latency",
        "peak_t_long_square",
        "peak_t_ramp",
        "peak_t_short_square",
        "peak_v_long_square",
        "peak_v_ramp",
        "peak_v_short_square",
        "rheobase_sweep_id",
        "rheobase_sweep_number",
        "ri",
        "sag",
        "seal_gohm",
        "slow_trough_t_long_square",
        "slow_trough_t_ramp",
        "slow_trough_t_short_square",
        "slow_trough_v_long_square",
        "slow_trough_v_ramp",
        "slow_trough_v_short_square",
        "tau",
        "threshold_i_long_square",
        "threshold_i_ramp",
        "threshold_i_short_square",
        "threshold_t_long_square",
        "threshold_t_ramp",
        "threshold_t_short_square",
        "threshold_v_long_square",
        "threshold_v_ramp",
        "threshold_v_short_square",
        "thumbnail_sweep_id",
        "trough_t_long_square",
        "trough_t_ramp",
        "trough_t_short_square",
        "trough_v_long_square",
        "trough_v_ramp",
        "trough_v_short_square",
        "upstroke_downstroke_ratio_long_square",
        "upstroke_downstroke_ratio_ramp",
        "upstroke_downstroke_ratio_short_square",
        "vm_for_sag",
        "vrest"
       ],
       "description": "Feature",
       "index": 0,
       "layout": "IPY_MODEL_1f8b2c4c40fc485b8dd9478640535579",
       "style": "IPY_MODEL_cbb0f15e58d04d11bc2599b4b6fa4172"
      }
     },
     "3701cb9455b84501a24047ee360c6cbb": {
      "model_module": "@jupyter-widgets/controls",
      "model_module_version": "1.5.0",
      "model_name": "SelectModel",
      "state": {
       "_options_labels": [
        "adaptation",
        "avg_isi",
        "electrode_0_pa",
        "f_i_curve_slope",
        "fast_trough_t_long_square",
        "fast_trough_t_ramp",
        "fast_trough_t_short_square",
        "fast_trough_v_long_square",
        "fast_trough_v_ramp",
        "fast_trough_v_short_square",
        "has_burst",
        "has_delay",
        "has_pause",
        "id",
        "input_resistance_mohm",
        "latency",
        "peak_t_long_square",
        "peak_t_ramp",
        "peak_t_short_square",
        "peak_v_long_square",
        "peak_v_ramp",
        "peak_v_short_square",
        "rheobase_sweep_id",
        "rheobase_sweep_number",
        "ri",
        "sag",
        "seal_gohm",
        "slow_trough_t_long_square",
        "slow_trough_t_ramp",
        "slow_trough_t_short_square",
        "slow_trough_v_long_square",
        "slow_trough_v_ramp",
        "slow_trough_v_short_square",
        "tau",
        "threshold_i_long_square",
        "threshold_i_ramp",
        "threshold_i_short_square",
        "threshold_t_long_square",
        "threshold_t_ramp",
        "threshold_t_short_square",
        "threshold_v_long_square",
        "threshold_v_ramp",
        "threshold_v_short_square",
        "thumbnail_sweep_id",
        "trough_t_long_square",
        "trough_t_ramp",
        "trough_t_short_square",
        "trough_v_long_square",
        "trough_v_ramp",
        "trough_v_short_square",
        "upstroke_downstroke_ratio_long_square",
        "upstroke_downstroke_ratio_ramp",
        "upstroke_downstroke_ratio_short_square",
        "vm_for_sag",
        "vrest"
       ],
       "description": "Feature",
       "index": 50,
       "layout": "IPY_MODEL_862f35fd5ea14f4d9882f21697d9e9b2",
       "style": "IPY_MODEL_852dc01f75fe458cbe8486d1c230f24a"
      }
     },
     "37333d3d0be34e40b76caeb7743b375d": {
      "model_module": "@jupyter-widgets/base",
      "model_module_version": "1.2.0",
      "model_name": "LayoutModel",
      "state": {}
     },
     "382ce5cd453a49769b3d7d33e9b9daf5": {
      "model_module": "@jupyter-widgets/controls",
      "model_module_version": "1.5.0",
      "model_name": "DescriptionStyleModel",
      "state": {
       "description_width": "200px"
      }
     },
     "387f3c9ac048458da174ae2da9e943c0": {
      "model_module": "@jupyter-widgets/controls",
      "model_module_version": "1.5.0",
      "model_name": "DescriptionStyleModel",
      "state": {
       "description_width": ""
      }
     },
     "3beef31c916e42eaa66ee4180b0d5949": {
      "model_module": "@jupyter-widgets/controls",
      "model_module_version": "1.5.0",
      "model_name": "SelectModel",
      "state": {
       "_options_labels": [
        "adaptation",
        "avg_isi",
        "electrode_0_pa",
        "f_i_curve_slope",
        "fast_trough_t_long_square",
        "fast_trough_t_ramp",
        "fast_trough_t_short_square",
        "fast_trough_v_long_square",
        "fast_trough_v_ramp",
        "fast_trough_v_short_square",
        "has_burst",
        "has_delay",
        "has_pause",
        "id",
        "input_resistance_mohm",
        "latency",
        "peak_t_long_square",
        "peak_t_ramp",
        "peak_t_short_square",
        "peak_v_long_square",
        "peak_v_ramp",
        "peak_v_short_square",
        "rheobase_sweep_id",
        "rheobase_sweep_number",
        "ri",
        "sag",
        "seal_gohm",
        "slow_trough_t_long_square",
        "slow_trough_t_ramp",
        "slow_trough_t_short_square",
        "slow_trough_v_long_square",
        "slow_trough_v_ramp",
        "slow_trough_v_short_square",
        "tau",
        "threshold_i_long_square",
        "threshold_i_ramp",
        "threshold_i_short_square",
        "threshold_t_long_square",
        "threshold_t_ramp",
        "threshold_t_short_square",
        "threshold_v_long_square",
        "threshold_v_ramp",
        "threshold_v_short_square",
        "thumbnail_sweep_id",
        "trough_t_long_square",
        "trough_t_ramp",
        "trough_t_short_square",
        "trough_v_long_square",
        "trough_v_ramp",
        "trough_v_short_square",
        "upstroke_downstroke_ratio_long_square",
        "upstroke_downstroke_ratio_ramp",
        "upstroke_downstroke_ratio_short_square",
        "vm_for_sag",
        "vrest"
       ],
       "description": "Feature",
       "index": 0,
       "layout": "IPY_MODEL_6c4a232d5b574a0da7c3e42a131f2bb7",
       "style": "IPY_MODEL_19cd32f8543b46d3a3cd51d421a4953d"
      }
     },
     "3e4d92eb57fb4370b639800441e911f4": {
      "model_module": "@jupyter-widgets/base",
      "model_module_version": "1.2.0",
      "model_name": "LayoutModel",
      "state": {}
     },
     "4081f92e50974492a5909e7c39ec9ad1": {
      "model_module": "@jupyter-widgets/controls",
      "model_module_version": "1.5.0",
      "model_name": "LabelModel",
      "state": {
       "layout": "IPY_MODEL_de2624c08a7a4d4e97b8593ae2887342",
       "style": "IPY_MODEL_66909cf94916492895f5c4d702125395",
       "value": "Layer 6a cell ID 566304697 has a median value 209.45472"
      }
     },
     "4220b7b0677f4178b96a87a9ade295e1": {
      "model_module": "@jupyter-widgets/controls",
      "model_module_version": "1.5.0",
      "model_name": "SelectMultipleModel",
      "state": {
       "_options_labels": [
        "3",
        "5",
        "2/3",
        "4",
        "6a",
        "2",
        "1",
        "6b",
        "6"
       ],
       "description": "Cortical Layer(s)",
       "index": [
        0
       ],
       "layout": "IPY_MODEL_3e4d92eb57fb4370b639800441e911f4",
       "rows": 5,
       "style": "IPY_MODEL_48a25da5c6ce4cd4b8adb5a44291cf7b"
      }
     },
     "424ccd0449354f8aa6fdac4896904a85": {
      "model_module": "@jupyter-widgets/base",
      "model_module_version": "1.2.0",
      "model_name": "LayoutModel",
      "state": {}
     },
     "43f3758264714a219a0c26565556f5d0": {
      "model_module": "@jupyter-widgets/base",
      "model_module_version": "1.2.0",
      "model_name": "LayoutModel",
      "state": {}
     },
     "47dc33780a04469285bfc9c238a9d367": {
      "model_module": "@jupyter-widgets/controls",
      "model_module_version": "1.5.0",
      "model_name": "VBoxModel",
      "state": {
       "_dom_classes": [
        "widget-interact"
       ],
       "children": [
        "IPY_MODEL_7f52bb53c2974590ac1a631fb69bec61",
        "IPY_MODEL_49ee13d1763740ce861b47301c559874",
        "IPY_MODEL_e8407aa41b0b45a2a6c7f1206c46de65"
       ],
       "layout": "IPY_MODEL_cab86ab8c33d49c2aad2a0b9532f0c11"
      }
     },
     "47e0ca4d7a6347b98c5c8b6016f07ddb": {
      "model_module": "@jupyter-widgets/controls",
      "model_module_version": "1.5.0",
      "model_name": "VBoxModel",
      "state": {
       "_dom_classes": [
        "widget-interact"
       ],
       "children": [
        "IPY_MODEL_b086e1ae5a784c73b571ad9977e42f2a",
        "IPY_MODEL_3beef31c916e42eaa66ee4180b0d5949",
        "IPY_MODEL_fcff257b1ea24a35b7285b18fc0cfb96"
       ],
       "layout": "IPY_MODEL_33424edcc40b42a18fd29cf6b589021a"
      }
     },
     "48616a7483b549c09e3087865def19c1": {
      "model_module": "@jupyter-widgets/controls",
      "model_module_version": "1.5.0",
      "model_name": "DescriptionStyleModel",
      "state": {
       "description_width": ""
      }
     },
     "48a25da5c6ce4cd4b8adb5a44291cf7b": {
      "model_module": "@jupyter-widgets/controls",
      "model_module_version": "1.5.0",
      "model_name": "DescriptionStyleModel",
      "state": {
       "description_width": "200px"
      }
     },
     "48cbe6e8ce6e44648e0b5500bc440001": {
      "model_module": "@jupyter-widgets/base",
      "model_module_version": "1.2.0",
      "model_name": "LayoutModel",
      "state": {}
     },
     "48fca2573e0b4c7196d3e34a73a4d9f0": {
      "model_module": "@jupyter-widgets/controls",
      "model_module_version": "1.5.0",
      "model_name": "DescriptionStyleModel",
      "state": {
       "description_width": ""
      }
     },
     "49e2852608fe44e8ad4438ad8fb3957a": {
      "model_module": "@jupyter-widgets/controls",
      "model_module_version": "1.5.0",
      "model_name": "SelectMultipleModel",
      "state": {
       "_options_labels": [
        "3",
        "5",
        "2/3",
        "4",
        "6a",
        "2",
        "1",
        "6b",
        "6"
       ],
       "description": "Cortical Layer(s)",
       "index": [
        0,
        1,
        2,
        3,
        4,
        5,
        6,
        7,
        8
       ],
       "layout": "IPY_MODEL_43f3758264714a219a0c26565556f5d0",
       "rows": 5,
       "style": "IPY_MODEL_6aceca297e88446b8bed104550f12187"
      }
     },
     "49ee13d1763740ce861b47301c559874": {
      "model_module": "@jupyter-widgets/controls",
      "model_module_version": "1.5.0",
      "model_name": "SelectModel",
      "state": {
       "_options_labels": [
        "adaptation",
        "avg_isi",
        "electrode_0_pa",
        "f_i_curve_slope",
        "fast_trough_t_long_square",
        "fast_trough_t_ramp",
        "fast_trough_t_short_square",
        "fast_trough_v_long_square",
        "fast_trough_v_ramp",
        "fast_trough_v_short_square",
        "has_burst",
        "has_delay",
        "has_pause",
        "id",
        "input_resistance_mohm",
        "latency",
        "peak_t_long_square",
        "peak_t_ramp",
        "peak_t_short_square",
        "peak_v_long_square",
        "peak_v_ramp",
        "peak_v_short_square",
        "rheobase_sweep_id",
        "rheobase_sweep_number",
        "ri",
        "sag",
        "seal_gohm",
        "slow_trough_t_long_square",
        "slow_trough_t_ramp",
        "slow_trough_t_short_square",
        "slow_trough_v_long_square",
        "slow_trough_v_ramp",
        "slow_trough_v_short_square",
        "tau",
        "threshold_i_long_square",
        "threshold_i_ramp",
        "threshold_i_short_square",
        "threshold_t_long_square",
        "threshold_t_ramp",
        "threshold_t_short_square",
        "threshold_v_long_square",
        "threshold_v_ramp",
        "threshold_v_short_square",
        "thumbnail_sweep_id",
        "trough_t_long_square",
        "trough_t_ramp",
        "trough_t_short_square",
        "trough_v_long_square",
        "trough_v_ramp",
        "trough_v_short_square",
        "upstroke_downstroke_ratio_long_square",
        "upstroke_downstroke_ratio_ramp",
        "upstroke_downstroke_ratio_short_square",
        "vm_for_sag",
        "vrest"
       ],
       "description": "Feature",
       "index": 10,
       "layout": "IPY_MODEL_a6870fbbfc9f496c9559b0bf842c69fc",
       "style": "IPY_MODEL_e916eb251d9546548adee3cb5b73d5fb"
      }
     },
     "4e1c3caa25b14bffa419aa914c6b8f40": {
      "model_module": "@jupyter-widgets/controls",
      "model_module_version": "1.5.0",
      "model_name": "SelectMultipleModel",
      "state": {
       "_options_labels": [
        "adaptation",
        "avg_isi",
        "electrode_0_pa",
        "f_i_curve_slope",
        "fast_trough_t_long_square",
        "fast_trough_t_ramp",
        "fast_trough_t_short_square",
        "fast_trough_v_long_square",
        "fast_trough_v_ramp",
        "fast_trough_v_short_square",
        "has_burst",
        "has_delay",
        "has_pause",
        "id",
        "input_resistance_mohm",
        "latency",
        "peak_t_long_square",
        "peak_t_ramp",
        "peak_t_short_square",
        "peak_v_long_square",
        "peak_v_ramp",
        "peak_v_short_square",
        "rheobase_sweep_id",
        "rheobase_sweep_number",
        "ri",
        "sag",
        "seal_gohm",
        "slow_trough_t_long_square",
        "slow_trough_t_ramp",
        "slow_trough_t_short_square",
        "slow_trough_v_long_square",
        "slow_trough_v_ramp",
        "slow_trough_v_short_square",
        "tau",
        "threshold_i_long_square",
        "threshold_i_ramp",
        "threshold_i_short_square",
        "threshold_t_long_square",
        "threshold_t_ramp",
        "threshold_t_short_square",
        "threshold_v_long_square",
        "threshold_v_ramp",
        "threshold_v_short_square",
        "thumbnail_sweep_id",
        "trough_t_long_square",
        "trough_t_ramp",
        "trough_t_short_square",
        "trough_v_long_square",
        "trough_v_ramp",
        "trough_v_short_square",
        "upstroke_downstroke_ratio_long_square",
        "upstroke_downstroke_ratio_ramp",
        "upstroke_downstroke_ratio_short_square",
        "vm_for_sag",
        "vrest"
       ],
       "index": [
        9
       ],
       "layout": "IPY_MODEL_cac31070b2e34558b94fcbf692f14d61",
       "rows": 10,
       "style": "IPY_MODEL_5c290a75bcb2452aab1789b9633d30d9"
      }
     },
     "4eb1e97e8b2c49f2afd83cb8c94ff6d9": {
      "model_module": "@jupyter-widgets/base",
      "model_module_version": "1.2.0",
      "model_name": "LayoutModel",
      "state": {}
     },
     "4ecc0acfe9bc4ec0bab87c1c31bfd02e": {
      "model_module": "@jupyter-widgets/base",
      "model_module_version": "1.2.0",
      "model_name": "LayoutModel",
      "state": {}
     },
     "5088cf34c26e44c09e5b71acfa8b1690": {
      "model_module": "@jupyter-widgets/controls",
      "model_module_version": "1.5.0",
      "model_name": "LabelModel",
      "state": {
       "layout": "IPY_MODEL_1a79f0dd00c94e4b8628b196cab350a6",
       "style": "IPY_MODEL_48fca2573e0b4c7196d3e34a73a4d9f0",
       "value": "Layer 6b cell ID 510136749 has a median value 40.0"
      }
     },
     "5139489101934c7d97c24f1c5ffca159": {
      "model_module": "@jupyter-widgets/controls",
      "model_module_version": "1.5.0",
      "model_name": "SelectMultipleModel",
      "state": {
       "_options_labels": [
        "6a",
        "6b",
        "6"
       ],
       "index": [
        2
       ],
       "layout": "IPY_MODEL_d89cbada45904fc795cd87c2ba006950",
       "rows": 5,
       "style": "IPY_MODEL_48616a7483b549c09e3087865def19c1"
      }
     },
     "57c5a16c4bf34afb9b98c5845e3db235": {
      "model_module": "@jupyter-widgets/controls",
      "model_module_version": "1.5.0",
      "model_name": "SelectModel",
      "state": {
       "_options_labels": [
        "adaptation",
        "avg_isi",
        "electrode_0_pa",
        "f_i_curve_slope",
        "fast_trough_t_long_square",
        "fast_trough_t_ramp",
        "fast_trough_t_short_square",
        "fast_trough_v_long_square",
        "fast_trough_v_ramp",
        "fast_trough_v_short_square",
        "has_burst",
        "has_delay",
        "has_pause",
        "id",
        "input_resistance_mohm",
        "latency",
        "peak_t_long_square",
        "peak_t_ramp",
        "peak_t_short_square",
        "peak_v_long_square",
        "peak_v_ramp",
        "peak_v_short_square",
        "rheobase_sweep_id",
        "rheobase_sweep_number",
        "ri",
        "sag",
        "seal_gohm",
        "slow_trough_t_long_square",
        "slow_trough_t_ramp",
        "slow_trough_t_short_square",
        "slow_trough_v_long_square",
        "slow_trough_v_ramp",
        "slow_trough_v_short_square",
        "tau",
        "threshold_i_long_square",
        "threshold_i_ramp",
        "threshold_i_short_square",
        "threshold_t_long_square",
        "threshold_t_ramp",
        "threshold_t_short_square",
        "threshold_v_long_square",
        "threshold_v_ramp",
        "threshold_v_short_square",
        "thumbnail_sweep_id",
        "trough_t_long_square",
        "trough_t_ramp",
        "trough_t_short_square",
        "trough_v_long_square",
        "trough_v_ramp",
        "trough_v_short_square",
        "upstroke_downstroke_ratio_long_square",
        "upstroke_downstroke_ratio_ramp",
        "upstroke_downstroke_ratio_short_square",
        "vm_for_sag",
        "vrest"
       ],
       "description": "Feature",
       "index": 0,
       "layout": "IPY_MODEL_70570a6b3be9482c92d8701833390fee",
       "style": "IPY_MODEL_628011bae6ba4309a29402e8edca0ab4"
      }
     },
     "583be146cd8f4ee4b125e8bb7e45d568": {
      "model_module": "@jupyter-widgets/controls",
      "model_module_version": "1.5.0",
      "model_name": "DescriptionStyleModel",
      "state": {
       "description_width": "200px"
      }
     },
     "5c290a75bcb2452aab1789b9633d30d9": {
      "model_module": "@jupyter-widgets/controls",
      "model_module_version": "1.5.0",
      "model_name": "DescriptionStyleModel",
      "state": {
       "description_width": ""
      }
     },
     "5d9c4b35997c40efbf113fd934c44422": {
      "model_module": "@jupyter-widgets/controls",
      "model_module_version": "1.5.0",
      "model_name": "SelectModel",
      "state": {
       "_options_labels": [
        "fast_trough_v_long_square",
        "upstroke_downstroke_ratio_long_square"
       ],
       "index": 0,
       "layout": "IPY_MODEL_e7e668f5c42d44d991c0f2a5ec36aaad",
       "style": "IPY_MODEL_cfe09deffcb24711bbec503fa06277af"
      }
     },
     "5ef04f806c47422ab58cf9a1d1fbc605": {
      "model_module": "@jupyter-widgets/controls",
      "model_module_version": "1.5.0",
      "model_name": "DescriptionStyleModel",
      "state": {
       "description_width": ""
      }
     },
     "5f00195fa5304f2aa7ae1e7ba56cf839": {
      "model_module": "@jupyter-widgets/base",
      "model_module_version": "1.2.0",
      "model_name": "LayoutModel",
      "state": {}
     },
     "61af308b03094c7d96b588c4b8a7a8ee": {
      "model_module": "@jupyter-widgets/controls",
      "model_module_version": "1.5.0",
      "model_name": "DescriptionStyleModel",
      "state": {
       "description_width": "200px"
      }
     },
     "628011bae6ba4309a29402e8edca0ab4": {
      "model_module": "@jupyter-widgets/controls",
      "model_module_version": "1.5.0",
      "model_name": "DescriptionStyleModel",
      "state": {
       "description_width": "200px"
      }
     },
     "6384d06b1ca8419899333989b37badad": {
      "model_module": "@jupyter-widgets/base",
      "model_module_version": "1.2.0",
      "model_name": "LayoutModel",
      "state": {}
     },
     "63aad6474f1d4f118ce855ca0dea827d": {
      "model_module": "@jupyter-widgets/base",
      "model_module_version": "1.2.0",
      "model_name": "LayoutModel",
      "state": {}
     },
     "63b1a79d858c4be5b77efce96ff784c2": {
      "model_module": "@jupyter-widgets/controls",
      "model_module_version": "1.5.0",
      "model_name": "VBoxModel",
      "state": {
       "_dom_classes": [
        "widget-interact"
       ],
       "children": [
        "IPY_MODEL_150fc624354343c79c9cfbc38bc8a609",
        "IPY_MODEL_744f306a19e24712bd2ec0d10af4002d",
        "IPY_MODEL_343a883440c04148b3292be744981290"
       ],
       "layout": "IPY_MODEL_d8f91b0d150843cd94163e34623c727d"
      }
     },
     "640de2c97a284be3a0d6f6d1ed7df8b0": {
      "model_module": "@jupyter-widgets/controls",
      "model_module_version": "1.5.0",
      "model_name": "SelectMultipleModel",
      "state": {
       "_options_labels": [
        "3",
        "5",
        "2/3",
        "4",
        "6a",
        "2",
        "1",
        "6b",
        "6"
       ],
       "description": "Cortical Layer(s)",
       "index": [
        0
       ],
       "layout": "IPY_MODEL_86b5298331a14b348f0c072602e1bc6f",
       "rows": 5,
       "style": "IPY_MODEL_1581ae399fbc4ba3afaa6b960ca31003"
      }
     },
     "66909cf94916492895f5c4d702125395": {
      "model_module": "@jupyter-widgets/controls",
      "model_module_version": "1.5.0",
      "model_name": "DescriptionStyleModel",
      "state": {
       "description_width": ""
      }
     },
     "66b8e421d32f49bc8e24bc649be23493": {
      "model_module": "@jupyter-widgets/controls",
      "model_module_version": "1.5.0",
      "model_name": "SelectMultipleModel",
      "state": {
       "_options_labels": [
        "3",
        "5",
        "2/3",
        "4",
        "6a",
        "2",
        "1",
        "6b",
        "6"
       ],
       "index": [
        1,
        6
       ],
       "layout": "IPY_MODEL_d95812de08564435af86b88fe2ed6614",
       "rows": 10,
       "style": "IPY_MODEL_72196243e232445f8c8b5653db5d5d6a"
      }
     },
     "6741aeed9dad44d2ac458f1f24907af5": {
      "model_module": "@jupyter-widgets/controls",
      "model_module_version": "1.5.0",
      "model_name": "DescriptionStyleModel",
      "state": {
       "description_width": "200px"
      }
     },
     "6a308fddfc7648dda052c34954b1b098": {
      "model_module": "@jupyter-widgets/controls",
      "model_module_version": "1.5.0",
      "model_name": "DescriptionStyleModel",
      "state": {
       "description_width": "200px"
      }
     },
     "6a5c9024607646808dde2ae3f50bd944": {
      "model_module": "@jupyter-widgets/base",
      "model_module_version": "1.2.0",
      "model_name": "LayoutModel",
      "state": {}
     },
     "6aceca297e88446b8bed104550f12187": {
      "model_module": "@jupyter-widgets/controls",
      "model_module_version": "1.5.0",
      "model_name": "DescriptionStyleModel",
      "state": {
       "description_width": "200px"
      }
     },
     "6ba953d4c22a40ed8087cfa2455ac9a7": {
      "model_module": "@jupyter-widgets/controls",
      "model_module_version": "1.5.0",
      "model_name": "DescriptionStyleModel",
      "state": {
       "description_width": "200px"
      }
     },
     "6c3c7959a69349918649e25ab5b03847": {
      "model_module": "@jupyter-widgets/controls",
      "model_module_version": "1.5.0",
      "model_name": "DescriptionStyleModel",
      "state": {
       "description_width": "200px"
      }
     },
     "6c4a232d5b574a0da7c3e42a131f2bb7": {
      "model_module": "@jupyter-widgets/base",
      "model_module_version": "1.2.0",
      "model_name": "LayoutModel",
      "state": {}
     },
     "6ced10f49c9342e894c32dec17d5cc66": {
      "model_module": "@jupyter-widgets/controls",
      "model_module_version": "1.5.0",
      "model_name": "DescriptionStyleModel",
      "state": {
       "description_width": ""
      }
     },
     "6d4cc03f35b14c03b459542ac8da387a": {
      "model_module": "@jupyter-widgets/controls",
      "model_module_version": "1.5.0",
      "model_name": "DescriptionStyleModel",
      "state": {
       "description_width": "200px"
      }
     },
     "6d78131da8744d4faca432859fd637aa": {
      "model_module": "@jupyter-widgets/base",
      "model_module_version": "1.2.0",
      "model_name": "LayoutModel",
      "state": {}
     },
     "6ed02359020f4e3e80528f4e548d0ebd": {
      "model_module": "@jupyter-widgets/base",
      "model_module_version": "1.2.0",
      "model_name": "LayoutModel",
      "state": {}
     },
     "6f5f3bd4ecba4623b1d6b8b51b2c89d4": {
      "model_module": "@jupyter-widgets/base",
      "model_module_version": "1.2.0",
      "model_name": "LayoutModel",
      "state": {}
     },
     "70570a6b3be9482c92d8701833390fee": {
      "model_module": "@jupyter-widgets/base",
      "model_module_version": "1.2.0",
      "model_name": "LayoutModel",
      "state": {}
     },
     "70b8965dd7ae4fb0ae1aad7f94e47590": {
      "model_module": "@jupyter-widgets/base",
      "model_module_version": "1.2.0",
      "model_name": "LayoutModel",
      "state": {}
     },
     "72196243e232445f8c8b5653db5d5d6a": {
      "model_module": "@jupyter-widgets/controls",
      "model_module_version": "1.5.0",
      "model_name": "DescriptionStyleModel",
      "state": {
       "description_width": ""
      }
     },
     "72d03d263a8a47c2ae9d96fdf42b311b": {
      "model_module": "@jupyter-widgets/controls",
      "model_module_version": "1.5.0",
      "model_name": "SelectModel",
      "state": {
       "_options_labels": [
        "fast_trough_v_long_square",
        "vrest"
       ],
       "index": 0,
       "layout": "IPY_MODEL_aae4f231bcd9482c805e39b9916d6b24",
       "style": "IPY_MODEL_107c74b554534b1fa2562c2f6f911f16"
      }
     },
     "744f306a19e24712bd2ec0d10af4002d": {
      "model_module": "@jupyter-widgets/controls",
      "model_module_version": "1.5.0",
      "model_name": "SelectModel",
      "state": {
       "_options_labels": [
        "adaptation",
        "avg_isi",
        "electrode_0_pa",
        "f_i_curve_slope",
        "fast_trough_t_long_square",
        "fast_trough_t_ramp",
        "fast_trough_t_short_square",
        "fast_trough_v_long_square",
        "fast_trough_v_ramp",
        "fast_trough_v_short_square",
        "has_burst",
        "has_delay",
        "has_pause",
        "id",
        "input_resistance_mohm",
        "latency",
        "peak_t_long_square",
        "peak_t_ramp",
        "peak_t_short_square",
        "peak_v_long_square",
        "peak_v_ramp",
        "peak_v_short_square",
        "rheobase_sweep_id",
        "rheobase_sweep_number",
        "ri",
        "sag",
        "seal_gohm",
        "slow_trough_t_long_square",
        "slow_trough_t_ramp",
        "slow_trough_t_short_square",
        "slow_trough_v_long_square",
        "slow_trough_v_ramp",
        "slow_trough_v_short_square",
        "tau",
        "threshold_i_long_square",
        "threshold_i_ramp",
        "threshold_i_short_square",
        "threshold_t_long_square",
        "threshold_t_ramp",
        "threshold_t_short_square",
        "threshold_v_long_square",
        "threshold_v_ramp",
        "threshold_v_short_square",
        "thumbnail_sweep_id",
        "trough_t_long_square",
        "trough_t_ramp",
        "trough_t_short_square",
        "trough_v_long_square",
        "trough_v_ramp",
        "trough_v_short_square",
        "upstroke_downstroke_ratio_long_square",
        "upstroke_downstroke_ratio_ramp",
        "upstroke_downstroke_ratio_short_square",
        "vm_for_sag",
        "vrest"
       ],
       "description": "Feature",
       "index": 0,
       "layout": "IPY_MODEL_adf4e8271a364f25946d8945ddcdf41d",
       "style": "IPY_MODEL_c29d7d83baa640d2be024b6e88cb76ea"
      }
     },
     "7ac37cc3d955439db51b8f212a078a74": {
      "model_module": "@jupyter-widgets/base",
      "model_module_version": "1.2.0",
      "model_name": "LayoutModel",
      "state": {}
     },
     "7b70e65a89fe48c18a86640518bfcb9b": {
      "model_module": "@jupyter-widgets/controls",
      "model_module_version": "1.5.0",
      "model_name": "VBoxModel",
      "state": {
       "_dom_classes": [
        "widget-interact"
       ],
       "children": [
        "IPY_MODEL_2a4eac05df104823ae63affa98d30d1f",
        "IPY_MODEL_36eefc038a2e43a18c498c166cd18fc6",
        "IPY_MODEL_fd5c2fa339fa416db5a0ff6c30277d97"
       ],
       "layout": "IPY_MODEL_63aad6474f1d4f118ce855ca0dea827d"
      }
     },
     "7ba7ef8b09e14fb0868465ba5ce6a5c0": {
      "model_module": "@jupyter-widgets/controls",
      "model_module_version": "1.5.0",
      "model_name": "DescriptionStyleModel",
      "state": {
       "description_width": "200px"
      }
     },
     "7c9888b411b9451b9ea49848a237a6db": {
      "model_module": "@jupyter-widgets/base",
      "model_module_version": "1.2.0",
      "model_name": "LayoutModel",
      "state": {}
     },
     "7df9790b122e42c88910549ac0a3d5e7": {
      "model_module": "@jupyter-widgets/base",
      "model_module_version": "1.2.0",
      "model_name": "LayoutModel",
      "state": {}
     },
     "7f52bb53c2974590ac1a631fb69bec61": {
      "model_module": "@jupyter-widgets/controls",
      "model_module_version": "1.5.0",
      "model_name": "SelectMultipleModel",
      "state": {
       "_options_labels": [
        "3",
        "5",
        "2/3",
        "4",
        "6a",
        "2",
        "1",
        "6b",
        "6"
       ],
       "description": "Cortical Layer(s)",
       "index": [
        0,
        1,
        2
       ],
       "layout": "IPY_MODEL_d61e3a8c2da24e429602745e758b9afb",
       "rows": 5,
       "style": "IPY_MODEL_018d49d9b13447a69a4d9a4b412d2015"
      }
     },
     "8030c5913a374b83a4fdb26b6aac22ca": {
      "model_module": "@jupyter-widgets/controls",
      "model_module_version": "1.5.0",
      "model_name": "SelectModel",
      "state": {
       "_options_labels": [
        "adaptation",
        "avg_isi",
        "electrode_0_pa",
        "f_i_curve_slope",
        "fast_trough_t_long_square",
        "fast_trough_t_ramp",
        "fast_trough_t_short_square",
        "fast_trough_v_long_square",
        "fast_trough_v_ramp",
        "fast_trough_v_short_square",
        "has_burst",
        "has_delay",
        "has_pause",
        "id",
        "input_resistance_mohm",
        "latency",
        "peak_t_long_square",
        "peak_t_ramp",
        "peak_t_short_square",
        "peak_v_long_square",
        "peak_v_ramp",
        "peak_v_short_square",
        "rheobase_sweep_id",
        "rheobase_sweep_number",
        "ri",
        "sag",
        "seal_gohm",
        "slow_trough_t_long_square",
        "slow_trough_t_ramp",
        "slow_trough_t_short_square",
        "slow_trough_v_long_square",
        "slow_trough_v_ramp",
        "slow_trough_v_short_square",
        "tau",
        "threshold_i_long_square",
        "threshold_i_ramp",
        "threshold_i_short_square",
        "threshold_t_long_square",
        "threshold_t_ramp",
        "threshold_t_short_square",
        "threshold_v_long_square",
        "threshold_v_ramp",
        "threshold_v_short_square",
        "thumbnail_sweep_id",
        "trough_t_long_square",
        "trough_t_ramp",
        "trough_t_short_square",
        "trough_v_long_square",
        "trough_v_ramp",
        "trough_v_short_square",
        "upstroke_downstroke_ratio_long_square",
        "upstroke_downstroke_ratio_ramp",
        "upstroke_downstroke_ratio_short_square",
        "vm_for_sag",
        "vrest"
       ],
       "description": "Feature",
       "index": 0,
       "layout": "IPY_MODEL_99f7a3d295384012888b778403651d66",
       "style": "IPY_MODEL_6c3c7959a69349918649e25ab5b03847"
      }
     },
     "821726979f274d6f8b23d885f3a43198": {
      "model_module": "@jupyter-widgets/controls",
      "model_module_version": "1.5.0",
      "model_name": "VBoxModel",
      "state": {
       "_dom_classes": [
        "widget-interact"
       ],
       "children": [
        "IPY_MODEL_8e3f90eee2c141d390afba76bb6fadd6",
        "IPY_MODEL_8f0e3278cb3547b5b53c77d9dc646252",
        "IPY_MODEL_da1d5558daac4b858982da59f05efdac"
       ],
       "layout": "IPY_MODEL_fc838c66b22f4d2781dfafd02ba2bdee"
      }
     },
     "852dc01f75fe458cbe8486d1c230f24a": {
      "model_module": "@jupyter-widgets/controls",
      "model_module_version": "1.5.0",
      "model_name": "DescriptionStyleModel",
      "state": {
       "description_width": "200px"
      }
     },
     "862f35fd5ea14f4d9882f21697d9e9b2": {
      "model_module": "@jupyter-widgets/base",
      "model_module_version": "1.2.0",
      "model_name": "LayoutModel",
      "state": {}
     },
     "86b5298331a14b348f0c072602e1bc6f": {
      "model_module": "@jupyter-widgets/base",
      "model_module_version": "1.2.0",
      "model_name": "LayoutModel",
      "state": {}
     },
     "8734c6573fa0472ca54df93dbf282c32": {
      "model_module": "@jupyter-widgets/controls",
      "model_module_version": "1.5.0",
      "model_name": "VBoxModel",
      "state": {
       "_dom_classes": [
        "widget-interact"
       ],
       "children": [
        "IPY_MODEL_8cc9b8eeddfb48ddb1eb8dfb19814cfa",
        "IPY_MODEL_57c5a16c4bf34afb9b98c5845e3db235",
        "IPY_MODEL_8eca5e4dd1ca46d3b98ec1c510155784"
       ],
       "layout": "IPY_MODEL_a1df44a5bb76468eb29c5acc4ce82f1f"
      }
     },
     "8b0e4ead9ee44763bad598c02c51b199": {
      "model_module": "@jupyter-widgets/base",
      "model_module_version": "1.2.0",
      "model_name": "LayoutModel",
      "state": {}
     },
     "8b1b584c72fd4e0294d45abaf110c0c7": {
      "model_module": "@jupyter-widgets/controls",
      "model_module_version": "1.5.0",
      "model_name": "SelectModel",
      "state": {
       "_options_labels": [
        "adaptation",
        "avg_isi",
        "electrode_0_pa",
        "f_i_curve_slope",
        "fast_trough_t_long_square",
        "fast_trough_t_ramp",
        "fast_trough_t_short_square",
        "fast_trough_v_long_square",
        "fast_trough_v_ramp",
        "fast_trough_v_short_square",
        "has_burst",
        "has_delay",
        "has_pause",
        "id",
        "input_resistance_mohm",
        "latency",
        "peak_t_long_square",
        "peak_t_ramp",
        "peak_t_short_square",
        "peak_v_long_square",
        "peak_v_ramp",
        "peak_v_short_square",
        "rheobase_sweep_id",
        "rheobase_sweep_number",
        "ri",
        "sag",
        "seal_gohm",
        "slow_trough_t_long_square",
        "slow_trough_t_ramp",
        "slow_trough_t_short_square",
        "slow_trough_v_long_square",
        "slow_trough_v_ramp",
        "slow_trough_v_short_square",
        "tau",
        "threshold_i_long_square",
        "threshold_i_ramp",
        "threshold_i_short_square",
        "threshold_t_long_square",
        "threshold_t_ramp",
        "threshold_t_short_square",
        "threshold_v_long_square",
        "threshold_v_ramp",
        "threshold_v_short_square",
        "thumbnail_sweep_id",
        "trough_t_long_square",
        "trough_t_ramp",
        "trough_t_short_square",
        "trough_v_long_square",
        "trough_v_ramp",
        "trough_v_short_square",
        "upstroke_downstroke_ratio_long_square",
        "upstroke_downstroke_ratio_ramp",
        "upstroke_downstroke_ratio_short_square",
        "vm_for_sag",
        "vrest"
       ],
       "description": "Feature",
       "index": 0,
       "layout": "IPY_MODEL_b59ce7c7c80946839007fbaeaccab3ba",
       "style": "IPY_MODEL_61af308b03094c7d96b588c4b8a7a8ee"
      }
     },
     "8c1a331634e84e5ab3edc335d5e0b1cc": {
      "model_module": "@jupyter-widgets/controls",
      "model_module_version": "1.5.0",
      "model_name": "DescriptionStyleModel",
      "state": {
       "description_width": "200px"
      }
     },
     "8cb417635a4b4ad0a2b61c73c550d9cf": {
      "model_module": "@jupyter-widgets/controls",
      "model_module_version": "1.5.0",
      "model_name": "SelectMultipleModel",
      "state": {
       "_options_labels": [
        "3",
        "5",
        "2/3",
        "4",
        "6a",
        "2",
        "1",
        "6b",
        "6"
       ],
       "description": "Cortical Layer(s)",
       "index": [
        4
       ],
       "layout": "IPY_MODEL_16962376f92e4ce38b3abbfcb2e494fb",
       "rows": 5,
       "style": "IPY_MODEL_001c2ea238fa4c1c8dc06e2a0025e157"
      }
     },
     "8cc9b8eeddfb48ddb1eb8dfb19814cfa": {
      "model_module": "@jupyter-widgets/controls",
      "model_module_version": "1.5.0",
      "model_name": "SelectMultipleModel",
      "state": {
       "_options_labels": [
        "3",
        "5",
        "2/3",
        "4",
        "6a",
        "2",
        "1",
        "6b",
        "6"
       ],
       "description": "Cortical Layer(s)",
       "index": [
        0
       ],
       "layout": "IPY_MODEL_1d3e1b18689c45b0a2547d8432807d43",
       "rows": 5,
       "style": "IPY_MODEL_1d05f9bcc594428b9df71ddf33639076"
      }
     },
     "8e3f90eee2c141d390afba76bb6fadd6": {
      "model_module": "@jupyter-widgets/controls",
      "model_module_version": "1.5.0",
      "model_name": "SelectMultipleModel",
      "state": {
       "_options_labels": [
        "3",
        "5",
        "2/3",
        "4",
        "6a",
        "2",
        "1",
        "6b",
        "6"
       ],
       "description": "Cortical Layer(s)",
       "index": [
        3,
        4,
        5,
        6,
        7
       ],
       "layout": "IPY_MODEL_8b0e4ead9ee44763bad598c02c51b199",
       "rows": 5,
       "style": "IPY_MODEL_b4bfc04ce02542a89c7fab4d4acddff9"
      }
     },
     "8eca5e4dd1ca46d3b98ec1c510155784": {
      "model_module": "@jupyter-widgets/output",
      "model_module_version": "1.0.0",
      "model_name": "OutputModel",
      "state": {
       "layout": "IPY_MODEL_f54b8a8c6c74444691b91f2ada3cf4bc",
       "outputs": [
        {
         "ename": "AttributeError",
         "evalue": "'str' object has no attribute 'value'",
         "output_type": "error",
         "traceback": [
          "\u001b[0;31m---------------------------------------------------------------------------\u001b[0m",
          "\u001b[0;31mAttributeError\u001b[0m                            Traceback (most recent call last)",
          "File \u001b[0;32m~/opt/anaconda3/envs/neurolab/lib/python3.8/site-packages/ipywidgets/widgets/interaction.py:257\u001b[0m, in \u001b[0;36minteractive.update\u001b[0;34m(self, *args)\u001b[0m\n\u001b[1;32m    255\u001b[0m     value \u001b[38;5;241m=\u001b[39m widget\u001b[38;5;241m.\u001b[39mget_interact_value()\n\u001b[1;32m    256\u001b[0m     \u001b[38;5;28mself\u001b[39m\u001b[38;5;241m.\u001b[39mkwargs[widget\u001b[38;5;241m.\u001b[39m_kwarg] \u001b[38;5;241m=\u001b[39m value\n\u001b[0;32m--> 257\u001b[0m \u001b[38;5;28mself\u001b[39m\u001b[38;5;241m.\u001b[39mresult \u001b[38;5;241m=\u001b[39m \u001b[38;5;28;43mself\u001b[39;49m\u001b[38;5;241;43m.\u001b[39;49m\u001b[43mf\u001b[49m\u001b[43m(\u001b[49m\u001b[38;5;241;43m*\u001b[39;49m\u001b[38;5;241;43m*\u001b[39;49m\u001b[38;5;28;43mself\u001b[39;49m\u001b[38;5;241;43m.\u001b[39;49m\u001b[43mkwargs\u001b[49m\u001b[43m)\u001b[49m\n\u001b[1;32m    258\u001b[0m show_inline_matplotlib_plots()\n\u001b[1;32m    259\u001b[0m \u001b[38;5;28;01mif\u001b[39;00m \u001b[38;5;28mself\u001b[39m\u001b[38;5;241m.\u001b[39mauto_display \u001b[38;5;129;01mand\u001b[39;00m \u001b[38;5;28mself\u001b[39m\u001b[38;5;241m.\u001b[39mresult \u001b[38;5;129;01mis\u001b[39;00m \u001b[38;5;129;01mnot\u001b[39;00m \u001b[38;5;28;01mNone\u001b[39;00m:\n",
          "Input \u001b[0;32mIn [39]\u001b[0m, in \u001b[0;36mupdate_plot\u001b[0;34m(layer_, feature_)\u001b[0m\n\u001b[1;32m     34\u001b[0m \u001b[38;5;28;01mfor\u001b[39;00m col \u001b[38;5;129;01min\u001b[39;00m layer_:\n\u001b[1;32m     35\u001b[0m     mask \u001b[38;5;241m=\u001b[39m full_dataframe[\u001b[38;5;124m'\u001b[39m\u001b[38;5;124mstructure_layer_name\u001b[39m\u001b[38;5;124m'\u001b[39m]\u001b[38;5;241m==\u001b[39mcol\n\u001b[0;32m---> 36\u001b[0m     ephys \u001b[38;5;241m=\u001b[39m dataframe\u001b[38;5;241m.\u001b[39mloc[mask,\u001b[43mfeature_\u001b[49m\u001b[38;5;241;43m.\u001b[39;49m\u001b[43mvalue\u001b[49m]\n\u001b[1;32m     37\u001b[0m     medval \u001b[38;5;241m=\u001b[39m np\u001b[38;5;241m.\u001b[39mnanmedian(ephys)\n\u001b[1;32m     39\u001b[0m     ax\u001b[38;5;241m.\u001b[39mhist(ephys,label\u001b[38;5;241m=\u001b[39m\u001b[38;5;124m'\u001b[39m\u001b[38;5;124mlayer\u001b[39m\u001b[38;5;124m'\u001b[39m \u001b[38;5;241m+\u001b[39m col)\n",
          "\u001b[0;31mAttributeError\u001b[0m: 'str' object has no attribute 'value'"
         ]
        }
       ]
      }
     },
     "8f0e3278cb3547b5b53c77d9dc646252": {
      "model_module": "@jupyter-widgets/controls",
      "model_module_version": "1.5.0",
      "model_name": "SelectModel",
      "state": {
       "_options_labels": [
        "adaptation",
        "avg_isi",
        "electrode_0_pa",
        "f_i_curve_slope",
        "fast_trough_t_long_square",
        "fast_trough_t_ramp",
        "fast_trough_t_short_square",
        "fast_trough_v_long_square",
        "fast_trough_v_ramp",
        "fast_trough_v_short_square",
        "has_burst",
        "has_delay",
        "has_pause",
        "id",
        "input_resistance_mohm",
        "latency",
        "peak_t_long_square",
        "peak_t_ramp",
        "peak_t_short_square",
        "peak_v_long_square",
        "peak_v_ramp",
        "peak_v_short_square",
        "rheobase_sweep_id",
        "rheobase_sweep_number",
        "ri",
        "sag",
        "seal_gohm",
        "slow_trough_t_long_square",
        "slow_trough_t_ramp",
        "slow_trough_t_short_square",
        "slow_trough_v_long_square",
        "slow_trough_v_ramp",
        "slow_trough_v_short_square",
        "tau",
        "threshold_i_long_square",
        "threshold_i_ramp",
        "threshold_i_short_square",
        "threshold_t_long_square",
        "threshold_t_ramp",
        "threshold_t_short_square",
        "threshold_v_long_square",
        "threshold_v_ramp",
        "threshold_v_short_square",
        "thumbnail_sweep_id",
        "trough_t_long_square",
        "trough_t_ramp",
        "trough_t_short_square",
        "trough_v_long_square",
        "trough_v_ramp",
        "trough_v_short_square",
        "upstroke_downstroke_ratio_long_square",
        "upstroke_downstroke_ratio_ramp",
        "upstroke_downstroke_ratio_short_square",
        "vm_for_sag",
        "vrest"
       ],
       "description": "Feature",
       "index": 23,
       "layout": "IPY_MODEL_6384d06b1ca8419899333989b37badad",
       "style": "IPY_MODEL_6741aeed9dad44d2ac458f1f24907af5"
      }
     },
     "91b487257f944a9fac5f85837a081904": {
      "model_module": "@jupyter-widgets/base",
      "model_module_version": "1.2.0",
      "model_name": "LayoutModel",
      "state": {}
     },
     "94abdd69ab4845b7a9ef4256f01f53ea": {
      "model_module": "@jupyter-widgets/output",
      "model_module_version": "1.0.0",
      "model_name": "OutputModel",
      "state": {
       "layout": "IPY_MODEL_37333d3d0be34e40b76caeb7743b375d",
       "outputs": [
        {
         "ename": "TypeError",
         "evalue": "histplot() got multiple values for argument 'data'",
         "output_type": "error",
         "traceback": [
          "\u001b[0;31m---------------------------------------------------------------------------\u001b[0m",
          "\u001b[0;31mTypeError\u001b[0m                                 Traceback (most recent call last)",
          "File \u001b[0;32m~/opt/anaconda3/envs/neurolab/lib/python3.8/site-packages/ipywidgets/widgets/interaction.py:257\u001b[0m, in \u001b[0;36minteractive.update\u001b[0;34m(self, *args)\u001b[0m\n\u001b[1;32m    255\u001b[0m     value \u001b[38;5;241m=\u001b[39m widget\u001b[38;5;241m.\u001b[39mget_interact_value()\n\u001b[1;32m    256\u001b[0m     \u001b[38;5;28mself\u001b[39m\u001b[38;5;241m.\u001b[39mkwargs[widget\u001b[38;5;241m.\u001b[39m_kwarg] \u001b[38;5;241m=\u001b[39m value\n\u001b[0;32m--> 257\u001b[0m \u001b[38;5;28mself\u001b[39m\u001b[38;5;241m.\u001b[39mresult \u001b[38;5;241m=\u001b[39m \u001b[38;5;28;43mself\u001b[39;49m\u001b[38;5;241;43m.\u001b[39;49m\u001b[43mf\u001b[49m\u001b[43m(\u001b[49m\u001b[38;5;241;43m*\u001b[39;49m\u001b[38;5;241;43m*\u001b[39;49m\u001b[38;5;28;43mself\u001b[39;49m\u001b[38;5;241;43m.\u001b[39;49m\u001b[43mkwargs\u001b[49m\u001b[43m)\u001b[49m\n\u001b[1;32m    258\u001b[0m show_inline_matplotlib_plots()\n\u001b[1;32m    259\u001b[0m \u001b[38;5;28;01mif\u001b[39;00m \u001b[38;5;28mself\u001b[39m\u001b[38;5;241m.\u001b[39mauto_display \u001b[38;5;129;01mand\u001b[39;00m \u001b[38;5;28mself\u001b[39m\u001b[38;5;241m.\u001b[39mresult \u001b[38;5;129;01mis\u001b[39;00m \u001b[38;5;129;01mnot\u001b[39;00m \u001b[38;5;28;01mNone\u001b[39;00m:\n",
          "Input \u001b[0;32mIn [48]\u001b[0m, in \u001b[0;36mupdate_plot\u001b[0;34m(layer_, feature_)\u001b[0m\n\u001b[1;32m     31\u001b[0m \u001b[38;5;28;01mdef\u001b[39;00m \u001b[38;5;21mupdate_plot\u001b[39m(layer_,feature_):\n\u001b[1;32m     32\u001b[0m     fig, ax \u001b[38;5;241m=\u001b[39m plt\u001b[38;5;241m.\u001b[39msubplots(figsize\u001b[38;5;241m=\u001b[39m(\u001b[38;5;241m10\u001b[39m,\u001b[38;5;241m5\u001b[39m),num\u001b[38;5;241m=\u001b[39m\u001b[38;5;241m1\u001b[39m); \u001b[38;5;66;03m#specify figure number so that it does not keep creating new ones\u001b[39;00m\n\u001b[0;32m---> 34\u001b[0m     \u001b[43msns\u001b[49m\u001b[38;5;241;43m.\u001b[39;49m\u001b[43mhistplot\u001b[49m\u001b[43m(\u001b[49m\u001b[43mfeature_\u001b[49m\u001b[43m,\u001b[49m\u001b[43m \u001b[49m\n\u001b[1;32m     35\u001b[0m \u001b[43m                 \u001b[49m\u001b[43mdata\u001b[49m\u001b[43m \u001b[49m\u001b[38;5;241;43m=\u001b[39;49m\u001b[43m \u001b[49m\u001b[43mfull_dataframe\u001b[49m\u001b[43m[\u001b[49m\u001b[43mfull_dataframe\u001b[49m\u001b[43m[\u001b[49m\u001b[38;5;124;43m'\u001b[39;49m\u001b[38;5;124;43mstructure_layer_name\u001b[39;49m\u001b[38;5;124;43m'\u001b[39;49m\u001b[43m]\u001b[49m\u001b[38;5;241;43m.\u001b[39;49m\u001b[43misin\u001b[49m\u001b[43m(\u001b[49m\u001b[43m[\u001b[49m\u001b[38;5;124;43m'\u001b[39;49m\u001b[38;5;124;43m3\u001b[39;49m\u001b[38;5;124;43m'\u001b[39;49m\u001b[43m,\u001b[49m\u001b[38;5;124;43m'\u001b[39;49m\u001b[38;5;124;43m5\u001b[39;49m\u001b[38;5;124;43m'\u001b[39;49m\u001b[43m]\u001b[49m\u001b[43m)\u001b[49m\u001b[43m]\u001b[49m\u001b[43m,\u001b[49m\n\u001b[1;32m     36\u001b[0m \u001b[43m                 \u001b[49m\u001b[43mhue\u001b[49m\u001b[38;5;241;43m=\u001b[39;49m\u001b[38;5;124;43m'\u001b[39;49m\u001b[38;5;124;43mstructure_layer_name\u001b[39;49m\u001b[38;5;124;43m'\u001b[39;49m\u001b[43m)\u001b[49m\n",
          "\u001b[0;31mTypeError\u001b[0m: histplot() got multiple values for argument 'data'"
         ]
        }
       ]
      }
     },
     "94b6673067b7491fab0e217ae3d0a5e6": {
      "model_module": "@jupyter-widgets/base",
      "model_module_version": "1.2.0",
      "model_name": "LayoutModel",
      "state": {
       "width": "800px"
      }
     },
     "95af315b99f84bc296c4b73d25b313cd": {
      "model_module": "@jupyter-widgets/controls",
      "model_module_version": "1.5.0",
      "model_name": "SelectMultipleModel",
      "state": {
       "_options_labels": [
        "6a",
        "6b",
        "6"
       ],
       "index": [
        0
       ],
       "layout": "IPY_MODEL_70b8965dd7ae4fb0ae1aad7f94e47590",
       "rows": 5,
       "style": "IPY_MODEL_387f3c9ac048458da174ae2da9e943c0"
      }
     },
     "95fdd52fc51a454db62e25bdd5682b45": {
      "model_module": "@jupyter-widgets/controls",
      "model_module_version": "1.5.0",
      "model_name": "DescriptionStyleModel",
      "state": {
       "description_width": "200px"
      }
     },
     "99f7a3d295384012888b778403651d66": {
      "model_module": "@jupyter-widgets/base",
      "model_module_version": "1.2.0",
      "model_name": "LayoutModel",
      "state": {}
     },
     "9e11d56e3d364e50af218812e85c4db3": {
      "model_module": "@jupyter-widgets/output",
      "model_module_version": "1.0.0",
      "model_name": "OutputModel",
      "state": {
       "layout": "IPY_MODEL_34c247ceea934c64844edcce81651713",
       "outputs": [
        {
         "data": {
          "image/png": "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\n",
          "text/plain": "<Figure size 720x360 with 1 Axes>"
         },
         "metadata": {
          "needs_background": "light"
         },
         "output_type": "display_data"
        }
       ]
      }
     },
     "a06ff225ccce40be9371f89f37b8796a": {
      "model_module": "@jupyter-widgets/base",
      "model_module_version": "1.2.0",
      "model_name": "LayoutModel",
      "state": {}
     },
     "a12c8b3de91b4129b52b8fdedd35f399": {
      "model_module": "@jupyter-widgets/controls",
      "model_module_version": "1.5.0",
      "model_name": "VBoxModel",
      "state": {
       "_dom_classes": [
        "widget-interact"
       ],
       "children": [
        "IPY_MODEL_640de2c97a284be3a0d6f6d1ed7df8b0",
        "IPY_MODEL_ff6321b715bc4fe99ee69ff03037eaf7",
        "IPY_MODEL_94abdd69ab4845b7a9ef4256f01f53ea"
       ],
       "layout": "IPY_MODEL_424ccd0449354f8aa6fdac4896904a85"
      }
     },
     "a1862d3460044edc9815d96f35606d6f": {
      "model_module": "@jupyter-widgets/output",
      "model_module_version": "1.0.0",
      "model_name": "OutputModel",
      "state": {
       "layout": "IPY_MODEL_f00914d4eefa480694520d95523a1e5a",
       "outputs": [
        {
         "data": {
          "image/png": "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\n",
          "text/plain": "<Figure size 720x360 with 1 Axes>"
         },
         "metadata": {
          "needs_background": "light"
         },
         "output_type": "display_data"
        }
       ]
      }
     },
     "a1b2be7043c544bca3f5017c81d1ec80": {
      "model_module": "@jupyter-widgets/base",
      "model_module_version": "1.2.0",
      "model_name": "LayoutModel",
      "state": {}
     },
     "a1df44a5bb76468eb29c5acc4ce82f1f": {
      "model_module": "@jupyter-widgets/base",
      "model_module_version": "1.2.0",
      "model_name": "LayoutModel",
      "state": {}
     },
     "a398d9789b5c4e1bb52b254c2a48ada2": {
      "model_module": "@jupyter-widgets/base",
      "model_module_version": "1.2.0",
      "model_name": "LayoutModel",
      "state": {}
     },
     "a6870fbbfc9f496c9559b0bf842c69fc": {
      "model_module": "@jupyter-widgets/base",
      "model_module_version": "1.2.0",
      "model_name": "LayoutModel",
      "state": {}
     },
     "aa4d012eb17b4c9cb8a291848a7012e4": {
      "model_module": "@jupyter-widgets/controls",
      "model_module_version": "1.5.0",
      "model_name": "SelectModel",
      "state": {
       "_options_labels": [
        "fast_trough_v_long_square",
        "vrest"
       ],
       "index": 0,
       "layout": "IPY_MODEL_bf6abc322895449fb0ae6170a523a26c",
       "style": "IPY_MODEL_6ced10f49c9342e894c32dec17d5cc66"
      }
     },
     "aae4f231bcd9482c805e39b9916d6b24": {
      "model_module": "@jupyter-widgets/base",
      "model_module_version": "1.2.0",
      "model_name": "LayoutModel",
      "state": {}
     },
     "adf4e8271a364f25946d8945ddcdf41d": {
      "model_module": "@jupyter-widgets/base",
      "model_module_version": "1.2.0",
      "model_name": "LayoutModel",
      "state": {}
     },
     "b045917e36ae4e47b411c462e1d670f7": {
      "model_module": "@jupyter-widgets/output",
      "model_module_version": "1.0.0",
      "model_name": "OutputModel",
      "state": {
       "layout": "IPY_MODEL_f7251d7029714d7e8bb7093a058aaa4f",
       "outputs": [
        {
         "data": {
          "image/png": "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\n",
          "text/plain": "<Figure size 720x360 with 1 Axes>"
         },
         "metadata": {
          "needs_background": "light"
         },
         "output_type": "display_data"
        }
       ]
      }
     },
     "b086e1ae5a784c73b571ad9977e42f2a": {
      "model_module": "@jupyter-widgets/controls",
      "model_module_version": "1.5.0",
      "model_name": "SelectMultipleModel",
      "state": {
       "_options_labels": [
        "3",
        "5",
        "2/3",
        "4",
        "6a",
        "2",
        "1",
        "6b",
        "6"
       ],
       "description": "Cortical Layer(s)",
       "index": [
        0
       ],
       "layout": "IPY_MODEL_dbed04bc47ba4807a8c6a455e83a0b14",
       "rows": 5,
       "style": "IPY_MODEL_8c1a331634e84e5ab3edc335d5e0b1cc"
      }
     },
     "b385ac5ec75342ed9e22085567e9defe": {
      "model_module": "@jupyter-widgets/controls",
      "model_module_version": "1.5.0",
      "model_name": "DescriptionStyleModel",
      "state": {
       "description_width": "200px"
      }
     },
     "b3e65c6df2b04d7fa56932e151074826": {
      "model_module": "@jupyter-widgets/controls",
      "model_module_version": "1.5.0",
      "model_name": "DescriptionStyleModel",
      "state": {
       "description_width": ""
      }
     },
     "b46acaeb9ff745f6aaf7a9d34701b5d4": {
      "model_module": "@jupyter-widgets/base",
      "model_module_version": "1.2.0",
      "model_name": "LayoutModel",
      "state": {}
     },
     "b4bfc04ce02542a89c7fab4d4acddff9": {
      "model_module": "@jupyter-widgets/controls",
      "model_module_version": "1.5.0",
      "model_name": "DescriptionStyleModel",
      "state": {
       "description_width": "200px"
      }
     },
     "b59ce7c7c80946839007fbaeaccab3ba": {
      "model_module": "@jupyter-widgets/base",
      "model_module_version": "1.2.0",
      "model_name": "LayoutModel",
      "state": {}
     },
     "ba0fca54b94b4efa88b5587b74395ae9": {
      "model_module": "@jupyter-widgets/controls",
      "model_module_version": "1.5.0",
      "model_name": "LabelModel",
      "state": {
       "layout": "IPY_MODEL_35bf4393f0f742c4bb2dbe3d8f143688",
       "style": "IPY_MODEL_b3e65c6df2b04d7fa56932e151074826",
       "value": "Layer 3 cell ID 531526842 has a median value 77.762448"
      }
     },
     "bf6abc322895449fb0ae6170a523a26c": {
      "model_module": "@jupyter-widgets/base",
      "model_module_version": "1.2.0",
      "model_name": "LayoutModel",
      "state": {}
     },
     "bfe2116a5046496081755e9c11fa79db": {
      "model_module": "@jupyter-widgets/output",
      "model_module_version": "1.0.0",
      "model_name": "OutputModel",
      "state": {
       "layout": "IPY_MODEL_c6630dd9ffa94bf898b9a926cfb012fc",
       "outputs": [
        {
         "data": {
          "image/png": "iVBORw0KGgoAAAANSUhEUgAAAmEAAAE9CAYAAABDUbVaAAAAOXRFWHRTb2Z0d2FyZQBNYXRwbG90bGliIHZlcnNpb24zLjQuMiwgaHR0cHM6Ly9tYXRwbG90bGliLm9yZy8rg+JYAAAACXBIWXMAAAsTAAALEwEAmpwYAACBXElEQVR4nOzdd3gU19XA4d+d7eodgSQkiqhCiA6mG2NwL7gG23GPa+z0xJ9TnOokjmPHqXZciePeiTsuGAwG0XuXACHU+2q17X5/rBBgBKitVuW8fvbZ3Zk7M2cAo8O9d85VWmuEEEIIIUTnMkIdgBBCCCFEbyRJmBBCCCFECEgSJoQQQggRApKECSGEEEKEgCRhQgghhBAhIEmYEEIIIUQImEMdQGslJCTojIyMUIchhBBCCHFaa9asKdVaJza3r9slYRkZGeTm5oY6DCGEEEKI01JK5Z9snwxHCiGEEEKEgCRhQgghhBAhIEmYEEIIIUQIdLs5YUIIIURP4PF4OHjwIC6XK9ShiA5gt9tJTU3FYrG0+BhJwoQQQogQOHjwIJGRkWRkZKCUCnU4oh201pSVlXHw4EEGDBjQ4uNkOFIIIYQIAZfLRXx8vCRgPYBSivj4+Fb3akoSJoQQQoSIJGA9R1t+LyUJE0IIIYQIAUnChBBCiC7skUcewel0dtj5fvvb33bYuU7m+uuv59VXXw36dbo7ScKEEEKILuxUSZjP52v1+dqShHm93lYfE0xdLZ62kiRMiK/xHD7Mofv+j/xrrqX82WdDHY4Qohepq6vjvPPOY/To0WRlZfHAAw9w6NAhZs+ezezZswGIiIjge9/7HqNHj2bFihVkZGRQWloKQG5uLrNmzQKgtraWG264gVGjRpGdnc1rr73Gj3/8Y+rr68nJyWHhwoXk5eWRlZXVdP2HHnqIX/ziFwDMmjWLe++9l/Hjx/Poo4+yZs0aZs6cybhx45g3bx6FhYUtuqdf/vKXTJgwgaysLG699Va01uzZs4exY8c2tdm1a1fT95Nd5+vxNOf666/n29/+NmeccQYDBw5s6o2rra1lzpw5jB07llGjRvHWW28BkJeXx7Bhw7j++usZMmQICxcu5OOPP2bq1KlkZmayatWqpt+XG2+8kYkTJzJmzJim49tNa92tXuPGjdNCBIvf79d5116nt43O0bvPO09vHTpMl7/4UqjDEkL0QFu3bj1h26uvvqpvvvnmpu+VlZU6PT1dl5SUNG0D9EsvHf176dj9q1ev1jNnztRaa/3DH/5Q33PPPU3tysvLtdZah4eHN23bt2+fHjlyZNP3P/7xj/rnP/+51lrrmTNn6ttvv11rrbXb7dZTpkzRxcXFWmutX3zxRX3DDTec9N6++c1v6ldeeUVrrXVZWVnT9muuuUa//fbbWmutZ82apdetW6e11vonP/mJ/stf/nLK6xwbz6mue9lll2mfz6e3bNmiBw0apLXW2uPx6KqqKq211iUlJXrQoEHa7/frffv2aZPJpDdu3Kh9Pp8eO3asvuGGG7Tf79dvvvmmvuiii5riW7RokdZa64qKCp2Zmalra2tPuH5zv6dArj5JTiN1woQ4RuUrr+BctYrkX/2SmEsu4cCdd3L4gQdw5ORgHzok1OEJIXq4UaNG8b3vfY8f/ehHnH/++UyfPv2ENiaTiQULFpz2XB9//DEvvvhi0/fY2NhWx3PllVcCsGPHDjZv3szcuXOBwDBo3759W3SOTz/9lD/84Q84nU7Ky8sZOXIkF1xwATfffDNPP/00Dz/8MC+99BKrVq067XWOxHMqF198MYZhMGLECIqKioBAh9N9993H0qVLMQyDgoKCpn0DBgxg1KhRAIwcOZI5c+aglGLUqFHk5eUB8OGHH/L222/z0EMPAYHyIvv372f48OEt+jU4GUnChGikvV5KHnmUsIkTibnsMpRSpPz+9+yafSblTz9Nvwd/F+oQhRA93JAhQ1i7di3vvvsu999/P3PmzDmhjd1ux2QyNX03m834/X6AVtepOvbY5o4PDw8HAknMyJEjWbFiRavO73K5uOOOO8jNzSUtLY1f/OIXTddYsGABDzzwAGeeeSbjxo0jPj6eQ4cOnfI6R+I5FZvN1vQ50BEFzz//PCUlJaxZswaLxUJGRkZTHMe2Nwyj6bthGE1zz7TWvPbaawwdOrRV9386MidMiEbO1avxlZcTe+01TfVeTDExxCxYQNX//oenqDjEEQoherpDhw4RFhbGNddcww9+8APWrl1LZGQkNTU1Jz0mIyODNWvWAPDaa681bZ87dy5/+9vfmr5XVFQAYLFY8Hg8APTp04fi4mLKyspoaGhg8eLFzV5j6NChlJSUNCVHHo+HLVu2nPZ+jiQ6CQkJ1NbWHvfEpN1uZ968edx+++3ccMMN7brO6VRVVZGUlITFYuHTTz8lPz+/VcfPmzePxx57rCmpW7duXbtjAknChGhS/cEHKIeDiGnTjtse983rwOej4j//CVFkQojeYtOmTUycOJGcnBweeOAB7r//fm699Vbmz5/fNDH/637+859zzz33MH78+ON6yO6//34qKirIyspi9OjRfPrppwDceuutZGdns3DhQiwWCz/72c+YOHEic+fOZdiwYc1ew2q18uqrr/KjH/2I0aNHk5OTw5dffnna+4mJieGWW24hKyuLefPmMWHChOP2L1y4EMMwOPvss9t1ndNZuHAhubm5jBo1iueee+6k93kyP/3pT/F4PGRnZzNy5Eh++tOftjsmAHUkq+suxo8fr3Nzc0MdhuhhtM/HrpmzCBs/ntRH/nzC/gO33Y5rxw4Gf7JEKlwLITrEtm3b2j2nqLt76KGHqKqq4le/+lWoQ+kQzf2eKqXWaK3HN9de5oQJAdSvXYuvtJSos+c2uz9y3jxqP/sM1+bNOBoncAohhGi7Sy65hD179vDJJ5+EOpSQkSRMCKBuxQowDMJnzGx2f+TsWRSazdR8+JEkYUII0ejOO+9k+fLlx2275557muZ4ncobb7zR5uv+5je/4ZVXXjlu2+WXX87//d//tfmcoSBJmBBA/YaN2IYMwRTR/JM3ppgYwidOpObDD0n87ndkSFIIIeC4if+d6f/+7/+6XcLVHJmYL3o97fdTv2kTjuzsU7aLPHsu7vx83Lt3d1JkQgghejJJwkSv587Lw19djWP0qZOwiJmBocrar3W9CyGEEG0hSZjo9eo3bAQ4bU+YpW9frBkZOFes7IywhBBC9HCShIler37jBozwcKwDB562bdiUyThXr0Y3FjoUQgjRPi6Xi4kTJzJ69GhGjhzJz3/+81CH1GkkCRO9nmvDRuyjRqGOKXJ4MuGTp+B3OqnftKkTIhNCiJ7PZrPxySefsGHDBtavX8/777/PypW9Y8QhaEmYUipNKfWpUmqrUmqLUuqeZtrMUkpVKaXWN75+Fqx4hGiO9nhw7dqFI2tki9qHT5oISgVKWgghhGg3pRQRERFAYJkij8fTa55AD2aJCi/wPa31WqVUJLBGKfWR1nrr19p9obU+P4hxCHFS7gMHwOPBOnhwi9qbYmKwDx+Oc+VXcOedQY5OCCE6zwPvbGHroeoOPeeIflH8/ILT/yPX5/Mxbtw4du/ezZ133smkSZM6NI6uKmg9YVrrQq312sbPNcA2ICVY1xOiLRr27AHANmhQi48JmzCe+o0b0W53sMISQohexWQysX79eg4ePMiqVavYvHlzqEPqFJ1SrFUplQGMAb5qZvcUpdQG4BDwfa11+5dLF6KF3Hv2AmAdcPpJ+Uc4xoyl/NnncG3bhmP06GCFJoQQnaolPVbBFhMTw+zZs3n//ffJysoKdThBF/SJ+UqpCOA14F6t9df7OdcC6Vrr0cBjwJsnOcetSqlcpVRuSUlJUOMVvUvD3j2Yk5NPWim/OY6xYwBwrlkbrLCEEKLXKCkpobKyEoD6+no++ugjhg0bFtqgOklQkzCllIVAAva81vr1r+/XWldrrWsbP78LWJRSCc20e1xrPV5rPT4xMTGYIYtexr17T6uGIgEsSUlY0tKoXydJmBBCtFdhYSGzZ88mOzubCRMmMHfuXM4/v3dMFQ/acKQKPNrwJLBNa/3wSdokA0Vaa62UmkggKSwLVkxCHEv7/TTs20fM+HGtPjZs7Bhqly1Ha91rnuIRQohgyM7OZt26daEOIySC2RM2FbgWOPOYEhTnKqVuU0rd1tjmMmBz45ywvwBXaa11EGMSoom3sBBdX49tYOt6wiAwL8xXVoZn//4gRCaEEKI3CFpPmNZ6GXDKLgKt9V+BvwYrBiFOpWFvYFK+bVDLJ+UfcWReWP369VjT0zs0LiGEEL2DVMwXvZa7MQmztnJOGARKWqiwMOo39Y7HqIUQQnQ8ScJEr+XefwAjIgJTbGyrj1UmE44RI6jftDEIkQkhhOgNJAkTvZbn4EEsaWltnlhvz86mYes2KdoqhBCiTSQJE72W++BBrKltX8TBkT0qsPbkzl0dGJUQQojeolMq5gvR1Wit8RQUEDF9epvPYc8aBYBr08YWLwAuhBDiRBkZGURGRmIymTCbzeTm5oY6pE4hSZjolXylpWiXC0tqapvPYUnphykujvqNm4i9+uoOjE4IIXqfTz/9lISEE+q192gyHCl6JffBgwBY09qehCmlcIwahWvzpo4KSwghRC8iPWGiV/I0JmHt6QkDsI8aRe3Spfhq61q1/qQQQnQ57/0YDnfwPyqTR8E5D562mVKKs88+G6UU3/rWt7j11ls7No4uSpIw0Ss1JWEpbZ+YD4HJ+WiNa8sWwidN7IjQhBCi11m2bBkpKSkUFxczd+5chg0bxowZM0IdVtBJEiZ6JffBg5gSEzDs9nadxz6qcXL+5k2ShAkhurcW9FgFS0rjP4iTkpK45JJLWLVqVa9IwmROmOiVPAcLsKamnb5h5X5451544Rvw4f1Qd/z68ubYWCypqdRvlHlhQgjRFnV1ddTU1DR9/vDDD8nKygpxVJ1DesJEr+Q5cADHuHGnbrTzQ3jpGlAK4gbBrg9g3X/gsqdh0OymZo7sUTjXrw9uwEII0UMVFRVxySWXAOD1evnGN77B/PnzQxxV55AkTPQ62uvFU1REVEq/kzcq2Qmv3QSJQ+DqFyE6FYq3was3wYsL4fp3ICWQxNlHZVP97nt4S0sx97LHq4UQor0GDhzIhg0bQh1GSMhwpOh1vKWl4PNh6XuSJExrePM2MFnhqhcCCRhA0nC49nUIjw8MT9ZXAOAYFeg2r98kQ5JCCCFaTpIw0et4Dx8GwJLcp/kGOz+AgjVw1s8h5mvzxiKT4YpFUFcCH/4UAPvw4WAYuDZvCWbYQgghehhJwkSv42lMwszJySfu1Bo+/Q3EZsDok1TB75cDZ9wN6xZB/pcY4eHYBg3EtXlz0GIWQgjR80gSJnodT1NPWDNJWP6XcHgjTP8+mCwnP8msH0NkX/j4AdAa+8gs6rdsQWsdpKiFEEL0NJKEiV7He7gI5XBgREWduHPji2AJh6xLT30SiwNmfB8OrITdH2PPysJXWoq3qCg4QQshhOhxJAkTvY7n8GEsffqglPraDhdseQuGXwDWFixBNOY6iEmHz38vk/OFEEK0miRhotfxHj6MuW8zQ5E734eGKhh9ZctOZLbClLvg4GpsEdVgNsvkfCGEaKUDBw4we/ZsRowYwciRI3n00Ueb9q1cuZJbbrmFVatWkZOTQ05ODqNHj+aNN94IYcQdR+qEiV7HU1RE+KRJJ+7YvhjCEmDAzJafLOcb8OmvMdb8G1tmpkzOF0KIVjKbzfzpT39i7Nix1NTUMG7cOObOncuIESN47733mD9/PllZWeTm5mI2myksLGT06NFccMEFmM3dO42RnjDRq2ifD29xMeavl6fw+2HPJzB4Dhimlp/QFgHjrodtbxOe1R/X5s0yOV8IIVqhb9++jB07FoDIyEiGDx9OQUEBAEuWLOGss84iLCysKeFyuVwnTifpprp3CilEKzUVav36k5GF68FZBoPPav1Jx98Iyx8lqk8Z5VVVeAoKsKamdki8QgjRWX6/6vdsL9/eoeccFjeMH038UYvb5+XlsW7dOiZNmkRpaSkWi4Xo6GgAvvrqK2688Uby8/NZtGhRt+8FA+kJE72M92Q1wvYsCbwPnE2rxWbAwFnYnF+B0jIkKYQQbVBbW8uCBQt45JFHiIqK4sMPP+Tss89u2j9p0iS2bNnC6tWr+d3vfofL5QphtB2j+6eRQrSCp/AkNcJ2fwJ9R0NEYttOPPY6jFdvJCIlCdfmzUT1ksVnhRA9R2t6rDqax+NhwYIFLFy4kEsvDZQIeu+99/jud797Qtvhw4cTERHB5s2bGT9+fGeH2qGkJ0z0Kt6ixp6wPsfMCXM74eAqGHRm20887HxwxBKbZVAvT0gKIUSLaa256aabGD58eFPSpbVm48aN5OTkALBv3z68Xi8A+fn5bN++nYyMjBBF3HGkJ0z0Kp6iYpTNhikm5ujGQ+vA74W0yW0/sdkGIy4mrH4Rh1ZuQvv9KEP+jSOEEKezfPlyFi1axKhRo5qSrksvvZQxY8Y0TcBftmwZDz74IBaLBcMw+Pvf/05CQkIIo+4YkoSJXsVbXIw5MfH4J2sOfBV4T53QvpOPuhxjzdOER5Xg2b8faw/4V5oQQgTbtGnTTniq/Ne//jXzj5nWce2113Lttdd2dmhBJ0mY6FW8JSWYE7827+vgaojPhPD49p28/xR0WB+i0iup37RZkjAhhGij+++/P9QhdAoZLxG9yglJmNaBnrC0Zoq3tpZhwOgriOjbQMOm3PafTwghRI8mSZjoVU5Iwsr3BuqDpbVzKLKRGnEhygC1/7MOOZ8QQoieS5Iw0Wv4XS78NTXHJ2EHVwfeUyd2zEVSxuMjHJtvF9rn65hzCiGE6JEkCRO9hrekBOD4JKxwA5gdkDi0Yy5iGHjjJxKeVId7d8dWnhZCCNGzSBImeo2mJCwp6ejGwo3QZ2Tr1os8DTX6UkwWjWflKx12TiGEED2PJGGi1/AWH0nCGnvCtIbDm6BvdodexzLpMnwehZG3pEPPK4QQPZXP52PMmDGcf/75oQ6lU0kSJnqNE4YjK/OhoQqSR3XodZQtjHpXX2ye7eCXeWFCCHE6jz76KMOHDw91GJ1OkjDRa3hLSsBsPlot//CmwHvy6I6/VuwETGY3On9lh59bCCF6koMHD/K///2Pm2++OdShdDop1ip6DW9xMeaEhKPLCRVuBGVAnxEdfi2VdT7+NW/h/+p5zAOmdvj5hRCiox3+7W9p2NaxDxTZhg8j+b77Ttnm3nvv5Q9/+AM1NTUdeu3uQHrCRK9xQo2wwxshYQhYHB1+LUfORJxFNtTejzv83EII0VMsXryYpKQkxo0bF+pQQiJoPWFKqTTgOaAPoIHHtdaPfq2NAh4FzgWcwPVa67XBikn0bt6SEiypqUc3FG9t/3qRJ2Hp35+Kimgi+hVBRR7EZgTlOkII0VFO12MVDMuXL+ftt9/m3XffxeVyUV1dzTXXXMN//vOfTo8lFILZE+YFvqe1HgFMBu5USn193OccILPxdSvwjyDGI3q543rCGmqhcj8kBmciqDIMvNGNc812y1OSQgjRnN/97nccPHiQvLw8XnzxRc4888xek4BBEJMwrXXhkV4trXUNsA1I+Vqzi4DndMBKIEYp1TdYMYneS3s8+CoqjiZhpTsD7x1VpLUZlqGTcNeZ0Ls+Cto1hBBCdF+dMidMKZUBjAG++tquFODAMd8PcmKiJkS7ecsrADAnJAQ2lOwIvCcF75Fo+6hR1B2ywd7PwesO2nWEEKInmDVrFosXLw51GJ0q6EmYUioCeA24V2td3cZz3KqUylVK5ZY01noSojV85WUAmOLjAhtKtoNhgdgBQbumPSuL2sM2lNcJB77+7w8hhBC9XVCTMKWUhUAC9rzW+vVmmhQAacd8T23cdhyt9eNa6/Fa6/GJxz7dJkQLecvKATDHxwc2lGyHhEwwBa9KiyUlhQZXIlobsFuekhRCCHG8oCVhjU8+Pgls01o/fJJmbwPXqYDJQJXWujBYMYne60hPmDnumJ6wIM4HA1BKYR02GlddFOyRyflCCCGOF8yesKnAtcCZSqn1ja9zlVK3KaVua2zzLrAX2A08AdwRxHhEL+YtPTIcGQ9uJ1TkQ+KwoF/XnpVFzb7GNSprDgf9ekIIIbqPoI3FaK2XAeo0bTRwZ7BiEOIIX3kZymrFiIgIFGlFB70nDMCeNZLSl6wkjQL2fAI53wj6NYUQQnQPUjFf9AresnJM8fEopaBsd2BjfGbQr+sYNYqGSjN+U5TMCxNCCHEcScJEr+AtLzs6H6xsT+A9bmDQr2vu0wdTQiIud59AqQq/P+jXFEKI7qayspLLLruMYcOGMXz4cFasWBHqkDqFJGGiV/CVlR8tT1G2B6JSwRoW9OsqpXCMHEntfgXOUijaHPRrCiFEd3PPPfcwf/58tm/fzoYNGxg+PHg1HLsSScJErxDoCWssT1G2G+KD3wt2hD0ri6rNNYEvez/ttOsKIUR3UFVVxdKlS7npppsAsFqtxMTE8MQTTzBhwgRGjx7NggULcDqdIY604wWvSJIQXYTW+ms9Ybsh69JOu749ayTeOoU/Ih1jz6cw9Z5Ou7YQQrTUFy/vpPRAbYeeMyEtgulXDDllm3379pGYmMgNN9zAhg0bGDduHI8++iiXXnopt9xyCwD3338/Tz75JHfffXeHxhdq0hMmejx/nRPd0BDoCXOWg6sS4gd32vXtI0cC4DYyYP8K8Lg67dpCCNHVeb1e1q5dy+233866desIDw/nwQcfZPPmzUyfPp1Ro0bx/PPPs2XLllCH2uGkJ0z0eMctWdT0ZGTnJWGWpCTMffpQV+zAbnfBgZUwcFanXV8IIVridD1WwZKamkpqaiqTJk0C4LLLLuPBBx/kP//5D2+++SajR4/mmWee4bPPPgtJfMEkPWGix/OWNVbLj48/moTFDerUGOxZWVRtqgDDDHtkXpgQQhyRnJxMWloaO3bsAGDJkiWMGDGCmpoa+vbti8fj4fnnnw9xlMEhPWGix/OVB9aNNMXFweHPQJkgNr1TY3BkjaR2yRL0JeNQez8FHujU6wshRFf22GOPsXDhQtxuNwMHDuTpp59m4MCBTJo0icTERCZNmkRNTU2ow+xwkoSJHu+4nrCteyGmP5gsnRqDPSsLAI9jGNZdz0FdGYTHd2oMQgjRVeXk5JCbm3vctttvv53bb789RBF1DhmOFD3ecT1hFXkQm9HpMRxJwuqrogEN+z7v9BiEEEJ0LZKEiR7PW1qGERmJYbVCZX6nD0UCmGNjsaSmUrO9EmzRUi9MCCGEJGGi5/OVlwWGIhtqwVkGMZ2fhAE4srOp37gZBkyHPZ+B1iGJQwghRNcgSZjo8Y4s3k1lfmBDCIYjARyjs/EePowvcTxU7YfyvSGJQwghRNcgSZjo8XxHFu+uOJKEhaYnzJ6dDUB9XeOE/D2fhCQOIYQQXYMkYaLH8x5ZsqgiL7AhJiMkcdhHjACLBefOYojuD3s/C0kcQgghugZJwkSPpn0+fBUVgSWLKvPBGgFhcSGJxbDZsA8dSv3GTTBwJuz7AnzekMQihBBdxYEDB5g9ezYjRoxg5MiRPProo6EOqdNIEiZ6NF9lJWjd2BOWH5iUr1TI4nFkZ+PavBk9YCY0VMGhdSGLRQghugKz2cyf/vQntm7dysqVK/nb3/7G1q1bQx1Wp5AkTPRoxxVqrcwP2aT8Ixyjs/E7nTSQDigpVSGE6PX69u3L2LFjAYiMjGT48OEUFBSEOKrOIRXzRY/WVKg1NjYwJyzEC2c3Tc7fkY+9b3ZgHcmZPwxpTEIIAfDpM49TnN+xT20npQ9k9vW3trh9Xl4e69ata1rMu6eTnjDRozX1hIUb4HGGrEbYEdaMDIzoaFwbN8LA2XBwFTT0vPXQhBCitWpra1mwYAGPPPIIUVFRoQ6nU0hPmOjRfGWNPWGmxkQnROUpjlBK4Rg1KjA5//p7YPkjkP8lDJkX0riEEKI1PVYdzePxsGDBAhYuXMill14asjg6m/SEiR7NW14GJhMmT6BHLNRzwiAwOb9h1y78CdlgtgeGJIUQopfSWnPTTTcxfPhwvvvd74Y6nE4lSZjo0Xxl5ZjiYlFHquXH9A9tQAQm5+P3U79jD/SfIpPzhRC92vLly1m0aBGffPIJOTk55OTk8O6774Y6rE4hw5GiR/OWlWGOTwg8GRmeCNbwUIfUNDnftXEj4cNnw0c/g+pDENUvxJEJIUTnmzZtGrqXrqUrSZjo0XxlxyxZ1MpJ+XWeOl7f9Tpl9WX0Ce/DRYMuIswS1u6YzLGxWPr3p37DRjjv5sDGvZ9BzjfafW4hhBDdhyRhokfzlpfj6N8fKnMhZXyLj1tWsIyffPETKhsqMSszXu3lqc1P8cszfsmUflPaHZcjOxvn6tXQJwvCEiQJE0KIXkjmhIkezVdWhjk2BioPtPjJyHXF6/jOp9+hT1gf/nvuf1l77Vqenf8s4eZw7v7kbtYXr293XI7sbLxFRXhKSgJLGO39DHppd7wQQvRWkoSJHstfX4/f6cQSYwLta9FwZKWrkm9/8m36hPfhX3P/xajEUSilGNtnLE/Nf4rk8GTuXHInhbWF7YrNkT0KgPoNGwL1wmqLoLh3LNMhhBAiQJIw0WMdqZZvDfcENrSgJ+yv6/9KjbuGh2c9TLwj/rh9cfY4/jHnH3j8Hn791a/bNZHUNnw4WCyBoq2DZgc2SqkKIYToVSQJEz2W98iSRZb6wIbT9IRtL9/OKztf4aphVzEkdkizbdKi0rgz506WHlzKh/kftjk2w2bDPmxYYHJ+dCrEZ0qpCiGE6GUkCRM9VtOSRUYtoALJzik8vvFxIiwR3JFzxynbLRy+kGFxw/jzmj/j8XvaHJ8jO5v6LVvQXm9gTcv8L8Hb0ObzCSFEd3TjjTeSlJREVlZWqEPpdJKEiR7ryJJFhq8SIvuCyXLStodqD7Fk/xIuG3IZUdZTr1lmNszclXMXBbUFLN6zuM3xOXJy0E4nDbt2BYYkPU44sKrN5xNCiO7o+uuv5/333w91GCEhSZjosbzlgZ4wo6H0tL1gL2x/AYXi6mFXt+jcM1JnMCJ+BI9vfLzNvWGOMTkA1K9fDxnTQJlkSFII0evMmDGDuLi4UIcRElInTPRYvrJyVFgYqrYQ+o4+absGXwOv7XqNOf3nkBye3KJzK6X4Vva3uOfTe1iSv4T5A+a3Oj5LSgqmxASc69YRe/XVkDo+MDl/zs9afS4hhGivynf24D5U16HntPYLJ+aCQR16zp6kRT1hSqnXlVLnKaWk50x0G97yMsxxsVB1EKJTTtpu2cFl1LhrWJC5oFXnn5k6k5SIFF7c8WKb4lNKEZaTQ/36DYENA2fDoXXgLG/T+YQQQnQvLe0J+ztwA/AXpdQrwNNa6x3BC0uI9vOVlmFNigRfA0SnnbTde3nvEWePY2Lfia06v8kwceXQK3l4zcPsqthFZmxmq2N05Iyh5qOP8ZaWYh44Cz5/EPYthZEXt/pcQgjRHtJj1fla1LOltf5Ya70QGAvkAR8rpb5USt2glDr5bGchQshbXo41wRb4cpI5YU6Pk88PfM7c9LmYjdaPzl88+GKshpWXdrzUphiPmxeWOh5s0bCr7aUvhBBCdB8tHl5USsUD1wM3A+uARwkkZR8FJTIh2slXVoY1uvGPeFTzw5GfHfgMl8/FOQPOadM1Yu2xzM2Yy7v73qXB1/ryEvaRI8FiCSRhJgsMnQ873gVf20tfCCFEd3L11VczZcoUduzYQWpqKk8++WSoQ+o0LZ0T9gbwBRAGXKC1vlBr/ZLW+m4g4iTHPKWUKlZKbT7J/llKqSql1PrGl8xGFh1G+/14KyqwhPsCG04yHPnJgU9IcCQwJmlMm6914cALqXHXsPTg0lYfa9hsOEaMwLlufWDD8AugvgLyl7c5HiGE6E5eeOEFCgsL8Xg8HDx4kJtuuinUIXWalvaEPaG1HqG1/p3WuhBAKWUD0FqPP8kxzwCne2TsC611TuPrly2MRYjT8ldXg9eL2dYAZgeEnfj4s9fv5ctDXzI9ZTpGO545mdR3EomOxDbXDHPk5ODavBntdsOgOYF4t73T5niEEEJ0Dy39yfPrZratONUBWuulgDzmJULiyJJFZqMuMB9MqRPabCzZSI27hmkp09p1LZNh4twB57K0YCmVrspWH+8YMwbd0IBr+3awhkHmWbBtMfj97YpLCCFE13bKJEwplayUGgc4lFJjlFJjG1+zCAxNttcUpdQGpdR7SqmRHXA+IYDAfDAAw1990vIUywqWYVImJveb3O7rnT/ofLx+Lx/v/7jVxx43OR9g+IVQexgK1rQ7LiGEEF3X6XrC5gEPAanAw8CfGl/fBe5r57XXAula69HAY8CbJ2uolLpVKZWrlMotKSlp52VFb+A9smSR++TV8r8o+IKcpJzTLlPUEkNjh9I/sj8f5bf+ORVLnz6Y+/XFuW5dYEPm2WBYYNvb7Y5LCCFE13XKJExr/azWejZwvdZ69jGvC7XWr7fnwlrraq11bePndwGLUirhJG0f11qP11qPT0xMbM9lRS/hLS9DGRpVX9rspPyy+jK2l29v91DkEUop5qbP5avCr9o0JBmWM4b6I5PzHTEwcGZgXpjWHRKfEEKIrud0w5HXNH7MUEp99+uv9ly4cahTNX6e2BhLWXvOKcQRvrJyzGGNc6qa6QnLLcoFYELyhA675tyMufi0j08PtH79R0dODt7Dh/EUFgY2DL8AKvZBUbMPFwshhOgBTjccGd74HgFENvM6KaXUCwQm7w9VSh1USt2klLpNKXVbY5PLgM1KqQ3AX4CrtJZ/9ouO4S0vw5bkCHxppkZY7uFcHGYHI+JHdNg1R8SNICUihQ/zW19s1TEmUCKjaV7YsPMDC3pverXD4hNCiK6qsrKSyy67jGHDhjF8+HBWrFjBrFmzyM3NDXVoQXXKEuFa6381vj/Q2hNrra8+zf6/An9t7XmFaAlfWTnWBGvgSzPDkblFueQk5mAxOm7BB6UUZ/Y/kxe3v4jT4yTM0vJnV+zDhqLsdurXryfqnHMgPAEGnwWbXoE5PwdDlm0VQvRc99xzD/Pnz+fVV1/F7XbjdDpDHVKnaGmx1j8opaKUUhal1BKlVMkxQ5VCdDne8jKsMabAl689HVnhqmB35e4OHYo8YmbqTDx+DysLV7bqOGWx4MjKOlq0FWD0lVBdAHlfdGyQQgjRhVRVVbF06dKmIq1Wq5WYmBgAFi1aRE5ODllZWaxatSqEUQZHSxfLO1tr/UOl1CUE1o68FFgK/CdYgQnRHr7SMqz9/RCWABbHcfvWFq0FYHzyyeoMt93YpLFEWCJYenApZ/Y/s1XHOsbkUPbMs/hdLgy7HYaeC9ZI2PBiYKK+EEIE0Xvvvcfhw4c79JzJycmcc86pl4Xbt28fiYmJ3HDDDWzYsIFx48bx6KOPAuB0Olm/fj1Lly7lxhtvZPPmnjVPtqVjHEeStfOAV7TWVUGKR4gO4S0vx2zzNFsjLLcoF5vJRlZ8Vodf12KycEa/M1h6cCl+3bpiq44xY8DjwbVlS+PJHJB1KWx9E1zyv5wQomfyer2sXbuW22+/nXXr1hEeHs6DDz4IBNaVBJgxYwbV1dVUVlaGMNKO19KesMVKqe1APXC7UioRcAUvLCHaTrvd+KurMRk+iD5x4v3G0o2MjB+JxdRx88GONTNtJh/mf8i28m2MjG95DWJHTg4A9evWETZuXGDjuOth7bOw8WWYeEvHByuEEI1O12MVLKmpqaSmpjJp0iQALrvssqYkTH1ttZOvf+/uWtQTprX+MXAGMF5r7QHqgIuCGZgQbeWtqAA0Jl15QnkKt8/NtrJtjE4cHbTrT0uZhkKx9EDrFvQ2x8VhTU/HuXbd0Y39xkByNqx5RmqGCSF6pOTkZNLS0tixYwcAS5YsYcSIwD+gX3rpJQCWLVtGdHQ00dHRIYszGFrzyNUw4Eql1HUEykucHZyQhGgfX1kZhkWj/A0nlKfYXr4dj99DdmJ20K4fZ48jOzGbzw9+3upjHePHUb9mDfrIupFKwfgbAvXC9rdusr8QQnQXjz32GAsXLiQ7O5v169dz332BRXnsdjtjxozhtttu48knnwxxlB2vRcORSqlFwCBgPeBr3KyB54ITlhBt5y0rxxLW+Mf0az1hG0o2AAQ1CYPAU5J/WfcXSutLSXA0uxBEs8LGjafqtddx79mDLTMzsDH7Svj4AVj5N0ifEqSIhRAidHJyck6oCfbZZ5+FJphO1NKesPHAVK31HVrruxtf3w5mYEK0la+87Jgk7PgaYRtLNtI3vC9JYUlBjWFG6gwAvjjYuvISYRMCT2w6j/3LyBoO42+EbYuhfG+HxSiEECK0WpqEbQaSgxmIEB3FW1aOObz5nrCNJRuD3gsGMCR2CH3D+/LZgc9adZwlNRVzUhLO3DXH75h4KxhmWPG3DotRCCFEaLU0CUsAtiqlPlBKvX3kFczAhGgrX3kZ1kjQhhkijvZ4ldaXcqjuEKMSRgU9BqUUM1JnsLJwJR6fp1XHhY0fjzM3l+NW8YrqCznfgLXPQVVBECIWQgjR2VqahP0CuBj4LfCnY15CdDnesnIsMSZUVD8wTE3bt5VtA+jQ9SJPZWq/qTi9TtaXrG/VcY7x4/AWFeEp+FqyNf17oP2w7M8dF6QQQoiQaWmJis8JVMq3NH5eDawNYlxCtJm3vAxrhP+E+WDby7cDMCxuWKfEMbHvRMyGmS8KWjkvbFwz88IAYtMhZ2GgbpjMDRNCiG6vpWtH3gK8CvyrcVMK8GaQYhKiXXxl5Zht7hPmg20v305qRCqR1shOiSPcEs7YpLEsL1jequNsmYMxoqNPTMIAZv0kMDfs4190TJBCCCFCpqXDkXcCU4FqAK31LiC4j5cJ0Ube8lJMpvpma4QNjx/eqbFMTZnKzoqdFDuLW3yMMgzCxo6l/uuT8yEwN2zqvbD1LchrXXInhBBdVWVlJZdddhnDhg1j+PDhrFixItQhdYqWJmENWmv3kS9KKTOBOmFCdClaa1RtMUrp43rCat217K/Z32lDkUdMS5kG0OresLDx43Hn5eEtKTlx5xl3Q3R/WHwveBs6IEohhAite+65h/nz57N9+3Y2bNjA8OGd+w/mUGlpEva5Uuo+wKGUmgu8ArwTvLCEaBt/XR1mS+OypsfMCdtREVgOo7OTsMyYTJIcSSw/1NokLLB2pHNNM1MvrWFw/sNQuhO+eLgjwhRCiJCpqqpi6dKl3HTTTQBYrVZiYmJCG1QnaekC3j8GbgI2Ad8C3gX+HayghGgrX1kZ5maq5Xf2pPwjlFJMTZnKkv1L8Pq9mI2W/S9nHzEC5XDgzM0lav68ExtkzoVRV8DSP8KgM6H/pA6OXAjR2+zc+Stqard16DkjI4YzZMhPT9lm3759JCYmcsMNN7BhwwbGjRvHo48+Snh4eIfG0hW19OlIP4GJ+HdorS/TWj+htawmLLoeb1kZlqZCrUfnhG0r20acPY5ER2KnxzQ1ZSrV7mo2l25u8THKYiFszBicq1advNF5D0FMGrx2EzjLOyBSIYTofF6vl7Vr13L77bezbt06wsPDefDBB0MdVqc45T/LlVIK+DlwF40Jm1LKBzymtf5l8MMTonW8paVYwnxoSzjKHt20fXv5dobHDSfwR7pzTe47GUMZLCtYRk5STouPC5s8mZKHH8ZbVoY5Pv7EBvZouOwpeHIevH03XPmfwILfQgjRBqfrsQqW1NRUUlNTmTQp0KN/2WWX9Zok7HQ9Yd8h8FTkBK11nNY6DpgETFVKfSfo0QnRSr6yxnUjI4/2grl9bvZU7un0ocgjom3RZCdkt3pyfvjkwF9Ip+wNSxkHZ/0Cti+Gr/7ZjiiFECI0kpOTSUtLY8eOwNzdJUuWMGJE5xTVDrXTJWHXAldrrfcd2aC13gtcA1wXzMCEaAtvaeNwZGz/pm17Kvfg1V6GxYcmCYPAkOSWsi2Uu1o+bGgfMQIjIoK6lV+duuGUO2HoefDBfbDr43ZGKoQQne+xxx5j4cKFZGdns379eu67775Qh9QpTpeEWbTWpV/fqLUuASzBCUmItvOWlWIJ96Nijj4ZeWRS/vC40D3yPC1lGhrNikMtr32jzGbCJkygbuVpjlEKLn0c+oyEV66Hoq3tC1YIITpZTk4Oubm5bNy4kTfffJPY2NhQh9QpTpeEudu4T4iQ8JcVYbL6jnsyclv5NsLMYaRFpp3iyOAaET+CWFtsm4YkPfn78Rw6dOqGtgi4+iWwhsN/r4TalheHFUIIERqnS8JGK6Wqm3nVAKM6I0AhWkNXNS56HX18T9jQuKEYqqVl8TqeoQym9JvC8kPL8Wt/i48LmzwZgLqvTjEv7IjoFPjGi1BXAi9+Azz1bQ1XCCFEJzjlTyWttUlrHdXMK1JrLcORostR9UWBD43lKfzaz47yHSGblH+saSnTKHeVNw2PtoQtMxNTbCzOlStbdkC/MYGhyYOr4c07QCrJCCFElxW6rgEhgsDkaZz43jgceaDmAE6vs0skYWf0OwOAZQXLWnyMMgzCJk+i7quvaHFpvhEXBp6Y3PI6LH2oDZEKITqLlNzsOdryeylJmOgx/E4nJrMTjYLIfgDsrtgNBJYPCrV4Rzwj4ke0fl7YpMl4Dx/GnZfX8oOm3gvZV8Gnv4atb7fqekKIzmG32ykrK5NErAfQWlNWVobdbm/VcS1dtkiILs/bWCNMm6NRZisAuysDSdigmEGhDK3J1H5TeWrzU1S7q4myRrXomKZ6YV99hW3AgJZdSCm44FEo3wNvfAtiM6BvdhujFkIEQ2pqKgcPHqSkpCTUoYgOYLfbSU1NPX3DY0gSJnqMpmr5YX2atu2p3EO/8H6EWcJCGNlR01Km8cSmJ/iq8Cvmps9t0TGW9HTMycnUrVhJ7FVXtfxiFjtc+Tw8cSa8dA18ayk4YtoWuBCiw1ksFga09B9WokeS4UjRYxxZvFtHHa2Wv7tqd5fpBQPITswm0hLZqiFJpRThZ5xB3YoVaK+3dReM7AOXPwPVBfD2XTJRXwghuhBJwkSP4S0J9ISp+IzAd7+XvKo8BscMDm1gxzAbZib3m8yygmWtmgcSMX0a/upq6jduav1F0yYEJupvewdWPd7644UQQgSFJGGix/CV5mOYwUgK9Hztr9mPx+/pUj1hEJgXVuQsYk/lnhYfE37GGWAY1C37om0XnXIXDDkHPrwfDq1r2zmEEEJ0KEnCRM9Rng+AissAaEpyulJPGATWkYTWlaowRUfjGD2a2qVtTMKUgov/DuGJ8Pq3wONq23mEEEJ0GEnCRM9R3bi0T2ONsCNPRg6I7loTX5PDkxkcM5hlh1qehAGET5+Ga/NmvGVlbbtwWBxc+Bco3QGf/bZt5xBCCNFhJAkTPYbhaqyWH9MfCPSEpUSkdJknI481LWUaa4vW4vQ4W3xMxPQZANR9+WXbLzz4LBh7HXz5GBxY3fbzCCGEaDdJwkSPYXgq8GszOGKBQBLW1YYij5iaMhWP38Pqwy1PhOwjR2CKjaX2izYOSR5x9m8CxWzfvF3WlxRCiBCSJEz0GCZVg19Fg1J4/B7yqvO63KT8I8YmjcVhdrR6CaPwadOoW7Yc7W/5IuAnsEfBRY9B2S5Z1kgIIUJIkjDRI/gbGjDbGvBbEwDYX70fr9/bZXvCrCYrE5MnsvxQ65YwipgxHV95Oa4tW9sXwKAzIftKWP4olOxs37mEEEK0iSRhokfwHamWH54MtG+5Iq01BTsqyH0vj1Xv7CVvYyl+Xzt6nk5iaspUDtQcYH/1/hYfEz51KijV9lIVxzr712ANg3e/J0VchRAiBGTZItEjeIsO4rD78TU+Gbmncg8K1eonI2vKXXzy3DYObq8AApUdtIbY5DBmLRxKv8zYDot5Wr9pQKBUxTeivtGiY8xxcdizsqj97HMSbr+9fQFEJMGcn8H/vgebXoXsy9t3PiGEEK0StJ4wpdRTSqlipdTmk+xXSqm/KKV2K6U2KqXGBisW0fP5DwWG1FRioOdrd+VuUiNTcZgdLT5HdWk9rz+0huK8aqZdkcnNf57BLY/OZN4tWfh8mrceWc/2lYUdFnNaVBr9I/u3al4YQMSsmdRv3Ii3tLT9QYy7AfqNhQ/ug/rK9p9PCCFEiwVzOPIZYP4p9p8DZDa+bgX+EcRYRA/nLwkMPxrJmUCgJ6w1Q5Ful5e3/7Iej8vHxd8dy+gz07A5zFisJgaPS+KKn4ynX2YMS57dxu41xR0W99SUqaw+vJp6b8ufUow86yzQmppPP21/AIYJzn8YnKXw6W/afz4hhBAtFrQkTGu9FCg/RZOLgOd0wEogRinVN1jxiB6uIjCvykgbicfnYX/1/lZNyv/i5V1UldRzzm2jSOwfecJ+W5iF8+7IJnlANB8/vZWifdUdEvbstNm4fC6+PNTy2l+2IUOwpKRQ+/GSDomBfmNgws2w+t+ypJEQQnSiUE7MTwEOHPP9YOO2EyilblVK5SqlcktKSjolONG9qJpCtB+M+HTyqvPwam+Le8L2by1j+5eFjJuXTsqQk8/5MltNnHdHNmFRVj58cjMN9d52xz0+eTxR1ig+2f9Ji49RShF51hzqVqzAX1fX7hgAOPP+wJJGi78Dfl/HnFMIIcQpdYunI7XWj2utx2utxycmJoY6HNEFqYZivB4rmMytWjPS79d8+dpuohLsTDjv9JP47REW5t40kpryBr54qf2lHSyGhVlps/j0wKd4/J4WHxdx5hy0203t8taVuDgpezTM+22gJyz3qY45pxBCiFMKZRJWAKQd8z21cZsQrWbyVeLzRwCBSfmGMlr0ZOT2FYWUFdQx5ZLBmCwt+9+h76Boxs7rz46VhynYUdGuuAHO6n8WNe6aVlXPDxs3FlN0NLVLOmhIEiBrAQyYCUt+BTVFHXdeIYQQzQplEvY2cF3jU5KTgSqtdcc9eiZ6FZNRi8+IAQKT8vtH9sdmsp3yGL9fs/b9fJLSIxk0tnU9rOPPySAqwc7nL+zA521fDbEp/abgMDtYkt/yhEqZzUTMmkXtZ5+jve0fFg2cVMF5D4O3Hj68v2POKYQQ4qSCWaLiBWAFMFQpdVApdZNS6jal1G2NTd4F9gK7gSeAO4IVi+jh/D7Mlga0LZBI7a7c3aL5YHvXlVBVUs+Ys9NRSrXqkmarielXDKHisJMNSw6c/oBTsJvtTE+ZzpL9S/C1Yj5WxJwz8VVV4Vyztl3XP07CYJh6L2x6GfZ+3nHnFUIIcYJgPh15tda6r9baorVO1Vo/qbX+p9b6n437tdb6Tq31IK31KK11brBiET2bLt+PMkBH9sXtc3Og5kCLkrB1H+YTnehg4Ji2zTPMyE5gwOgEVv9vH9Vl7VsI+6z0syhzlbGxdGOLj4mYOhVltVKz5ON2XfsE078LsRmBIq7eho49txBCiCbdYmK+EKfiO7Al8CEmnX1V+/Bp32kn5RfnV1OcX0P2mWkYRut6wY41/cohoGHlm3vbfA6A6SnTsRgWPs5veUJlhIcTfsYZ1Hz8Mbojlx2yOODchwILfC//S8edVwghxHEkCRPd3pFq+UbSoKYnI0/XE7Z12SHMFoOhk/q069qRcXay56Sxa3URJQdq2nyeCGsEU/pN4eP81iVUkfPn4T1UiGtjy3vQWiRzLoy4CJb+AYq3dey5hRBCAJKEiR5AlwQSLyN1OLsrd2NSJjKiMk7a3u3ysnNVEYPHJWELs7T7+mPP7o8tzNzu3rC56XM5VHeoVUOSkXPmoCwWqt99r13Xbta5fwJbFLzxLfC1vHyGEEKIlpEkTHR/lQfwNhiY+6UHnoyM6o/VZD1p8z1rS/A0+BgxrV+HXN4WZmHs/HT2bymjYGfbS1ac1f8sbCYb7+x5p8XHmCIjCZ8+neoPPkD72/eU5gkiEuH8P0PhBlj6UMeeWwghhCRhogeoK8TrNGGOj2dP1Z7TzgfbueowUQl2kgdFd1gI2bNSCY+xseKNPW2enxVhjeDMtDN5P+99PK3oeYo6Zz7ew4epX7+hTdc9pREXQvaVsPSPUNCBT2EKIYSQJEx0f4a7DK/HgVv5TvtkZF1VAwU7KhgyMbnVZSlOxWw1MfH8ARTtq2bfhtI2n+f8QedT1VDF0oKlLT4mYvZslNVK9XtBGJIEOOcPENEHXr0BnKdaDlYIIURrSBImujetMekqfCqafVX78Gv/KZOw3bnFaA1DJrZvQn5zhk1JJqZPGCvf3IPf17ahwTP6nUGcPY7Fexa3+BhTRAQRM2dQ8/77HT8kCeCIgSuehaoCeO0mWVtSCCE6iCRhonurK8UwvPisieyu3A3A4OiTD0fuXlNMQloEscnhHR6KYTKYfNFAKg472b7ycJvOYTbMnDvgXD4/+DlVDVUtPi5y/ny8JSXUrw3SkGHaRDjvIdjzCSz5ZXCuIYQQvYwkYaJ7q8gLvEeksKdyD2ZlJj0qvdmmdVUNHN5XxcCc4C0CP3BMIkkZUaxevA+vp209RhcMugCP38MHeR+0+JjIWbNQdntwnpI8Ytz1MO4GWP4IbHgpeNcRQoheQpIw0a3pskB5CuIGsLtyN+lR6VhMzZedyNtYCpqgJmFKKaZcPJDaigY2f9629eiHxw1nUPQgFu9t+ZCkER5OxMyZgackO2otyeac8wfImA5v3g7b3w3edYQQoheQJEx0a/5DgUKiqk8muytOvWbkvg2lRCXYievX8UORx0odFkfaiDjWvJdPQ33rEyKlFOcPOp91xevIq8pr8XHRF5yPr6yMui+/bPU1W8xshatfgH458PJ1sOWN4F1LCCF6OEnCRLemi3bhqTfwJiVRUFtw0vIUbpeXA9vLGTA6sUOfijyZyRcNxFXnYf1H+9t0/MWDL8ZsmHlpR8uH/SJmzMAUHU3V2y2vM9Ymtki45nVIGQev3AAr/gYduWySEEL0EpKEie6tMg9PrZkDkW40+qQ9Yfu3lOP3agbmJHRKWEnpUQwel8T6JQdwVrtbfXyCI4G56XN5a/dbOD3OFh2jrFYiz5lPzccf46uta/U1W8URA9e+AcPOgw/uCzw1KeUrhBCiVSQJE92aUXcId62JfEvgScLBsc33hO3bUII9wkLywI4r0Ho6ky4ciM/jJ/e9vDYdf/Wwq6nx1PC/ff9r8THRF16Edrmo+eijNl2zVaxhcMUiOPOnsPUt+Nsk2NbyeWxCCNHbSRImui9vA8pbiafOzF5vERbDQv/I/ic08/n85G0qI2NUPIap8/7Ix/QJY/jUvmxZWkB1aX2rj89JzGFY3DBe3P5ii6vwO8bkYOnfn6q332r19drEMGDG9+HWzyCyD7y0EP57FRRt6ZzrCyFENyZJmOi+Kg+g0HhVDHuq9zIgegBmw3xCs0M7K3HXexkwOnhPRZ7MxPMGoAzFV2+3fnFvpRRXDb2KnRU7WVvcsvpfSimiL7gA58qv8BQVtfqabZY8Cm75FM76BeR/Cf+YCq/dDOXtW9RcCCF6MknCRPfVWCPMb0tid+Xuk07Kz99UhslskDYirhODCwiPsZEzJ42dq4o4vK/lxVePOHfguURaI3lx+4stPib6wgtAa6oXd/LQoMkC074D926AafcGhib/OgEWfxdqizs3FiGE6AYkCRPdV8U+AOrjUiisKyQzNrPZZvu3ltEvMxqL1dSZ0TUZOz+dsCgry17e1erFvR1mB5cMvoSP8z+mqK5lPVvW9HQco0dT9eZbbV5MvF0csYEesXvWBwq8rn0WHs2Bzx6EhtrOj0cIIbooScJE91WRh9+n2N83FqDZnrCachcVh530Hxnf2dE1sdrNTL54EEX7qtm1uvVDhFcPuxqN5rmtz7X4mOhLLqZh1y5cm0M4NysyGc77E9y5CjLPgs9+B/+YAnnLQheTEEJ0IZKEiW5Ll+7BU2viQGKg7ldz5Sn2bykDCMlQ5LGGTU4msX8kK97Yg6ehdcsZpUamcu6Ac3ll5ytUuCpadEzUeeeh7HYqX3u1LeF2rPhBcMVzcMN7YJjhmfPg/Z+Ap/UPKwghRE8iSZjotnTpnkB5iggXDrODlIiUE9oc2FpOeIyNuL7BrZJ/OspQTLs8k9qKBta8n9fq428adRP13nqe3/Z8i9qbIiOJmnc21Yv/h7++iyQ76WfAbctg4q2w8u/w9LlQfSjUUQkhRMhIEia6J61R1Qfx1JnZZ6pgUPQgDHX8H2e/z8+B7RX0HxnXKVXyT6dfZgxDJvVh3Yf7KS9sXTHVQTGDOKv/Wfx3+3+pdbdsXlX0ggX4a2up+fDDtoQbHNZwOPePcNULULoTnpgDJTtDHZUQQoSEJGGie3KWo3xO3LUm9nkLmy3SWrSvGne9l/4jQjcf7OumLsjEYjPx+X93tHrS/M2jbqbGXdPipYzCJkzAkt6fyldfa0uowTXsXLjxffB74en5UldMCNErSRImuqfG8hRVHjNl7spmJ+Xv31qOUpA6LLaTgzu5sCgrZ1w6mEO7Ktm+orBVx45MGMkZ/c7gua3PUe89/RCjUoqYSxfgXL0ad15eGyMOouRRgUTMZIXnLoayPaGOSAghOpUkYaJ7aixPcSA2sAzRyZKwPgOisIdbOjW00xl+Rl/6Dopm+Wu7W72u5K3Zt1LuKuel7S3rDYu++GIwDCpfe70NkXaC+EFw3dug/fCfBbL+pBCiV5EkTHRPjT1hu/o2n4S5aj0U51eT1oWGIo9QhmLWwmF4GnytHpYc12ccU1Om8u/N/6bGXXPa9pY+SUTMmEHlm2+gPZ72hB08iUPg6hegugBevQF83lBHJIQQnUKSMNE9VeTh9VjI62Mj0hpJUljScbsPbCsHDf1DXJriZOL6hTP5wkHsXV/Cjq8Ot+rYe8bcQ1VDFc9seaZF7WOuvAJfSSk1Sz5pQ6SdJG0inP8I7P0MPrw/1NEIIUSnkCRMdE8VeXhqzeyP9pAZk3nC04/7t5ZhCzOTlBEVogBPb/RZafQdHM0XL+6kptzV4uOGxw9nfsZ8Fm1dRGl96WnbR8yYgaVfPypeeKE94QbfmIUw+Q746h+wvovHKoQQHUCSMNEt6dLdNFRCvq3mhKFIrTX7t5aTNjwOwwh9aYqTMQzFnG+OQGtY8uw2/P6WD0veNeYu3D43T2x84rRtlclEzNVX4fzqKxp2725PyME391eQMR3e/b4s/i2E6PEkCRPdT0MtqraQqgYzNarhhEr5ZQV1OKvcIa+S3xLRiQ6mXZFJwY4K1ryX1+Lj0qPSuTTzUl7e+TIHag6ctn3MggUoi4WKF1q+EHhImMxwyT9BmeD1b8n8MCFEjyZJmOh+ygOlDA6YAk89fr0nbP/WwFJFXak+2KkMP6MvQycls2rxvsBctha6bfRtWAwLf17z59O2NcfFEXnOfKrefBN/XesKxXa66FQ4/2E4uAq+eCjU0QghRNBIEia6n7LAkNr2MDMAQ+OGHrf7wNZy4vqFExFr6/TQ2kIpxcxvDCU2OZyPntpCXWVDi45LCkvixqwb+Sj/I3IP5562fdw3voG/ro6qd95pb8jBN+oyyL4SPv8DHFwT6miEECIoJAkT3U9jUc/18Vb6hfcl2hbdtMvj9nFod2W3GIo8lsVmYv6tWXgafLz/+Ca8npYt8v3Nkd8kOTyZP6z+A37tP2Vb++jR2EYMp+L5/7a6Wn9InPtHiEyGt+8GXxctryGEEO1gDnUAQrRa2W68/gh297MwNG7YcbsO7azE79VdtjTFqdjjbUTO68frH+7jv79fij/WSrnTjdvrx1CKSLuZpCg76XFhjOwXxdj0WDKTIrh37L38+Isf8/aet7l48MUnPb9SiriFCyn8v/txrlhB+BlndN7NtYU9Gs59CF68GpY/CjO+H+qIhBCiQ0kSJrqf0l246q0civJxUdzw43Yd2FqOyWLQb3BMaGJrpXq3j/c2F/LW+kN8uacUj0+DA2KqfKSZFDkDYrCZDbx+TY3Ly+EqF+vyK1i0Mh+APlE25gxLI90yh0fWPMrZ6WcTZgk76fWiLriA4kceoezJp7p+EgaBNSZHXBQYlhxxMSScuDKCEEJ0V5KEie5FayjbQ4nLQCsY9rWesP1by+iXGYPZagpRgC1TXufm31/s5b+r9lPp9JAS4+CGqQOYnplATloMq17cxfaVh5kzO5lhk/sed6zfr8kvd7JqXxmf7yzhjXWHqPfMxbBmc4/pJR676Drslubv37BaibvmWkr+/GdcO3ZgHzq02XZdyjl/gD2fweJ74ZvvgOq6ZUeEEKI1JAkT3UtdKTRUke8LzAMbHn+0J6ym3EXFYScjpvULVXSn5fL4eHzpXh5fupc6t5d5I5K5fmoGkwbEHVdwdtY1w6itbOCTZ7dhsZoYNPboigCGoRiQEM6AhHCunNAfp9vLu5sO8+v3l/NRbgRnbPuYm6cP4sapA5pNxmKvupLSf/2L8qeeot/vf98p990ukclw9i/hnXtg3SIYe12oIxJCiA4hE/NF91K6E4Bt4RailIM+YX2adh0p75A2vGvOB1u2q5R5jyzl4Y92MnVwPB/eO4N/XjuOyQPjT6j4bzIbnHt7NskDo/nwyS3kbTp5Zfwwq5nLxqXy3j0ziM54FqujiD+8v4M5f/qcdzYcOmESvik6mpjLFlD1v3fxFBYG5V473JjrIH1qYEmjmqJQRyOEEB1CkjDRvZRsAyA3zsLQsAHHJS/7t5QTHm0lrl94qKJrlsvj42dvbeaaJ7/CpBTP3zyJf107nsw+kac8zmIzcd5do4lPieD9f21m38ZTL1HUN6Iv35o8i7rEP/KLBTFEOyzc/cI6LvvnCrYVVh/XNv6b3wStKX9uUbvvr1MYBlzwKHhc8P6PQx2NEEJ0iKAmYUqp+UqpHUqp3UqpE/7mVEpdr5QqUUqtb3zdHMx4RA9QsgO/YWddoolhiSObNvv9moPby0kbEXdCr1IoFVTWc9k/v+S5FfncOHUA794znamDE1p8vM1h5sJv5xCfEs57/9zEti8PnbL9jVk3khKRwluHHuL1Oyfx+wWjyC+r48K/LuORj3fi9gbKWFhSUoiaP5/Kl1/GV1nZnlvsPAmZgSckt7wOuz4KdTRCCNFuQUvClFIm4G/AOcAI4Gql1Ihmmr6ktc5pfP07WPGIHqJkO3UqGo/FYETKmKbNxfnVNDi9XapK/sq9ZVz42DLyS538+7rx/OyCESedMH8q9ggLF31nDKlDY/jkue3kvpd30jpfdrOdH074Ibsrd/Pyjhe5ckJ/PvrOTM4d1ZdHPt7FRX9bzpZDVQDE33orfqeTsqeebtd9dqqp90DCEPjfd8HdxSv/CyHEaQSzJ2wisFtrvVdr7QZeBC4K4vVEb1Cyg8O+wPMkwxOO5vQHtpaDgtThsaGK7Dj/WZnPNf/+iugwC2/cOZWzRvQ5/UGnYLWbOe/O0WRO6MNXb+3lgye24HY1v67i7LTZTEuZxt83/J3S+lJiw608etUY/nXtOEpqGrj4b8t5ctk+bEMyiTrnHMoXLcJbeuqhzi7DbIPzH4HK/fB5N3ioQAghTiGYSVgKcOzKwgcbt33dAqXURqXUq0qptCDGI7o7ZznUFrHb78fmM8iIymjadWBrOUn9I3FEWEMXH6C15q+f7OL+NzczPTOBN++cyuCkiA45t8lsMPfGEUy5ZBB71xXz6oO5lB2qPaGdUoofT/wxbp+bh3Mfbto+b2QyH31nBjOHJPKrxVu5+dlcjJtvQ7vdlD7+eIfE2CkypsKYa+HLv8LhTaGORggh2izUE/PfATK01tnAR8CzzTVSSt2qlMpVSuWWlJR0aoCiC2l8MnKDxccAbwwmIzC011Dv5fC+6pAvVaS15vfv7+ChD3dyyZgUnrhuPFF2S4deQynF2HnpXHTvGFx1Hl7+7Wpy38vD5zt+yaL0qHSuH3k97+x9h7VFa5u2x4ZbeeK68fzighF8sauUi9/MZ89F11L5wovd50lJgLm/BEcsvHMv+Fu2xJMQQnQ1wUzCCoBje7ZSG7c10VqXaa2PrFb8b2BccyfSWj+utR6vtR6fmJgYlGBFN1AceDJyZZyJIbajf7QKtleg/aFdqsjv1/zsrS388/M9LJzUnz9dPhqzKXj/e6UMjeWqn05i4OhEvnprL6/8LpfCPVXHtbl51M0khyfz269+i9d/dOhSKcX1Uwfwxp1nEG4zc7c/i2eHnMXhv/0jaPF2uLA4mP87KMiF3KdCHY0QQrRJMJOw1UCmUmqAUsoKXAW8fWwDpdSxpcAvBLYFMR7R3ZVsx2+ysTfczLBj5oPt31qGxWaiz8DoUxwcPFprfvHOFhatzOfWGQP59cVZGEbwn9AMi7Iy75YszrltFK4aN6//cQ3v/mMjFYcDE9bDLGH8YPwP2FGxg5d3vHzC8SP7RfPOXdNYMC6VFzLncHtRIvkbdwQ97g4z6nIYOBs+fgCqu1EvnhBCNApaEqa19gJ3AR8QSK5e1lpvUUr9Uil1YWOzbyultiilNgDfBq4PVjyiByjaQqU1Dq0UI9InAIEEKH9zGanDYjEFsefpVB76cAfPrcjnlukD+Mk5wzq9RMbAnEQW/nIKky4cyMEdFbzwwFe8/69NHN5bxdz0uUzuO5m/rv8rZfVlJxwbbjPz0OWj+dN5g9kTncKF/9nCx1sPd2r8baYUnP8w+D3w/o9CHY0QQrRaUH9qaa3f1VoP0VoP0lr/pnHbz7TWbzd+/onWeqTWerTWerbWensw4xHdmNZweCN5mDH5YGRmYPHp0oO11FY0kJHd8tpbHemfn+/hb5/u4eqJadx37vCQ1Siz2EyMPzeDa381hTFnp3NwRwWv/WENr/9xDQsjbqXeU8+jax896fELpg/lhaFOEqpLuPm5Nfzyna1NNcW6tLiBMOMHsPUt2PF+qKMRQohWCfXEfCFapuoguKpYb/gZUGXFbgtUxc9vXM4nY1TnJ2H//Wo/D763nfOz+/Lri0d1iSKxjkgrUy4ZxHW/PYPpV2birHaz5bkaxpSeyRu732D5vpUnPXb09Vfyt0PvcfHhtTy1fB8L/vEl+WXdoBbXGd+GxOHw7veh4cSnRYUQoquSJEx0D0WbAVgW5mOY+2jCtW9jGUkZUYRFdW5pis93lvDTtzYza2gif74yB1MnzAFrDavdTPbsNBb+cgrnfGsU89XlRLri+fEH/8cHz2ygOL/6hGOUxUL6rx7gW1+9wIPW3ewvd3LeX5bx1vqCZq7QhZitcMEjUHUAPvl1qKMRQogWkyRMdA+HN6NRbA4zk+UYCICz2k1xXjUDsju3Sv7Oohruen4tmUkR/PUbY7GEaC5aSxiGYuCYRK74zmR+NuWnVDqKeenw87zyu1xeeTCXHSsL8XmODjs6Ro8m7rrrGP3yP3l1ahhDkyO558X13P3COirq3CG8k9PoPxkm3AJf/RP2fRHqaIQQokW67k8PIY51eCO1YfHUGwajErMByGscikzvxKHI0toGbnxmNXariaeun0CEzdxp126v+dlzOG/geaxL+YgBl9pw13v5+JltPHvfcnLf3Ye7PlDGIvHee7AOGgQP3Mfzlw/l+2cP4f3NhZz9yFI+2V4U4rs4hbkPQNwAePMOcJ3Y0yeEEF2NJGGieyjaTL7FQUS9ZuCAsQDkbyojItZGQmrHVKQ/HZfHx7cWraGkpoEnrhtPvxhHp1y3I/1wwg8Jt4TzgvefXPnT8Vz47RySMqL46u19PHf/l6z9IB+fYSXlTw/hq6yk+L6fcOesQbx551Tiw63c+Ewu33lpPaW1Dae/WGezhsMl/4Lqg/DBT0IdjRBCnJYkYaLrc1VB+T7WKS+DD2nsQzLxefzs31ZO+qiETpkQr7XmR69tZE1+BX++MoectJigXzMY4uxx/GjCj1hfsp5F2xeRNiKO8+8czWU/Hk+fjChWvLGHRfd/ya7DEST95CfULf2C0r/+lZH9onnrrqncfeZgFm88xJw/fc6Lq/bj9ze/kHjIpE2Ead+Bdf+BbYtDHY0QQpySJGGi6zu0HtAss3kZVhGGOS6Ogp0VeBt8ZIzqnPlgj32ym7fWH+IH84Zy7qi+pz+gCzt/4Pmc1f8sHlv3GDvKA8VZ+2REccHdOVz6g3HE9Q1n6Ys7+WjvQKxnX0Dp3/9B1VtvYTOb+N7ZQ3nvnukMTY7kx69v4vJ/rWDDgcrQ3tDXzfwx9M2Bt+6AirxQRyOEECclSZjo+grWALDZZiXHnA7AnnUlWGwmUofGBv3y72w4xMMf7eTSsSncMWtQ0K8XbEopfjrlp0RZo7hv2X24fUcn3PcdFM1F3xnDvFuycNV5+cA1h4aMURy67/+o+eRTAAYnRfLSrZP5w2XZ5JfVcdHflvOdl9ZzqLI+VLd0PLMVLn8GNPDyN8HjCnVEQgjRLEnCRNdXsIby8DjqMDEqKQefz8/edSVkZCdgtpqCeum1+yv43isbmJARy+8u7Rq1wDpCnD2OB854gJ0VO/nb+r8dt08pxeBxSVz980mMOWcQq/rfQE1EGgfvuYe6r1Y1tblifBqffn8Wd8waxP82FXLmnz7jN//bSklNF5gvFjcALvkHFK6HD+4LdTRCCNEsScJE11ewlq0WK4MLNVFDRlCwvQJXnYfB45KCetmDFU5ufS6X5Cg7/7p2PDZzcBO+zjYzbSYLMhfw9OanWV6w/IT9VruZKZcM5rJfzODg/B9Qa4kn75bbqPxydVObSLuFH84fxiffm8k5WX15ctk+pv/hk66RjA07D864G3KfhLWLQhuLEEI0Q5Iw0bVVF0LNIb403Azfr7ENGcLuNcVY7Sb6j4wL2mVrXB5ueiaXBq+fp66fQFx45xaD7Sw/mvgjBscO5kdf/IiC2uaLssb1C+fin83C+P4fcJkiOXjLzexZ9L/j2qTGhvHnK3P4+LszOfeYZOzXi7dSXB3C4cA5Pw8s8r34XtjzaejiEEKIZkgSJrq2Q2sB2GizMOygxpwxgL3rSxgwOhGzJTg9U16fn2+/sI7dJbX8Y+E4Bid1TgmMUHCYHTwy6xH8fj/f+fQ7NPia770yTAbjvjGB1GefxR2VjOu3P2L1z5/G5zt+fcmBiRE8fCQZG9WXp5bvY+rvP+G7L69ny6Gqzril45kscMWzkDAEXr4OirZ2fgxCCHESkoSJrm3/SnyGiR0WK6NUKgV59TQ4vUEdivzNu9v4dEcJv7xoJNMyQ7MweGfqH9Wf30z7DdvKt/Gblb9B65OXneiTncHIxS/iSxtC+Et/5PObfk912YkT8gcmRvDwFTl8+v1ZLJyUzvubD3PeX5Zx9eMrWbKtqHNLW9ij4RsvgyUMnr8cKvd33rWFEOIUJAkTXVv+l+wKiya93ErcwOHsWVOM1WEmbXhwhiIXrczn6eV53DRtAAsnpQflGl3R7P6zuWXULbyx+w2e3PzkKdva4mPJeut5jLFT6LvyOVZd8yP2ri9utm16fDi/uHAkK348h5+cM4y8sjpuejaXM//0GY8v3dN5SyHFpMHCl8FdA8+cBxX5nXNdIYQ4BUnCRNfVUIsuXM9Sk49ROxqwjRjJ3g2lDMxJwGTp+D+6S3eW8Iu3tzBnWBL3nTv8uH319fWUlZVx6NAhioqKqK6uxufzdXgMoXTXmLs4d8C5PLr2Ud7Y9cYp2xoOB0MXPU7YJZeTsu8j9t/9HZa9sAWf199s++gwC9+aOYilP5zNX64eQ2Kkjd++u51Jv1vCd19ez9r9FafsgesQfUfDdW8FljR65nypISaECLnus/Cd6H0Orkb5veTarZyzz0/lzHTc9V4Gj+/T4ZfafriaOxsX5X706jE462rZsWMHu3btorCwkOrqE9ciNJlMJCUlkZKSQmZmJgMHDsRisXR4bJ3FUAa/nvprKhsqeWDFA8TaY5mVNuuk7ZXJRP/fPkDpgP7w8J+ofORHvL37B8y9azIRsbZmj7GYDC4c3Y8LR/dj++Fqnl+5nzfWFfD62gJG9I3imsnpXJTTj/BgrcnZb0wgEXvuInj6XLj6ReibHZxrCSHEaaig/+uzg40fP17n5uaGOgzRGT75Df4v/sictAz+8rCH/Tc+RUmxl+t+ewaG0XH1ug5Xubjk78vxa81jF6aze+Nqdu7cCUBsbCypqan06dOHyMhIbDYbPp8Pp9NJRUUFhYWFFBQU4Ha7sVgsjBw5krFjx5KWltZta4o5PU5u+uAmdlXu4s+z/sz01OmnPab63Xcp+OGPcdri2D75HmbePZPUYS0bMq5t8PLW+gL+s3I/2wqribSZuWRsCt+Y1J9hyVHtvZ3mHd4Ez18RWBJrwb9h2LnBuY4QotdTSq3RWo9vdp8kYaKr0k+fw87iDfzRMpgfL4nhw/73MmZeOlMu7riq9TUuD5f/cwX7y+pY2LcYT/E+wsLCGDduHFlZWSQlJZ02mfJ6veTl5bF161Y2b96M2+0mNTWVGTNmkJmZ2S2TsQpXBd/66FvsqtzFg9MfZF7GvNMe48zNZf/td+J2w4as2xhx7WzGnp2OamHCrLVm7f5Knl+Zz+JNhbi9fkanxXDl+DQuGN2XSHsH9zJWF8KLVweWxZrzU5j6HTBkhoYQomNJEia6H1c1+g8ZPBUZTv3GJGbq6Sy1X8jCByYT0yesQy7h8fn55pMrWbm3nDmWnQyJ8jFr1ixycnLaPKzY0NDAhg0bWL58OVVVVSQnJzN79myGDBnS7ZKxGncNdy25i/Ul6/n5lJ9zaealpz2mYc8e9t/yLdzFpWwadgORZ87mrOuHYwtr3a9nRZ2bN9cX8OKqA+woqsFhMXFedl+umpDGuPTYjvu1dDvh7btg82swYAZc/E+ITumYcwshBJKEie5o2zvw0jXckJzELU+YqRxyHQ3j53HJ98Z2yOm11nzrqS/4cFcN06x5XD9jKNOnT8dma34uU2v5fD42btzIF198QXl5OQMHDmTevHn06dPx89mCqd5bz3c++w7LC5Zzy6hbuGvMXRjq1L1F3pISDtx2O/Vbt7Er8wqqR5/N/FuzSEyLbPX1tdZsOFjFS6sP8Pb6AurcPgYlhnPlhDQuHZtKQkQH/H5pDev+A+/9KFBX7NyHYNRl0M2SZiFE1yRJmOh+3v42zg3Pc0vGBO7/TT5fjb+Pad+Z1yH1wXw+H/c+8QHv5GnOiK7iT9fPpm/fvh0QdPPXys3N5dNPP6WhoYFx48Yxe/ZswsPDg3K9YPD4PPzmq9/w2q7XmJk6k99N/x2R1lMnVP66Ogq++z1qP/+cQ5nz2ZV+ATO/MZzhZ7T917muwcv/NhXy8uoD5OZXYDYUc0f04fLxqUzPTMRiaudQYtkeeP1WKMiFATPhvIchYXD7zimE6PUkCRPdi9b4Hh7OJ75KNjONuf/dT+7ZD3Ht76ZhaucP2urqan70xGLeK4lmUh/4z11nd8oTjU6nk88//5xVq1ZhtVqZPXs2EyZMwGTqHutRaq15acdL/H7V70mNTOXhWQ+TGZt56mO8Xg7/+tdUvvgS1YMms7bflQybmcH0KzPbvdrB7uIaXlp9gNfXFlBW5yYu3Mr52X25eEwKY9Ji2j5c6fdB7lOw5FfgrYdJ34Jp34Ww4C2RJYTo2SQJE91L0Vb4xxR+ER/H9Pf7YaoeQMRPfsX4cwe067T5+fn8ctEHLKlNYWKKg+fvmNX+3pNWKikp4f3332fPnj0kJSVx7rnnkpGR0akxtMfqw6v5wec/oNZTy/fHf58rh155yoRHa03Zv/9NycN/xpecwVf9rydy6ADm35pFVIKj3fG4vX6W7izhjfUFfLy1iAavn/T4MC4a3Y+LxqQwKLGNS07VFMGSB2D9f8EWBdPugUm3gbX79GAKIboGScJE9/Lp7/B//iC3DJ3E9x84wM6R1zDvuR9iD297j9WmTZv486uf8WnDAMb3j2bRLWdgD9Lak6ejtWbbtm188MEHVFVVMWrUKM4++2wiI1s/ZyoUyurLuH/5/SwrWMbstNn8fMrPiXfEn/KY2s8/p+AHP8Tv02wefj1VSVnMvXEk6VmnPq41alwe3t98mLfWH2L5nlK0hpH9ojgnK5n5WX3btgZo0VZY8kvY+R5E9IHp34Mx14K1Yx4OEUL0fJKEie5Da9yPjWG98xArEy5n7kOfUPHdf3PGrVPbeDrNF198wXMfreETTyajU6P5zy1TglcMtBXcbjfLli1j+fLlmEwmZs2axaRJk7rFEKVf+3l+2/P8ec2fibBEcN+k+5iXMe+UvWLu/fs5ePe3adixg9KhZ7El6RzGXDiMCecN6NC6bwBF1S7e2XCI/20qZN3+SgAGJ0VwTlYy80YmM7JfVOuGLPNXBJKx/V9CWAJMvg0m3AKOmA6NWwjR80gSJrqPoi3wjzP4dUIcUz+fRNTuQwxZ8iGRcfZWn8rr9bJ48WLeWpPPUu8ghvWN5r+3TCbaceoeNa012u3DX+PBV+vGX+vB7/KifRrt9YNPo31+0KAsJpTVQFkMlMWEYTdhirRiirKiHOYW/aAvKyvj/fffZ9euXSQkJHDuuecycODAVt9vKOyp3MNPl/+UTaWbmNN/DvdPvp8Ex8kXPffX11PyyCOUP7cIb3Qim9KvImLqFOZcN5zwmI55MvXrDle5+GDLYd7ffJiv9pXh15AW52Du8GTmDE9iQkYcVnMLh6Xzv4QvHobdH4E1EibcCJPvgMjkoMQuhOj+JAkT3Yb/41+il/2J7406n5t/ugn3uLMYu+jhVp+nvr6el19+mSW7q1jmHUROWgxP3zDxuATMV+fBW+zEW1KPpzTw7i2tx1fZgPY0vwZiq5hVICGLtmGOd2BJcmBOCMOc6MAcb0cdMx9Na83OnTt57733qKysZOTIkZx99tlER0e3P44g8/q9LNq6iL+u+yt2s50fTvghFw668JQJqHPNGg7d93948vMpS8jiwNCLyLlpDsOmJAe1nlpZbQMfbyvi/c2HWb6nDLfXT4TNzPTMBGYPS2L20CQSI1uQDBZuhGV/hq1vgmGBrAUw8WZIGRe02IUQ3ZMkYaJ78Hlx/SmTXO1kTcN1nP3fxST949/Ez27dUGRFRQXPP/88K4sVy90ZTBoYxxNXjcFS4sJzsBZ3QQ3ug7X4yl1HDzKrQKKU6MAUa8cUYcWIsGCKDLwbDjPKbKBMCkyN74D2+tFuf6DnzONHu7z4atz4qt34atz4q914K114S+vx13iOXs9QWPqEYekXgTUlAktKBJa+4fiUn+XLl7Ns2TKUUsyYMYPJkyd3izUp91Xt42fLf8b6kvWMTRrLfZPuY2jc0JO299fXU/7cIkqf+De6tobihBzcU85lzD0XkZAapOWKjuF0e1m+u4xPthfzyfYiiqobABidGs3sYUnMGdaHkf2iTj1UWrYHVv4d1r8AnjroNxYm3gIjLwVL63tvhRA9jyRhonvYthheWshP+2Uye9Eg+rgOMGLlF6hWzJE6cOAA//3vC6ypS2KVO5EzYsP5nSMSU6ETGv+om2JtWFMjsaZGYEkOx5wYhinG1uLlddrK7/IGet1KnHiLnbgP1eEpqMVf15icKbAkh2NNj8KbaOKL3avZuHcrkVGRzJgxgzFjxmA2h34u26n4tZ83d7/Jn9f8mRp3DVcPu5o7cu44ZV0xX3U1ZU8/Q+kzz6Hq66i3x+ObdDaZt15K9NiRnbLSgNaarYXVfLq9mCXbi1l/oBKtITHSxplDk5g9LIlpmQlEnGwuoasaNrwIq5+A0p3giIMx10DOQkgaFvT4hRBdlyRholuofWoetQWr+aPjdm586m1ir7qCfj/7aYuO1T7NjqUb2L5kM2/64vhMa87Bwg8NB+HpUdgGRGNLj8KSGompHU9ZdjStNb5qN56CWtwHa3DvD7y02xfYH2aiyKhkn6sQZ7SPnLMmMmp0NkYXX+OwqqGKv6z9C6/sfIU4exx3j7mbiwZfhNk4eRLpd7koe+c9Dj35Ata8TQD4IuOJmD6NmKkTcYzOxjpwIKqV9661xltcgnvfPtx5+3Dvy8Odl4evshK/04nf6URZLBjRUZiio7H07Ydz0FBWh6eytM7GF3srqHF5sZgU49PjmDk0kRmZiQzvG3ligqg17PscVj0BO94D7YN+Y2D0NwJDluEd9zSoEKJ7kCRMdH3F2+Dvk/lnTDwRy69j3KaXSP/v84SNPfkyRb6qBlw7K6jfUU7d9jJqvH7uo56N+Lh7UBJ3zB6MPT0KFaJSFG2lfRpPUR3u/Goa8qtx51XjqwwMlXnwUmF1Yh8US/9JmYQNjMOwdt3721K6hd+t+h0bSjYwIHoA94y5hzP7n3na3q2yLfnseuYd3F99SUzZdiy+egBUWDi2gQOwpqdjTe+PKSYGIzwCIyIC7fHgr3einU48hYfxFBTgLjiIJy8fv9PZdG5lt2NNT8eckIARFoYR5kB7PPiqqvFVVuI+cAB/dXWgscmEZVQ2u8bOYnX8YL6sNrG9qBaApEgbM4YkMnNIItMzE4gJsx5/E7XFsOkV2PACHN4UmDs2ZB5kXwGZZ4Ol/XXShBBdnyRhosurev5SzLs/4Uema7nloz1ERBgMfOft43o9tM9PQ141DTsrcO2owHO4DgC3xccHvhIeVw7qMPGnK0Zzweh+obqVoPBVNeDaV0XR+nxceyuJdNtQKLTSmJLDCMuMw5YRjTU9qkv19EGgJ+qTA5/wl7V/YW/VXobGDuWGrBuYlzHvlD1jAM5qN1uXHuTAZxvw79pKVM1+In1lhLtKMFWXonTzD1Aomw1LSgqWlJRAwjYgA9uAAVgzMjAnJ5+yN01rjbeoiIYdO3CuXUfdyhW4Nm0Gvx9ls1E/dTYbR89klS2ZZfnVVNV7MBSMToth5pBEZgxJZHRqDKZjh7cPbw4kY5tegdqiwJOVw84L9I4NnAVm60njEUJ0b5KEiS5NF21F/2MKz0YmYNv1fcZ89heSf/kAsVdcEUg+dlTg2lGOa3clusEHhsKaHoU/1coHO5bzVrmPdd4U0uPD+Os3xpKV0vWfKGwPrTUHduez9ZN1eA/UkuyLIYloDB34oW9OCsM2ICqQlA2IwhzTNSaIe/1e/rf3fzy1+Sn2Vu0lJSKFy4dczgWDLiAp7PRrglYcriNvUxlF+6oo2ldNXZkTk8+F2VuPydeAViZ8Jhs+kxWvOQzDYmAyG5hMBoZZYTIb2MMtOCIsOKKsRCc6iEpwENc3nLiU8FMuieWrqcG5Ope65cup+fQTvIcKwTCwjhnLgTPOJrfPUJYVedhwMDCXLCbMwtTBCUwZGM/kgfEMSgwP9P75vJC/DDa/BlvfBlclOGJh+IWBhCxjGhhdt2dTCNF6koSJrktrSv81DVvRFn6hbuX2vZX4tm6iz/89TcO+OjyHA8NIpmgr9qFx2IfEYhscw7Y9O1j0xnt84UqjwBvBhaP78dtLR5184nQPVVVVxYYNG9iwdj3mcj99dSwDbH2JdTkwvIE2pmgb1sakzDYgCnNiWNAfQjgVv/bz+YHPeWbLM6wtXouhDM7odwZnp5/NtJRpJIYltug8DfVeastd1JS7aHB68bp9eN1+PG4fPo8fv8+Pz6vxe/34fBqvx0dDnZf6GjfOaje1FQ1N5zJZDBLTIknKiCR5YDRpw+KwRzTfo6i1pmHbNmqWfELNkiU0bN8OgH3ECPzzz2fT0EksK/awbFcph6sDT+AmRtqYPDC+MSmLY0BCOMrngb2fwqZXYce74K4NVOUfeUkgIUudAJ3wUIIQIrgkCRNdVk3uU0Qu/g6PRgzkjMPfJWLxb7EOuxDbiAuwZURhHxqLfWgc5j5hKKVwOp28s/hdXtpYxkZfCjaLmZ9dMIIrxqd1yFN02u/H6w08rWg2W1o9CTxU/H4/Bw8eZPv27Wzbto3K8gpidQQZ1mTSLX2IcdoxNeYcym7C2i8CS2pE4D0lAnO8IySJWX51Pm/tfot39r7D4brDAAyNHcrYPmMZHjecoXFDyYjKIMzS8csEeT0+qktclB2qpSivmuK8akrya/B6/KAgqX8k/UfGkzYijj4Dok7aU+Y+WEDNxx9R/e57uDZuBKUIGz+eyPPPp3zKLFYfdrFiTxkr9pZRUhP4TegTFUjKJg6IY1x6LJkxJkx7Pgr0kO38AHwNEN0fshoTsuRsSciE6KYkCRNdiq/WTcO+Kuo2b8W6cwEHLIqNVX9i3NL/gHaR+rf/4hiZjGE/vldr+/bt/P31T/miJpEK7WD+yD784sIskqNPPtymtcZZVUnF4UNUHi6kuqSIusoKnFVVOKsqcVZV4nLW4XO78Xk9+H2+4443TGZMFgsmiwVbWBiOiEgckVHYI6NwREYRHhNLZHwCEXHxRMYF3s3W0M7v0VpTUlJCfn5+06umuoZI7SDZH0OyiiWJaKK8dkw6kFj4TBp3tMIXa+CLNeOLMvBHm8BmoJQ67mUYBoZhYDKZTvhsMpmw2WzY7XZsNluLl2DSWrOzYifLCpax/NBytpRuwek9Opk+0hpJn7A+xNhicJgdOMwOLCYLfu1Hax14Rx/9TmBFA33kP930CathxW62E2YOa3qPscUQa48l2hKNrrDiyjNTvUNTsq8GrcFqN5E6LI7+I+NIGxFHVHzzk+rd+flU/e9/VL+zGPe+faiwMKLOmU/s5Zdjy85mX5mTlXvLWLGnjJV7yymtDSRlETYzOWkxjE2PZWyylTGur4je+RrsWQJ+L8QPDiRjWQsg8eS114QQXY8kYSKk/E4PDXuraNhbhWtPJd4iJw3+BlT4t0iijBcS7+QiVz/KHv8rKY88QtT8eccdX1payj9f/5h39mmKdBTJkVZ+fUk2Z43oc1y7+toaSvL2UZK/l+K8vZTsz6Oy8BCehmOKsiqFIyKSsOiYppc9PAKz1RpItsyBhAvA5/Hg83rwedx43R4anHW4amuor6mmvibw7nHVn3C/9ohIIuPiiYiLJyI+gYjYeMJjYo97hUXHdGqyVltbS0lJCcXFxZSVlVFTU0NNVTVGpY/IeivRbgfx/kjidQRmjiZOThqoNOqoVE4qVR1VykmNqqdONeBTp19VwGw2NyVkDoeDiIgIIiIiCA8Pb/ocERFBVFQUkZGRTaU3/NrP/ur9bK/YzsGagxQ7iymqK6LKXUW9tx6nx4lP+zCUgUJhKANDBY5VSmHQmDyijtsG4Pa7cXlduLwu6n1Hz3VC7IaZPo4+xJJAuDMWa3EMYWUJxNb3IT0mjYwRSfQfGUe/zBjMX3tCVWuNa+NGKl55hep330M7ndgyM4m5/DKiL7wQU0wMWmv2lztZk1/B2v0VrMmvZMfhavyNfyVnJkUwNiWMbLWHrPIPGVr4Dnblhj6jIOvSwCs2o9V/FoQQnUuSMNFptM+Pp7AO94GawGt/Dd7SxvICFgNrehTFVh++vGvI9h/g2QHnsGDw3Ry45VYizz6blD8/3DSsWFxaxj/fWc57u+oo9EcRY1PcM3cYV0/qT0NFKcV5eyk+JumqKS1piiMiNo6E9AHE9U0hJrkvMcn9iEnuS1RCEqYOLHjqrndSU15GbVkZtRVl1JaXUVNWSm1F43t5Gc6qymaPtYWHExYdiz0sHGtYGFaHA6sj8G5zhGEyW1AmE4bJhGGYMMyN7yYTyjCafp2O9FDR+FLQOIyqAiNYx+xXqKbvJosFq92Oxe7AYrNjWCz4NOgqL/6yhsaXq+kzDccnXdphQKQZHWHCH27gDzfw2jUNho8Gw0M9bup9DbgaXDQ0NOB0OqmtraWurg7nMSUjjjAMg6ioKKKjo4mOjiYmJqbp/cjnYBSr1VpT46mhwlXR9Cp2FnOo7hCFdYUU1hZSUFtASf3RP18mbSLKlUissw/xrn4MiBjAyH7DGDV4GKmD43FEHE2wfbV1VL/7PypfeRXXpk0oq5XIuXOJWXApYZMmHVeMuLbBy4YDlazNr2DN/grW7a+kqj4wPG5SkBnpJkvvZlT9KkYaeWT2SyR62AzImA6p48EcnPU3hRBtJ0mYCAq/04PncB3uwjo8R15FTvAGflgbERasaZFY+0diGxBNNYpVb39J/8q7GOUv4fVBszgr8ycU3nU3ln79yHjhv+Bw8MWGXSxauo3lhzX12kqM2ceF/RVTzIVU7w8kXO76wA9xpQziUlJJTB9AUsZAEjMGkpQ+gLDomBD+yhzP5/XirK7EWVlJXWVF43Do0c8Nzjrc9U7c9fWNLycN9c5A4c8QUIaBzRGGIyoK+5Hh14hI7PYIbMqOBTtWvx2Lx4rVY8FcZ8ZUa0L5monXpDBFWDAirBjhgeWfDLsJrAZew49beXH53Dh9LmpctVS5aql0VlNeW0FVbTUe7UOro+eNiopqSspiY2OPe4+KigpqEdsadw37qvaxt2ov+6r2sadiL7tKd1HYcAjduByD4TcRU59EkjeV/rYMBscMZnjfoWT2G0h0vAOjcB/Vr71G1Tvv4K+uxpycTPQFFxB98UXYBg064Zpaaw5W1LO5oIrNh6rYXFDN5oIqyurcTW2SqCDTKCDTdJhB8VYy+vUlNS2DfoOysCUMhG4yr1GInipkSZhSaj7wKGAC/q21fvBr+23Ac8A4oAy4Umudd6pzShLWebTW6Hov3io3vorA+odNy+6U1uOvPboWohFuwdI3HEvf8EDilRaJKcaGx+Vj74YStq84hLPkH8yzv0m49rJ09KWMqz2Tkt//AV//Aey+60cs3lFMbpGXCu0ArRnoOcSIig2kO/djoLHY7CSkZ5CUPrAx4RpAQlo6FlvXKMHQHL/fg9/fgN/vwucLvAdeDfh8je+N3/2+wD6fvwG/rwG/z4vP58Hvc+Pz+fB7PYHvXg9+vxft9wXetQ+tvfh9PjT+QPKmdeAtMDEKCHzHf2SOVKAorM+t8XlofFf4PAq/G7wN4KnXeOs1nnqNu17jcfrxe0/y94UCq92M1WHFZrNhtdqxmx3YTGHYjHDsRGDTR15h2H2RmHTL6plpQ6MN8Bl+fPjx4MPt9+L2efAqH178+PDhUxrDZsLisGINs2MLt+OIDMMRGUZYdASOyDAMqwllMaEsRuBlNWE0fsZstOnhDpfXxd6qvews3cXGA1vZWbqT/a48KlRpUxuzz0psfR/i6vuSTBopqi/9i0vJ2LGZ2J0bUX4/un8mxsQZ2CZPxz58KPZwC1aHGXuYBZPl+MXei6ob2HKoil3Ftew6VM7ugmJ2V/io8x0/LJqkKkmx1pHo8BHlMBEdYScyOoLIqDDCo6OxOhyE2UxE2W1E2x1E2x04zDYcFjtWkwmToTpl2SgherKQJGFKKROwE5gLHARWA1drrbce0+YOIFtrfZtS6irgEq31lac6ryRh7af9Gn+9F7/Tg7/Og78u8NlX1YCvKrDgtK+qAV+lu2n5nCOMcDPmhDDMiYHFri3J4Vj6RmBEWlBK4XZ5KT1QS+GeSgp3V3Fg70ZiIt5kkvVLBnqdbLDGssJ0Cc5cNwd0OBuTBrEvsh9+ZWBoH6n1BQx05jE63Mmg/n1J6J9BYnoGCf0ziEk6dZHNFt+/1vj9bvz+eny++sYEqR6fvx6/79jP9Y2fXYHP/vpA4nRs2yPbjiRXvmOSKr8L3cxco9ZQyoJSZpQyYRhHPytlwTDMjd+PfR359Tk6H6pxTPLoORuHJI9tF0jW/Gj8aO0H7WtM1nzHbPfh82g89T48Th141QeSNU+9wlMP3nqFp17hrVd46014GwzQzf8QN8x+TFY/JguYzAqz2cBsMmE2mbGYzJhNFsyGGYthxWzYMCsLZmyYsWNWVkx+ByYdjlmHYfaHYfY7MGkLJm1pmv/VGhqNNnnB5EObvWiTD8y+xnc/mP1osw/MuvG7BrNGmUGbNcoCmAGzwrCAU7nJ85Wxu7qcvPpy9rtLKPAVU6Nqjruu1Wsjps5KXE0DUXUuwlxg89pQRjxuaxwNtnh8tkjMFjPKovHbPPgtHnzmwMtr9uA13DSoBuo8JhrqrYTVWbA77RjuaFzeeOp8UVTrSCqIQLfy10bhBzSqsUfy2J8Yx+Znmq//LDnZz5Yj2xv/hKojfwobH/xQYDMrbGaDMKuJcJuNSJuVcJsVu8XAbjE1bjcTYTUTZjMTYTMRZjUTYTMTbjMTZjU1fQ63mXBYTC1OJrXW4NcE/j1z5LNG+3XTDR8Z5ueYd3X0Zr62XZLY3i5USdgU4Bda63mN338CoLX+3TFtPmhss0IpZQYOA4n6FEF1pSRMa33075PG3oavf9fHfj/y5ZjPR/c3fvAHyiTg0+jGFz5/4C8Arz5xn9+P9vjRDT78je/a7UO7/fjdjZ+P7DuSeNV70f6jT4tpvx8/4MePCjehIi2oCDNEmNBhJrxWRb3hx232U+/x4azzUF/vpq7ah8vpos5VTK23kjqvE40TZapGqQYMbcLtj6RYx3JAx1Lki6PGiGr69TP7vSR6y0g3VzM0xsOUTBvpGTFEJcditqqjPTzai9/vRvvdjcmNO/DS7qbP+thtvobj9h3tiTqacJ38B8TJGYYdk8nR9G4yHBgmOybDjmFyYBjWxs/2QBvDhmHYMUy2xu92DMOGqXH/kX1Htjedy7BhGFagbT0zXYnf78NVW4uzqhxndQXO6krqqytx1lRRX11Fg9PZNATrrnfhdtXjqXfhrm/A09DQut8mBSaLCZPFwGQxmubOoQzAQGsT2m9CawPtN6G0GUOZMKmj72ZlxmIYWAwzZpMJy5FtmDErCxYsmDmS6Jkx+62NDwAYTUmEanoooPltNaY6CmzFFFtLKLaWUmIpp9hSQZVRRx1OnNThNLlxWZq/eZNPYfGZsPjNWHxWzD4rZr8Vi8+O2W/H6rNi8VmxeK3YtAkHCrtWhNFAnK7GjqvxryqFoTVaG/i1woMFL2YMwFAKHwY+beDHwIuB/5hE3g94ULgx8KDwaIUXhU+DVxv4AZ9W+FF4tcKHwtf4rlH40XgNhUeBxwi8GsyKegu4zSbQZrTfCtqC9lvAb0X5LRg+K/itaL8VH1b8tGyOoELjAMJQhCmFo/E9DIVDK8Kg6T2Mxv0c/R6Gwk5gSMeEwiCQbxuN2wxU474j3wPbjv2z2fSuVKAcjKFQpsD7sZ+VocB05N1obAvKZBzd//X2p/h+3LbGc5247ej7cTEomo9PNXP+Y5LPQD6qTrzvI9+PlMM5kqzSmKw2tT96vu7+dyCcOgkLZmXLFODAMd8PApNO1kZr7VVKVQHxQCkh4i6so+Tv6xtzotMlWV2Pxo/f7EKb3PhNLvymBvymBpbuWEJ1fQ1ojSXqBpQRSeCH/LH/KjagRsNhN5/Z68i1eU/WiXEME9C38dWocf62wk+UriG2vprE6hoyfCVEmuuITqgkcdhh+vfdj8NWe9y/pg/VBF6nE+gJCiQrhmHFUFbUkc+NL7MpAsNqw1DWQPJkcjQlTCbDEUiGjv1sOBrb2Ru3OY5JvGxf+7USLWEYJsKiogmLigYGtOpY7ffjdrkaEzQnXrcbT4MLb0MDHnfD197deN2BxM3b0HD0s7vh+O1eb+CpV12P1+PG0/gErPaf/knPYEkAElCAGUUUEB34AaQ1Do+H6DoX4Q1uwhrcxDZowhs84HOd+qRt4DMseE12vGYHPrMN7BawGxh2E8qqMGwas8WH2eLBamrAYnYRZ3VjNrkwTA0YJheGyY1h8qBa8ORsszyg3RBImxr/vdrYU/uarz+fWiKotLupsnupdPiptRpNSZn228BvQ/ttaJ8NtBXtszVut+Lx26jy26j0WxvbWZvaR9TZaDBsNHTg8lGBdJPAHTT+vGh69wXyjAjDy3N9N4E2ofwGSpuOfvaaQRsobaC0ObC98bPyG43fA9uOfKbxHIHzHDm2h6zA0NSh30xy21zbZr40l8+FT0wm5oIT52N2lm5RXlwpdStwa+PXWqXUjtMckkAIE7kQa8G9/69TAgkB+X3vnXrzvUOvuf9NzW3s9vc+qu2Hdvt7b4fudu/pJ9sRzCSsAEg75ntq47bm2hxsHI6MJjBB/zha68eBx1t6YaVU7sm6/no6uXe5996mN9879O77l3uXe+/ugjm+shrIVEoNUEpZgauAt7/W5m3gm42fLwM+OdV8MCGEEEKIniJoPWGNc7zuAj4gMHHoKa31FqXUL4FcrfXbwJPAIqXUbqCcQKImhBBCCNHjBXVOmNb6XeDdr2372TGfXcDlQbh0i4cueyC5995J7r336s33L/feO/WYe+92FfOFEEIIIXoCeeZeCCGEECIEekQSppSKU0p9pJTa1fge20ybHKXUCqXUFqXURqXUKSvzdxctuffGdu8rpSqVUos7O8aOppSar5TaoZTarZT6cTP7bUqplxr3f6WUyghBmEHRgnufoZRaq5TyKqUuC0WMwdKCe/+uUmpr4//fS5RSJ30svLtpwb3fppTapJRar5RappQaEYo4g+V0939MuwVKKa2U6hFPzkGLfu+vV0qVNP7er1dK3RyKOIOhJb/vSqkrGv+/36KU+m9nx9huWutu/wL+APy48fOPgd8302YIkNn4uR9QCMSEOvbOuPfGfXOAC4DFoY65nfdrAvYAAwErsAEY8bU2dwD/bPx8FfBSqOPuxHvPALIJrMl6Wahj7uR7nw2ENX6+vZf9vkcd8/lC4P1Qx92Z99/YLhJYCqwExoc67k78vb8e+GuoYw3RvWcC64DYxu9JoY67ta8e0RMGXAQ82/j5WeDirzfQWu/UWu9q/HwIKAYSOyvAIDrtvQNorZcALahF3+VNBHZrrfdqrd3AiwR+DY517K/Jq8Ac1RPWvmjBvWut87TWG2lat6DHaMm9f6q1djZ+XUmgNmFP0JJ7rz7mazhddk2PNmnJ//MAvwJ+D3T8cgKh09J774lacu+3AH/TWlcAaK2LOznGduspSVgfrXVh4+fDQJ9TNVZKTSSQWe8JdmCdoFX33gM0txxWysnaaK29wJHlsLq7ltx7T9Xae78JeC+oEXWeFt27UupOpdQeAr3j3+6k2DrDae9fKTUWSNNa97TlQFr6535B4zD8q0qptGb2d0ctufchwBCl1HKl1Eql1PxOi66DdItliwCUUh8Dyc3s+r9jv2ittVLqpP8KVOr/27ufEKvKMI7j34daJGlEuGhaSRAFKpk4tApLjP5YQ4sWEoJBC4kWbQtbRAURQhAkERlBRUUFlW2ClKygMlsUkwVTFFFUUguH/iFDPi3eA12snDvMveftnvP9wIU5956B38M7c3ju+55735gCngF2ZuZEzBaMqnapDyJiB7AJ2Fw7S5sycy+wNyJuAe7h7y/C7rQom7o+TFmW66PXgecz80RE7KKsAmypnKktZ1KWJK+kzHy/ExHrM/N4zVBLMTFNWGZu/a/XIuJYRExl5g9Nk/WvU5IRcQ5l48TdmfnBmKKO3Chq75CRbYc1gYapvauGqj0itlLenGzOzBMtZRu3pY77C8BjY03UrsXqXwWsAw41dx2cD+yPiJnM/Ki1lOOx6Nhn5uC1bR9lJrQLhvm7/w44nJkLwNcRMUdpyo60E3H5urIcObj90U7gtVNPaLZOegV4OjNfbjHbuC1ae8f0eTusYWrvqkVrj4jLgMeBmUm8N+Q0hqn9ooHDbcAXLeYbt9PWn5nzmbk6M9dk5hrK/YBdaMBguLGfGjicAT5vMd84DXO9e5UyC0ZErKYsT37VYsblq/3JgFE8KPf7HKRceA4A5zXPbwL2NT/vABaAjwceG2pnb6P25vhd4CfgD8q7h2tqZ19GzdcDc5R7+nY3z91HufACnAW8BHwJfAhcWDtzi7VPN+P7G2X272jtzC3WfgA4NvD/vb925hZrfwQ42tT9FrC2duY26z/l3EN05NORQ479g83Yf9KM/SW1M7dYe1CWoj8DZoHttTMv9eE35kuSJFXQleVISZKkiWITJkmSVIFNmCRJUgU2YZIkSRXYhEmSJFVgEyZJklSBTZgkSVIFE7NtkSQtR0ScDbxI2f7kDOB+4GLgRmAF8B6wKzMzIqaBJ4GTwJvAdZm5rkpwSZ3lTJikvrgW+D4zL20aqjeARzNzujleAdzQnPsUpSHbAPxZJa2kzrMJk9QXs8DVEfFQRFyRmfPAVRFxOCJmgS3A2og4F1iVme83v/dcpbySOs7lSEm9kJlzEbGRsh/dAxFxELiDss/gtxFxL2XfUUlqhTNhknohIi4Afs/MZ4E9wMbmpZ8jYiVwM0BmHgd+iYjLm9e3t51VUj84EyapL9YDeyLiJLAA3A7cBHwK/AgcGTj3NuCJ5ty3gfl2o0rqg8jM2hkk6X8lIlZm5q/Nz3cBU5l5Z+VYkjrGmTBJ+qdtEXE35Rr5DXBr3TiSusiZMEmSpAq8MV+SJKkCmzBJkqQKbMIkSZIqsAmTJEmqwCZMkiSpApswSZKkCv4CIjfHzg9VoHAAAAAASUVORK5CYII=\n",
          "text/plain": "<Figure size 720x360 with 1 Axes>"
         },
         "metadata": {
          "needs_background": "light"
         },
         "output_type": "display_data"
        }
       ]
      }
     },
     "c29d7d83baa640d2be024b6e88cb76ea": {
      "model_module": "@jupyter-widgets/controls",
      "model_module_version": "1.5.0",
      "model_name": "DescriptionStyleModel",
      "state": {
       "description_width": "200px"
      }
     },
     "c3ba4406db1f4586a5a8cb799b62b996": {
      "model_module": "@jupyter-widgets/base",
      "model_module_version": "1.2.0",
      "model_name": "LayoutModel",
      "state": {}
     },
     "c6630dd9ffa94bf898b9a926cfb012fc": {
      "model_module": "@jupyter-widgets/base",
      "model_module_version": "1.2.0",
      "model_name": "LayoutModel",
      "state": {}
     },
     "c7f1721db2e94d6b99cc301487b198c5": {
      "model_module": "@jupyter-widgets/controls",
      "model_module_version": "1.5.0",
      "model_name": "SelectModel",
      "state": {
       "_options_labels": [
        "adaptation",
        "avg_isi",
        "electrode_0_pa",
        "f_i_curve_slope",
        "fast_trough_t_long_square",
        "fast_trough_t_ramp",
        "fast_trough_t_short_square",
        "fast_trough_v_long_square",
        "fast_trough_v_ramp",
        "fast_trough_v_short_square",
        "has_burst",
        "has_delay",
        "has_pause",
        "id",
        "input_resistance_mohm",
        "latency",
        "peak_t_long_square",
        "peak_t_ramp",
        "peak_t_short_square",
        "peak_v_long_square",
        "peak_v_ramp",
        "peak_v_short_square",
        "rheobase_sweep_id",
        "rheobase_sweep_number",
        "ri",
        "sag",
        "seal_gohm",
        "slow_trough_t_long_square",
        "slow_trough_t_ramp",
        "slow_trough_t_short_square",
        "slow_trough_v_long_square",
        "slow_trough_v_ramp",
        "slow_trough_v_short_square",
        "tau",
        "threshold_i_long_square",
        "threshold_i_ramp",
        "threshold_i_short_square",
        "threshold_t_long_square",
        "threshold_t_ramp",
        "threshold_t_short_square",
        "threshold_v_long_square",
        "threshold_v_ramp",
        "threshold_v_short_square",
        "thumbnail_sweep_id",
        "trough_t_long_square",
        "trough_t_ramp",
        "trough_t_short_square",
        "trough_v_long_square",
        "trough_v_ramp",
        "trough_v_short_square",
        "upstroke_downstroke_ratio_long_square",
        "upstroke_downstroke_ratio_ramp",
        "upstroke_downstroke_ratio_short_square",
        "vm_for_sag",
        "vrest"
       ],
       "description": "Feature",
       "index": 25,
       "layout": "IPY_MODEL_dc63babaf0084b2193bfd27aa16a7f4a",
       "style": "IPY_MODEL_7ba7ef8b09e14fb0868465ba5ce6a5c0"
      }
     },
     "cab86ab8c33d49c2aad2a0b9532f0c11": {
      "model_module": "@jupyter-widgets/base",
      "model_module_version": "1.2.0",
      "model_name": "LayoutModel",
      "state": {}
     },
     "cac31070b2e34558b94fcbf692f14d61": {
      "model_module": "@jupyter-widgets/base",
      "model_module_version": "1.2.0",
      "model_name": "LayoutModel",
      "state": {}
     },
     "cbb0f15e58d04d11bc2599b4b6fa4172": {
      "model_module": "@jupyter-widgets/controls",
      "model_module_version": "1.5.0",
      "model_name": "DescriptionStyleModel",
      "state": {
       "description_width": "200px"
      }
     },
     "ccc5cdf573674fa0a484ce12efab750b": {
      "model_module": "@jupyter-widgets/base",
      "model_module_version": "1.2.0",
      "model_name": "LayoutModel",
      "state": {}
     },
     "cfe09deffcb24711bbec503fa06277af": {
      "model_module": "@jupyter-widgets/controls",
      "model_module_version": "1.5.0",
      "model_name": "DescriptionStyleModel",
      "state": {
       "description_width": ""
      }
     },
     "d0325feb17e541dfae92c56bab8e471f": {
      "model_module": "@jupyter-widgets/controls",
      "model_module_version": "1.5.0",
      "model_name": "VBoxModel",
      "state": {
       "_dom_classes": [
        "widget-interact"
       ],
       "children": [
        "IPY_MODEL_49e2852608fe44e8ad4438ad8fb3957a",
        "IPY_MODEL_c7f1721db2e94d6b99cc301487b198c5",
        "IPY_MODEL_bfe2116a5046496081755e9c11fa79db"
       ],
       "layout": "IPY_MODEL_5f00195fa5304f2aa7ae1e7ba56cf839"
      }
     },
     "d33933388bfb4f5aaa49083e5278ab76": {
      "model_module": "@jupyter-widgets/controls",
      "model_module_version": "1.5.0",
      "model_name": "SelectMultipleModel",
      "state": {
       "_options_labels": [
        "3",
        "5",
        "2/3",
        "4",
        "6a",
        "2",
        "1",
        "6b",
        "6"
       ],
       "description": "Cortical Layer(s)",
       "index": [
        0
       ],
       "layout": "IPY_MODEL_91b487257f944a9fac5f85837a081904",
       "rows": 5,
       "style": "IPY_MODEL_dd0b2d9e2a9e4846b1aedeb20ea05327"
      }
     },
     "d61e3a8c2da24e429602745e758b9afb": {
      "model_module": "@jupyter-widgets/base",
      "model_module_version": "1.2.0",
      "model_name": "LayoutModel",
      "state": {}
     },
     "d67a581969294b658dee12ea870fc26e": {
      "model_module": "@jupyter-widgets/controls",
      "model_module_version": "1.5.0",
      "model_name": "VBoxModel",
      "state": {
       "_dom_classes": [
        "widget-interact"
       ],
       "children": [
        "IPY_MODEL_d33933388bfb4f5aaa49083e5278ab76",
        "IPY_MODEL_8030c5913a374b83a4fdb26b6aac22ca",
        "IPY_MODEL_9e11d56e3d364e50af218812e85c4db3"
       ],
       "layout": "IPY_MODEL_6ed02359020f4e3e80528f4e548d0ebd"
      }
     },
     "d89cbada45904fc795cd87c2ba006950": {
      "model_module": "@jupyter-widgets/base",
      "model_module_version": "1.2.0",
      "model_name": "LayoutModel",
      "state": {}
     },
     "d8f91b0d150843cd94163e34623c727d": {
      "model_module": "@jupyter-widgets/base",
      "model_module_version": "1.2.0",
      "model_name": "LayoutModel",
      "state": {}
     },
     "d95812de08564435af86b88fe2ed6614": {
      "model_module": "@jupyter-widgets/base",
      "model_module_version": "1.2.0",
      "model_name": "LayoutModel",
      "state": {}
     },
     "da1d5558daac4b858982da59f05efdac": {
      "model_module": "@jupyter-widgets/output",
      "model_module_version": "1.0.0",
      "model_name": "OutputModel",
      "state": {
       "layout": "IPY_MODEL_6a5c9024607646808dde2ae3f50bd944",
       "outputs": [
        {
         "data": {
          "image/png": "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\n",
          "text/plain": "<Figure size 720x360 with 1 Axes>"
         },
         "metadata": {
          "needs_background": "light"
         },
         "output_type": "display_data"
        }
       ]
      }
     },
     "db5951921a0f4bc6b6b6ca90ac6ac89b": {
      "model_module": "@jupyter-widgets/base",
      "model_module_version": "1.2.0",
      "model_name": "LayoutModel",
      "state": {}
     },
     "dbed04bc47ba4807a8c6a455e83a0b14": {
      "model_module": "@jupyter-widgets/base",
      "model_module_version": "1.2.0",
      "model_name": "LayoutModel",
      "state": {}
     },
     "dc63babaf0084b2193bfd27aa16a7f4a": {
      "model_module": "@jupyter-widgets/base",
      "model_module_version": "1.2.0",
      "model_name": "LayoutModel",
      "state": {}
     },
     "dd0b2d9e2a9e4846b1aedeb20ea05327": {
      "model_module": "@jupyter-widgets/controls",
      "model_module_version": "1.5.0",
      "model_name": "DescriptionStyleModel",
      "state": {
       "description_width": "200px"
      }
     },
     "de2624c08a7a4d4e97b8593ae2887342": {
      "model_module": "@jupyter-widgets/base",
      "model_module_version": "1.2.0",
      "model_name": "LayoutModel",
      "state": {
       "width": "800px"
      }
     },
     "df11d334c3a043e6aefbd168378b543f": {
      "model_module": "@jupyter-widgets/base",
      "model_module_version": "1.2.0",
      "model_name": "LayoutModel",
      "state": {}
     },
     "e373bf50084142468abec35b566594d3": {
      "model_module": "@jupyter-widgets/base",
      "model_module_version": "1.2.0",
      "model_name": "LayoutModel",
      "state": {}
     },
     "e706bd28b1be4eceb4e80f95107ab629": {
      "model_module": "@jupyter-widgets/controls",
      "model_module_version": "1.5.0",
      "model_name": "VBoxModel",
      "state": {
       "_dom_classes": [
        "widget-interact"
       ],
       "children": [
        "IPY_MODEL_8cb417635a4b4ad0a2b61c73c550d9cf",
        "IPY_MODEL_f01b347242ba4b57903f1ca74383148d",
        "IPY_MODEL_19dde7c4082c4e2387c17f5b06cb3d91"
       ],
       "layout": "IPY_MODEL_0a8790f3ff19425bbf0a594bcaaefdd1"
      }
     },
     "e7e668f5c42d44d991c0f2a5ec36aaad": {
      "model_module": "@jupyter-widgets/base",
      "model_module_version": "1.2.0",
      "model_name": "LayoutModel",
      "state": {}
     },
     "e8407aa41b0b45a2a6c7f1206c46de65": {
      "model_module": "@jupyter-widgets/output",
      "model_module_version": "1.0.0",
      "model_name": "OutputModel",
      "state": {
       "layout": "IPY_MODEL_101fdb832f834b809ba31bc14eb9f778",
       "outputs": [
        {
         "name": "stderr",
         "output_type": "stream",
         "text": "/Users/kperks/opt/anaconda3/envs/neurolab/lib/python3.8/site-packages/seaborn/distributions.py:316: UserWarning:\n\nDataset has 0 variance; skipping density estimate. Pass `warn_singular=False` to disable this warning.\n\n"
        },
        {
         "data": {
          "image/png": "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\n",
          "text/plain": "<Figure size 720x360 with 1 Axes>"
         },
         "metadata": {
          "needs_background": "light"
         },
         "output_type": "display_data"
        }
       ]
      }
     },
     "e84cc41ca1ba4714838dee8d8bafe60f": {
      "model_module": "@jupyter-widgets/base",
      "model_module_version": "1.2.0",
      "model_name": "LayoutModel",
      "state": {}
     },
     "e8b0ac13cd7d4aef86aa9494ea661390": {
      "model_module": "@jupyter-widgets/controls",
      "model_module_version": "1.5.0",
      "model_name": "DescriptionStyleModel",
      "state": {
       "description_width": "200px"
      }
     },
     "e916eb251d9546548adee3cb5b73d5fb": {
      "model_module": "@jupyter-widgets/controls",
      "model_module_version": "1.5.0",
      "model_name": "DescriptionStyleModel",
      "state": {
       "description_width": "200px"
      }
     },
     "ea3e70504c374f08976e35e2770082ff": {
      "model_module": "@jupyter-widgets/controls",
      "model_module_version": "1.5.0",
      "model_name": "SelectModel",
      "state": {
       "_options_labels": [
        "adaptation",
        "avg_isi",
        "electrode_0_pa",
        "f_i_curve_slope",
        "fast_trough_t_long_square",
        "fast_trough_t_ramp",
        "fast_trough_t_short_square",
        "fast_trough_v_long_square",
        "fast_trough_v_ramp",
        "fast_trough_v_short_square",
        "has_burst",
        "has_delay",
        "has_pause",
        "id",
        "input_resistance_mohm",
        "latency",
        "peak_t_long_square",
        "peak_t_ramp",
        "peak_t_short_square",
        "peak_v_long_square",
        "peak_v_ramp",
        "peak_v_short_square",
        "rheobase_sweep_id",
        "rheobase_sweep_number",
        "ri",
        "sag",
        "seal_gohm",
        "slow_trough_t_long_square",
        "slow_trough_t_ramp",
        "slow_trough_t_short_square",
        "slow_trough_v_long_square",
        "slow_trough_v_ramp",
        "slow_trough_v_short_square",
        "tau",
        "threshold_i_long_square",
        "threshold_i_ramp",
        "threshold_i_short_square",
        "threshold_t_long_square",
        "threshold_t_ramp",
        "threshold_t_short_square",
        "threshold_v_long_square",
        "threshold_v_ramp",
        "threshold_v_short_square",
        "thumbnail_sweep_id",
        "trough_t_long_square",
        "trough_t_ramp",
        "trough_t_short_square",
        "trough_v_long_square",
        "trough_v_ramp",
        "trough_v_short_square",
        "upstroke_downstroke_ratio_long_square",
        "upstroke_downstroke_ratio_ramp",
        "upstroke_downstroke_ratio_short_square",
        "vm_for_sag",
        "vrest"
       ],
       "description": "Feature",
       "index": 0,
       "layout": "IPY_MODEL_4eb1e97e8b2c49f2afd83cb8c94ff6d9",
       "style": "IPY_MODEL_583be146cd8f4ee4b125e8bb7e45d568"
      }
     },
     "ebcfe32941c243f581aa31b1c0c23e0b": {
      "model_module": "@jupyter-widgets/controls",
      "model_module_version": "1.5.0",
      "model_name": "DescriptionStyleModel",
      "state": {
       "description_width": "200px"
      }
     },
     "ec4042a3cae3442bbb9d9b7ff6096336": {
      "model_module": "@jupyter-widgets/base",
      "model_module_version": "1.2.0",
      "model_name": "LayoutModel",
      "state": {}
     },
     "f00914d4eefa480694520d95523a1e5a": {
      "model_module": "@jupyter-widgets/base",
      "model_module_version": "1.2.0",
      "model_name": "LayoutModel",
      "state": {}
     },
     "f01b347242ba4b57903f1ca74383148d": {
      "model_module": "@jupyter-widgets/controls",
      "model_module_version": "1.5.0",
      "model_name": "SelectModel",
      "state": {
       "_options_labels": [
        "adaptation",
        "avg_isi",
        "electrode_0_pa",
        "f_i_curve_slope",
        "fast_trough_t_long_square",
        "fast_trough_t_ramp",
        "fast_trough_t_short_square",
        "fast_trough_v_long_square",
        "fast_trough_v_ramp",
        "fast_trough_v_short_square",
        "has_burst",
        "has_delay",
        "has_pause",
        "id",
        "input_resistance_mohm",
        "latency",
        "peak_t_long_square",
        "peak_t_ramp",
        "peak_t_short_square",
        "peak_v_long_square",
        "peak_v_ramp",
        "peak_v_short_square",
        "rheobase_sweep_id",
        "rheobase_sweep_number",
        "ri",
        "sag",
        "seal_gohm",
        "slow_trough_t_long_square",
        "slow_trough_t_ramp",
        "slow_trough_t_short_square",
        "slow_trough_v_long_square",
        "slow_trough_v_ramp",
        "slow_trough_v_short_square",
        "tau",
        "threshold_i_long_square",
        "threshold_i_ramp",
        "threshold_i_short_square",
        "threshold_t_long_square",
        "threshold_t_ramp",
        "threshold_t_short_square",
        "threshold_v_long_square",
        "threshold_v_ramp",
        "threshold_v_short_square",
        "thumbnail_sweep_id",
        "trough_t_long_square",
        "trough_t_ramp",
        "trough_t_short_square",
        "trough_v_long_square",
        "trough_v_ramp",
        "trough_v_short_square",
        "upstroke_downstroke_ratio_long_square",
        "upstroke_downstroke_ratio_ramp",
        "upstroke_downstroke_ratio_short_square",
        "vm_for_sag",
        "vrest"
       ],
       "description": "Feature",
       "index": 10,
       "layout": "IPY_MODEL_0a06b6a1aaa64487b8c896ecece8996b",
       "style": "IPY_MODEL_fe9d4248868d4c1487bf220237fdda8c"
      }
     },
     "f120372df9304935a4bf3c5daff82a46": {
      "model_module": "@jupyter-widgets/base",
      "model_module_version": "1.2.0",
      "model_name": "LayoutModel",
      "state": {}
     },
     "f54b8a8c6c74444691b91f2ada3cf4bc": {
      "model_module": "@jupyter-widgets/base",
      "model_module_version": "1.2.0",
      "model_name": "LayoutModel",
      "state": {}
     },
     "f671e717fa50425abb76949d48311b72": {
      "model_module": "@jupyter-widgets/controls",
      "model_module_version": "1.5.0",
      "model_name": "SelectMultipleModel",
      "state": {
       "_options_labels": [
        "3",
        "5",
        "2/3",
        "4",
        "6a",
        "2",
        "1",
        "6b",
        "6"
       ],
       "description": "Cortical Layer(s)",
       "index": [
        0
       ],
       "layout": "IPY_MODEL_48cbe6e8ce6e44648e0b5500bc440001",
       "rows": 5,
       "style": "IPY_MODEL_e8b0ac13cd7d4aef86aa9494ea661390"
      }
     },
     "f7251d7029714d7e8bb7093a058aaa4f": {
      "model_module": "@jupyter-widgets/base",
      "model_module_version": "1.2.0",
      "model_name": "LayoutModel",
      "state": {}
     },
     "f7a7d773720847d7bcc7dc8d07de0eae": {
      "model_module": "@jupyter-widgets/controls",
      "model_module_version": "1.5.0",
      "model_name": "SelectMultipleModel",
      "state": {
       "_options_labels": [
        "3",
        "5",
        "2/3",
        "4",
        "6a",
        "2",
        "1",
        "6b",
        "6"
       ],
       "description": "Cortical Layer(s)",
       "index": [
        0,
        2,
        4
       ],
       "layout": "IPY_MODEL_a06ff225ccce40be9371f89f37b8796a",
       "rows": 5,
       "style": "IPY_MODEL_95fdd52fc51a454db62e25bdd5682b45"
      }
     },
     "faa38ea98f8c43abb5413a2cf556e123": {
      "model_module": "@jupyter-widgets/base",
      "model_module_version": "1.2.0",
      "model_name": "LayoutModel",
      "state": {}
     },
     "fafe94bb6473494e8b4f7127980f976f": {
      "model_module": "@jupyter-widgets/controls",
      "model_module_version": "1.5.0",
      "model_name": "SelectModel",
      "state": {
       "_options_labels": [
        "adaptation",
        "avg_isi",
        "electrode_0_pa",
        "f_i_curve_slope",
        "fast_trough_t_long_square",
        "fast_trough_t_ramp",
        "fast_trough_t_short_square",
        "fast_trough_v_long_square",
        "fast_trough_v_ramp",
        "fast_trough_v_short_square",
        "has_burst",
        "has_delay",
        "has_pause",
        "id",
        "input_resistance_mohm",
        "latency",
        "peak_t_long_square",
        "peak_t_ramp",
        "peak_t_short_square",
        "peak_v_long_square",
        "peak_v_ramp",
        "peak_v_short_square",
        "rheobase_sweep_id",
        "rheobase_sweep_number",
        "ri",
        "sag",
        "seal_gohm",
        "slow_trough_t_long_square",
        "slow_trough_t_ramp",
        "slow_trough_t_short_square",
        "slow_trough_v_long_square",
        "slow_trough_v_ramp",
        "slow_trough_v_short_square",
        "tau",
        "threshold_i_long_square",
        "threshold_i_ramp",
        "threshold_i_short_square",
        "threshold_t_long_square",
        "threshold_t_ramp",
        "threshold_t_short_square",
        "threshold_v_long_square",
        "threshold_v_ramp",
        "threshold_v_short_square",
        "thumbnail_sweep_id",
        "trough_t_long_square",
        "trough_t_ramp",
        "trough_t_short_square",
        "trough_v_long_square",
        "trough_v_ramp",
        "trough_v_short_square",
        "upstroke_downstroke_ratio_long_square",
        "upstroke_downstroke_ratio_ramp",
        "upstroke_downstroke_ratio_short_square",
        "vm_for_sag",
        "vrest"
       ],
       "description": "Feature",
       "index": 0,
       "layout": "IPY_MODEL_4ecc0acfe9bc4ec0bab87c1c31bfd02e",
       "style": "IPY_MODEL_6a308fddfc7648dda052c34954b1b098"
      }
     },
     "fb250cc0a60c44f78647c44fb60e7a36": {
      "model_module": "@jupyter-widgets/controls",
      "model_module_version": "1.5.0",
      "model_name": "DescriptionStyleModel",
      "state": {
       "description_width": "200px"
      }
     },
     "fb70699bbc224c14b52eca9e9aae6df8": {
      "model_module": "@jupyter-widgets/controls",
      "model_module_version": "1.5.0",
      "model_name": "SelectMultipleModel",
      "state": {
       "_options_labels": [
        "3",
        "5",
        "2/3",
        "4",
        "6a",
        "2",
        "1",
        "6b",
        "6"
       ],
       "description": "Cortical Layer(s)",
       "index": [],
       "layout": "IPY_MODEL_faa38ea98f8c43abb5413a2cf556e123",
       "rows": 5,
       "style": "IPY_MODEL_ebcfe32941c243f581aa31b1c0c23e0b"
      }
     },
     "fc838c66b22f4d2781dfafd02ba2bdee": {
      "model_module": "@jupyter-widgets/base",
      "model_module_version": "1.2.0",
      "model_name": "LayoutModel",
      "state": {}
     },
     "fcff257b1ea24a35b7285b18fc0cfb96": {
      "model_module": "@jupyter-widgets/output",
      "model_module_version": "1.0.0",
      "model_name": "OutputModel",
      "state": {
       "layout": "IPY_MODEL_7c9888b411b9451b9ea49848a237a6db",
       "outputs": [
        {
         "ename": "TypeError",
         "evalue": "histplot() got multiple values for argument 'data'",
         "output_type": "error",
         "traceback": [
          "\u001b[0;31m---------------------------------------------------------------------------\u001b[0m",
          "\u001b[0;31mTypeError\u001b[0m                                 Traceback (most recent call last)",
          "File \u001b[0;32m~/opt/anaconda3/envs/neurolab/lib/python3.8/site-packages/ipywidgets/widgets/interaction.py:257\u001b[0m, in \u001b[0;36minteractive.update\u001b[0;34m(self, *args)\u001b[0m\n\u001b[1;32m    255\u001b[0m     value \u001b[38;5;241m=\u001b[39m widget\u001b[38;5;241m.\u001b[39mget_interact_value()\n\u001b[1;32m    256\u001b[0m     \u001b[38;5;28mself\u001b[39m\u001b[38;5;241m.\u001b[39mkwargs[widget\u001b[38;5;241m.\u001b[39m_kwarg] \u001b[38;5;241m=\u001b[39m value\n\u001b[0;32m--> 257\u001b[0m \u001b[38;5;28mself\u001b[39m\u001b[38;5;241m.\u001b[39mresult \u001b[38;5;241m=\u001b[39m \u001b[38;5;28;43mself\u001b[39;49m\u001b[38;5;241;43m.\u001b[39;49m\u001b[43mf\u001b[49m\u001b[43m(\u001b[49m\u001b[38;5;241;43m*\u001b[39;49m\u001b[38;5;241;43m*\u001b[39;49m\u001b[38;5;28;43mself\u001b[39;49m\u001b[38;5;241;43m.\u001b[39;49m\u001b[43mkwargs\u001b[49m\u001b[43m)\u001b[49m\n\u001b[1;32m    258\u001b[0m show_inline_matplotlib_plots()\n\u001b[1;32m    259\u001b[0m \u001b[38;5;28;01mif\u001b[39;00m \u001b[38;5;28mself\u001b[39m\u001b[38;5;241m.\u001b[39mauto_display \u001b[38;5;129;01mand\u001b[39;00m \u001b[38;5;28mself\u001b[39m\u001b[38;5;241m.\u001b[39mresult \u001b[38;5;129;01mis\u001b[39;00m \u001b[38;5;129;01mnot\u001b[39;00m \u001b[38;5;28;01mNone\u001b[39;00m:\n",
          "Input \u001b[0;32mIn [47]\u001b[0m, in \u001b[0;36mupdate_plot\u001b[0;34m(layer_, feature_)\u001b[0m\n\u001b[1;32m     31\u001b[0m \u001b[38;5;28;01mdef\u001b[39;00m \u001b[38;5;21mupdate_plot\u001b[39m(layer_,feature_):\n\u001b[1;32m     32\u001b[0m     fig, ax \u001b[38;5;241m=\u001b[39m plt\u001b[38;5;241m.\u001b[39msubplots(figsize\u001b[38;5;241m=\u001b[39m(\u001b[38;5;241m10\u001b[39m,\u001b[38;5;241m5\u001b[39m),num\u001b[38;5;241m=\u001b[39m\u001b[38;5;241m1\u001b[39m); \u001b[38;5;66;03m#specify figure number so that it does not keep creating new ones\u001b[39;00m\n\u001b[0;32m---> 34\u001b[0m     \u001b[43msns\u001b[49m\u001b[38;5;241;43m.\u001b[39;49m\u001b[43mhistplot\u001b[49m\u001b[43m(\u001b[49m\u001b[43mfeature_\u001b[49m\u001b[43m,\u001b[49m\u001b[43m \u001b[49m\n\u001b[1;32m     35\u001b[0m \u001b[43m                 \u001b[49m\u001b[43mdata\u001b[49m\u001b[43m \u001b[49m\u001b[38;5;241;43m=\u001b[39;49m\u001b[43m \u001b[49m\u001b[43mfull_dataframe\u001b[49m\u001b[43m[\u001b[49m\u001b[38;5;124;43m'\u001b[39;49m\u001b[38;5;124;43mstructure_layer_name\u001b[39;49m\u001b[38;5;124;43m'\u001b[39;49m\u001b[43m]\u001b[49m\u001b[38;5;241;43m.\u001b[39;49m\u001b[43misin\u001b[49m\u001b[43m(\u001b[49m\u001b[43m[\u001b[49m\u001b[38;5;124;43m'\u001b[39;49m\u001b[38;5;124;43m3\u001b[39;49m\u001b[38;5;124;43m'\u001b[39;49m\u001b[43m,\u001b[49m\u001b[38;5;124;43m'\u001b[39;49m\u001b[38;5;124;43m5\u001b[39;49m\u001b[38;5;124;43m'\u001b[39;49m\u001b[43m]\u001b[49m\u001b[43m)\u001b[49m\u001b[43m,\u001b[49m\n\u001b[1;32m     36\u001b[0m \u001b[43m                 \u001b[49m\u001b[43mhue\u001b[49m\u001b[38;5;241;43m=\u001b[39;49m\u001b[38;5;124;43m'\u001b[39;49m\u001b[38;5;124;43mstructure_layer_name\u001b[39;49m\u001b[38;5;124;43m'\u001b[39;49m\u001b[43m)\u001b[49m\n",
          "\u001b[0;31mTypeError\u001b[0m: histplot() got multiple values for argument 'data'"
         ]
        }
       ]
      }
     },
     "fcffd2a185c946dc8033d533a17276da": {
      "model_module": "@jupyter-widgets/controls",
      "model_module_version": "1.5.0",
      "model_name": "VBoxModel",
      "state": {
       "_dom_classes": [
        "widget-interact"
       ],
       "layout": "IPY_MODEL_f120372df9304935a4bf3c5daff82a46"
      }
     },
     "fd5c2fa339fa416db5a0ff6c30277d97": {
      "model_module": "@jupyter-widgets/output",
      "model_module_version": "1.0.0",
      "model_name": "OutputModel",
      "state": {
       "layout": "IPY_MODEL_df11d334c3a043e6aefbd168378b543f",
       "outputs": [
        {
         "ename": "NameError",
         "evalue": "name 'cell_ID' is not defined",
         "output_type": "error",
         "traceback": [
          "\u001b[0;31m---------------------------------------------------------------------------\u001b[0m",
          "\u001b[0;31mNameError\u001b[0m                                 Traceback (most recent call last)",
          "File \u001b[0;32m~/opt/anaconda3/envs/neurolab/lib/python3.8/site-packages/ipywidgets/widgets/interaction.py:257\u001b[0m, in \u001b[0;36minteractive.update\u001b[0;34m(self, *args)\u001b[0m\n\u001b[1;32m    255\u001b[0m     value \u001b[38;5;241m=\u001b[39m widget\u001b[38;5;241m.\u001b[39mget_interact_value()\n\u001b[1;32m    256\u001b[0m     \u001b[38;5;28mself\u001b[39m\u001b[38;5;241m.\u001b[39mkwargs[widget\u001b[38;5;241m.\u001b[39m_kwarg] \u001b[38;5;241m=\u001b[39m value\n\u001b[0;32m--> 257\u001b[0m \u001b[38;5;28mself\u001b[39m\u001b[38;5;241m.\u001b[39mresult \u001b[38;5;241m=\u001b[39m \u001b[38;5;28;43mself\u001b[39;49m\u001b[38;5;241;43m.\u001b[39;49m\u001b[43mf\u001b[49m\u001b[43m(\u001b[49m\u001b[38;5;241;43m*\u001b[39;49m\u001b[38;5;241;43m*\u001b[39;49m\u001b[38;5;28;43mself\u001b[39;49m\u001b[38;5;241;43m.\u001b[39;49m\u001b[43mkwargs\u001b[49m\u001b[43m)\u001b[49m\n\u001b[1;32m    258\u001b[0m show_inline_matplotlib_plots()\n\u001b[1;32m    259\u001b[0m \u001b[38;5;28;01mif\u001b[39;00m \u001b[38;5;28mself\u001b[39m\u001b[38;5;241m.\u001b[39mauto_display \u001b[38;5;129;01mand\u001b[39;00m \u001b[38;5;28mself\u001b[39m\u001b[38;5;241m.\u001b[39mresult \u001b[38;5;129;01mis\u001b[39;00m \u001b[38;5;129;01mnot\u001b[39;00m \u001b[38;5;28;01mNone\u001b[39;00m:\n",
          "Input \u001b[0;32mIn [56]\u001b[0m, in \u001b[0;36mupdate_plot\u001b[0;34m(layer_, feature_)\u001b[0m\n\u001b[1;32m     48\u001b[0m     cell_id \u001b[38;5;241m=\u001b[39m dataframe\u001b[38;5;241m.\u001b[39mloc[mask,w_vars_2\u001b[38;5;241m.\u001b[39mvalue]\u001b[38;5;241m.\u001b[39msub(parameter_value)\u001b[38;5;241m.\u001b[39mabs()\u001b[38;5;241m.\u001b[39midxmin()\n\u001b[1;32m     49\u001b[0m \u001b[38;5;66;03m# cell_data = ctc.get_ephys_data(cell_id);\u001b[39;00m\n\u001b[0;32m---> 50\u001b[0m     median_readout\u001b[38;5;241m.\u001b[39mvalue\u001b[38;5;241m=\u001b[39m\u001b[38;5;124mf\u001b[39m\u001b[38;5;124m'\u001b[39m\u001b[38;5;124mLayer \u001b[39m\u001b[38;5;132;01m{\u001b[39;00mcol\u001b[38;5;132;01m}\u001b[39;00m\u001b[38;5;124m cell ID \u001b[39m\u001b[38;5;132;01m{\u001b[39;00mcell_ID\u001b[38;5;132;01m}\u001b[39;00m\u001b[38;5;124m has a median value \u001b[39m\u001b[38;5;132;01m{\u001b[39;00mparameter_value\u001b[38;5;132;01m}\u001b[39;00m\u001b[38;5;124m'\u001b[39m\n",
          "\u001b[0;31mNameError\u001b[0m: name 'cell_ID' is not defined"
         ]
        }
       ]
      }
     },
     "fe9d4248868d4c1487bf220237fdda8c": {
      "model_module": "@jupyter-widgets/controls",
      "model_module_version": "1.5.0",
      "model_name": "DescriptionStyleModel",
      "state": {
       "description_width": "200px"
      }
     },
     "ff6321b715bc4fe99ee69ff03037eaf7": {
      "model_module": "@jupyter-widgets/controls",
      "model_module_version": "1.5.0",
      "model_name": "SelectModel",
      "state": {
       "_options_labels": [
        "adaptation",
        "avg_isi",
        "electrode_0_pa",
        "f_i_curve_slope",
        "fast_trough_t_long_square",
        "fast_trough_t_ramp",
        "fast_trough_t_short_square",
        "fast_trough_v_long_square",
        "fast_trough_v_ramp",
        "fast_trough_v_short_square",
        "has_burst",
        "has_delay",
        "has_pause",
        "id",
        "input_resistance_mohm",
        "latency",
        "peak_t_long_square",
        "peak_t_ramp",
        "peak_t_short_square",
        "peak_v_long_square",
        "peak_v_ramp",
        "peak_v_short_square",
        "rheobase_sweep_id",
        "rheobase_sweep_number",
        "ri",
        "sag",
        "seal_gohm",
        "slow_trough_t_long_square",
        "slow_trough_t_ramp",
        "slow_trough_t_short_square",
        "slow_trough_v_long_square",
        "slow_trough_v_ramp",
        "slow_trough_v_short_square",
        "tau",
        "threshold_i_long_square",
        "threshold_i_ramp",
        "threshold_i_short_square",
        "threshold_t_long_square",
        "threshold_t_ramp",
        "threshold_t_short_square",
        "threshold_v_long_square",
        "threshold_v_ramp",
        "threshold_v_short_square",
        "thumbnail_sweep_id",
        "trough_t_long_square",
        "trough_t_ramp",
        "trough_t_short_square",
        "trough_v_long_square",
        "trough_v_ramp",
        "trough_v_short_square",
        "upstroke_downstroke_ratio_long_square",
        "upstroke_downstroke_ratio_ramp",
        "upstroke_downstroke_ratio_short_square",
        "vm_for_sag",
        "vrest"
       ],
       "description": "Feature",
       "index": 0,
       "layout": "IPY_MODEL_c3ba4406db1f4586a5a8cb799b62b996",
       "style": "IPY_MODEL_6ba953d4c22a40ed8087cfa2455ac9a7"
      }
     },
     "ff91f6771c384b3080bed4a619dbd6ff": {
      "model_module": "@jupyter-widgets/base",
      "model_module_version": "1.2.0",
      "model_name": "LayoutModel",
      "state": {}
     }
    },
    "version_major": 2,
    "version_minor": 0
   }
  }
 },
 "nbformat": 4,
 "nbformat_minor": 4
}
